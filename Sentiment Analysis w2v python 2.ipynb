{
 "cells": [
  {
   "cell_type": "code",
   "execution_count": 1,
   "metadata": {},
   "outputs": [],
   "source": [
    "import pandas as pd # provide sql-like data manipulation tools. very handy.\n",
    "pd.options.mode.chained_assignment = None\n",
    "import numpy as np # high dimensional vector computing library.\n",
    "from copy import deepcopy\n",
    "from string import punctuation\n",
    "from random import shuffle\n",
    "\n",
    "import gensim\n",
    "from gensim.models.word2vec import Word2Vec # the word2vec model gensim class\n",
    "LabeledSentence = gensim.models.doc2vec.LabeledSentence # we'll talk about this down below\n",
    "\n",
    "from tqdm import tqdm\n",
    "tqdm.pandas(desc=\"progress-bar\")\n",
    "\n",
    "from nltk import word_tokenize\n",
    "from nltk.tokenize import TweetTokenizer # a tweet tokenizer from nltk.\n",
    "tokenizer = TweetTokenizer()\n",
    "\n",
    "from sklearn.model_selection import train_test_split\n",
    "from sklearn.feature_extraction.text import TfidfVectorizer"
   ]
  },
  {
   "cell_type": "code",
   "execution_count": 6,
   "metadata": {},
   "outputs": [
    {
     "name": "stdout",
     "output_type": "stream",
     "text": [
      "dataset loaded with shape (1599999, 4)\n"
     ]
    },
    {
     "data": {
      "text/html": [
       "<div>\n",
       "<style scoped>\n",
       "    .dataframe tbody tr th:only-of-type {\n",
       "        vertical-align: middle;\n",
       "    }\n",
       "\n",
       "    .dataframe tbody tr th {\n",
       "        vertical-align: top;\n",
       "    }\n",
       "\n",
       "    .dataframe thead th {\n",
       "        text-align: right;\n",
       "    }\n",
       "</style>\n",
       "<table border=\"1\" class=\"dataframe\">\n",
       "  <thead>\n",
       "    <tr style=\"text-align: right;\">\n",
       "      <th></th>\n",
       "      <th>Sentiment</th>\n",
       "      <th>Date</th>\n",
       "      <th>Blank</th>\n",
       "      <th>SentimentText</th>\n",
       "    </tr>\n",
       "  </thead>\n",
       "  <tbody>\n",
       "    <tr>\n",
       "      <th>0</th>\n",
       "      <td>0</td>\n",
       "      <td>Mon Apr 06 22:19:49 PDT 2009</td>\n",
       "      <td>NO_QUERY</td>\n",
       "      <td>is upset that he can't update his Facebook by ...</td>\n",
       "    </tr>\n",
       "    <tr>\n",
       "      <th>1</th>\n",
       "      <td>0</td>\n",
       "      <td>Mon Apr 06 22:19:53 PDT 2009</td>\n",
       "      <td>NO_QUERY</td>\n",
       "      <td>@Kenichan I dived many times for the ball. Man...</td>\n",
       "    </tr>\n",
       "    <tr>\n",
       "      <th>2</th>\n",
       "      <td>0</td>\n",
       "      <td>Mon Apr 06 22:19:57 PDT 2009</td>\n",
       "      <td>NO_QUERY</td>\n",
       "      <td>my whole body feels itchy and like its on fire</td>\n",
       "    </tr>\n",
       "    <tr>\n",
       "      <th>3</th>\n",
       "      <td>0</td>\n",
       "      <td>Mon Apr 06 22:19:57 PDT 2009</td>\n",
       "      <td>NO_QUERY</td>\n",
       "      <td>@nationwideclass no, it's not behaving at all....</td>\n",
       "    </tr>\n",
       "    <tr>\n",
       "      <th>4</th>\n",
       "      <td>0</td>\n",
       "      <td>Mon Apr 06 22:20:00 PDT 2009</td>\n",
       "      <td>NO_QUERY</td>\n",
       "      <td>@Kwesidei not the whole crew</td>\n",
       "    </tr>\n",
       "  </tbody>\n",
       "</table>\n",
       "</div>"
      ],
      "text/plain": [
       "   Sentiment                          Date     Blank  \\\n",
       "0          0  Mon Apr 06 22:19:49 PDT 2009  NO_QUERY   \n",
       "1          0  Mon Apr 06 22:19:53 PDT 2009  NO_QUERY   \n",
       "2          0  Mon Apr 06 22:19:57 PDT 2009  NO_QUERY   \n",
       "3          0  Mon Apr 06 22:19:57 PDT 2009  NO_QUERY   \n",
       "4          0  Mon Apr 06 22:20:00 PDT 2009  NO_QUERY   \n",
       "\n",
       "                                       SentimentText  \n",
       "0  is upset that he can't update his Facebook by ...  \n",
       "1  @Kenichan I dived many times for the ball. Man...  \n",
       "2    my whole body feels itchy and like its on fire   \n",
       "3  @nationwideclass no, it's not behaving at all....  \n",
       "4                      @Kwesidei not the whole crew   "
      ]
     },
     "execution_count": 6,
     "metadata": {},
     "output_type": "execute_result"
    }
   ],
   "source": [
    "def ingest():\n",
    "    data = pd.read_csv('./trainingandtestdata/tweets.csv')\n",
    "    data.columns=[\"Sentiment\",\"ItemID\",\"Date\",\"Blank\",\"SentimentSource\",\"SentimentText\"]\n",
    "    data.drop(['ItemID', 'SentimentSource'], axis=1, inplace=True)\n",
    "    data = data[data.Sentiment.isnull() == False]\n",
    "    data['Sentiment'] = data['Sentiment'].map( {4:1, 0:0})\n",
    "    data = data[data['SentimentText'].isnull() == False]\n",
    "    data.reset_index(inplace=True)\n",
    "    data.drop('index', axis=1, inplace=True)\n",
    "    print 'dataset loaded with shape', data.shape    \n",
    "    return data\n",
    "\n",
    "data = ingest()\n",
    "data.head(5)"
   ]
  },
  {
   "cell_type": "code",
   "execution_count": 7,
   "metadata": {},
   "outputs": [],
   "source": [
    "def tokenize(tweet):\n",
    "    try:\n",
    "        tweet = unicode(tweet.decode('utf-8').lower())\n",
    "        tokens = tokenizer.tokenize(tweet)\n",
    "        tokens = filter(lambda t: not t.startswith('@'), tokens)\n",
    "        tokens = filter(lambda t: not t.startswith('#'), tokens)\n",
    "        tokens = filter(lambda t: not t.startswith('http'), tokens)\n",
    "        return tokens\n",
    "    except:\n",
    "        return 'NC'"
   ]
  },
  {
   "cell_type": "code",
   "execution_count": 65,
   "metadata": {},
   "outputs": [
    {
     "name": "stderr",
     "output_type": "stream",
     "text": [
      "progress-bar: 100%|██████████| 999597/999597 [02:09<00:00, 7734.27it/s]\n"
     ]
    },
    {
     "data": {
      "text/html": [
       "<div>\n",
       "<style scoped>\n",
       "    .dataframe tbody tr th:only-of-type {\n",
       "        vertical-align: middle;\n",
       "    }\n",
       "\n",
       "    .dataframe tbody tr th {\n",
       "        vertical-align: top;\n",
       "    }\n",
       "\n",
       "    .dataframe thead th {\n",
       "        text-align: right;\n",
       "    }\n",
       "</style>\n",
       "<table border=\"1\" class=\"dataframe\">\n",
       "  <thead>\n",
       "    <tr style=\"text-align: right;\">\n",
       "      <th></th>\n",
       "      <th>Sentiment</th>\n",
       "      <th>Date</th>\n",
       "      <th>Blank</th>\n",
       "      <th>SentimentText</th>\n",
       "      <th>tokens</th>\n",
       "    </tr>\n",
       "  </thead>\n",
       "  <tbody>\n",
       "    <tr>\n",
       "      <th>0</th>\n",
       "      <td>0</td>\n",
       "      <td>Mon Apr 06 22:19:49 PDT 2009</td>\n",
       "      <td>NO_QUERY</td>\n",
       "      <td>is upset that he can't update his Facebook by ...</td>\n",
       "      <td>[is, upset, that, he, can't, update, his, face...</td>\n",
       "    </tr>\n",
       "    <tr>\n",
       "      <th>1</th>\n",
       "      <td>0</td>\n",
       "      <td>Mon Apr 06 22:19:53 PDT 2009</td>\n",
       "      <td>NO_QUERY</td>\n",
       "      <td>@Kenichan I dived many times for the ball. Man...</td>\n",
       "      <td>[i, dived, many, times, for, the, ball, ., man...</td>\n",
       "    </tr>\n",
       "    <tr>\n",
       "      <th>2</th>\n",
       "      <td>0</td>\n",
       "      <td>Mon Apr 06 22:19:57 PDT 2009</td>\n",
       "      <td>NO_QUERY</td>\n",
       "      <td>my whole body feels itchy and like its on fire</td>\n",
       "      <td>[my, whole, body, feels, itchy, and, like, its...</td>\n",
       "    </tr>\n",
       "    <tr>\n",
       "      <th>3</th>\n",
       "      <td>0</td>\n",
       "      <td>Mon Apr 06 22:19:57 PDT 2009</td>\n",
       "      <td>NO_QUERY</td>\n",
       "      <td>@nationwideclass no, it's not behaving at all....</td>\n",
       "      <td>[no, ,, it's, not, behaving, at, all, ., i'm, ...</td>\n",
       "    </tr>\n",
       "    <tr>\n",
       "      <th>4</th>\n",
       "      <td>0</td>\n",
       "      <td>Mon Apr 06 22:20:00 PDT 2009</td>\n",
       "      <td>NO_QUERY</td>\n",
       "      <td>@Kwesidei not the whole crew</td>\n",
       "      <td>[not, the, whole, crew]</td>\n",
       "    </tr>\n",
       "  </tbody>\n",
       "</table>\n",
       "</div>"
      ],
      "text/plain": [
       "   Sentiment                          Date     Blank  \\\n",
       "0          0  Mon Apr 06 22:19:49 PDT 2009  NO_QUERY   \n",
       "1          0  Mon Apr 06 22:19:53 PDT 2009  NO_QUERY   \n",
       "2          0  Mon Apr 06 22:19:57 PDT 2009  NO_QUERY   \n",
       "3          0  Mon Apr 06 22:19:57 PDT 2009  NO_QUERY   \n",
       "4          0  Mon Apr 06 22:20:00 PDT 2009  NO_QUERY   \n",
       "\n",
       "                                       SentimentText  \\\n",
       "0  is upset that he can't update his Facebook by ...   \n",
       "1  @Kenichan I dived many times for the ball. Man...   \n",
       "2    my whole body feels itchy and like its on fire    \n",
       "3  @nationwideclass no, it's not behaving at all....   \n",
       "4                      @Kwesidei not the whole crew    \n",
       "\n",
       "                                              tokens  \n",
       "0  [is, upset, that, he, can't, update, his, face...  \n",
       "1  [i, dived, many, times, for, the, ball, ., man...  \n",
       "2  [my, whole, body, feels, itchy, and, like, its...  \n",
       "3  [no, ,, it's, not, behaving, at, all, ., i'm, ...  \n",
       "4                            [not, the, whole, crew]  "
      ]
     },
     "execution_count": 65,
     "metadata": {},
     "output_type": "execute_result"
    }
   ],
   "source": [
    "def postprocess(data, n=1000000):\n",
    "    data = data.head(n)\n",
    "    data['tokens'] = data['SentimentText'].progress_map(tokenize)  ## progress_map is a variant of the map function plus a progress bar. Handy to monitor DataFrame creations.\n",
    "    data = data[data.tokens != 'NC']\n",
    "    data.reset_index(inplace=True)\n",
    "    data.drop('index', inplace=True, axis=1)\n",
    "    return data\n",
    "\n",
    "data = postprocess(data)\n",
    "data.head(5)"
   ]
  },
  {
   "cell_type": "code",
   "execution_count": 9,
   "metadata": {},
   "outputs": [],
   "source": [
    "x_train, x_test, y_train, y_test = train_test_split(np.array(data.head(1000000).tokens),\n",
    "                                                    np.array(data.head(1000000).Sentiment), test_size=0.2)"
   ]
  },
  {
   "cell_type": "code",
   "execution_count": 10,
   "metadata": {},
   "outputs": [
    {
     "name": "stderr",
     "output_type": "stream",
     "text": [
      "0it [00:00, ?it/s]/Users/akanshajain/miniconda3/envs/w2v/lib/python2.7/site-packages/ipykernel_launcher.py:5: DeprecationWarning: Call to deprecated `LabeledSentence` (Class will be removed in 4.0.0, use TaggedDocument instead).\n",
      "  \"\"\"\n",
      "799677it [00:08, 89217.09it/s]\n",
      "199920it [00:01, 121964.47it/s]\n"
     ]
    }
   ],
   "source": [
    "def labelizeTweets(tweets, label_type):\n",
    "    labelized = []\n",
    "    for i,v in tqdm(enumerate(tweets)):\n",
    "        label = '%s_%s'%(label_type,i)\n",
    "        labelized.append(LabeledSentence(v, [label]))\n",
    "    return labelized\n",
    "\n",
    "x_train = labelizeTweets(x_train, 'TRAIN')\n",
    "x_test = labelizeTweets(x_test, 'TEST')"
   ]
  },
  {
   "cell_type": "code",
   "execution_count": 11,
   "metadata": {},
   "outputs": [
    {
     "data": {
      "text/plain": [
       "TaggedDocument(words=[u'my', u'legs', u'ache'], tags=['TRAIN_12'])"
      ]
     },
     "execution_count": 11,
     "metadata": {},
     "output_type": "execute_result"
    }
   ],
   "source": [
    "x_train[12]"
   ]
  },
  {
   "cell_type": "code",
   "execution_count": 12,
   "metadata": {},
   "outputs": [
    {
     "name": "stderr",
     "output_type": "stream",
     "text": [
      "100%|██████████| 799677/799677 [00:01<00:00, 636153.19it/s]\n"
     ]
    }
   ],
   "source": [
    "n=1000000\n",
    "n_dim = 200\n",
    "tweet_w2v = Word2Vec(size=n_dim, min_count=10)\n",
    "tweet_w2v.build_vocab([x.words for x in tqdm(x_train)])"
   ]
  },
  {
   "cell_type": "code",
   "execution_count": 13,
   "metadata": {
    "scrolled": true
   },
   "outputs": [
    {
     "name": "stderr",
     "output_type": "stream",
     "text": [
      "100%|██████████| 799677/799677 [00:01<00:00, 773219.83it/s]\n",
      "/Users/akanshajain/miniconda3/envs/w2v/lib/python2.7/site-packages/ipykernel_launcher.py:1: DeprecationWarning: Call to deprecated `iter` (Attribute will be removed in 4.0.0, use self.epochs instead).\n",
      "  \"\"\"Entry point for launching an IPython kernel.\n"
     ]
    },
    {
     "data": {
      "text/plain": [
       "(42963599, 59733865)"
      ]
     },
     "execution_count": 13,
     "metadata": {},
     "output_type": "execute_result"
    }
   ],
   "source": [
    "tweet_w2v.train([x.words for x in tqdm(x_train)],total_examples=tweet_w2v.corpus_count, epochs=tweet_w2v.iter) "
   ]
  },
  {
   "cell_type": "code",
   "execution_count": 14,
   "metadata": {},
   "outputs": [
    {
     "name": "stderr",
     "output_type": "stream",
     "text": [
      "/Users/akanshajain/miniconda3/envs/w2v/lib/python2.7/site-packages/ipykernel_launcher.py:1: DeprecationWarning: Call to deprecated `__getitem__` (Method will be removed in 4.0.0, use self.wv.__getitem__() instead).\n",
      "  \"\"\"Entry point for launching an IPython kernel.\n"
     ]
    },
    {
     "data": {
      "text/plain": [
       "array([ 0.28444976,  0.69942904,  0.14818138,  0.31924927, -0.4680742 ,\n",
       "        0.9024628 ,  1.4263029 , -0.47907603, -1.332639  , -0.6724394 ,\n",
       "        1.3112695 ,  2.681598  , -0.03382508, -0.35525182, -0.8161919 ,\n",
       "       -0.04111078, -0.11380698,  0.64018035,  1.8797659 ,  2.4005365 ,\n",
       "        0.398094  , -0.1675036 ,  2.4800208 ,  1.8750612 , -0.8103979 ,\n",
       "        1.817616  ,  1.5765214 , -0.07570176, -0.95706964, -1.3454179 ,\n",
       "        1.2725383 ,  0.85002136, -0.69953024, -1.2051468 , -1.0216347 ,\n",
       "       -0.67992294,  0.21946803,  0.09953847, -1.5138327 , -0.5141085 ,\n",
       "       -0.3735861 ,  0.7434036 ,  0.04046262,  1.2473485 ,  0.6869495 ,\n",
       "        2.1402824 ,  1.8341174 ,  0.97273093, -2.7310767 , -0.49897045,\n",
       "       -1.7020036 ,  0.38104835,  0.476334  ,  0.6793673 , -0.16692251,\n",
       "        2.1517544 ,  0.23652887, -0.472027  , -0.95358783, -0.7426821 ,\n",
       "        0.82521725, -2.129602  , -1.8416278 , -0.36993757,  0.08857165,\n",
       "        1.6699846 ,  1.1030434 ,  1.9440069 , -0.39135978,  0.18953572,\n",
       "        0.6569869 ,  0.82715344,  0.74713457, -0.9402576 , -0.4578012 ,\n",
       "       -0.7484616 , -0.3546453 ,  2.1671877 , -0.9070589 ,  1.3744621 ,\n",
       "       -0.0506658 ,  0.451331  , -0.6550753 , -0.168092  , -1.9047232 ,\n",
       "       -0.2767147 ,  0.45569652, -1.6594173 ,  0.8169875 , -0.52105117,\n",
       "       -1.3883593 , -0.80265063,  0.32767552,  0.29080966, -0.76969445,\n",
       "       -0.05805446,  0.90878695,  0.0499161 ,  1.983957  ,  0.34685653,\n",
       "        0.76873386, -0.8445736 , -3.005021  , -0.20101394,  0.9040673 ,\n",
       "       -0.73066664,  2.9297678 , -0.30658284,  0.05062604, -0.71471477,\n",
       "        0.4618982 ,  0.68750614,  0.67879206,  0.23721077, -1.982765  ,\n",
       "        1.2276752 ,  0.33699736, -0.20459196, -0.6344604 ,  1.8757058 ,\n",
       "       -0.36629125,  1.8535869 ,  0.73299897,  0.15344891, -0.08566761,\n",
       "        1.0451474 , -0.7103839 ,  1.2230473 , -1.2356466 ,  0.14225334,\n",
       "        0.41258386, -2.1908104 , -2.3056686 , -0.5324571 ,  0.07991309,\n",
       "       -0.49134967,  1.2009401 , -2.3061986 ,  2.559218  , -2.5982878 ,\n",
       "       -0.60650027, -0.63064456, -0.44923952,  0.8538828 ,  0.7559656 ,\n",
       "       -2.3116817 ,  0.97406906, -0.36029485,  1.5892318 ,  0.43555516,\n",
       "        0.24533135,  1.5899678 , -0.13897711,  0.1051693 , -1.5154479 ,\n",
       "        0.46138677,  0.8894942 , -0.49621543,  1.2837673 , -1.7650074 ,\n",
       "       -0.7145359 ,  1.9884646 ,  0.46420866,  0.7314081 ,  0.23059931,\n",
       "       -0.74846566,  0.67494714,  1.7892354 ,  0.57434756,  0.6932511 ,\n",
       "        0.48672682,  1.2793667 , -1.9840423 ,  2.7241156 ,  0.6524861 ,\n",
       "        0.63344955, -0.27597404,  1.4193395 , -0.6365107 ,  0.49813297,\n",
       "        0.67021513,  0.73606896,  1.2963557 ,  0.2973101 ,  3.2142727 ,\n",
       "       -0.41356462,  0.02410411,  0.79206496, -0.66219026, -0.5202483 ,\n",
       "        1.3354274 ,  0.2606024 , -1.7059731 , -0.08614185,  1.525866  ,\n",
       "       -1.4287977 ,  2.896066  ,  1.3781714 , -0.02884789,  0.4481936 ],\n",
       "      dtype=float32)"
      ]
     },
     "execution_count": 14,
     "metadata": {},
     "output_type": "execute_result"
    }
   ],
   "source": [
    "tweet_w2v['good']\n"
   ]
  },
  {
   "cell_type": "code",
   "execution_count": 15,
   "metadata": {},
   "outputs": [
    {
     "name": "stderr",
     "output_type": "stream",
     "text": [
      "/Users/akanshajain/miniconda3/envs/w2v/lib/python2.7/site-packages/ipykernel_launcher.py:1: DeprecationWarning: Call to deprecated `most_similar` (Method will be removed in 4.0.0, use self.wv.most_similar() instead).\n",
      "  \"\"\"Entry point for launching an IPython kernel.\n"
     ]
    },
    {
     "data": {
      "text/plain": [
       "[(u'goood', 0.7055902481079102),\n",
       " (u'great', 0.6897282004356384),\n",
       " (u'pleasant', 0.6649350523948669),\n",
       " (u'rough', 0.6346817016601562),\n",
       " (u'nice', 0.606987714767456),\n",
       " (u'fabulous', 0.6029807329177856),\n",
       " (u'gd', 0.6005925536155701),\n",
       " (u'fantastic', 0.5976760983467102),\n",
       " (u'gooooood', 0.5951219797134399),\n",
       " (u'goooood', 0.5848761796951294)]"
      ]
     },
     "execution_count": 15,
     "metadata": {},
     "output_type": "execute_result"
    }
   ],
   "source": [
    "tweet_w2v.most_similar('good')\n"
   ]
  },
  {
   "cell_type": "code",
   "execution_count": 16,
   "metadata": {},
   "outputs": [
    {
     "name": "stderr",
     "output_type": "stream",
     "text": [
      "/Users/akanshajain/miniconda3/envs/w2v/lib/python2.7/site-packages/ipykernel_launcher.py:1: DeprecationWarning: Call to deprecated `most_similar` (Method will be removed in 4.0.0, use self.wv.most_similar() instead).\n",
      "  \"\"\"Entry point for launching an IPython kernel.\n"
     ]
    },
    {
     "data": {
      "text/plain": [
       "[(u'cafe', 0.7416696548461914),\n",
       " (u'grill', 0.7310184240341187),\n",
       " (u'pub', 0.7039318680763245),\n",
       " (u'restaurant', 0.6984879970550537),\n",
       " (u'table', 0.6982424259185791),\n",
       " (u'gate', 0.6821745038032532),\n",
       " (u'club', 0.6722133159637451),\n",
       " (u'ranch', 0.6401692628860474),\n",
       " (u'lounge', 0.6189289093017578),\n",
       " (u'casino', 0.6142687797546387)]"
      ]
     },
     "execution_count": 16,
     "metadata": {},
     "output_type": "execute_result"
    }
   ],
   "source": [
    "tweet_w2v.most_similar('bar')\n"
   ]
  },
  {
   "cell_type": "code",
   "execution_count": 17,
   "metadata": {},
   "outputs": [
    {
     "name": "stderr",
     "output_type": "stream",
     "text": [
      "/Users/akanshajain/miniconda3/envs/w2v/lib/python2.7/site-packages/ipykernel_launcher.py:1: DeprecationWarning: Call to deprecated `most_similar` (Method will be removed in 4.0.0, use self.wv.most_similar() instead).\n",
      "  \"\"\"Entry point for launching an IPython kernel.\n"
     ]
    },
    {
     "data": {
      "text/plain": [
       "[(u'pleased', 0.5856743454933167),\n",
       " (u'blessed', 0.5512657761573792),\n",
       " (u'thrilled', 0.5119697451591492),\n",
       " (u'celebrating', 0.4954250454902649),\n",
       " (u'grateful', 0.49438053369522095),\n",
       " (u'excited', 0.49332529306411743),\n",
       " (u'stoked', 0.47863951325416565),\n",
       " (u'impressed', 0.47155770659446716),\n",
       " (u'thankful', 0.46986669301986694),\n",
       " (u'proud', 0.4659450948238373)]"
      ]
     },
     "execution_count": 17,
     "metadata": {},
     "output_type": "execute_result"
    }
   ],
   "source": [
    "tweet_w2v.most_similar('happy')\n"
   ]
  },
  {
   "cell_type": "code",
   "execution_count": 18,
   "metadata": {},
   "outputs": [
    {
     "name": "stderr",
     "output_type": "stream",
     "text": [
      "/Users/akanshajain/miniconda3/envs/w2v/lib/python2.7/site-packages/ipykernel_launcher.py:1: DeprecationWarning: Call to deprecated `most_similar` (Method will be removed in 4.0.0, use self.wv.most_similar() instead).\n",
      "  \"\"\"Entry point for launching an IPython kernel.\n"
     ]
    },
    {
     "data": {
      "text/plain": [
       "[(u'itouch', 0.7675461769104004),\n",
       " (u'blackberry', 0.729372501373291),\n",
       " (u'mac', 0.704586386680603),\n",
       " (u'mms', 0.7000615000724792),\n",
       " (u'pc', 0.6999794244766235),\n",
       " (u'upgrade', 0.6975575685501099),\n",
       " (u'macbook', 0.6925462484359741),\n",
       " (u'3.0', 0.6885600090026855),\n",
       " (u'ipod', 0.6884199380874634),\n",
       " (u'jailbreak', 0.6821657419204712)]"
      ]
     },
     "execution_count": 18,
     "metadata": {},
     "output_type": "execute_result"
    }
   ],
   "source": [
    "tweet_w2v.most_similar('iphone')\n"
   ]
  },
  {
   "cell_type": "code",
   "execution_count": 19,
   "metadata": {},
   "outputs": [
    {
     "data": {
      "text/html": [
       "\n",
       "    <div class=\"bk-root\">\n",
       "        <a href=\"https://bokeh.pydata.org\" target=\"_blank\" class=\"bk-logo bk-logo-small bk-logo-notebook\"></a>\n",
       "        <span id=\"c485bdce-2866-449c-ace4-81d7645a6c37\">Loading BokehJS ...</span>\n",
       "    </div>"
      ]
     },
     "metadata": {},
     "output_type": "display_data"
    },
    {
     "data": {
      "application/javascript": [
       "\n",
       "(function(root) {\n",
       "  function now() {\n",
       "    return new Date();\n",
       "  }\n",
       "\n",
       "  var force = true;\n",
       "\n",
       "  if (typeof (root._bokeh_onload_callbacks) === \"undefined\" || force === true) {\n",
       "    root._bokeh_onload_callbacks = [];\n",
       "    root._bokeh_is_loading = undefined;\n",
       "  }\n",
       "\n",
       "  var JS_MIME_TYPE = 'application/javascript';\n",
       "  var HTML_MIME_TYPE = 'text/html';\n",
       "  var EXEC_MIME_TYPE = 'application/vnd.bokehjs_exec.v0+json';\n",
       "  var CLASS_NAME = 'output_bokeh rendered_html';\n",
       "\n",
       "  /**\n",
       "   * Render data to the DOM node\n",
       "   */\n",
       "  function render(props, node) {\n",
       "    var script = document.createElement(\"script\");\n",
       "    node.appendChild(script);\n",
       "  }\n",
       "\n",
       "  /**\n",
       "   * Handle when an output is cleared or removed\n",
       "   */\n",
       "  function handleClearOutput(event, handle) {\n",
       "    var cell = handle.cell;\n",
       "\n",
       "    var id = cell.output_area._bokeh_element_id;\n",
       "    var server_id = cell.output_area._bokeh_server_id;\n",
       "    // Clean up Bokeh references\n",
       "    if (id !== undefined) {\n",
       "      Bokeh.index[id].model.document.clear();\n",
       "      delete Bokeh.index[id];\n",
       "    }\n",
       "\n",
       "    if (server_id !== undefined) {\n",
       "      // Clean up Bokeh references\n",
       "      var cmd = \"from bokeh.io.state import curstate; print(curstate().uuid_to_server['\" + server_id + \"'].get_sessions()[0].document.roots[0]._id)\";\n",
       "      cell.notebook.kernel.execute(cmd, {\n",
       "        iopub: {\n",
       "          output: function(msg) {\n",
       "            var element_id = msg.content.text.trim();\n",
       "            Bokeh.index[element_id].model.document.clear();\n",
       "            delete Bokeh.index[element_id];\n",
       "          }\n",
       "        }\n",
       "      });\n",
       "      // Destroy server and session\n",
       "      var cmd = \"import bokeh.io.notebook as ion; ion.destroy_server('\" + server_id + \"')\";\n",
       "      cell.notebook.kernel.execute(cmd);\n",
       "    }\n",
       "  }\n",
       "\n",
       "  /**\n",
       "   * Handle when a new output is added\n",
       "   */\n",
       "  function handleAddOutput(event, handle) {\n",
       "    var output_area = handle.output_area;\n",
       "    var output = handle.output;\n",
       "\n",
       "    // limit handleAddOutput to display_data with EXEC_MIME_TYPE content only\n",
       "    if ((output.output_type != \"display_data\") || (!output.data.hasOwnProperty(EXEC_MIME_TYPE))) {\n",
       "      return\n",
       "    }\n",
       "\n",
       "    var toinsert = output_area.element.find(\".\" + CLASS_NAME.split(' ')[0]);\n",
       "\n",
       "    if (output.metadata[EXEC_MIME_TYPE][\"id\"] !== undefined) {\n",
       "      toinsert[toinsert.length - 1].firstChild.textContent = output.data[JS_MIME_TYPE];\n",
       "      // store reference to embed id on output_area\n",
       "      output_area._bokeh_element_id = output.metadata[EXEC_MIME_TYPE][\"id\"];\n",
       "    }\n",
       "    if (output.metadata[EXEC_MIME_TYPE][\"server_id\"] !== undefined) {\n",
       "      var bk_div = document.createElement(\"div\");\n",
       "      bk_div.innerHTML = output.data[HTML_MIME_TYPE];\n",
       "      var script_attrs = bk_div.children[0].attributes;\n",
       "      for (var i = 0; i < script_attrs.length; i++) {\n",
       "        toinsert[toinsert.length - 1].firstChild.setAttribute(script_attrs[i].name, script_attrs[i].value);\n",
       "      }\n",
       "      // store reference to server id on output_area\n",
       "      output_area._bokeh_server_id = output.metadata[EXEC_MIME_TYPE][\"server_id\"];\n",
       "    }\n",
       "  }\n",
       "\n",
       "  function register_renderer(events, OutputArea) {\n",
       "\n",
       "    function append_mime(data, metadata, element) {\n",
       "      // create a DOM node to render to\n",
       "      var toinsert = this.create_output_subarea(\n",
       "        metadata,\n",
       "        CLASS_NAME,\n",
       "        EXEC_MIME_TYPE\n",
       "      );\n",
       "      this.keyboard_manager.register_events(toinsert);\n",
       "      // Render to node\n",
       "      var props = {data: data, metadata: metadata[EXEC_MIME_TYPE]};\n",
       "      render(props, toinsert[toinsert.length - 1]);\n",
       "      element.append(toinsert);\n",
       "      return toinsert\n",
       "    }\n",
       "\n",
       "    /* Handle when an output is cleared or removed */\n",
       "    events.on('clear_output.CodeCell', handleClearOutput);\n",
       "    events.on('delete.Cell', handleClearOutput);\n",
       "\n",
       "    /* Handle when a new output is added */\n",
       "    events.on('output_added.OutputArea', handleAddOutput);\n",
       "\n",
       "    /**\n",
       "     * Register the mime type and append_mime function with output_area\n",
       "     */\n",
       "    OutputArea.prototype.register_mime_type(EXEC_MIME_TYPE, append_mime, {\n",
       "      /* Is output safe? */\n",
       "      safe: true,\n",
       "      /* Index of renderer in `output_area.display_order` */\n",
       "      index: 0\n",
       "    });\n",
       "  }\n",
       "\n",
       "  // register the mime type if in Jupyter Notebook environment and previously unregistered\n",
       "  if (root.Jupyter !== undefined) {\n",
       "    var events = require('base/js/events');\n",
       "    var OutputArea = require('notebook/js/outputarea').OutputArea;\n",
       "\n",
       "    if (OutputArea.prototype.mime_types().indexOf(EXEC_MIME_TYPE) == -1) {\n",
       "      register_renderer(events, OutputArea);\n",
       "    }\n",
       "  }\n",
       "\n",
       "  \n",
       "  if (typeof (root._bokeh_timeout) === \"undefined\" || force === true) {\n",
       "    root._bokeh_timeout = Date.now() + 5000;\n",
       "    root._bokeh_failed_load = false;\n",
       "  }\n",
       "\n",
       "  var NB_LOAD_WARNING = {'data': {'text/html':\n",
       "     \"<div style='background-color: #fdd'>\\n\"+\n",
       "     \"<p>\\n\"+\n",
       "     \"BokehJS does not appear to have successfully loaded. If loading BokehJS from CDN, this \\n\"+\n",
       "     \"may be due to a slow or bad network connection. Possible fixes:\\n\"+\n",
       "     \"</p>\\n\"+\n",
       "     \"<ul>\\n\"+\n",
       "     \"<li>re-rerun `output_notebook()` to attempt to load from CDN again, or</li>\\n\"+\n",
       "     \"<li>use INLINE resources instead, as so:</li>\\n\"+\n",
       "     \"</ul>\\n\"+\n",
       "     \"<code>\\n\"+\n",
       "     \"from bokeh.resources import INLINE\\n\"+\n",
       "     \"output_notebook(resources=INLINE)\\n\"+\n",
       "     \"</code>\\n\"+\n",
       "     \"</div>\"}};\n",
       "\n",
       "  function display_loaded() {\n",
       "    var el = document.getElementById(\"c485bdce-2866-449c-ace4-81d7645a6c37\");\n",
       "    if (el != null) {\n",
       "      el.textContent = \"BokehJS is loading...\";\n",
       "    }\n",
       "    if (root.Bokeh !== undefined) {\n",
       "      if (el != null) {\n",
       "        el.textContent = \"BokehJS \" + root.Bokeh.version + \" successfully loaded.\";\n",
       "      }\n",
       "    } else if (Date.now() < root._bokeh_timeout) {\n",
       "      setTimeout(display_loaded, 100)\n",
       "    }\n",
       "  }\n",
       "\n",
       "\n",
       "  function run_callbacks() {\n",
       "    try {\n",
       "      root._bokeh_onload_callbacks.forEach(function(callback) { callback() });\n",
       "    }\n",
       "    finally {\n",
       "      delete root._bokeh_onload_callbacks\n",
       "    }\n",
       "    console.info(\"Bokeh: all callbacks have finished\");\n",
       "  }\n",
       "\n",
       "  function load_libs(js_urls, callback) {\n",
       "    root._bokeh_onload_callbacks.push(callback);\n",
       "    if (root._bokeh_is_loading > 0) {\n",
       "      console.log(\"Bokeh: BokehJS is being loaded, scheduling callback at\", now());\n",
       "      return null;\n",
       "    }\n",
       "    if (js_urls == null || js_urls.length === 0) {\n",
       "      run_callbacks();\n",
       "      return null;\n",
       "    }\n",
       "    console.log(\"Bokeh: BokehJS not loaded, scheduling load and callback at\", now());\n",
       "    root._bokeh_is_loading = js_urls.length;\n",
       "    for (var i = 0; i < js_urls.length; i++) {\n",
       "      var url = js_urls[i];\n",
       "      var s = document.createElement('script');\n",
       "      s.src = url;\n",
       "      s.async = false;\n",
       "      s.onreadystatechange = s.onload = function() {\n",
       "        root._bokeh_is_loading--;\n",
       "        if (root._bokeh_is_loading === 0) {\n",
       "          console.log(\"Bokeh: all BokehJS libraries loaded\");\n",
       "          run_callbacks()\n",
       "        }\n",
       "      };\n",
       "      s.onerror = function() {\n",
       "        console.warn(\"failed to load library \" + url);\n",
       "      };\n",
       "      console.log(\"Bokeh: injecting script tag for BokehJS library: \", url);\n",
       "      document.getElementsByTagName(\"head\")[0].appendChild(s);\n",
       "    }\n",
       "  };var element = document.getElementById(\"c485bdce-2866-449c-ace4-81d7645a6c37\");\n",
       "  if (element == null) {\n",
       "    console.log(\"Bokeh: ERROR: autoload.js configured with elementid 'c485bdce-2866-449c-ace4-81d7645a6c37' but no matching script tag was found. \")\n",
       "    return false;\n",
       "  }\n",
       "\n",
       "  var js_urls = [\"https://cdn.pydata.org/bokeh/release/bokeh-0.12.15.min.js\", \"https://cdn.pydata.org/bokeh/release/bokeh-widgets-0.12.15.min.js\", \"https://cdn.pydata.org/bokeh/release/bokeh-tables-0.12.15.min.js\", \"https://cdn.pydata.org/bokeh/release/bokeh-gl-0.12.15.min.js\"];\n",
       "\n",
       "  var inline_js = [\n",
       "    function(Bokeh) {\n",
       "      Bokeh.set_log_level(\"info\");\n",
       "    },\n",
       "    \n",
       "    function(Bokeh) {\n",
       "      \n",
       "    },\n",
       "    function(Bokeh) {\n",
       "      console.log(\"Bokeh: injecting CSS: https://cdn.pydata.org/bokeh/release/bokeh-0.12.15.min.css\");\n",
       "      Bokeh.embed.inject_css(\"https://cdn.pydata.org/bokeh/release/bokeh-0.12.15.min.css\");\n",
       "      console.log(\"Bokeh: injecting CSS: https://cdn.pydata.org/bokeh/release/bokeh-widgets-0.12.15.min.css\");\n",
       "      Bokeh.embed.inject_css(\"https://cdn.pydata.org/bokeh/release/bokeh-widgets-0.12.15.min.css\");\n",
       "      console.log(\"Bokeh: injecting CSS: https://cdn.pydata.org/bokeh/release/bokeh-tables-0.12.15.min.css\");\n",
       "      Bokeh.embed.inject_css(\"https://cdn.pydata.org/bokeh/release/bokeh-tables-0.12.15.min.css\");\n",
       "    }\n",
       "  ];\n",
       "\n",
       "  function run_inline_js() {\n",
       "    \n",
       "    if ((root.Bokeh !== undefined) || (force === true)) {\n",
       "      for (var i = 0; i < inline_js.length; i++) {\n",
       "        inline_js[i].call(root, root.Bokeh);\n",
       "      }if (force === true) {\n",
       "        display_loaded();\n",
       "      }} else if (Date.now() < root._bokeh_timeout) {\n",
       "      setTimeout(run_inline_js, 100);\n",
       "    } else if (!root._bokeh_failed_load) {\n",
       "      console.log(\"Bokeh: BokehJS failed to load within specified timeout.\");\n",
       "      root._bokeh_failed_load = true;\n",
       "    } else if (force !== true) {\n",
       "      var cell = $(document.getElementById(\"c485bdce-2866-449c-ace4-81d7645a6c37\")).parents('.cell').data().cell;\n",
       "      cell.output_area.append_execute_result(NB_LOAD_WARNING)\n",
       "    }\n",
       "\n",
       "  }\n",
       "\n",
       "  if (root._bokeh_is_loading === 0) {\n",
       "    console.log(\"Bokeh: BokehJS loaded, going straight to plotting\");\n",
       "    run_inline_js();\n",
       "  } else {\n",
       "    load_libs(js_urls, function() {\n",
       "      console.log(\"Bokeh: BokehJS plotting callback run at\", now());\n",
       "      run_inline_js();\n",
       "    });\n",
       "  }\n",
       "}(window));"
      ],
      "application/vnd.bokehjs_load.v0+json": "\n(function(root) {\n  function now() {\n    return new Date();\n  }\n\n  var force = true;\n\n  if (typeof (root._bokeh_onload_callbacks) === \"undefined\" || force === true) {\n    root._bokeh_onload_callbacks = [];\n    root._bokeh_is_loading = undefined;\n  }\n\n  \n\n  \n  if (typeof (root._bokeh_timeout) === \"undefined\" || force === true) {\n    root._bokeh_timeout = Date.now() + 5000;\n    root._bokeh_failed_load = false;\n  }\n\n  var NB_LOAD_WARNING = {'data': {'text/html':\n     \"<div style='background-color: #fdd'>\\n\"+\n     \"<p>\\n\"+\n     \"BokehJS does not appear to have successfully loaded. If loading BokehJS from CDN, this \\n\"+\n     \"may be due to a slow or bad network connection. Possible fixes:\\n\"+\n     \"</p>\\n\"+\n     \"<ul>\\n\"+\n     \"<li>re-rerun `output_notebook()` to attempt to load from CDN again, or</li>\\n\"+\n     \"<li>use INLINE resources instead, as so:</li>\\n\"+\n     \"</ul>\\n\"+\n     \"<code>\\n\"+\n     \"from bokeh.resources import INLINE\\n\"+\n     \"output_notebook(resources=INLINE)\\n\"+\n     \"</code>\\n\"+\n     \"</div>\"}};\n\n  function display_loaded() {\n    var el = document.getElementById(\"c485bdce-2866-449c-ace4-81d7645a6c37\");\n    if (el != null) {\n      el.textContent = \"BokehJS is loading...\";\n    }\n    if (root.Bokeh !== undefined) {\n      if (el != null) {\n        el.textContent = \"BokehJS \" + root.Bokeh.version + \" successfully loaded.\";\n      }\n    } else if (Date.now() < root._bokeh_timeout) {\n      setTimeout(display_loaded, 100)\n    }\n  }\n\n\n  function run_callbacks() {\n    try {\n      root._bokeh_onload_callbacks.forEach(function(callback) { callback() });\n    }\n    finally {\n      delete root._bokeh_onload_callbacks\n    }\n    console.info(\"Bokeh: all callbacks have finished\");\n  }\n\n  function load_libs(js_urls, callback) {\n    root._bokeh_onload_callbacks.push(callback);\n    if (root._bokeh_is_loading > 0) {\n      console.log(\"Bokeh: BokehJS is being loaded, scheduling callback at\", now());\n      return null;\n    }\n    if (js_urls == null || js_urls.length === 0) {\n      run_callbacks();\n      return null;\n    }\n    console.log(\"Bokeh: BokehJS not loaded, scheduling load and callback at\", now());\n    root._bokeh_is_loading = js_urls.length;\n    for (var i = 0; i < js_urls.length; i++) {\n      var url = js_urls[i];\n      var s = document.createElement('script');\n      s.src = url;\n      s.async = false;\n      s.onreadystatechange = s.onload = function() {\n        root._bokeh_is_loading--;\n        if (root._bokeh_is_loading === 0) {\n          console.log(\"Bokeh: all BokehJS libraries loaded\");\n          run_callbacks()\n        }\n      };\n      s.onerror = function() {\n        console.warn(\"failed to load library \" + url);\n      };\n      console.log(\"Bokeh: injecting script tag for BokehJS library: \", url);\n      document.getElementsByTagName(\"head\")[0].appendChild(s);\n    }\n  };var element = document.getElementById(\"c485bdce-2866-449c-ace4-81d7645a6c37\");\n  if (element == null) {\n    console.log(\"Bokeh: ERROR: autoload.js configured with elementid 'c485bdce-2866-449c-ace4-81d7645a6c37' but no matching script tag was found. \")\n    return false;\n  }\n\n  var js_urls = [\"https://cdn.pydata.org/bokeh/release/bokeh-0.12.15.min.js\", \"https://cdn.pydata.org/bokeh/release/bokeh-widgets-0.12.15.min.js\", \"https://cdn.pydata.org/bokeh/release/bokeh-tables-0.12.15.min.js\", \"https://cdn.pydata.org/bokeh/release/bokeh-gl-0.12.15.min.js\"];\n\n  var inline_js = [\n    function(Bokeh) {\n      Bokeh.set_log_level(\"info\");\n    },\n    \n    function(Bokeh) {\n      \n    },\n    function(Bokeh) {\n      console.log(\"Bokeh: injecting CSS: https://cdn.pydata.org/bokeh/release/bokeh-0.12.15.min.css\");\n      Bokeh.embed.inject_css(\"https://cdn.pydata.org/bokeh/release/bokeh-0.12.15.min.css\");\n      console.log(\"Bokeh: injecting CSS: https://cdn.pydata.org/bokeh/release/bokeh-widgets-0.12.15.min.css\");\n      Bokeh.embed.inject_css(\"https://cdn.pydata.org/bokeh/release/bokeh-widgets-0.12.15.min.css\");\n      console.log(\"Bokeh: injecting CSS: https://cdn.pydata.org/bokeh/release/bokeh-tables-0.12.15.min.css\");\n      Bokeh.embed.inject_css(\"https://cdn.pydata.org/bokeh/release/bokeh-tables-0.12.15.min.css\");\n    }\n  ];\n\n  function run_inline_js() {\n    \n    if ((root.Bokeh !== undefined) || (force === true)) {\n      for (var i = 0; i < inline_js.length; i++) {\n        inline_js[i].call(root, root.Bokeh);\n      }if (force === true) {\n        display_loaded();\n      }} else if (Date.now() < root._bokeh_timeout) {\n      setTimeout(run_inline_js, 100);\n    } else if (!root._bokeh_failed_load) {\n      console.log(\"Bokeh: BokehJS failed to load within specified timeout.\");\n      root._bokeh_failed_load = true;\n    } else if (force !== true) {\n      var cell = $(document.getElementById(\"c485bdce-2866-449c-ace4-81d7645a6c37\")).parents('.cell').data().cell;\n      cell.output_area.append_execute_result(NB_LOAD_WARNING)\n    }\n\n  }\n\n  if (root._bokeh_is_loading === 0) {\n    console.log(\"Bokeh: BokehJS loaded, going straight to plotting\");\n    run_inline_js();\n  } else {\n    load_libs(js_urls, function() {\n      console.log(\"Bokeh: BokehJS plotting callback run at\", now());\n      run_inline_js();\n    });\n  }\n}(window));"
     },
     "metadata": {},
     "output_type": "display_data"
    },
    {
     "name": "stderr",
     "output_type": "stream",
     "text": [
      "/Users/akanshajain/miniconda3/envs/w2v/lib/python2.7/site-packages/ipykernel_launcher.py:13: DeprecationWarning: Call to deprecated `__getitem__` (Method will be removed in 4.0.0, use self.wv.__getitem__() instead).\n",
      "  del sys.path[0]\n"
     ]
    },
    {
     "name": "stdout",
     "output_type": "stream",
     "text": [
      "[t-SNE] Computing 91 nearest neighbors...\n",
      "[t-SNE] Indexed 5000 samples in 0.054s...\n",
      "[t-SNE] Computed neighbors for 5000 samples in 12.934s...\n",
      "[t-SNE] Computed conditional probabilities for sample 1000 / 5000\n",
      "[t-SNE] Computed conditional probabilities for sample 2000 / 5000\n",
      "[t-SNE] Computed conditional probabilities for sample 3000 / 5000\n",
      "[t-SNE] Computed conditional probabilities for sample 4000 / 5000\n",
      "[t-SNE] Computed conditional probabilities for sample 5000 / 5000\n",
      "[t-SNE] Mean sigma: 0.270461\n",
      "[t-SNE] KL divergence after 250 iterations with early exaggeration: 90.955437\n",
      "[t-SNE] Error after 1000 iterations: 2.831332\n"
     ]
    },
    {
     "data": {
      "text/html": [
       "\n",
       "<div class=\"bk-root\">\n",
       "    <div class=\"bk-plotdiv\" id=\"b0edcf24-f7ac-4d30-8872-636ac4da11a3\"></div>\n",
       "</div>"
      ]
     },
     "metadata": {},
     "output_type": "display_data"
    },
    {
     "data": {
      "application/javascript": [
       "(function(root) {\n",
       "  function embed_document(root) {\n",
       "    \n",
       "  var docs_json = {\"8ff356b6-c3e3-4e53-a846-9b5a22e82ef7\":{\"roots\":{\"references\":[{\"attributes\":{\"callback\":null},\"id\":\"6adbfbce-449a-459d-8d0d-df21593098ab\",\"type\":\"DataRange1d\"},{\"attributes\":{\"min_border\":1,\"plot_width\":700,\"renderers\":[{\"id\":\"9e96d814-aaf9-4764-883b-3c93c0a20c14\",\"type\":\"BoxAnnotation\"},{\"id\":\"a89be3c3-52a4-42d9-9da5-408f4e42e0de\",\"type\":\"GlyphRenderer\"}],\"title\":{\"id\":\"33d24251-77ba-464b-b0aa-8bd0e03f8d9f\",\"type\":\"Title\"},\"toolbar\":{\"id\":\"5d3dd2a3-c73e-40de-bdb8-5da14b062267\",\"type\":\"Toolbar\"},\"x_range\":{\"id\":\"3f887442-f8a5-4960-9650-bd473c96f0c4\",\"type\":\"DataRange1d\"},\"x_scale\":{\"id\":\"adb462b2-f3c1-4e2e-a0c3-27fd553e49dd\",\"type\":\"LinearScale\"},\"y_range\":{\"id\":\"6adbfbce-449a-459d-8d0d-df21593098ab\",\"type\":\"DataRange1d\"},\"y_scale\":{\"id\":\"1346f084-a37e-4dbc-90cd-b046088ad71e\",\"type\":\"LinearScale\"}},\"id\":\"e3cd2e46-0ee2-49d0-a1ba-c323f798917c\",\"subtype\":\"Figure\",\"type\":\"Plot\"},{\"attributes\":{},\"id\":\"7877562e-e893-4779-a29d-0c554d823d09\",\"type\":\"WheelZoomTool\"},{\"attributes\":{},\"id\":\"adb462b2-f3c1-4e2e-a0c3-27fd553e49dd\",\"type\":\"LinearScale\"},{\"attributes\":{\"callback\":null,\"tooltips\":[[\"word\",\"@words\"]]},\"id\":\"89c70e12-c109-4f9b-8ecf-d714d4657560\",\"type\":\"HoverTool\"},{\"attributes\":{\"bottom_units\":\"screen\",\"fill_alpha\":{\"value\":0.5},\"fill_color\":{\"value\":\"lightgrey\"},\"left_units\":\"screen\",\"level\":\"overlay\",\"line_alpha\":{\"value\":1.0},\"line_color\":{\"value\":\"black\"},\"line_dash\":[4,4],\"line_width\":{\"value\":2},\"plot\":null,\"render_mode\":\"css\",\"right_units\":\"screen\",\"top_units\":\"screen\"},\"id\":\"9e96d814-aaf9-4764-883b-3c93c0a20c14\",\"type\":\"BoxAnnotation\"},{\"attributes\":{},\"id\":\"1346f084-a37e-4dbc-90cd-b046088ad71e\",\"type\":\"LinearScale\"},{\"attributes\":{\"overlay\":{\"id\":\"9e96d814-aaf9-4764-883b-3c93c0a20c14\",\"type\":\"BoxAnnotation\"}},\"id\":\"a03a6d29-40e1-4863-a591-14358ce67d73\",\"type\":\"BoxZoomTool\"},{\"attributes\":{\"callback\":null,\"column_names\":[\"y\",\"x\",\"words\",\"index\"],\"data\":{\"index\":[0,1,2,3,4,5,6,7,8,9,10,11,12,13,14,15,16,17,18,19,20,21,22,23,24,25,26,27,28,29,30,31,32,33,34,35,36,37,38,39,40,41,42,43,44,45,46,47,48,49,50,51,52,53,54,55,56,57,58,59,60,61,62,63,64,65,66,67,68,69,70,71,72,73,74,75,76,77,78,79,80,81,82,83,84,85,86,87,88,89,90,91,92,93,94,95,96,97,98,99,100,101,102,103,104,105,106,107,108,109,110,111,112,113,114,115,116,117,118,119,120,121,122,123,124,125,126,127,128,129,130,131,132,133,134,135,136,137,138,139,140,141,142,143,144,145,146,147,148,149,150,151,152,153,154,155,156,157,158,159,160,161,162,163,164,165,166,167,168,169,170,171,172,173,174,175,176,177,178,179,180,181,182,183,184,185,186,187,188,189,190,191,192,193,194,195,196,197,198,199,200,201,202,203,204,205,206,207,208,209,210,211,212,213,214,215,216,217,218,219,220,221,222,223,224,225,226,227,228,229,230,231,232,233,234,235,236,237,238,239,240,241,242,243,244,245,246,247,248,249,250,251,252,253,254,255,256,257,258,259,260,261,262,263,264,265,266,267,268,269,270,271,272,273,274,275,276,277,278,279,280,281,282,283,284,285,286,287,288,289,290,291,292,293,294,295,296,297,298,299,300,301,302,303,304,305,306,307,308,309,310,311,312,313,314,315,316,317,318,319,320,321,322,323,324,325,326,327,328,329,330,331,332,333,334,335,336,337,338,339,340,341,342,343,344,345,346,347,348,349,350,351,352,353,354,355,356,357,358,359,360,361,362,363,364,365,366,367,368,369,370,371,372,373,374,375,376,377,378,379,380,381,382,383,384,385,386,387,388,389,390,391,392,393,394,395,396,397,398,399,400,401,402,403,404,405,406,407,408,409,410,411,412,413,414,415,416,417,418,419,420,421,422,423,424,425,426,427,428,429,430,431,432,433,434,435,436,437,438,439,440,441,442,443,444,445,446,447,448,449,450,451,452,453,454,455,456,457,458,459,460,461,462,463,464,465,466,467,468,469,470,471,472,473,474,475,476,477,478,479,480,481,482,483,484,485,486,487,488,489,490,491,492,493,494,495,496,497,498,499,500,501,502,503,504,505,506,507,508,509,510,511,512,513,514,515,516,517,518,519,520,521,522,523,524,525,526,527,528,529,530,531,532,533,534,535,536,537,538,539,540,541,542,543,544,545,546,547,548,549,550,551,552,553,554,555,556,557,558,559,560,561,562,563,564,565,566,567,568,569,570,571,572,573,574,575,576,577,578,579,580,581,582,583,584,585,586,587,588,589,590,591,592,593,594,595,596,597,598,599,600,601,602,603,604,605,606,607,608,609,610,611,612,613,614,615,616,617,618,619,620,621,622,623,624,625,626,627,628,629,630,631,632,633,634,635,636,637,638,639,640,641,642,643,644,645,646,647,648,649,650,651,652,653,654,655,656,657,658,659,660,661,662,663,664,665,666,667,668,669,670,671,672,673,674,675,676,677,678,679,680,681,682,683,684,685,686,687,688,689,690,691,692,693,694,695,696,697,698,699,700,701,702,703,704,705,706,707,708,709,710,711,712,713,714,715,716,717,718,719,720,721,722,723,724,725,726,727,728,729,730,731,732,733,734,735,736,737,738,739,740,741,742,743,744,745,746,747,748,749,750,751,752,753,754,755,756,757,758,759,760,761,762,763,764,765,766,767,768,769,770,771,772,773,774,775,776,777,778,779,780,781,782,783,784,785,786,787,788,789,790,791,792,793,794,795,796,797,798,799,800,801,802,803,804,805,806,807,808,809,810,811,812,813,814,815,816,817,818,819,820,821,822,823,824,825,826,827,828,829,830,831,832,833,834,835,836,837,838,839,840,841,842,843,844,845,846,847,848,849,850,851,852,853,854,855,856,857,858,859,860,861,862,863,864,865,866,867,868,869,870,871,872,873,874,875,876,877,878,879,880,881,882,883,884,885,886,887,888,889,890,891,892,893,894,895,896,897,898,899,900,901,902,903,904,905,906,907,908,909,910,911,912,913,914,915,916,917,918,919,920,921,922,923,924,925,926,927,928,929,930,931,932,933,934,935,936,937,938,939,940,941,942,943,944,945,946,947,948,949,950,951,952,953,954,955,956,957,958,959,960,961,962,963,964,965,966,967,968,969,970,971,972,973,974,975,976,977,978,979,980,981,982,983,984,985,986,987,988,989,990,991,992,993,994,995,996,997,998,999,1000,1001,1002,1003,1004,1005,1006,1007,1008,1009,1010,1011,1012,1013,1014,1015,1016,1017,1018,1019,1020,1021,1022,1023,1024,1025,1026,1027,1028,1029,1030,1031,1032,1033,1034,1035,1036,1037,1038,1039,1040,1041,1042,1043,1044,1045,1046,1047,1048,1049,1050,1051,1052,1053,1054,1055,1056,1057,1058,1059,1060,1061,1062,1063,1064,1065,1066,1067,1068,1069,1070,1071,1072,1073,1074,1075,1076,1077,1078,1079,1080,1081,1082,1083,1084,1085,1086,1087,1088,1089,1090,1091,1092,1093,1094,1095,1096,1097,1098,1099,1100,1101,1102,1103,1104,1105,1106,1107,1108,1109,1110,1111,1112,1113,1114,1115,1116,1117,1118,1119,1120,1121,1122,1123,1124,1125,1126,1127,1128,1129,1130,1131,1132,1133,1134,1135,1136,1137,1138,1139,1140,1141,1142,1143,1144,1145,1146,1147,1148,1149,1150,1151,1152,1153,1154,1155,1156,1157,1158,1159,1160,1161,1162,1163,1164,1165,1166,1167,1168,1169,1170,1171,1172,1173,1174,1175,1176,1177,1178,1179,1180,1181,1182,1183,1184,1185,1186,1187,1188,1189,1190,1191,1192,1193,1194,1195,1196,1197,1198,1199,1200,1201,1202,1203,1204,1205,1206,1207,1208,1209,1210,1211,1212,1213,1214,1215,1216,1217,1218,1219,1220,1221,1222,1223,1224,1225,1226,1227,1228,1229,1230,1231,1232,1233,1234,1235,1236,1237,1238,1239,1240,1241,1242,1243,1244,1245,1246,1247,1248,1249,1250,1251,1252,1253,1254,1255,1256,1257,1258,1259,1260,1261,1262,1263,1264,1265,1266,1267,1268,1269,1270,1271,1272,1273,1274,1275,1276,1277,1278,1279,1280,1281,1282,1283,1284,1285,1286,1287,1288,1289,1290,1291,1292,1293,1294,1295,1296,1297,1298,1299,1300,1301,1302,1303,1304,1305,1306,1307,1308,1309,1310,1311,1312,1313,1314,1315,1316,1317,1318,1319,1320,1321,1322,1323,1324,1325,1326,1327,1328,1329,1330,1331,1332,1333,1334,1335,1336,1337,1338,1339,1340,1341,1342,1343,1344,1345,1346,1347,1348,1349,1350,1351,1352,1353,1354,1355,1356,1357,1358,1359,1360,1361,1362,1363,1364,1365,1366,1367,1368,1369,1370,1371,1372,1373,1374,1375,1376,1377,1378,1379,1380,1381,1382,1383,1384,1385,1386,1387,1388,1389,1390,1391,1392,1393,1394,1395,1396,1397,1398,1399,1400,1401,1402,1403,1404,1405,1406,1407,1408,1409,1410,1411,1412,1413,1414,1415,1416,1417,1418,1419,1420,1421,1422,1423,1424,1425,1426,1427,1428,1429,1430,1431,1432,1433,1434,1435,1436,1437,1438,1439,1440,1441,1442,1443,1444,1445,1446,1447,1448,1449,1450,1451,1452,1453,1454,1455,1456,1457,1458,1459,1460,1461,1462,1463,1464,1465,1466,1467,1468,1469,1470,1471,1472,1473,1474,1475,1476,1477,1478,1479,1480,1481,1482,1483,1484,1485,1486,1487,1488,1489,1490,1491,1492,1493,1494,1495,1496,1497,1498,1499,1500,1501,1502,1503,1504,1505,1506,1507,1508,1509,1510,1511,1512,1513,1514,1515,1516,1517,1518,1519,1520,1521,1522,1523,1524,1525,1526,1527,1528,1529,1530,1531,1532,1533,1534,1535,1536,1537,1538,1539,1540,1541,1542,1543,1544,1545,1546,1547,1548,1549,1550,1551,1552,1553,1554,1555,1556,1557,1558,1559,1560,1561,1562,1563,1564,1565,1566,1567,1568,1569,1570,1571,1572,1573,1574,1575,1576,1577,1578,1579,1580,1581,1582,1583,1584,1585,1586,1587,1588,1589,1590,1591,1592,1593,1594,1595,1596,1597,1598,1599,1600,1601,1602,1603,1604,1605,1606,1607,1608,1609,1610,1611,1612,1613,1614,1615,1616,1617,1618,1619,1620,1621,1622,1623,1624,1625,1626,1627,1628,1629,1630,1631,1632,1633,1634,1635,1636,1637,1638,1639,1640,1641,1642,1643,1644,1645,1646,1647,1648,1649,1650,1651,1652,1653,1654,1655,1656,1657,1658,1659,1660,1661,1662,1663,1664,1665,1666,1667,1668,1669,1670,1671,1672,1673,1674,1675,1676,1677,1678,1679,1680,1681,1682,1683,1684,1685,1686,1687,1688,1689,1690,1691,1692,1693,1694,1695,1696,1697,1698,1699,1700,1701,1702,1703,1704,1705,1706,1707,1708,1709,1710,1711,1712,1713,1714,1715,1716,1717,1718,1719,1720,1721,1722,1723,1724,1725,1726,1727,1728,1729,1730,1731,1732,1733,1734,1735,1736,1737,1738,1739,1740,1741,1742,1743,1744,1745,1746,1747,1748,1749,1750,1751,1752,1753,1754,1755,1756,1757,1758,1759,1760,1761,1762,1763,1764,1765,1766,1767,1768,1769,1770,1771,1772,1773,1774,1775,1776,1777,1778,1779,1780,1781,1782,1783,1784,1785,1786,1787,1788,1789,1790,1791,1792,1793,1794,1795,1796,1797,1798,1799,1800,1801,1802,1803,1804,1805,1806,1807,1808,1809,1810,1811,1812,1813,1814,1815,1816,1817,1818,1819,1820,1821,1822,1823,1824,1825,1826,1827,1828,1829,1830,1831,1832,1833,1834,1835,1836,1837,1838,1839,1840,1841,1842,1843,1844,1845,1846,1847,1848,1849,1850,1851,1852,1853,1854,1855,1856,1857,1858,1859,1860,1861,1862,1863,1864,1865,1866,1867,1868,1869,1870,1871,1872,1873,1874,1875,1876,1877,1878,1879,1880,1881,1882,1883,1884,1885,1886,1887,1888,1889,1890,1891,1892,1893,1894,1895,1896,1897,1898,1899,1900,1901,1902,1903,1904,1905,1906,1907,1908,1909,1910,1911,1912,1913,1914,1915,1916,1917,1918,1919,1920,1921,1922,1923,1924,1925,1926,1927,1928,1929,1930,1931,1932,1933,1934,1935,1936,1937,1938,1939,1940,1941,1942,1943,1944,1945,1946,1947,1948,1949,1950,1951,1952,1953,1954,1955,1956,1957,1958,1959,1960,1961,1962,1963,1964,1965,1966,1967,1968,1969,1970,1971,1972,1973,1974,1975,1976,1977,1978,1979,1980,1981,1982,1983,1984,1985,1986,1987,1988,1989,1990,1991,1992,1993,1994,1995,1996,1997,1998,1999,2000,2001,2002,2003,2004,2005,2006,2007,2008,2009,2010,2011,2012,2013,2014,2015,2016,2017,2018,2019,2020,2021,2022,2023,2024,2025,2026,2027,2028,2029,2030,2031,2032,2033,2034,2035,2036,2037,2038,2039,2040,2041,2042,2043,2044,2045,2046,2047,2048,2049,2050,2051,2052,2053,2054,2055,2056,2057,2058,2059,2060,2061,2062,2063,2064,2065,2066,2067,2068,2069,2070,2071,2072,2073,2074,2075,2076,2077,2078,2079,2080,2081,2082,2083,2084,2085,2086,2087,2088,2089,2090,2091,2092,2093,2094,2095,2096,2097,2098,2099,2100,2101,2102,2103,2104,2105,2106,2107,2108,2109,2110,2111,2112,2113,2114,2115,2116,2117,2118,2119,2120,2121,2122,2123,2124,2125,2126,2127,2128,2129,2130,2131,2132,2133,2134,2135,2136,2137,2138,2139,2140,2141,2142,2143,2144,2145,2146,2147,2148,2149,2150,2151,2152,2153,2154,2155,2156,2157,2158,2159,2160,2161,2162,2163,2164,2165,2166,2167,2168,2169,2170,2171,2172,2173,2174,2175,2176,2177,2178,2179,2180,2181,2182,2183,2184,2185,2186,2187,2188,2189,2190,2191,2192,2193,2194,2195,2196,2197,2198,2199,2200,2201,2202,2203,2204,2205,2206,2207,2208,2209,2210,2211,2212,2213,2214,2215,2216,2217,2218,2219,2220,2221,2222,2223,2224,2225,2226,2227,2228,2229,2230,2231,2232,2233,2234,2235,2236,2237,2238,2239,2240,2241,2242,2243,2244,2245,2246,2247,2248,2249,2250,2251,2252,2253,2254,2255,2256,2257,2258,2259,2260,2261,2262,2263,2264,2265,2266,2267,2268,2269,2270,2271,2272,2273,2274,2275,2276,2277,2278,2279,2280,2281,2282,2283,2284,2285,2286,2287,2288,2289,2290,2291,2292,2293,2294,2295,2296,2297,2298,2299,2300,2301,2302,2303,2304,2305,2306,2307,2308,2309,2310,2311,2312,2313,2314,2315,2316,2317,2318,2319,2320,2321,2322,2323,2324,2325,2326,2327,2328,2329,2330,2331,2332,2333,2334,2335,2336,2337,2338,2339,2340,2341,2342,2343,2344,2345,2346,2347,2348,2349,2350,2351,2352,2353,2354,2355,2356,2357,2358,2359,2360,2361,2362,2363,2364,2365,2366,2367,2368,2369,2370,2371,2372,2373,2374,2375,2376,2377,2378,2379,2380,2381,2382,2383,2384,2385,2386,2387,2388,2389,2390,2391,2392,2393,2394,2395,2396,2397,2398,2399,2400,2401,2402,2403,2404,2405,2406,2407,2408,2409,2410,2411,2412,2413,2414,2415,2416,2417,2418,2419,2420,2421,2422,2423,2424,2425,2426,2427,2428,2429,2430,2431,2432,2433,2434,2435,2436,2437,2438,2439,2440,2441,2442,2443,2444,2445,2446,2447,2448,2449,2450,2451,2452,2453,2454,2455,2456,2457,2458,2459,2460,2461,2462,2463,2464,2465,2466,2467,2468,2469,2470,2471,2472,2473,2474,2475,2476,2477,2478,2479,2480,2481,2482,2483,2484,2485,2486,2487,2488,2489,2490,2491,2492,2493,2494,2495,2496,2497,2498,2499,2500,2501,2502,2503,2504,2505,2506,2507,2508,2509,2510,2511,2512,2513,2514,2515,2516,2517,2518,2519,2520,2521,2522,2523,2524,2525,2526,2527,2528,2529,2530,2531,2532,2533,2534,2535,2536,2537,2538,2539,2540,2541,2542,2543,2544,2545,2546,2547,2548,2549,2550,2551,2552,2553,2554,2555,2556,2557,2558,2559,2560,2561,2562,2563,2564,2565,2566,2567,2568,2569,2570,2571,2572,2573,2574,2575,2576,2577,2578,2579,2580,2581,2582,2583,2584,2585,2586,2587,2588,2589,2590,2591,2592,2593,2594,2595,2596,2597,2598,2599,2600,2601,2602,2603,2604,2605,2606,2607,2608,2609,2610,2611,2612,2613,2614,2615,2616,2617,2618,2619,2620,2621,2622,2623,2624,2625,2626,2627,2628,2629,2630,2631,2632,2633,2634,2635,2636,2637,2638,2639,2640,2641,2642,2643,2644,2645,2646,2647,2648,2649,2650,2651,2652,2653,2654,2655,2656,2657,2658,2659,2660,2661,2662,2663,2664,2665,2666,2667,2668,2669,2670,2671,2672,2673,2674,2675,2676,2677,2678,2679,2680,2681,2682,2683,2684,2685,2686,2687,2688,2689,2690,2691,2692,2693,2694,2695,2696,2697,2698,2699,2700,2701,2702,2703,2704,2705,2706,2707,2708,2709,2710,2711,2712,2713,2714,2715,2716,2717,2718,2719,2720,2721,2722,2723,2724,2725,2726,2727,2728,2729,2730,2731,2732,2733,2734,2735,2736,2737,2738,2739,2740,2741,2742,2743,2744,2745,2746,2747,2748,2749,2750,2751,2752,2753,2754,2755,2756,2757,2758,2759,2760,2761,2762,2763,2764,2765,2766,2767,2768,2769,2770,2771,2772,2773,2774,2775,2776,2777,2778,2779,2780,2781,2782,2783,2784,2785,2786,2787,2788,2789,2790,2791,2792,2793,2794,2795,2796,2797,2798,2799,2800,2801,2802,2803,2804,2805,2806,2807,2808,2809,2810,2811,2812,2813,2814,2815,2816,2817,2818,2819,2820,2821,2822,2823,2824,2825,2826,2827,2828,2829,2830,2831,2832,2833,2834,2835,2836,2837,2838,2839,2840,2841,2842,2843,2844,2845,2846,2847,2848,2849,2850,2851,2852,2853,2854,2855,2856,2857,2858,2859,2860,2861,2862,2863,2864,2865,2866,2867,2868,2869,2870,2871,2872,2873,2874,2875,2876,2877,2878,2879,2880,2881,2882,2883,2884,2885,2886,2887,2888,2889,2890,2891,2892,2893,2894,2895,2896,2897,2898,2899,2900,2901,2902,2903,2904,2905,2906,2907,2908,2909,2910,2911,2912,2913,2914,2915,2916,2917,2918,2919,2920,2921,2922,2923,2924,2925,2926,2927,2928,2929,2930,2931,2932,2933,2934,2935,2936,2937,2938,2939,2940,2941,2942,2943,2944,2945,2946,2947,2948,2949,2950,2951,2952,2953,2954,2955,2956,2957,2958,2959,2960,2961,2962,2963,2964,2965,2966,2967,2968,2969,2970,2971,2972,2973,2974,2975,2976,2977,2978,2979,2980,2981,2982,2983,2984,2985,2986,2987,2988,2989,2990,2991,2992,2993,2994,2995,2996,2997,2998,2999,3000,3001,3002,3003,3004,3005,3006,3007,3008,3009,3010,3011,3012,3013,3014,3015,3016,3017,3018,3019,3020,3021,3022,3023,3024,3025,3026,3027,3028,3029,3030,3031,3032,3033,3034,3035,3036,3037,3038,3039,3040,3041,3042,3043,3044,3045,3046,3047,3048,3049,3050,3051,3052,3053,3054,3055,3056,3057,3058,3059,3060,3061,3062,3063,3064,3065,3066,3067,3068,3069,3070,3071,3072,3073,3074,3075,3076,3077,3078,3079,3080,3081,3082,3083,3084,3085,3086,3087,3088,3089,3090,3091,3092,3093,3094,3095,3096,3097,3098,3099,3100,3101,3102,3103,3104,3105,3106,3107,3108,3109,3110,3111,3112,3113,3114,3115,3116,3117,3118,3119,3120,3121,3122,3123,3124,3125,3126,3127,3128,3129,3130,3131,3132,3133,3134,3135,3136,3137,3138,3139,3140,3141,3142,3143,3144,3145,3146,3147,3148,3149,3150,3151,3152,3153,3154,3155,3156,3157,3158,3159,3160,3161,3162,3163,3164,3165,3166,3167,3168,3169,3170,3171,3172,3173,3174,3175,3176,3177,3178,3179,3180,3181,3182,3183,3184,3185,3186,3187,3188,3189,3190,3191,3192,3193,3194,3195,3196,3197,3198,3199,3200,3201,3202,3203,3204,3205,3206,3207,3208,3209,3210,3211,3212,3213,3214,3215,3216,3217,3218,3219,3220,3221,3222,3223,3224,3225,3226,3227,3228,3229,3230,3231,3232,3233,3234,3235,3236,3237,3238,3239,3240,3241,3242,3243,3244,3245,3246,3247,3248,3249,3250,3251,3252,3253,3254,3255,3256,3257,3258,3259,3260,3261,3262,3263,3264,3265,3266,3267,3268,3269,3270,3271,3272,3273,3274,3275,3276,3277,3278,3279,3280,3281,3282,3283,3284,3285,3286,3287,3288,3289,3290,3291,3292,3293,3294,3295,3296,3297,3298,3299,3300,3301,3302,3303,3304,3305,3306,3307,3308,3309,3310,3311,3312,3313,3314,3315,3316,3317,3318,3319,3320,3321,3322,3323,3324,3325,3326,3327,3328,3329,3330,3331,3332,3333,3334,3335,3336,3337,3338,3339,3340,3341,3342,3343,3344,3345,3346,3347,3348,3349,3350,3351,3352,3353,3354,3355,3356,3357,3358,3359,3360,3361,3362,3363,3364,3365,3366,3367,3368,3369,3370,3371,3372,3373,3374,3375,3376,3377,3378,3379,3380,3381,3382,3383,3384,3385,3386,3387,3388,3389,3390,3391,3392,3393,3394,3395,3396,3397,3398,3399,3400,3401,3402,3403,3404,3405,3406,3407,3408,3409,3410,3411,3412,3413,3414,3415,3416,3417,3418,3419,3420,3421,3422,3423,3424,3425,3426,3427,3428,3429,3430,3431,3432,3433,3434,3435,3436,3437,3438,3439,3440,3441,3442,3443,3444,3445,3446,3447,3448,3449,3450,3451,3452,3453,3454,3455,3456,3457,3458,3459,3460,3461,3462,3463,3464,3465,3466,3467,3468,3469,3470,3471,3472,3473,3474,3475,3476,3477,3478,3479,3480,3481,3482,3483,3484,3485,3486,3487,3488,3489,3490,3491,3492,3493,3494,3495,3496,3497,3498,3499,3500,3501,3502,3503,3504,3505,3506,3507,3508,3509,3510,3511,3512,3513,3514,3515,3516,3517,3518,3519,3520,3521,3522,3523,3524,3525,3526,3527,3528,3529,3530,3531,3532,3533,3534,3535,3536,3537,3538,3539,3540,3541,3542,3543,3544,3545,3546,3547,3548,3549,3550,3551,3552,3553,3554,3555,3556,3557,3558,3559,3560,3561,3562,3563,3564,3565,3566,3567,3568,3569,3570,3571,3572,3573,3574,3575,3576,3577,3578,3579,3580,3581,3582,3583,3584,3585,3586,3587,3588,3589,3590,3591,3592,3593,3594,3595,3596,3597,3598,3599,3600,3601,3602,3603,3604,3605,3606,3607,3608,3609,3610,3611,3612,3613,3614,3615,3616,3617,3618,3619,3620,3621,3622,3623,3624,3625,3626,3627,3628,3629,3630,3631,3632,3633,3634,3635,3636,3637,3638,3639,3640,3641,3642,3643,3644,3645,3646,3647,3648,3649,3650,3651,3652,3653,3654,3655,3656,3657,3658,3659,3660,3661,3662,3663,3664,3665,3666,3667,3668,3669,3670,3671,3672,3673,3674,3675,3676,3677,3678,3679,3680,3681,3682,3683,3684,3685,3686,3687,3688,3689,3690,3691,3692,3693,3694,3695,3696,3697,3698,3699,3700,3701,3702,3703,3704,3705,3706,3707,3708,3709,3710,3711,3712,3713,3714,3715,3716,3717,3718,3719,3720,3721,3722,3723,3724,3725,3726,3727,3728,3729,3730,3731,3732,3733,3734,3735,3736,3737,3738,3739,3740,3741,3742,3743,3744,3745,3746,3747,3748,3749,3750,3751,3752,3753,3754,3755,3756,3757,3758,3759,3760,3761,3762,3763,3764,3765,3766,3767,3768,3769,3770,3771,3772,3773,3774,3775,3776,3777,3778,3779,3780,3781,3782,3783,3784,3785,3786,3787,3788,3789,3790,3791,3792,3793,3794,3795,3796,3797,3798,3799,3800,3801,3802,3803,3804,3805,3806,3807,3808,3809,3810,3811,3812,3813,3814,3815,3816,3817,3818,3819,3820,3821,3822,3823,3824,3825,3826,3827,3828,3829,3830,3831,3832,3833,3834,3835,3836,3837,3838,3839,3840,3841,3842,3843,3844,3845,3846,3847,3848,3849,3850,3851,3852,3853,3854,3855,3856,3857,3858,3859,3860,3861,3862,3863,3864,3865,3866,3867,3868,3869,3870,3871,3872,3873,3874,3875,3876,3877,3878,3879,3880,3881,3882,3883,3884,3885,3886,3887,3888,3889,3890,3891,3892,3893,3894,3895,3896,3897,3898,3899,3900,3901,3902,3903,3904,3905,3906,3907,3908,3909,3910,3911,3912,3913,3914,3915,3916,3917,3918,3919,3920,3921,3922,3923,3924,3925,3926,3927,3928,3929,3930,3931,3932,3933,3934,3935,3936,3937,3938,3939,3940,3941,3942,3943,3944,3945,3946,3947,3948,3949,3950,3951,3952,3953,3954,3955,3956,3957,3958,3959,3960,3961,3962,3963,3964,3965,3966,3967,3968,3969,3970,3971,3972,3973,3974,3975,3976,3977,3978,3979,3980,3981,3982,3983,3984,3985,3986,3987,3988,3989,3990,3991,3992,3993,3994,3995,3996,3997,3998,3999,4000,4001,4002,4003,4004,4005,4006,4007,4008,4009,4010,4011,4012,4013,4014,4015,4016,4017,4018,4019,4020,4021,4022,4023,4024,4025,4026,4027,4028,4029,4030,4031,4032,4033,4034,4035,4036,4037,4038,4039,4040,4041,4042,4043,4044,4045,4046,4047,4048,4049,4050,4051,4052,4053,4054,4055,4056,4057,4058,4059,4060,4061,4062,4063,4064,4065,4066,4067,4068,4069,4070,4071,4072,4073,4074,4075,4076,4077,4078,4079,4080,4081,4082,4083,4084,4085,4086,4087,4088,4089,4090,4091,4092,4093,4094,4095,4096,4097,4098,4099,4100,4101,4102,4103,4104,4105,4106,4107,4108,4109,4110,4111,4112,4113,4114,4115,4116,4117,4118,4119,4120,4121,4122,4123,4124,4125,4126,4127,4128,4129,4130,4131,4132,4133,4134,4135,4136,4137,4138,4139,4140,4141,4142,4143,4144,4145,4146,4147,4148,4149,4150,4151,4152,4153,4154,4155,4156,4157,4158,4159,4160,4161,4162,4163,4164,4165,4166,4167,4168,4169,4170,4171,4172,4173,4174,4175,4176,4177,4178,4179,4180,4181,4182,4183,4184,4185,4186,4187,4188,4189,4190,4191,4192,4193,4194,4195,4196,4197,4198,4199,4200,4201,4202,4203,4204,4205,4206,4207,4208,4209,4210,4211,4212,4213,4214,4215,4216,4217,4218,4219,4220,4221,4222,4223,4224,4225,4226,4227,4228,4229,4230,4231,4232,4233,4234,4235,4236,4237,4238,4239,4240,4241,4242,4243,4244,4245,4246,4247,4248,4249,4250,4251,4252,4253,4254,4255,4256,4257,4258,4259,4260,4261,4262,4263,4264,4265,4266,4267,4268,4269,4270,4271,4272,4273,4274,4275,4276,4277,4278,4279,4280,4281,4282,4283,4284,4285,4286,4287,4288,4289,4290,4291,4292,4293,4294,4295,4296,4297,4298,4299,4300,4301,4302,4303,4304,4305,4306,4307,4308,4309,4310,4311,4312,4313,4314,4315,4316,4317,4318,4319,4320,4321,4322,4323,4324,4325,4326,4327,4328,4329,4330,4331,4332,4333,4334,4335,4336,4337,4338,4339,4340,4341,4342,4343,4344,4345,4346,4347,4348,4349,4350,4351,4352,4353,4354,4355,4356,4357,4358,4359,4360,4361,4362,4363,4364,4365,4366,4367,4368,4369,4370,4371,4372,4373,4374,4375,4376,4377,4378,4379,4380,4381,4382,4383,4384,4385,4386,4387,4388,4389,4390,4391,4392,4393,4394,4395,4396,4397,4398,4399,4400,4401,4402,4403,4404,4405,4406,4407,4408,4409,4410,4411,4412,4413,4414,4415,4416,4417,4418,4419,4420,4421,4422,4423,4424,4425,4426,4427,4428,4429,4430,4431,4432,4433,4434,4435,4436,4437,4438,4439,4440,4441,4442,4443,4444,4445,4446,4447,4448,4449,4450,4451,4452,4453,4454,4455,4456,4457,4458,4459,4460,4461,4462,4463,4464,4465,4466,4467,4468,4469,4470,4471,4472,4473,4474,4475,4476,4477,4478,4479,4480,4481,4482,4483,4484,4485,4486,4487,4488,4489,4490,4491,4492,4493,4494,4495,4496,4497,4498,4499,4500,4501,4502,4503,4504,4505,4506,4507,4508,4509,4510,4511,4512,4513,4514,4515,4516,4517,4518,4519,4520,4521,4522,4523,4524,4525,4526,4527,4528,4529,4530,4531,4532,4533,4534,4535,4536,4537,4538,4539,4540,4541,4542,4543,4544,4545,4546,4547,4548,4549,4550,4551,4552,4553,4554,4555,4556,4557,4558,4559,4560,4561,4562,4563,4564,4565,4566,4567,4568,4569,4570,4571,4572,4573,4574,4575,4576,4577,4578,4579,4580,4581,4582,4583,4584,4585,4586,4587,4588,4589,4590,4591,4592,4593,4594,4595,4596,4597,4598,4599,4600,4601,4602,4603,4604,4605,4606,4607,4608,4609,4610,4611,4612,4613,4614,4615,4616,4617,4618,4619,4620,4621,4622,4623,4624,4625,4626,4627,4628,4629,4630,4631,4632,4633,4634,4635,4636,4637,4638,4639,4640,4641,4642,4643,4644,4645,4646,4647,4648,4649,4650,4651,4652,4653,4654,4655,4656,4657,4658,4659,4660,4661,4662,4663,4664,4665,4666,4667,4668,4669,4670,4671,4672,4673,4674,4675,4676,4677,4678,4679,4680,4681,4682,4683,4684,4685,4686,4687,4688,4689,4690,4691,4692,4693,4694,4695,4696,4697,4698,4699,4700,4701,4702,4703,4704,4705,4706,4707,4708,4709,4710,4711,4712,4713,4714,4715,4716,4717,4718,4719,4720,4721,4722,4723,4724,4725,4726,4727,4728,4729,4730,4731,4732,4733,4734,4735,4736,4737,4738,4739,4740,4741,4742,4743,4744,4745,4746,4747,4748,4749,4750,4751,4752,4753,4754,4755,4756,4757,4758,4759,4760,4761,4762,4763,4764,4765,4766,4767,4768,4769,4770,4771,4772,4773,4774,4775,4776,4777,4778,4779,4780,4781,4782,4783,4784,4785,4786,4787,4788,4789,4790,4791,4792,4793,4794,4795,4796,4797,4798,4799,4800,4801,4802,4803,4804,4805,4806,4807,4808,4809,4810,4811,4812,4813,4814,4815,4816,4817,4818,4819,4820,4821,4822,4823,4824,4825,4826,4827,4828,4829,4830,4831,4832,4833,4834,4835,4836,4837,4838,4839,4840,4841,4842,4843,4844,4845,4846,4847,4848,4849,4850,4851,4852,4853,4854,4855,4856,4857,4858,4859,4860,4861,4862,4863,4864,4865,4866,4867,4868,4869,4870,4871,4872,4873,4874,4875,4876,4877,4878,4879,4880,4881,4882,4883,4884,4885,4886,4887,4888,4889,4890,4891,4892,4893,4894,4895,4896,4897,4898,4899,4900,4901,4902,4903,4904,4905,4906,4907,4908,4909,4910,4911,4912,4913,4914,4915,4916,4917,4918,4919,4920,4921,4922,4923,4924,4925,4926,4927,4928,4929,4930,4931,4932,4933,4934,4935,4936,4937,4938,4939,4940,4941,4942,4943,4944,4945,4946,4947,4948,4949,4950,4951,4952,4953,4954,4955,4956,4957,4958,4959,4960,4961,4962,4963,4964,4965,4966,4967,4968,4969,4970,4971,4972,4973,4974,4975,4976,4977,4978,4979,4980,4981,4982,4983,4984,4985,4986,4987,4988,4989,4990,4991,4992,4993,4994,4995,4996,4997,4998,4999],\"words\":[\"fawn\",\"woods\",\"spiders\",\"hanging\",\"woody\",\"canes\",\"originality\",\"screaming\",\"receiving\",\"grueling\",\"wooden\",\"wednesday\",\"crotch\",\"zzzzzz\",\"bbqs\",\"tom's\",\"snuggles\",\"270\",\"francesca\",\"scraped\",\"snuggled\",\"errors\",\"cooking\",\"designing\",\"shocks\",\"widget\",\"how've\",\"naww\",\"nawt\",\"china\",\"chino\",\"kids\",\"uplifting\",\"kidz\",\"climbed\",\"crock\",\"kidd\",\"neurologist\",\"spotty\",\"golden\",\"justin's\",\"stern\",\"dnd\",\"dna\",\"musiq\",\"dnb\",\"catchy\",\"dno\",\"dnt\",\"dnw\",\"music\",\"therefore\",\"dns\",\"violently\",\"grahams\",\"yahoo\",\"primeval\",\"unpack\",\"benedryl\",\"circumstances\",\"listenin\",\"intake\",\"locked\",\"locker\",\"india's\",\"wana\",\"wang\",\"wand\",\"pints\",\"wank\",\"pooper\",\"want\",\"absolute\",\"mcmuffin\",\"travel\",\"copious\",\"playback\",\"goober\",\"dinosaurs\",\"wrong\",\"bsnl\",\"sickening\",\"tulip\",\"18th\",\"welcomed\",\"foreal\",\"rewarded\",\"aargh\",\"welcomes\",\"fir\",\"fit\",\"lifeline\",\"bringing\",\"fix\",\"fic\",\"wales\",\"fin\",\"fil\",\"vouchers\",\"twits\",\"effects\",\"sixteen\",\"saddened\",\"timeout\",\"ingrid\",\"allah\",\"allan\",\"2day\",\"oprah\",\"humber\",\"mason\",\"encourage\",\"noice\",\"pumpkins\",\"estimate\",\"ugghhh\",\"gameplay\",\"chlorine\",\"accts\",\"disturbed\",\"loool\",\"kfc\",\"seizures\",\"olds\",\"sweeeet\",\"service\",\"needed\",\"master\",\"hiya\",\"genesis\",\"caitlyn\",\"lacrosse\",\"rewards\",\"aaaahhh\",\"whores\",\"horrible\",\"positively\",\"spayed\",\"idle\",\"feeling\",\"yeezys\",\"codeine\",\"spectrum\",\"dozed\",\"longg\",\"dozen\",\"affairs\",\"boringggg\",\"mouth\",\"bradford\",\"singer\",\"tech\",\"scream\",\"saying\",\"teresa\",\"ulcer\",\"tempted\",\"godddd\",\"eliminated\",\"orleans\",\"clicked\",\"baby's\",\"rico\",\"lube\",\"bliss\",\"rick\",\"rich\",\"rice\",\"rica\",\"plate\",\"waaaaaay\",\"7-11\",\"7-10\",\"altogether\",\"waaaaaah\",\"nicely\",\"pretzel\",\"patch\",\"eyelids\",\"boarded\",\"sensitivity\",\"pinot\",\"10:00\",\"erika\",\"pinoy\",\"lots\",\"lotr\",\"irs\",\"targets\",\"irl\",\"irn\",\"irc\",\"epically\",\"wage\",\"extend\",\"nature\",\"fruits\",\"extent\",\"heating\",\"incense\",\"lookin\",\"tomarrow\",\"mortified\",\"tmnt\",\"humming\",\"smackdown\",\"botherd\",\"union\",\"fri\",\"fro\",\"frm\",\".\",\"bothers\",\"hahahhaha\",\"much\",\"fry\",\"toning\",\"obese\",\"spit\",\"dave\",\"doubts\",\"stepdad\",\"spin\",\"2wks\",\"employ\",\"droppin\",\"elaborate\",\"canoeing\",\"ditching\",\"conditioned\",\"conditioner\",\"memorial\",\"kels\",\"honk\",\"split\",\"quickpwn\",\"boiled\",\"flipflops\",\"inadvertently\",\"graduations\",\"boiler\",\"supper\",\"academic\",\"nomore\",\"corporate\",\"massaging\",\"hah\",\"hai\",\"shiit\",\"ham\",\"han\",\"haa\",\"had\",\"hae\",\"haf\",\"hay\",\"haz\",\"beloved\",\"har\",\"has\",\"hat\",\"hav\",\"haw\",\"t's\",\"moleskine\",\"survival\",\"online\",\"shadow\",\"12:30\",\"imiss\",\"stooopid\",\"alice\",\"festivities\",\"lacroix\",\"coldddd\",\"attorney\",\"crowd\",\"czech\",\"crown\",\"begin\",\"bham\",\"crows\",\"bottom\",\"lockdown\",\"yummie\",\"treadmill\",\"completly\",\"binder\",\"starring\",\"aboard\",\"stoked\",\"maxwell\",\"marshall\",\"honeymoon\",\"mba\",\"mangos\",\"gardening\",\"shoots\",\"mbp\",\"fabric\",\"suffice\",\"tame\",\"wordpress\",\"greatness\",\"tams\",\"headach\",\"headace\",\"significantly\",\"congratulations\",\"humbled\",\"else's\",\"layin\",\"break-up\",\"azz\",\"nicest\",\"soldering\",\"duet\",\"dues\",\"passenger\",\"disgrace\",\"argghh\",\"dierks\",\"females\",\"crowns\",\"pasadena\",\"role\",\"roll\",\"intend\",\"palms\",\"ointment\",\"outage\",\"devon\",\"intent\",\"smelling\",\"explosions\",\"loren\",\"shootout\",\"mike's\",\"crazyyy\",\"gett\",\"osx\",\"cincinnati\",\"chain\",\"whoever\",\"cudnt\",\"osu\",\"ost\",\"apts\",\"oso\",\"chair\",\"ballet\",\"baller\",\"when's\",\"freelance\",\"balled\",\"macho\",\"downloading\",\"paychecks\",\"jerk\",\"os3\",\"3weeks\",\"choice\",\"embark\",\"gloomy\",\"ghostbusters\",\"jerz\",\"davey\",\"exact\",\"minute\",\"cooks\",\"minnie\",\"meadow\",\"trails\",\"11:45\",\"buut\",\"trisha\",\"birthday's\",\"boosh\",\"headset\",\"antwerp\",\"celebrated\",\"ground\",\"boost\",\"unintentionally\",\"oldies\",\"climbs\",\"honour\",\"address\",\"enroll\",\"dusty\",\"impacted\",\"queue\",\"accomplished\",\"boooooooo\",\"randoms\",\"grandpa's\",\"handbags\",\"pooped\",\"opposed\",\"ooooooo\",\"ooooooh\",\"sierra\",\"consoles\",\"lalalala\",\"riders\",\"originally\",\"abortion\",\"following\",\"locke\",\"locks\",\"week-end\",\"listens\",\"litre\",\"thanking\",\"suuucks\",\"mintues\",\"blogtv\",\"surfing\",\"whyyyyy\",\"kodachrome\",\"thunders\",\"sandbox\",\"mango\",\"swollen\",\"wolves\",\"pulled\",\"manga\",\"aghhhh\",\"webpage\",\"years\",\"professors\",\"yeahhhhh\",\"episodes\",\"disconnect\",\"jia\",\"jin\",\"jim\",\"troubles\",\"faves\",\"suspension\",\"troubled\",\"apron\",\"drilling\",\"sorted\",\"\\\\\",\"didn\",\"quarter\",\"honduras\",\"bursting\",\"receipt\",\"frames\",\"feeeel\",\"sponsor\",\"entering\",\"salads\",\"lesson\",\"troll\",\"seriously\",\"trauma\",\"internet\",\"rachel's\",\"calming\",\"hibernate\",\"hairdresser\",\"anoop\",\"snooker\",\"crazies\",\"crazier\",\"grandma\",\"6:20\",\"brasil\",\"modest\",\"gordon\",\"draggin\",\"neglect\",\"emotion\",\"lunchbreak\",\"onn\",\"ono\",\"spoken\",\"ong\",\"one\",\"ons\",\"tamara\",\"ont\",\"looong\",\"l4d\",\"lingering\",\"ableton\",\"snatch\",\"non-stop\",\"crossroads\",\"so-so\",\"rehab\",\"wandering\",\"proactive\",\"illness\",\"ahhhhhhhh\",\"turned\",\"locations\",\"jewels\",\"turner\",\"pimpin\",\"zoe\",\"cigarettes\",\"warriors\",\"zoo\",\"mayer\",\"pimple\",\"printer\",\"opposite\",\"buffer\",\"spewing\",\"buffet\",\"printed\",\"touchy\",\"phil\",\"touche\",\"jittery\",\"lydia\",\"ooohhh\",\"qot\",\"inconsistent\",\"aggressive\",\"imagined\",\"ouchy\",\"aimlessly\",\"ouchh\",\"suitcases\",\"awaiting\",\"pimp\",\"tiki\",\"tryn\",\"could've\",\"hotness\",\"vision\",\"impressions\",\"lastnite\",\"alex's\",\"dexter\",\"harvey\",\"sponsorship\",\"vaccines\",\"moons\",\"enjoys\",\"punta\",\"grandpas\",\"moblin\",\"footie\",\"ahahahahaha\",\"busting\",\"millionaire\",\"flipped\",\"s\",\"4:20\",\"workplace\",\"grooming\",\"can't\",\"allowance\",\"nackered\",\"west\",\"collided\",\"wants\",\"photog\",\"d'oh\",\"readings\",\"photos\",\"wanta\",\"tightened\",\"hashtag\",\"wilco\",\"former\",\"runnin\",\"straighten\",\"kittys\",\"iver\",\"squeezed\",\"situation\",\"penthouse\",\"zonked\",\"engaged\",\"limping\",\"technology\",\"verified\",\"yessir\",\"jailbreaking\",\"defs\",\"wires\",\"sickness\",\"sree\",\"edges\",\"wired\",\"deff\",\"advertisement\",\"defo\",\"tracking\",\"nothin\",\"finnished\",\"shitttt\",\"twitt\",\"sorryy\",\"steamed\",\"being\",\"recycled\",\"so0o\",\"rover\",\"twitz\",\"generator\",\"kirk\",\"dicks\",\"sums\",\"sumo\",\"traffic\",\"preference\",\"world\",\"postal\",\"shutter\",\"seating\",\"couldn't\",\"grub\",\"tvs\",\"diving\",\"divine\",\"yesss\",\"ahhhhhhhhhh\",\"cavity\",\"911\",\"restoring\",\"arrow\",\"leadership\",\"thailand\",\"luxurious\",\"hopkins\",\"uugghhh\",\"bjs\",\"lively\",\"bjp\",\"uhhhhhh\",\"rossi\",\"bubbly\",\"missn\",\"missd\",\"lounging\",\"mindless\",\"missy\",\"sealed\",\"brazilian\",\"bubble\",\"misss\",\"yays\",\"dormir\",\"child's\",\"yayy\",\"yaya\",\"with\",\"abused\",\"pull\",\"rush\",\"monopoly\",\"dirty\",\"russ\",\"trips\",\"asss\",\"butthole\",\"watches\",\"follow-up\",\"watched\",\"cream\",\"yoga\",\"yogi\",\"friggin\",\"puppy\",\"waving\",\"midget\",\"brotherhood\",\"laterrr\",\"tricky\",\"natalie\",\"omnibus\",\"tricks\",\"rs\",\"dyed\",\"scl\",\"sci\",\"sch\",\"caused\",\"beware\",\"ceramic\",\"scc\",\"causes\",\"riots\",\"nora\",\"midwest\",\"norm\",\"pple\",\"checkin\",\"baton\",\"ppls\",\"pplz\",\"moines\",\"sans\",\"sumbody\",\"shenanigans\",\"sang\",\"sand\",\"sane\",\"sana\",\"small\",\"sank\",\"quicker\",\"199\",\"paso\",\"pokerface\",\"healed\",\"past\",\"displays\",\"pass\",\"investment\",\"anywho\",\"clock\",\"full\",\"hash\",\"mad\",\"sarasota\",\"diapers\",\"ganda\",\"november\",\"melancholic\",\"experience\",\"mouldy\",\"prior\",\"ohhhhh\",\"vet's\",\"friday's\",\"depart\",\"adidas\",\"traumatized\",\"follower\",\"\\u00a1\",\"silva\",\"attendance\",\"thanxx\",\"morn\",\"moro\",\"more\",\"door\",\"tester\",\"company\",\"corrected\",\"chucks\",\"doof\",\"tested\",\"dood\",\"dooo\",\"doom\",\"uncool\",\"negativity\",\"birdie\",\"socials\",\"installing\",\"learn\",\"knocked\",\"seagull\",\"scramble\",\"wieder\",\"mehh\",\"sike\",\"huge\",\"hugh\",\"dismissed\",\"scifi\",\"hugs\",\"hugz\",\"intended\",\"sympathize\",\"n\\u00e3o\",\"aaawwww\",\"funday\",\"resemble\",\"twisting\",\"overcooked\",\"replied\",\"jordans\",\"eveyone\",\"installed\",\"stylus\",\"paper\",\"scott\",\"signs\",\"installer\",\"smiling\",\"roots\",\"bummed\",\"steroids\",\"hounds\",\"symptoms\",\"bypass\",\"isaac\",\"sauce\",\"colleague\",\"gadget\",\"frizzy\",\"shitless\",\"weeds\",\"idols\",\"channels\",\"everytime\",\"victoria's\",\"courses\",\"shocking\",\"chipping\",\"reactions\",\"gfx\",\"brunette\",\"begged\",\"gfs\",\"pc's\",\"chrissy\",\"operation\",\"lipstick\",\"ernie\",\"scoops\",\"research\",\"offline\",\"occurs\",\"amazinggg\",\"sara's\",\"3hrs\",\"suntan\",\"definition\",\"pairs\",\"hyderabad\",\"trekkie\",\"12.30\",\"boredddd\",\"arlington\",\"dfw\",\"leighton\",\"noms\",\"hamptons\",\"saint\",\"olde\",\"essays\",\"paul's\",\"5.99\",\"interviewed\",\"typhoon\",\"theater\",\"daytona\",\"ungrateful\",\"condolences\",\"getaway\",\"tummy\",\"emirates\",\"swanky\",\"graffiti\",\"blond\",\"sell\",\"self\",\"also\",\"pringles\",\"brendon\",\"singles\",\"5mins\",\"virus\",\"understands\",\"omaha\",\"incase\",\"nimbuzz\",\"sometimes\",\"barrel\",\"bulletin\",\"ugh\",\"blended\",\"ugg\",\"aagh\",\"bookings\",\"naomi\",\"overwhelmed\",\"blender\",\"wraps\",\"gooey\",\"cassette\",\"columns\",\"pleading\",\"sunny\",\"remedy\",\"compass\",\"damnit\",\"sunnn\",\"plasters\",\"stackhouse\",\"distraction\",\"devoured\",\"treo\",\"pleasures\",\"seperated\",\"caramel\",\"depressin\",\"rumored\",\"insane\",\"311\",\"last.fm\",\"overboard\",\"allie\",\"trey\",\"15th\",\"narnia\",\"untouched\",\"lass\",\"last\",\"connection\",\"retarded\",\"beli\",\"bell\",\"acted\",\"adaptation\",\"belt\",\"suburbs\",\"freeview\",\"niley\",\"infect\",\"moderation\",\"awake\",\"budget\",\"admire\",\"pressed\",\"cages\",\"guestlist\",\"vog\",\"voc\",\"vol\",\"vom\",\"von\",\"binding\",\"vou\",\"voy\",\"cuisine\",\"raiders\",\"yett\",\"bit.ly\",\"offence\",\"captioned\",\"flooded\",\"nickname\",\"implement\",\"infamous\",\"kno\",\"knw\",\"knp\",\"dieting\",\"cheddar\",\"suffolk\",\"hercules\",\"problemo\",\"goblet\",\"madea\",\"rangers\",\"parents\",\"indonesian\",\"emergency\",\"couple\",\"coupla\",\"wives\",\"marquee\",\"spine\",\"interweb\",\"chorus\",\"individuals\",\"alexandra\",\"spins\",\"methods\",\"goddamn\",\"funnnnn\",\"bounce\",\"bouncy\",\"greener\",\"stoppin\",\"sampe\",\"behave\",\"mommy's\",\"nauseated\",\"cranked\",\"deserved\",\"wrinkles\",\"melbourne\",\"deserves\",\"wrinkled\",\"1gb\",\"b'day\",\"into\",\"fooood\",\"mmva's\",\"chirping\",\"katie\",\"span\",\"tasting\",\"motrin\",\"sock\",\"spag\",\"spaz\",\"bios\",\"opens\",\"chu\",\"considerably\",\"atlantis\",\"jacks\",\"hawaiian\",\"atlantic\",\"jacko\",\"fades\",\"charmed\",\"erick\",\"erica\",\"maturity\",\"faded\",\"chad\",\"charcoal\",\"chai\",\"deadliest\",\"haunt\",\"char\",\"chap\",\"diverse\",\"chav\",\"chat\",\"amandas\",\"iis\",\"revision\",\"ryans\",\"aussies\",\"bianca\",\"pilates\",\"x17live\",\"lang\",\"lane\",\"land\",\"lana\",\"beverage\",\"noooooooo\",\"amish\",\"zzzzzzz\",\"totes\",\"flashback\",\"turkish\",\"tomtom\",\"bilang\",\"resources\",\"show's\",\"uploaded\",\"freind\",\"decorating\",\"squirt\",\"harbor\",\"fewer\",\"mishap\",\"crook\",\"video\",\"haiku\",\"victor\",\"sweats\",\"multimedia\",\"sweaty\",\"xxxxxxxxx\",\"sooooooooo\",\"flowing\",\"harassing\",\"u'll\",\"fifteen\",\"bakersfield\",\"thatd\",\"survey\",\"thatz\",\"derby\",\"thatt\",\"makes\",\"maker\",\"thats\",\"panicked\",\"dumbest\",\"confidence\",\"oxox\",\"next\",\"eleven\",\"tahoe\",\"baba\",\"pencil\",\"babe\",\"pff\",\"babi\",\"katelyn\",\"dayyyy\",\"babs\",\"pft\",\"losin\",\"baby\",\"customer\",\"mehhh\",\"wedge\",\"process\",\"lock\",\"coolness\",\"rode\",\"loco\",\"choo\",\"hookie\",\"usernames\",\"estudar\",\"merlot\",\"gump\",\"hormones\",\"comedy\",\"intelligent\",\"underway\",\"paintball\",\"unoriginal\",\"upstate\",\"realized\",\"clarkson\",\"robot\",\"realizes\",\"noches\",\"houston\",\"thigh\",\"mute\",\"insight\",\"directv\",\"volta\",\"wife's\",\"perfect\",\"ohwell\",\"meantime\",\"barrichello\",\"thieves\",\"stalled\",\"90210\",\"morgen\",\"mediocre\",\"snake\",\"realize\",\"spilling\",\"scenic\",\"sneezed\",\"shortage\",\"sneezes\",\"glasses\",\"bump\",\"bums\",\"freeezing\",\"books\",\"shannon\",\"matrix\",\"'\",\"yous\",\"boutique\",\"unprepared\",\"burke\",\"frowny\",\"durban\",\"greedy\",\"loverly\",\"chilli\",\"mainland\",\"www.myspace.com/michaeljohnsmusic\",\"gallons\",\"could\",\"chilly\",\"length\",\"repeats\",\"scene\",\"soothing\",\"damit\",\"disneyworld\",\"scent\",\"festival\",\"cats\",\"interests\",\"stomach\",\"ohhhhhhh\",\"fatboy\",\"wahhh\",\"roulette\",\"gayy\",\"gays\",\"false\",\"hashtags\",\"tonight\",\"dishes\",\"asp.net\",\"worldwide\",\"manor\",\"bioshock\",\"joe's\",\"stiches\",\"so-called\",\"placement\",\"bree\",\"bred\",\"thanksgiving\",\"brew\",\"bret\",\"comic-con\",\"scotts\",\"rainbows\",\"scotty\",\"greenhouse\",\"taps\",\"jaz\",\"jax\",\"jay\",\"jaw\",\"jar\",\"jas\",\"jap\",\"terminal\",\"jam\",\"tape\",\"jai\",\"tapi\",\"jag\",\"jab\",\"jac\",\"matress\",\"abba\",\"yogurt\",\"eurgh\",\"welllll\",\"abby\",\"rapper\",\"taxes\",\"whoohoo\",\"stuff\",\"ohio\",\"guessing\",\"frame\",\"skateboarding\",\"dungeon\",\"destiny\",\"insulting\",\"nuclear\",\"posse\",\"melrose\",\"smelled\",\"keynote\",\"robin's\",\"staring\",\"marty\",\"hammy\",\"bristol\",\"writin\",\"gooooo\",\"pugs\",\"uhoh\",\"feather\",\">\",\"sunroof\",\"hateful\",\"cvs\",\"podcasts\",\"uggghhh\",\"salem\",\"hahaha\",\"hahahh\",\"uggh\",\"stuffing\",\"uggg\",\"uggs\",\"ransom\",\"tattoo\",\"denial\",\"newsroom\",\"pauls\",\"paulo\",\"gibbs\",\"pickin\",\"paula\",\"wipeout\",\"thks\",\"400th\",\"identity\",\"diabetes\",\"audit\",\"ofc\",\"off\",\"shotgun\",\"indonesia\",\"dissing\",\"patterns\",\"audio\",\"windowless\",\"newest\",\"clocks\",\"web\",\"wee\",\"wed\",\"wei\",\"weh\",\"wen\",\"wel\",\"wes\",\"wer\",\"wew\",\"wet\",\"wey\",\"practise\",\"photo\",\"crud\",\"february\",\"cruz\",\"mathematics\",\"tick\",\"pier\",\"pies\",\"probally\",\"emma\",\"flickering\",\"become\",\"emmy\",\"sprain\",\"immortal\",\"gymnastics\",\"choosing\",\"flush\",\"hissing\",\"cancled\",\"blonde\",\"recognition\",\"aleve\",\"kiddy\",\"passion\",\"kiddo\",\"uhhhh\",\"biology\",\"routers\",\"pressure\",\"imaginary\",\"aite\",\"lifestyle\",\"430am\",\"iwas\",\"wkends\",\"documentary\",\"swimming\",\"letters\",\"coverage\",\"donde\",\"camden\",\"virtualbox\",\"muck\",\"brownies\",\"reactivate\",\"peters\",\"ronson\",\"yrs\",\"craig's\",\"bagged\",\"stadium\",\"tossed\",\"places\",\"shrunk\",\"excitement\",\"placed\",\"garbo\",\"problem\",\"nurses\",\"pic's\",\"cousin's\",\"o'malley\",\"compared\",\"nonetheless\",\"deadly\",\"lately\",\"annnnd\",\"compares\",\"details\",\"behold\",\"illusion\",\"ponytail\",\"repeat\",\"worker\",\"outlets\",\"plannin\",\"exposure\",\"searches\",\"yeaaa\",\"fuuck\",\"hi-ho\",\"yeaah\",\"preggo\",\"compete\",\"searched\",\"gardens\",\"magnetic\",\"yikes\",\"nursery\",\"stinks\",\"porno\",\"goooooooood\",\"stinky\",\"neighbours\",\"stuf\",\"worth\",\"aurora\",\"yeeeee\",\"daydream\",\"cme\",\"cmd\",\"cma\",\"samurai\",\"roddick\",\"monologue\",\"cmt\",\"cms\",\"jamaica\",\"sleeeeeep\",\"eurovision\",\"panda\",\"machines\",\"anddd\",\"rockies\",\"bipolar\",\"dan's\",\"equals\",\"protection\",\"hving\",\"stresses\",\"fourteen\",\"catch-up\",\"stressed\",\"lonesome\",\"twittersphere\",\"bry\",\"bru\",\"darlings\",\"brr\",\"mitchel\",\"bro\",\"bri\",\"bre\",\"brb\",\"bra\",\"sarah\",\"plot\",\"sweater\",\"coins\",\"redwings\",\"comcast\",\"sarap\",\"tryin\",\"separated\",\"nan's\",\"championships\",\"ihave\",\"blocking\",\"tnt\",\"1995\",\"divorced\",\"1996\",\"1999\",\"1998\",\"tnx\",\"cuddly\",\"ere\",\"erg\",\"tna\",\"era\",\"elbow\",\"erm\",\"gloria\",\"uggghhhh\",\"heartless\",\"totaled\",\"yaaaay\",\"nutz\",\"carriers\",\"provide\",\"nuts\",\"recovers\",\"shakin\",\"moron\",\"gmtv\",\"ladder\",\"hong\",\"customs\",\"dumbo\",\"arch\",\"vacation's\",\"tegan\",\"padre\",\"appreciate\",\"sorryyyy\",\"davies\",\"minded\",\"popsicle\",\"xbox.com\",\"nsfw\",\"12.5\",\"innovative\",\"christie\",\"production\",\"luved\",\"coffee\",\"safe\",\"collide\",\"roommate\",\"reaches\",\"reasonably\",\"routines\",\"l\",\"reasonable\",\"flyers\",\"feeds\",\"cuuute\",\"dumping\",\"4yr\",\"trainers\",\"daniel\",\"braces\",\"barrier\",\"leftovers\",\"dashing\",\"borred\",\"mullet\",\"lollipop\",\"certified\",\"renee\",\"dammit\",\"maniac\",\"raisin\",\"flawless\",\"renew\",\"champs\",\"hamstring\",\"pratice\",\"another\",\"electronic\",\"mojo\",\"timothy\",\"haaha\",\"dogg\",\"elevator\",\"meester\",\"john\",\"dogs\",\"alonso\",\"cereal\",\"wasted\",\"guild\",\"guilt\",\"historical\",\"apparantly\",\"portraits\",\"theeee\",\"enchanted\",\"contents\",\"convenient\",\"subjects\",\"thundering\",\"gravy\",\"acquire\",\"bruce\",\"hammond\",\"germany\",\"scripts\",\"grave\",\"nostrils\",\"swamp\",\"niether\",\"bracket\",\"aunt\",\"reserve\",\"lewis\",\"lense\",\"letterman\",\"ashley's\",\"cappuccino\",\"haunted\",\"downtime\",\"beleive\",\"chanel\",\"runs\",\"ema\",\"emm\",\"emo\",\"ahhhhhhh\",\"lexington\",\"children's\",\"gears\",\"ems\",\"scrubbed\",\"secretary\",\"9.30\",\"optimus\",\"reread\",\"torrents\",\"horrendous\",\"discussions\",\"tongiht\",\"techniques\",\"pastel\",\"draws\",\"pasted\",\"away\",\"pfff\",\"drawn\",\"pfft\",\"shields\",\"handful\",\"nahhh\",\"visited\",\"hal\",\"kitchen\",\"climate\",\"fags\",\"disappears\",\"tone\",\"toni\",\"tons\",\"tony\",\"sainsbury's\",\"noez\",\"noes\",\"sleepover\",\"noel\",\"attacked\",\"excite\",\"gracious\",\"gnr\",\"gnw\",\"gna\",\"gng\",\"gno\",\"succes\",\"cons\",\"cont\",\"thursdays\",\"tissue\",\"cone\",\"conf\",\"conn\",\"followfriday\",\"hank\",\"fuss\",\"wheee\",\"hana\",\"dennys\",\"hang\",\"hand\",\"fuse\",\"animations\",\"hans\",\"vermont\",\"1600\",\"niiice\",\"client\",\"musical\",\"edmonton\",\"thanku\",\"thanks\",\"8.15\",\"jose\",\"shoud\",\"cornell\",\"josh\",\"wright\",\"shout\",\"joss\",\"openings\",\"usable\",\"insensitive\",\"lcd\",\"everton\",\"designers\",\"packin\",\"tiredd\",\"cooler\",\"night\",\"cooled\",\"iphone's\",\"boro\",\"born\",\"couture\",\"stardust\",\"bore\",\"bord\",\"bora\",\"confusing\",\"congratulate\",\"asking\",\"lahore\",\"sleepies\",\"adorable\",\"participation\",\"peek\",\"dolce\",\"peel\",\"sadie\",\"peed\",\"peer\",\"peep\",\"herpes\",\"\\u266b\",\"guiness\",\"thermostat\",\"wasting\",\"profession\",\"rendering\",\"stumble\",\"payment\",\"infomercial\",\"lola's\",\"needles\",\"catalyst\",\"captive\",\"maximum\",\"plymouth\",\"faking\",\"prayed\",\"allday\",\"guesses\",\"nandos\",\"guessed\",\"expertise\",\"prayer\",\"inggit\",\"realllllly\",\"test\",\"tess\",\"o'clock\",\"update\",\"let's\",\"walton\",\"detox\",\"beda\",\"hiii\",\"bedd\",\"}\",\"songg\",\"beds\",\"songz\",\"gutting\",\"paige\",\"songs\",\"concept\",\"horseback\",\"battle\",\"layers\",\"varnish\",\"kendra\",\"gigs\",\"gigi\",\"a's\",\"airing\",\"trifecta\",\"gud\",\"turns\",\"gui\",\"guh\",\"gun\",\"gum\",\"gul\",\"gus\",\"soooo\",\"sooon\",\"gut\",\"fuuuck\",\"guy\",\"tiiiired\",\"cost\",\"cosy\",\"barbie\",\"shares\",\"ithink\",\"oaks\",\"seeee\",\"2:30\",\"obsessing\",\"hadn't\",\"teaches\",\"teacher\",\"sociable\",\"sending\",\"3:20\",\"oficially\",\"screamin\",\"bangs\",\"franklin\",\"domains\",\"ubisoft\",\"430\",\"regardless\",\"extra\",\"uphill\",\"fbi\",\"wonderfully\",\"yoko\",\"slough\",\"bigg\",\"abrams\",\"dermatologist\",\"ibm\",\"defeats\",\"purge\",\"totalled\",\"trans\",\"chix\",\"chip\",\"didn't\",\"chit\",\"noite\",\"walkies\",\"chin\",\"chic\",\"occur\",\"hangova\",\"lacks\",\"discussion\",\"giveaways\",\"lounge\",\"lobe\",\"birdsong\",\"economy\",\"product\",\"disgusted\",\"produce\",\"drastic\",\"waiit\",\"noses\",\"grandson\",\"corona\",\"nosey\",\"laff\",\"kurt\",\"chops\",\"approx\",\"serving\",\"freckles\",\"raised\",\"spreadsheet\",\"ended\",\"tablets\",\"still\",\"no1\",\"earplugs\",\"roomates\",\"mochi\",\"lyin\",\"affraid\",\"tiara\",\"dyson\",\"nom\",\"non\",\"noo\",\"noh\",\"noi\",\"nod\",\"noe\",\"introduce\",\"norah\",\"adrenaline\",\"torquay\",\"wealthy\",\"not\",\"nou\",\"nov\",\"now\",\"nop\",\"nor\",\"nos\",\"drop\",\"omgpop\",\"sou\",\"raises\",\"yeaa\",\"challenged\",\"aaaargh\",\"yeah\",\"challenges\",\"soy\",\"replay\",\"yeap\",\"year\",\"naming\",\"yeay\",\"monitors\",\"funnest\",\"twitterland\",\"thirst\",\"wholeheartedly\",\"smfh\",\"unwanted\",\"wheather\",\"transition\",\"invitation\",\"blind\",\"romania\",\"bling\",\"flipping\",\"tomorroe\",\"rink\",\"gasp\",\"ring\",\"raped\",\"tomorrow\",\"caught\",\"remotely\",\"hummm\",\"groggy\",\"pittsburgh\",\"brains\",\"appreciates\",\"baju\",\"sniffles\",\"baja\",\"pnc\",\"appreciated\",\"soree\",\"professionals\",\"recruit\",\"vocals\",\"apples\",\"crumpets\",\"wrigley\",\"overnight\",\"windsor\",\"equipment\",\"hookah\",\"importantly\",\"america\",\"steady\",\"mrs\",\"mri\",\".. ...\",\"mre\",\"7:30\",\"spyware\",\"discovered\",\"yukky\",\"30-40\",\"snack\",\"stair\",\"daay\",\"filipinos\",\"hammock\",\"stain\",\"pumpkin\",\"jellybean\",\"duel\",\"stroll\",\"gf's\",\"danan\",\"burst\",\"actively\",\"hoes\",\"staffed\",\"colours\",\"landline\",\"auditioning\",\"knowww\",\"smashed\",\"hurts\",\"hurty\",\"hurtz\",\"izzie\",\"depeche\",\"nile\",\"hhaha\",\"madness\",\"hve\",\"exploit\",\"brats\",\"tropical\",\"1030\",\"crashers\",\"elvis\",\"aero\",\"empathy\",\"suspected\",\"winks\",\"scum\",\"sawdust\",\"inflatable\",\"timezone\",\"beaver\",\"irene\",\"develop\",\"reeses\",\"transcribing\",\"arctic\",\"foam\",\"sickie\",\"itouch\",\"neon\",\"foot\",\"maternity\",\"greetings\",\"ps2\",\"ps3\",\"ps1\",\"renewed\",\"euros\",\"verse\",\"choclate\",\"versa\",\"halftime\",\"ami\",\"psh\",\"psn\",\"duhh\",\"amo\",\"ohai\",\"ama\",\"stung\",\"psa\",\"amd\",\"psd\",\"amy\",\"dita\",\"amp\",\"psp\",\"pst\",\"psu\",\"fortune\",\"blackberry\",\"output\",\"twelve\",\"verbal\",\"apartments\",\"mtv's\",\"tragedies\",\"regina\",\"kaiser\",\"unlocked\",\"babysitter\",\"nuggets\",\"assembly\",\"sixth\",\"belajar\",\"innocence\",\"assemble\",\"francis\",\"mugging\",\"trailer\",\"carribean\",\"backup\",\"outlook\",\"vball\",\"rpattz\",\"miranda\",\"shrinking\",\"intervention\",\"stare\",\"qualifying\",\"start\",\"stars\",\"starr\",\"starz\",\"co-worker\",\"delayed\",\"omelet\",\"pitched\",\"podcast\",\"becasue\",\"fraud\",\"illustrator\",\"embedded\",\"intermission\",\"freddy\",\"batista\",\"600\",\"todd\",\"macbeth\",\"cabinets\",\"infact\",\"adwords\",\"housework\",\"fools\",\"forcing\",\"poor\",\"poop\",\"phys\",\"diaries\",\"wknds\",\"poof\",\"registry\",\"queensland\",\"pooh\",\"pooo\",\"pool\",\"smooch\",\"moonlight\",\"couse\",\"corey\",\"overseas\",\"monte\",\"myst\",\"gown\",\"month\",\"ceased\",\"thoughtful\",\"unblock\",\"wernt\",\"religious\",\"monty\",\"corps\",\"wyoming\",\"danielle\",\"owwwww\",\"waverly\",\"beutiful\",\"hillarious\",\"horror\",\"coloured\",\"decide\",\"segway\",\"theaters\",\"startin\",\"anal\",\"anak\",\"dunk\",\"teardrops\",\"pun\",\"orgasm\",\"hamper\",\"chuckle\",\"dissertation\",\"investing\",\"microbiology\",\"learned\",\"bitchin\",\"tracks\",\"excess\",\"eventful\",\"arena\",\"conviction\",\"inspired\",\"losses\",\"base\",\"arent\",\"cathy\",\")-:\",\"inspires\",\"requiring\",\"m8s\",\"ask\",\"asi\",\"setanta\",\"demi's\",\"kittie\",\"revelation\",\"chaotic\",\"brunswick\",\"wentworth\",\"dion\",\"dior\",\"dios\",\"mobileme\",\"7000\",\"producing\",\"2yo\",\"hermione\",\"2yr\",\"aftr\",\"publicist\",\"afta\",\"phrase\",\"530am\",\"caption\",\"mcds\",\"unlucky\",\". ...\",\"mcdo\",\"punked\",\"reject\",\"communicating\",\"justin\",\"purring\",\"horizontal\",\"compulsory\",\"excitment\",\"anytime\",\")\",\"roommates\",\"chopsticks\",\"photoshop\",\"missss\",\"stays\",\"bcuz\",\"bcus\",\"clarinet\",\"wishful\",\"absence\",\"systems\",\"founders\",\"cutie\",\"haven't\",\"evening\",\"curtis\",\"ceo\",\"cel\",\"cet\",\"hahahahahaha\",\"starbucks\",\"commodore\",\"ninja\",\"bryan\",\"faire\",\"sucksss\",\"freebies\",\"bless\",\"ooops\",\"fairy\",\"obligated\",\"heavy\",\"restless\",\"jaws\",\"meijer\",\"jolly\",\"safety\",\"7\",\".  ..\",\"mittens\",\"housee\",\"straightener\",\"symbian\",\"houses\",\"brightest\",\"straightened\",\"turnout\",\"dishwasher\",\"drupal\",\"americas\",\"benji\",\"american\",\"apocalypse\",\"af447\",\"drooling\",\"byebye\",\"crapp\",\"craps\",\"fantabulous\",\"crapy\",\"tf2\",\"horse\",\"blossom\",\"station\",\"hundred\",\"rawr\",\"trapped\",\"mhmm\",\"nooooooooooooooo\",\"tfc\",\"tivo\",\"boredom\",\"rawk\",\"jquery\",\"grew\",\"grey\",\"greg\",\"chopping\",\"toward\",\"shirts\",\"charlotte\",\"phobia\",\"wasnt\",\"randomly\",\"blissful\",\"organs\",\"plurking\",\"cave\",\"cavs\",\"failing\",\"aired\",\"hired\",\"aires\",\"wreckage\",\"part-time\",\"t-pain\",\"physics\",\"stalked\",\"knwo\",\"weho\",\"stalker\",\"heavens\",\"albums\",\"kaleb\",\"justice\",\"schooool\",\"tomrw\",\"rotterdam\",\"feeln\",\"feels\",\"pretending\",\"competing\",\"fluff\",\"stored\",\"hype\",\"freezin\",\"ondemand\",\"mantra\",\"prosper\",\"lily's\",\"portrait\",\"locals\",\"habbo\",\"bride\",\"pictures\",\"thongs\",\"pictured\",\"missing\",\"spray\",\"ranked\",\"effed\",\"zipper\",\"league\",\"memorized\",\"wouldn't\",\"dtv\",\"canadians\",\"vault\",\"experimental\",\"oversleep\",\"100mb\",\"swindon\",\"macau\",\"lahat\",\"enuff\",\"threaten\",\"empty\",\"lived\",\"modelling\",\"lives\",\"liver\",\"intriguing\",\"jared's\",\"wyatt\",\"pace\",\"accidently\",\"ought\",\"lovies\",\"hooters\",\"pack\",\"devistated\",\"smacked\",\"costly\",\"kroger\",\"grans\",\"albany\",\"grant\",\"vulnerable\",\"grand\",\"composition\",\"classmates\",\"fatty\",\"lie\",\"banter\",\"blair\",\"000\",\"007\",\"500gb\",\"sorrry\",\"mobo\",\"obviously\",\"synopsis\",\"moby\",\"owwy\",\"consistency\",\"owww\",\"loveeee\",\"flaming\",\"bearer\",\"shivering\",\"reviewed\",\"procrastinating\",\"nikki\",\"shortcut\",\"labour\",\"ight\",\"showing\",\"ruff\",\"dearly\",\"success\",\"eew\",\"eep\",\"een\",\"eek\",\"popular\",\"sketch\",\"cones\",\"ermm\",\"babii\",\"coney\",\"lips\",\"economic\",\"gracie\",\"competitions\",\"akward\",\"gmas\",\"scaredy\",\"2/3\",\"smothered\",\"working\",\"wouldnt\",\"bgt\",\"silence\",\"tofu\",\"subaru\",\"papas\",\"flight's\",\"alison\",\"infuriating\",\"placing\",\"approved\",\"hgtv\",\"tragically\",\"injection\",\"similar\",\"ordered\",\"fckin\",\"uggghh\",\"accessibility\",\"goign\",\"soderling\",\"amounts\",\"btwn\",\"fears\",\"application\",\"department\",\"brissy\",\"manhattan\",\"creeped\",\"smiles\",\"taylor's\",\"studyin\",\"smiley\",\"smiled\",\"earphones\",\"svn\",\"e\",\"dvd\",\"orbit\",\"mocca\",\"bribe\",\"grandads\",\"ignorant\",\"underrated\",\"svu\",\"dvr\",\"tweeter\",\"ugggghhh\",\"tweeted\",\"compact\",\"lke\",\"friendly\",\"wave\",\"wavy\",\"appstore\",\"telling\",\"yourselves\",\"nausea\",\"positions\",\"michael\",\"watered\",\"ryan\",\"jump\",\"redone\",\"twitters\",\"twitterr\",\"vampire\",\"preety\",\"drools\",\"becos\",\"upsetting\",\"becoz\",\"gm\",\"pancake\",\"kidnapped\",\"aaww\",\"vacay\",\"convert\",\"zumba\",\"gene\",\"salvation\",\"foresee\",\"clark\",\"clare\",\"manage\",\"clara\",\"mirrors\",\"camera\",\"cashback\",\"econ\",\"charming\",\"resize\",\"boards\",\"meen\",\"wearin\",\"meee\",\"recession\",\"meet\",\"meep\",\"waaaay\",\"linky\",\"pulling\",\"waaaah\",\"bahahahaha\",\"waaaaa\",\"defective\",\"230\",\"meanwhile\",\"sentiments\",\"fare\",\"farm\",\"peeling\",\"thunderstorm\",\"fark\",\"ronald\",\"fart\",\"excedrin\",\"scool\",\"scoop\",\"prays\",\"scoot\",\"buttered\",\"sambuca\",\"favourites\",\"ummmmm\",\"basement\",\"harajuku\",\"including\",\"costume\",\"referencing\",\"bikram\",\"dancin\",\"walnut\",\"sniffling\",\"stout\",\"tmobile\",\"university\",\"slide\",\"|\",\"ankles\",\"bluetooth\",\"supermodel\",\"separating\",\"special\",\"butch\",\"mcmahon\",\"entertainment\",\"armor\",\"obsessive\",\"assassin's\",\"knuckles\",\"bleaching\",\"jill\",\"elastic\",\"timez\",\"blahhh\",\"maths\",\"timer\",\"times\",\"projectile\",\"timed\",\"timee\",\"margaritas\",\"powerful\",\"cramp\",\"tweetie's\",\"warcraft\",\"bitch\",\"soso\",\"hehe\",\"you're\",\"wrapper\",\"helppp\",\"noooooo\",\"ankle\",\"craziest\",\"lists\",\"chemicals\",\"tlkin\",\"conscious\",\"submitted\",\"body's\",\"raning\",\"julian\",\"horrors\",\"hooping\",\"redsox\",\"bastard\",\"battles\",\"relatives\",\"blades\",\"girlies\",\"thiink\",\"snowed\",\"hiphop\",\"vengeance\",\"gallery\",\"patties\",\"cellphone\",\"urg\",\"url\",\"sg\",\"indy\",\"inda\",\"urs\",\"indo\",\"skunk\",\"indi\",\". ..\",\"ayee\",\"brrrrrr\",\"nga\",\"sheriff\",\"ngl\",\"brighten\",\"hector\",\"achieve\",\"tobacco\",\"tuned\",\"somebody's\",\"glendale\",\"tuner\",\"widow\",\"officials\",\"operated\",\"officialy\",\"luckiest\",\"nightmare\",\"chapstick\",\"tend\",\"tyra\",\"tendency\",\"tyre\",\"tent\",\"ken\",\"kel\",\"mags\",\"ked\",\"growls\",\"djs\",\"interfere\",\"kicking\",\"merry\",\"kev\",\"mythbusters\",\"mage\",\"hits\",\"laaaame\",\"limits\",\"afaik\",\"tuesday\",\"paranormal\",\"gitu\",\"phoneless\",\"erased\",\"polka\",\"cent\",\"outlaws\",\"immense\",\"roomate\",\"troopers\",\"shoulders\",\"circus\",\"controlled\",\"bulaga\",\"controller\",\"smoking\",\"garmin\",\"queuing\",\"examiner\",\"evelyn\",\"surface\",\"simone\",\"hearted\",\"podcasting\",\"autism\",\"parts\",\"speaker\",\"northwest\",\"party\",\"2months\",\"colouring\",\"obama's\",\"steals\",\"destruction\",\"ashley\",\"riff\",\"ashlee\",\"damnnnn\",\"increasingly\",\"42\",\"sofia\",\"distant\",\"advertised\",\"twilight\",\"shhh\",\"riverside\",\"balloons\",\"bottoms\",\"loss\",\"lincoln\",\"necessary\",\"lost\",\"fernando\",\"roti\",\"roth\",\"payments\",\"lose\",\"fuckkk\",\"rotf\",\"glare\",\"comeing\",\"library\",\"homo\",\"home\",\"pinpoint\",\"overlay\",\"steaming\",\"linus\",\"grinding\",\"cradle\",\"wendy\",\"fanny\",\"limitations\",\"macbook's\",\"puedo\",\"reaching\",\"muchly\",\"refuge\",\"photoshoot\",\"partyyyy\",\"nightclub\",\"carolyn\",\"previously\",\"cocoa\",\"ultrasound\",\"retrieve\",\"pointless\",\"hmmmmm\",\"additional\",\"lagged\",\"hurted\",\"iming\",\"inbetweeners\",\"canada's\",\"blaming\",\"strawberries\",\"gain\",\"gail\",\"sprinkling\",\"highest\",\"astra\",\"dhoni\",\"itis\",\"display\",\"marketplace\",\"universal\",\"kisses\",\"beats\",\"baaad\",\"kissed\",\"ipods\",\"visitin\",\"functions\",\"tyme\",\"starbuck\",\"toliet\",\"stat\",\"star\",\"stay\",\"stag\",\"foil\",\"stab\",\"stan\",\"8000\",\"samsung\",\"15-20\",\"compromised\",\"aiden\",\"shit's\",\"nottingham\",\"perverted\",\"consists\",\"swag\",\"aud\",\"aug\",\"auf\",\"swam\",\"sorri\",\"swan\",\"painters\",\"aus\",\"aur\",\"sweltering\",\"swap\",\"recycle\",\"sorry\",\"sway\",\"fists\",\"cavaliers\",\"void\",\"crops\",\"unrelated\",\"nemore\",\"whirlwind\",\"likely\",\"me2\",\"kidnap\",\"nclex\",\"enchiladas\",\"fcuk\",\"mee\",\"med\",\"meg\",\"presets\",\"guysss\",\"mem\",\"wakeboard\",\"men\",\"mei\",\"weirdly\",\"meu\",\"met\",\"mew\",\"nicht\",\"mep\",\"mes\",\"mer\",\"flatley\",\"mex\",\"bumps\",\"chrysler\",\"complicated\",\"someone's\",\"rafting\",\"joshua\",\"fantastic\",\"slices\",\"sliced\",\"mimi\",\"guests\",\"jackets\",\"janine\",\"mileyworld\",\"survive\",\"argggg\",\"berlin\",\"biatch\",\"home-based\",\"room\",\"moviee\",\"looooooove\",\"roof\",\"movies\",\"exceptions\",\"fking\",\"root\",\"climax\",\"stressing\",\"downsides\",\"10,000\",\"foods\",\"loathe\",\"treck\",\"pogo\",\"colds\",\"amazing\",\"coldd\",\"config\",\"wallpapers\",\"ovr\",\"believers\",\"blanky\",\"vicious\",\"whyyyy\",\"ova\",\"ove\",\"ovi\",\"shat\",\"third\",\"looove\",\"aaand\",\"www.youtube.com/titomi15..watch\",\"goodbye\",\"operate\",\"skyping\",\"wus\",\"shay\",\"wuv\",\"wuu\",\"wut\",\"wuz\",\"wub\",\"fable\",\"fellas\",\"windshield\",\"before\",\"10.5\",\"10.4\",\"rescheduled\",\"e's\",\"crew\",\"chatty\",\"chickened\",\"gents\",\"aston\",\"combination\",\"ughhhhhhhhh\",\"runny\",\"glazed\",\"arrested\",\"rebooted\",\"chillaxin\",\"skint\",\"no-go\",\"cuma\",\"skins\",\"trading\",\"forgot\",\"speidi\",\"aids\",\"comedies\",\"postman\",\"waaaaah\",\"mandy\",\"waaaaaa\",\"manda\",\"waaaaay\",\"debit\",\"mando\",\"mandi\",\"foto\",\"resume\",\"fotc\",\"gahhh\",\"hoodie\",\"brrr\",\"cosmic\",\"shush\",\"lettuce\",\"floors\",\"jjj\",\"immensely\",\"hawks\",\"gville\",\"2am\",\"digs\",\"digi\",\"digg\",\"begins\",\"ouchies\",\"knights\",\"palace\",\"ginger\",\"telly\",\"tells\",\"shawn\",\"fitting\",\"sleeper\",\"tunnels\",\"mario\",\". .\",\"marie\",\"maria\",\"zealand\",\"observation\",\"splints\",\"breather\",\"awesomness\",\"scotch\",\"annoyed\",\"kristen\",\"fooled\",\"probs\",\"northeast\",\"excercise\",\"celery\",\"gangsta\",\"kutner\",\"watermelon\",\"saturn\",\"d0nt\",\"earl\",\"earn\",\"3hours\",\"reload\",\"ooohh\",\"effing\",\"ears\",\"testing\",\"yoshi\",\"artificial\",\"orgasmic\",\"omg\",\"wears\",\"ome\",\"omd\",\"omj\",\"lotion\",\"vernon\",\"omw\",\"cousin\",\"motto\",\"suggested\",\"resistant\",\"russia\",\"fangirl\",\"yaay\",\"presumably\",\"yaar\",\"quinn\",\"drilled\",\"yaaa\",\"putt\",\"tint\",\"puts\",\"basis\",\"youuuuuu\",\"chels\",\"parsley\",\"tiny\",\"putz\",\"ting\",\"commission\",\"trigger\",\"tina\",\"basic\",\"basil\",\"aswel\",\"entered\",\"lovely\",\"tink\",\"basij\",\"deeper\",\"sooooo\",\"soooon\",\"unpopular\",\"forum\",\"vendetta\",\"luggage\",\"spontaneously\",\"ugly\",\"pessimistic\",\"seven\",\"cane\",\"cant\",\"cans\",\"disappear\",\"realizing\",\"meetup\",\"80s\",\"meets\",\"ello\",\"ella\",\"elle\",\"elly\",\"unicorn\",\"programs\",\"youre\",\"reese\",\"coliseum\",\"flops\",\"yours\",\"etiquette\",\"yen\",\"yea\",\"yee\",\"offs\",\"yey\",\"fighters\",\"year-old\",\"yep\",\"yes\",\"yer\",\"yet\",\"yew\",\"nudge\",\"stray\",\"royal\",\"jules\",\"contestant\",\"save\",\"trimming\",\"feets\",\"biiig\",\"thank-you\",\"nude\",\"zombies\",\"grey's\",\"siiick\",\"dean\",\"deal\",\"deaf\",\"maxim\",\"elderly\",\"jupiter\",\"dear\",\"translates\",\"carts\",\"microwave\",\"shakespeare\",\"meaty\",\"subscriptions\",\"predicting\",\"oreo\",\"magazine\",\"afternoon\",\"automatically\",\"tonsilitis\",\"thinner\",\"managers\",\"subs\",\"chacha\",\"down\",\"fumes\",\"cardiff\",\"subo\",\"woo-hoo\",\"jealouss\",\"initial\",\"jealousy\",\"editor\",\"cryed\",\"starve\",\"pake\",\"sickest\",\"landing\",\"analyst\",\"prevents\",\"millvina\",\"whiskey\",\"terabithia\",\"wellies\",\"horrifying\",\"pimples\",\"petit\",\"thunk\",\"muffins\",\"awhile\",\"marinated\",\"holla\",\"marking\",\"anyday\",\"holly\",\"2500\",\"roomies\",\"faction\",\"handicap\",\"utilities\",\"unwell\",\"midnite\",\"brightens\",\"hahahahahah\",\"weekend\",\"jacked\",\"happening\",\"mwahaha\",\"jacket\",\"stripping\",\"yayayay\",\"profits\",\"cking\",\"hijacked\",\"cuzins\",\"21st\",\"anticipation\",\"swoon\",\"father\",\"lotus\",\"adviser\",\"degrassi\",\"nething\",\"lynch\",\"advised\",\"hoorah\",\"swapping\",\"hugest\",\"madina\",\"proposals\",\"hooray\",\"round\",\"talked\",\"dealing\",\"twicon\",\"yoda\",\"majors\",\"arvo\",\"norris\",\"filler\",\"fillet\",\"suspect\",\"booring\",\"international\",\"filled\",\"dwarf\",\"lakes\",\"frosting\",\"box\",\"boy\",\"hotties\",\"bop\",\"bos\",\"bot\",\"bow\",\"boi\",\"bok\",\"bol\",\"bom\",\"bon\",\"boo\",\"boa\",\"bob\",\"bod\",\"bof\",\"bog\",\"teenage\",\"dissappointed\",\"merely\",\"transplant\",\"sweating\",\"cappie\",\"sake\",\"visit\",\"ahhh\",\"tj's\",\"ahha\",\"faith\",\"freestyle\",\"adverts\",\"quoting\",\"drags\",\"making\",\"denny's\",\"nearest\",\"kiddos\",\"fuck\",\"sample\",\"dennis\",\"persuasion\",\"140\",\"snl\",\"membership\",\"mocks\",\"waist\",\"basket\",\"shoes\",\"northampton\",\"spreadsheets\",\"o's\",\"lst\",\"lsu\",\"fatalities\",\"equip\",\"jess\",\"group\",\"monitor\",\"interesting\",\"wall-e\",\"tucked\",\"tucker\",\"lunch\",\"neeeeeed\",\"workload\",\"feverish\",\"trainwreck\",\"careless\",\"maher\",\"vogue\",\"sopranos\",\"conventions\",\"fingertips\",\"worried\",\"carlisle\",\"stitch\",\"multiplayer\",\"priest\",\"pamela\",\"auch\",\"ajax\",\"15mins\",\"tortilla\",\"caffiene\",\"carnival\",\"waiter\",\"funky\",\"waited\",\"first\",\"rachel\",\"overheating\",\"cook's\",\"moisture\",\"speaking\",\"bobo\",\"ttly\",\"memo\",\"boba\",\"bobs\",\"set-up\",\"scraping\",\"20s\",\"lick\",\"lice\",\"pastry\",\"... .\",\"20k\",\"nazi\",\"kevin\",\"squat\",\"burnin\",\"bailed\",\"foreigner\",\"shocked\",\"squad\",\"bailey\",\"funniest\",\"neeeeed\",\"jungle\",\"bets\",\"200\",\"trillian\",\"wooow\",\"arguing\",\"830\",\"rehearsal\",\"beta\",\"sheets\",\"canny\",\"woooh\",\"proxies\",\"woooo\",\"queens\",\"radioactive\",\"lenny\",\"angst\",\"bangin\",\"voodoo\",\"sigma\",\"uverse\",\"playoffs\",\"newer\",\"a7x\",\"kwon\",\"sites\",\"tiredness\",\"takin\",\"stormy\",\"treasure\",\"storms\",\"travesty\",\"treasury\",\"enthusiasm\",\"hooooo\",\"awareness\",\"info\",\"get\",\"stomp\",\"refreshed\",\"unimportant\",\"gee\",\"geo\",\"gen\",\"gem\",\"gel\",\"buuuut\",\"thanksss\",\"malaysian\",\"morning\",\"miler\",\"miles\",\"miley\",\"declared\",\"seas\",\"seat\",\"sean\",\"seal\",\"wonder\",\"satisfying\",\"label\",\"boundaries\",\"enough\",\"across\",\"august\",\"timmy\",\"australia's\",\"coupons\",\"feeeling\",\"restroom\",\"sketchy\",\"elijah\",\"awards\",\"among\",\"firewall\",\"spank\",\"considering\",\"arrrr\",\"tuning\",\"capable\",\"405\",\"wobbly\",\"judging\",\"ggrrr\",\"laptops\",\"dramatic\",\"wake\",\"hardcore\",\"^\",\"sound\",\"coca\",\"promising\",\"cancelled\",\"investigating\",\"slapping\",\"antony\",\"cock\",\"strait\",\"sleeping\",\"strain\",\"sudden\",\"loosing\",\"protein\",\"lava\",\"compiling\",\"o'brien\",\"aerobics\",\"peps\",\"dooooo\",\"extended\",\"assist\",\"companion\",\"mani\",\"p90x\",\"nad\",\"consisted\",\"riddle\",\"outdoor\",\"sights\",\"idkk\",\"unofficial\",\"pissing\",\"tadi\",\"flavor\",\"clueless\",\"scissorhands\",\"sleeeeeeep\",\"nav\",\"kickboxing\",\"credentials\",\"nanda\",\"vending\",\"adams\",\"twittered\",\"homegirl\",\"omgg\",\"passionate\",\"twitterer\",\"naaa\",\"naan\",\"naah\",\"draw\",\"images\",\"snoring\",\"outs\",\"genetics\",\"lotta\",\"drenched\",\"lotto\",\"outa\",\"kmt\",\"kms\",\"knife\",\"cramps\",\"dissapointing\",\"fitness\",\"racoon\",\"pockets\",\"coupon\",\"6months\",\"sadder\",\"distracted\",\"vh1\",\"deadlines\",\"mondays\",\"spicy\",\"fanatic\",\"nightshift\",\"yups\",\"yupp\",\"catchin\",\"hurricanes\",\"spice\",\"arranged\",\"ronaldo\",\"macstories.net\",\"vhs\",\"agora\",\"wuts\",\"powerless\",\"rapids\",\"censor\",\"imagination\",\"casualty\",\"again\",\"goddam\",\"gurls\",\"itches\",\"grudge\",\"havana\",\"assets\",\"flyin\",\"u\",\"colleges\",\"nooooooooooooooooooo\",\"founded\",\"commute\",\"expressions\",\"shattered\",\"enjoying\",\"hellooo\",\"puffs\",\"nite\",\"sitting\",\"completley\",\"puffy\",\"bestie\",\"winning\",\"ramen\",\"elated\",\"washing\",\"alma\",\"moree\",\"drugged\",\"arts\",\"20th\",\"zero\",\"perspective\",\"layover\",\"500k\",\"nung\",\"creatures\",\"defence\",\"wrecked\",\"caffeine\",\"lol'd\",\"5000\",\"c'mon\",\"malaria\",\"pollo\",\"newspaper\",\"oldie\",\"meowing\",\"fwd\",\"lasagne\",\"lasagna\",\"fwy\",\"misery\",\"mentions\",\"caravan\",\"africa\",\"munchkin\",\"twiggaz\",\"twiggas\",\"bruins\",\"twitterrific\",\"internets\",\"tacky\",\"gaah\",\"neverending\",\"crazyyyy\",\"mozilla\",\"landed\",\"boredd\",\"youuuuu\",\"karaoke\",\"suckz\",\"hour\",\"davinci\",\"recall\",\"sucks\",\"guards\",\"remain\",\"suckk\",\"dazed\",\"sucka\",\"stubborn\",\"painfull\",\"wal-mart\",\"minimum\",\"numbers\",\"robinson\",\"amandapalmer\",\"unappreciated\",\"needs\",\"needy\",\"comfort\",\"needa\",\"maps\",\"venting\",\"sacred\",\"stir\",\"wiebe\",\"questioning\",\"coming\",\"brady\",\"sumthn\",\"dragon\",\"hatton\",\"serenade\",\"awwee\",\"heartfelt\",\"through\",\"...   ...\",\"waaahhh\",\"hunggry\",\"messed\",\"comedic\",\"pcs\",\"pci\",\"messes\",\"pesto\",\"baad\",\"pcd\",\"socially\",\"encouraging\",\"viewers\",\"mystery\",\"sakit\",\"micro\",\"repeating\",\"rhys\",\"magics\",\"tiffany\",\"toooooo\",\"engaging\",\"katrina\",\"ahahha\",\"portland\",\"uninvited\",\"singapore\",\"they'll\",\"evaluation\",\"humble\",\"mms\",\"mmm\",\"extraordinary\",\"mmo\",\"backed\",\"beginning\",\"faucet\",\"needing\",\"n00b\",\"sleeepy\",\"valentine\",\"fiction\",\"razor\",\"cirque\",\"hamsters\",\"hummingbird\",\"aaahhhh\",\"trolls\",\"etsy\",\"swingers\",\"tonighttt\",\"looooooong\",\"debugging\",\"midol\",\"urban\",\"left-handed\",\"1:05\",\"hangout\",\"1:00\",\"showers\",\"showerr\",\"ditched\",\"depending\",\"couch\",\"funnnn\",\"lifts\",\"godfather\",\"serena\",\"dayton\",\"programmers\",\"chars\",\"chart\",\"serviced\",\"charm\",\"services\",\"11:11\",\"11:15\",\"mammoth\",\"espresso\",\"businesses\",\"headlines\",\"tuesdays\",\"phooey\",\"choco\",\"cell\",\"\\u00a3\",\"idiots\",\"neighbour's\",\"buhu\",\"express\",\"toddlers\",\"finishin\",\"breast\",\"suzie\",\"nicholas\",\"motorcycles\",\"doubled\",\"spiked\",\"witches\",\"doubles\",\"mouthwash\",\"restaurants\",\"freeking\",\"geoff\",\"manly\",\"lisbon\",\"quiche\",\"expert\",\"toledo\",\"pisses\",\"mailbox\",\"arrrrgh\",\"premise\",\"pissed\",\"defunct\",\"rashes\",\"grounded\",\"restaurant\",\"foreign\",\"baltimore\",\"point\",\"gypsy\",\"tennessee\",\"bricking\",\"expensive\",\"hillsong\",\"screened\",\"peppers\",\"doodles\",\"anythin\",\"x-men\",\"hearin\",\"politician\",\"elections\",\"kodak\",\"tiered\",\"2night\",\"portugal\",\"century\",\"starving\",\"monday's\",\"xtra\",\"aspects\",\"busch\",\"hahahahha\",\"migraine\",\"development\",\"strips\",\"stripe\",\"peachy\",\"parfait\",\"tash\",\"task\",\"jbs\",\"sarah's\",\"iffy\",\"withdraw\",\"everythin\",\"vacuum\",\"shape\",\"irritable\",\"alternative\",\"cut\",\"cus\",\"cup\",\"marrying\",\"danger\",\"cuz\",\"source\",\"cue\",\"cud\",\"cub\",\"cum\",\"easter\",\"bleck\",\"blech\",\"knock\",\"loooool\",\"retake\",\"addressed\",\"gretel\",\"hoovering\",\"foolish\",\"twittter\",\"collectors\",\"absolutely\",\"weekend's\",\"candle\",\"culprit\",\"montag\",\"decision\",\"5:15\",\"sugarland\",\"epic\",\"delish\",\"tiff\",\"abusive\",\"tireddddd\",\"normality\",\"1.50\",\"translate\",\"invite\",\"motivational\",\"toooo\",\"guacamole\",\"tapos\",\"planed\",\"planet\",\"planes\",\"constant\",\"stripped\",\"scarlet\",\"momma's\",\"cure\",\"curb\",\"curl\",\"cafe\",\"yearbook\",\"stripper\",\"reputation\",\"ellen\",\"wonderin\",\"heatwave\",\"grrrrrrrrrrr\",\"cater\",\"utterly\",\"sudoku\",\"cooker\",\"waaaaaaah\",\"cooked\",\"presenting\",\"uterus\",\"caribou\",\"l8er\",\"groceries\",\"strep\",\"compose\",\"drive-in\",\"vietnamese\",\"literary\",\"maddie\",\"nervousness\",\"presently\",\"dessert\",\"chan\",\"entire\",\"announcing\",\"busier\",\"havent\",\"salah\",\"pkg\",\"carls\",\"carly\",\"rivers\",\"carla\",\"elise\",\"copenhagen\",\"carlo\",\"ne-yo\",\"edison\",\"access\",\"homeee\",\"bahahaha\",\"packing\",\"healing\",\"safer\",\"drobo\",\"talent\",\"skool\",\"climb\",\"honor\",\"bumming\",\"composer\",\"cha\",\"che\",\"chi\",\"chk\",\"hammered\",\"cho\",\"debbie\",\"butler\",\"apple's\",\"nephew's\",\"4am\",\"minions\",\"fooling\",\"twiter\",\"closing\",\"didnt\",\"fetch\",\"invoices\",\"waahh\",\"noises\",\"holds\",\"hampshire\",\"profile\",\"y\",\"highs\",\"leukemia\",\"chasing\",\"amazon\",\"sowwie\",\"furious\",\"solos\",\"mustache\",\"wedding\",\"poetry\",\"symbols\",\"report\",\"horns\",\"horny\",\"galaxy\",\"12-5\",\"tsk\",\"wtffff\",\"tsa\",\"pop-up\",\"twitter's\",\"tss\",\"weber\",\"eur\",\"oober\",\"qu\\u00e1\",\"preschool\",\"10pm\",\"cider\",\"ya'll\",\"ts3\",\"3,000\",\"dixie\",\"homeless\",\"poppins\",\"pantry\",\"sexual\",\"popping\",\"n96\",\"n97\",\"n95\",\"8-|\",\"barley\",\"workflow\",\"qua\",\"clarify\",\"approaches\",\"que\",\"qui\",\"sumtin\",\"supose\",\"600th\",\"backwards\",\"yard\",\"8-)\",\"recipes\",\"skateboard\",\"yarn\",\"mortal\",\"8-4\",\"8-5\",\"sunday's\",\"justine\",\"sack\",\"whooo\",\"whoop\",\"whoot\",\"lagging\",\"reached\",\"justins\",\"owning\",\"vagina\",\"biochem\",\"pakistani\",\"scans\",\"bulldog\",\"explanation\",\"nobody\",\"wishlist\",\"coughed\",\"babys\",\"scrapbooking\",\"babyy\",\"wasup\",\"swedes\",\"sweden\",\"b-fast\",\"sf4\",\"fukn\",\"fukk\",\"have\",\"throat\",\"havn\",\"incentive\",\"montgomery\",\"concerns\",\"alton\",\"sky's\",\"time's\",\"sfo\",\"prisoner\",\"interning\",\"clive\",\"disease\",\"1,000\",\"occasion\",\"alternator\",\"recess\",\"hamlet\",\"tearful\",\"traitor\",\"thicker\",\"sparky\",\"knowledge\",\"sparks\",\"scorpion\",\"betsy\",\"communist\",\"regularly\",\"lucozade\",\"delirious\",\"nopee\",\"hopefully\",\"perfection\",\"nopes\",\"rage\",\"fixes\",\"subways\",\"teams\",\"blogspot\",\"mercedes\",\"fixed\",\"huuuurts\",\"showdown\",\"intensity\",\"racket\",\"amanda's\",\"attempting\",\"difficulties\",\"bruno\",\"homeeee\",\"sorrow\",\"antics\",\"potluck\",\"asst\",\"tweetup\",\"commenting\",\"joke\",\"equal\",\"pulp\",\"kosher\",\"placebo\",\"masses\",\"denim\",\"manhood\",\"it's\",\"it'd\",\"3yrs\",\"caddy\",\"tense\",\"assessments\",\"run's\",\"lebanese\",\"welcoming\",\"everrrrr\",\"bro's\",\"hubs\",\"frustrating\",\"steph's\",\"cuzin\",\"squid\",\"readin\",\"weighed\",\"arrangements\",\"closets\",\"partner\",\"productivity\",\"diets\",\"tumbler\",\"mildly\",\"sigur\",\"sauna\",\"sisters\",\"nevertheless\",\"builder\",\"exceedingly\",\"gooodnight\",\"raving\",\"mcintyre\",\"stores\",\"dn't\",\"wether\",\"flashlight\",\"gma\",\"onward\",\"demographic\",\"recommending\",\"280\",\"smart\",\"gmt\",\"resolved\",\"owwie\",\"dubai\",\"like\",\"excluding\",\"admitted\",\"chica\",\"chick\",\"chico\",\"back's\",\"classical\",\"amber's\",\"haih\",\"haii\",\"hain\",\"hail\",\"hair\",\":-\\\\\",\"recommendation\",\"haiz\",\"happens\",\"hurricane\",\":-d\",\":-|\",\"happend\",\"screwed\",\":-p\",\"snuggle\",\"mode\",\"conference\",\"ngayon\",\"recieving\",\"tomz\",\":-/\",\"toms\",\"tendonitis\",\"tomm\",\"tomo\",\"cravin\",\"introduced\",\"tome\",\"afterall\",\"socks\",\"damnnn\",\"female\",\"wack\",\"waco\",\"rushed\",\"coke\",\"sequel\",\"insured\",\"oauth\",\"farrah\",\"flip\",\"mizz\",\"thorn\",\"replying\",\"whisper\",\"exceeded\",\"periods\",\"dawson\",\"fanclub\",\"dressed\",\"detail\",\"macstories\",\"dresses\",\"dresser\",\"nooooooooooooooooo\",\"awwwwwww\",\"cheque\",\"ramble\",\"kardashian\",\"dog's\",\"westfield\",\"daughter's\",\"appetite\",\"ozzy\",\"allll\",\"30min\",\"ttyl\",\"340\",\"whatsoever\",\"shambles\",\"50mm\",\"thriving\",\"dwts\",\"anemic\",\"school\",\"bestfriend\",\"loneliness\",\"glued\",\"guidelines\",\"feathers\",\"direct\",\"nail\",\"blue\",\"hide\",\"kuz\",\"ruben\",\"selected\",\"liberty\",\"blur\",\"supplier\",\"supplies\",\"woozy\",\"beck\",\"pratt\",\"mozzarella\",\"tx\",\"hideously\",\"stevie\",\"leaves\",\"settles\",\"museums\",\"settled\",\"midway\",\"exeter\",\"prints\",\"inlaws\",\"godmother\",\"advisor\",\"patience\",\"offf\",\"grumbles\",\"would\",\"tail\",\"princess\",\"spike\",\"tomorrrow\",\"replys\",\"vps\",\"replyy\",\"excellent\",\"vpn\",\"abundance\",\"homepage\",\"tamils\",\"salvage\",\"estate\",\"dolphin\",\"paparazzi\",\"gadgets\",\"overheard\",\"tinchy\",\"attract\",\"ceremony\",\"finalist\",\"drummer\",\"toxic\",\"lastfm\",\"description\",\"horoscope\",\"insecure\",\"lump\",\"befor\",\"boredddddd\",\"tidying\",\"salsa\",\"parallel\",\"ginormous\",\"splendid\",\"upside\",\"plumbing\",\"corsets\",\"itinerary\",\"orang\",\"babyshower\",\"crumbs\",\"24th\",\"hip-hop\",\"ima\",\"beside\",\"img\",\"2:00\",\"howdy\",\"imm\",\"imo\",\"tramp\",\"ims\",\"404\",\"imu\",\"401\",\"400\",\"imy\",\"3:15\",\"3:10\",\"iowa\",\"diseases\",\"prevented\",\"17th\",\"rental\",\"alex\",\"cable\",\"40k\",\"detroit\",\"40s\",\"oahu\",\"alec\",\"wentz\",\"joined\",\"juggling\",\"saturday\",\"revisions\",\"psychic\",\"vegemite\",\"laid\",\"banning\",\"newly\",\"independence\",\"aahhhh\",\"associate\",\"dayz\",\"sods\",\"dayy\",\"turntables\",\"days\",\"outfits\",\"filter\",\"heck\",\"smokers\",\"soda\",\"daya\",\"nhl\",\"nhi\",\"primary\",\"lovable\",\"fantasy\",\"adopted\",\"nhs\",\"primark\",\"emusic\",\"merrier\",\"sarcasm\",\"heights\",\"confirming\",\"dee\",\"corpus\",\"illiterate\",\"leaking\",\"190\",\"postcards\",\"frankly\",\"final\",\"company's\",\"beard\",\"bridge\",\"michael's\",\"screwy\",\"lunchtime\",\"adhd\",\"screws\",\"ohhhh\",\"seminar\",\"maxx\",\"thoroughly\",\"brandon\",\"maxi\",\"derek\",\"hatch\",\"yucky\",\"girl's\",\"shizz\",\"butttt\",\"promotions\",\"rancid\",\"entertaining\",\"abouts\",\"bait\",\"overpriced\",\"colors\",\"musicals\",\"bail\",\"graded\",\"sumthin\",\"spite\",\"situations\",\"minnesota\",\"knuckle\",\"borrowed\",\"bei\",\"despite\",\"knocks\",\"beads\",\"goodbyes\",\"anxiously\",\"\\ufffd\",\"thumbs\",\"keypad\",\"motherboard\",\"arsed\",\"robby\",\"disturbing\",\"sumtimes\",\"feline\",\"muy\",\"continually\",\"grandmother\",\"mud\",\"mug\",\"mua\",\"finger\",\"2morro\",\"mum\",\"name's\",\"muh\",\"discovery\",\"rims\",\"newb\",\"however\",\"ber\",\"news\",\"drowsy\",\"greenwich\",\"fault\",\"spurs\",\"realllyyy\",\"expense\",\"rounders\",\"aahh\",\"grrrrrr\",\"seein\",\"loft\",\"warped\",\"xxx\",\"vulcan\",\"5d\",\"xxo\",\"combos\",\"n\",\"dashboard\",\"weezer\",\"gave\",\"ben's\",\"veronica\",\"dumplings\",\"broth\",\"accessories\",\"veryy\",\"\\u2019\",\"cooool\",\"nike\",\"chilis\",\"niki\",\"niko\",\"forehead\",\"drawback\",\"twibes\",\"shawty\",\"peaks\",\"screw\",\"coachella\",\"greeted\",\"darned\",\"countin\",\"shortly\",\"possessed\",\"dada\",\"ocean\",\"jeal\",\"jean\",\"dads\",\"departed\",\"proposed\",\"unemployment\",\"bruise\",\"judge\",\"grades\",\"grader\",\"followed\",\"wahey\",\"cherry\",\"pleaaase\",\"wannaaa\",\"anya\",\"breaky\",\"breaks\",\"appearing\",\"burns\",\"burnt\",\"rumor\",\"twitterfon\",\"melting\",\"foots\",\"peeved\",\"footy\",\"orlando\",\"renamed\",\"avatar\",\"twitterfox\",\"56\",\"zoom\",\"sponge\",\"usher\",\"election\",\"52\",\"finna\",\"rhino\",\"offices\",\"e71\",\"overrated\",\"holiday\",\"hse\",\"deleted\",\"brawl\",\"brawn\",\"hsm\",\"deletes\",\"attacks\",\"choke\",\"dinner\",\"ensure\",\"awk\",\"ppc\",\"duke\",\"aha\",\"aber\",\"ahd\",\"ahh\",\"brother-in-law\",\"obscene\",\"bath\",\"ex's\",\"ppp\",\"bats\",\"ppv\",\"ppt\",\"anorexic\",\"vaccination\",\"sunlight\",\"dreamin\",\"stuck\",\"towing\",\"guide\",\"amateur\",\"6\",\"plumber\",\"flavour\",\"[:\",\"camaro\",\"nerdy\",\"attn\",\"lsat\",\"nerds\",\"camara\",\"sometime\",\"darko\",\"timeee\",\"perez\",\"marys\",\"regime\",\"contests\",\"whee\",\"when\",\"setting\",\"whew\",\"papers\",\"whey\",\"picture\",\"football\",\"maureen\",\"flushed\",\"spy\",\"faster\",\"1800\",\"vietnam\",\"whoooo\",\"roh\",\"roi\",\"rom\",\"ron\",\"roo\",\"celebs\",\"roc\",\"rod\",\"deliveries\",\"rog\",\"rox\",\"roy\",\"parker\",\"marion\",\"laksa\",\"ros\",\"rot\",\"row\",\"clarification\",\"queezy\",\"passage\",\"knackered\",\"band's\",\"bestt\",\"wooooo\",\"frapp\",\"sponsors\",\"3333\",\"wallets\",\"tanks\",\"ahhhhhhhhhhh\",\"clouds\",\"impressive\",\"level\",\"posts\",\"cloudy\",\"standards\",\"pork\",\"tougher\",\"irritates\",\"roadshow\",\"colin\",\"trent\",\"yippee\",\"port\",\"irritated\",\"maaaaan\",\"goes\",\"beautifull\",\"scripted\",\"2mrrw\",\"kami\",\"entertain\",\"witch\",\"kamu\",\"6-9\",\"6-7\",\"6-3\",\"6-0\",\"oodles\",\"rethink\",\"exams\",\"janice\",\"problematic\",\"durham\",\"prompt\",\"crisis\",\"bulbs\",\"andi\",\"andd\",\"preg\",\"athens\",\"andy\",\"prez\",\"prev\",\"prep\",\"today\",\"athena\",\"chapter\",\"teased\",\"casey\",\"teaser\",\"teases\",\"cases\",\"edible\",\"pickle\",\"usability\",\"nursing\",\"figure\",\"doubting\",\"partay\",\"cornflakes\",\"sidney\",\"vital\",\"fourth\",\"vodafone\",\"eighth\",\"disheartening\",\"succeeded\",\"rollin\",\"inform\",\"reaper\",\"joins\",\"127\",\"paracetamol\",\"dreading\",\"dodgy\",\"platform\",\"boooo\",\"farmer\",\"hanks\",\"weathers\",\"tommorrow\",\"dps\",\"ppl\",\"cuzo\",\"debating\",\"batt\",\"cuzz\",\"donated\",\"ahw\",\"whiplash\",\"catching\",\"farewell\",\"seoul\",\"america's\",\"concur\",\"eagle\",\"costumes\",\"existed\",\"brett\",\"dispatched\",\"xfactor\",\"yup\",\"yur\",\"yuu\",\"pandemic\",\"turn\",\"yuk\",\"turk\",\"raleigh\",\"yun\",\"turf\",\"turd\",\"squashed\",\"omgee\",\"virgin\",\"lanka\",\"masala\",\":o:\",\"men's\",\"gin\",\"milton\",\"mabye\",\"yayyyy\",\"legacy\",\"cards\",\"havnt\",\"suspense\",\"exchanging\",\"batting\",\"superman\",\"farmer's\",\"wandered\",\"sciences\",\"animation\",\"surf\",\"sutil\",\"sure\",\"donation\",\"icon\",\"latex\",\"shooter\",\"latee\",\"spaced\",\"tron\",\"cheat\",\"cheap\",\"troy\",\"spaces\",\"moi\",\"tks\",\"spacey\",\"trop\",\"gulf\",\"knicks\",\"lub\",\"gulp\",\"believing\",\"nadia\",\"glandular\",\"jazz\",\"flicks\",\"beastie\",\"flickr\",\"hellooooo\",\"joker\",\"jokes\",\"predicted\",\"y'all\",\"xxxxxxxxxxx\",\"replies\",\"managing\",\"commitments\",\"wouldve\",\"saucy\",\"rumours\",\"guitar\",\"jericho\",\"quiet\",\"contract\",\"railway\",\"filtering\",\"period\",\"insist\",\"nicola\",\"nicole\",\"turkey\",\"subscribed\",\"subscriber\",\"fury\",\"tonsils\",\"featuring\",\"direction\",\"fluey\",\"bummer\",\"andrew\",\"andrea\",\"spirit\",\"pilot\",\"case\",\"casa\",\"cash\",\"cast\",\"cass\",\"kaitlin\",\"ironic\",\"author\",\"granted\",\"nighter\",\"catfish\",\"manila\",\"yeahhh\",\"sency\",\"week\",\"tipsy\",\"mutha\",\"weed\",\"director\",\"delicate\",\"statue\",\"weep\",\"ckin\",\"eureka\",\"without\",\"relief\",\"deflated\",\"inability\",\"bodies\",\"justify\",\"cease\",\"polish\",\"killzone\",\"rewatch\",\"blaaah\",\"lets\",\"humping\",\"arrgghhh\",\"flashing\",\"kirby\",\"delhi\",\"nowww\",\"nappy\",\"deets\",\"acute\",\"towel\",\"patrick\",\"purdue\",\"towed\",\"donations\",\"tower\",\"jewellery\",\"competition\",\"whaaaaat\",\"snatched\",\"imeem\",\"denny\",\"suuuper\",\"aust\",\"mood\",\"frees\",\"bento\",\"googled\",\"moon\",\"buddha\",\"porter\",\"txting\",\"beached\",\"cringing\",\"slaughter\",\"pooch\",\"beaches\",\"a'dam\",\"fillings\",\"discussed\",\"doze\",\"tribe\",\"2ish\",\"curses\",\"instruments\",\"cursed\",\"rising\",\"burton\",\"hoooo\",\"whales\",\"there\",\"ehm\",\"thers\",\"ehh\",\"2hr\",\"mischief\",\"spose\",\"costco\",\"offical\",\"grasp\",\"flats\",\"grass\",\"creeping\",\"taste\",\"diggnation\",\"felix\",\"minneapolis\",\"tasty\",\"firebug\",\"overflowing\",\"byeeee\",\"piracy\",\"deserve\",\"swift's\",\"roses\",\"pappy\",\"paddy\",\"pillows\",\"spoilers\",\"finale\",\"carnegie\",\"bullets\",\"finaly\",\"finals\",\"assassins\",\"wiff\",\"wife\",\"wifi\",\"websites\",\"directors\",\"missouri\",\"directory\",\"numbing\",\"meditation\",\"decisions\",\"glimpse\",\"apartment\",\"chattin\",\"twitterers\",\"wassup\",\"subsided\",\"dairy\",\"crest\",\"rob\",\"egyptian\",\"sleeeep\",\"vacationing\",\"treating\",\"dayyyyy\",\"lisp\",\"list\",\"liars\",\"lisa\",\"flick\",\"haay\",\"haas\",\"whens\",\"breakers\",\"translating\",\"haah\",\"invention\",\"hairspray\",\"haaa\",\"belief\",\"sue\",\"sub\",\"facebooking\",\"sun\",\"sum\",\"rascal\",\"greenville\",\"suv\",\"version\",\"sur\",\"sup\",\"suz\",\"sux\",\"toes\",\"christian\",\"theresa\",\"equations\",\"tragedy\",\"milkshake\",\"horrified\",\"john's\",\"camcorder\",\"believ\",\"fatass\",\"pdfs\",\"florence\",\"munchies\",\"donuts\",\"hurray\",\"slater\",\"hurrah\",\"horses\",\"flat\",\"flaw\",\"elliot\"],\"x\":{\"__ndarray__\":\"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\",\"dtype\":\"float32\",\"shape\":[5000]},\"y\":{\"__ndarray__\":\"6M59QJNBCsLkKrzB8DW/wfQA0sH+473AGXHRwM0QDsDI6qBBaEsqQoxz18GaYpK/tnmUwbe7lUHiIGLAZ/PIQK2zVcHb9CNBUIa3QBKFFsHjB0LB/oHcwVwpK8IjTbTB9sAzwZRApcEngx1CTzMoQQ4YG0Ec/xjBpZpGQf8XGcKS79c9y5qUQNDpxMAikUM/VJ9qQeH50j86Y6pB04oHwg1zhUHgeXZBiVdEwBTrtcA5MRFAjg3hv17fx0F8o9pBdw0TQg8iy0H99dDBOHpNQjs3n8EABYpBmQPpwRCMx8EKmzI/e3luwSvDjcEvpQrBEK8AQkxlAsLct8bAGde+wUUde8CtOAlCrukOQcM5ycCnJwjClt2MQUvHR0GJMwhCgxDuwJVKDcK5XQBBUzKxwUXPE78IpM+/4ErkwTzq9EGenRPBSQKVQYcRsj/PXRPA7+dSwQ2lX0GYH1BBN52TQYawS0FZLMJBjkiqQHjbgj3gjP3AMQKNQJomd8Fi2RnB1NyKQU/hmb77BU/BSfjvQc6TscFt8NlAlfayP9LNZsEf4m5AFWGiQUYZAj8EwvNBL3ryPgXrysBh4J1ANpclQYAXekF7zZa/nOrVwJWynkHQUhHB6UNmwa0WRsHP7xy/mHzDQUhbI8L73LbBbRZkQQRypEGEqZXBvXltQW9sZ8ETfNpBayUDv2z4IEEcdIRAU1BLQNn6kUF4j6RBPpK2QUI8BkHqqgVBe+d3QQlnrsG/slrAdzR5wSzpJMF0kSHBxjEFQnbf7MGlEonABvGpQVme6MGRvnlBcLvuwUu2jsFjenNAuVudQVVIgEDpo7fBPh/UQfdV8EHwzBbC59WoP4VZoEB0tLHBfmC3wKsa+T+STLrB9vgCwkPHMMK3PjDCVS2ewEmXF8K5r61BSOrlwJPrK0LfLg1BkG3fQKDwgsFXOdvBNqLgwV8KwsEYHt9AZ9VYQdX/6sHPaDhCO/oBQaPWGEDco55AeZIFvy/EH78FZ0bB4L+nQRnKTkHnqHfBcN9LQcD0LkHQoeBAbL2nwfdGEcLd3AfBsLvQwRHVAsEMLPlBmRveQeAivkHQuPc8jSgEQeYGn79Dy7lB4fVKwV67v78Ox/BB8dcCQppZ1MG5/lVBly5kQell1UEKShfCGiaNwJDCs0EqsFbAYd8Mwk45BkGcPKjBBBYXwe1FBUF6NzxB2FryQZKIs8DUAdVApTRfQQ9zgD8q2ZzBv6cKQnaz9MF8ohvB7uonwVmwXsEqChfCqbPZwehWgUB0zUNBwKWiwVcrIcK9BQ7BwDH6QaHcj8Hpn4vB/NPOQXQerEHukGhBNBInwtiwSEGFccVBLjCTQRXztUAvpepBU4CDwQlgcEFJbi3CHCKeQc6mGkLgp/7BexEEQosmikGhR9zBobESwffwAcFLr8TB2xu6wQK1O0Kpr6dB6ASAQfzABMKfLGbBa7/cv2tVrUHDqtvAcSyPwWAak8D1NuXBkq0TQe1k7cArDGbBnZEBwj9wGcFUzfLBFaLMwQnqnkHcKybBoqJjwLf5S0ErKtNBEwZEvorloD/Dd+bAolLNwGX++cGihBPCY080wcAqqcGAfu/B2VYOQfvLTEFat77BeSGZwaIMBMK0eIDBgX+KwccthUG8FN1BCC6gQU1vSkERQlDBpz6GwFR4yUECrQ9CXCgPwU2DAcJqz7hAAngfwapjGkGMKYdBf7jJQMUUvMFXkTTB6FO3wARf8cFY/tDBrw9cQVO3xMH6457BpdGewRq48cB1E2LAYTUYwrB+rsD59glBjymDQN1+CMD+QUpBLsBLQekBpMHPdxrBcRTkwcTm58E1Ig5CQW9YwBTn6r8b9/PAkP+ZQNQW9cFop5HA/BCOvx8lmUEQUu7BldTxwMKCs0GrDrDB6pRNwS0wOsICKKjBmfwAQUdiF8L/A+s/HuwewlYtMsHed9dA/QkPQSbhEEL0zQjCSGEkQep+CEHYSKrAoo+DwSZKNkKX8ahB+MMFwK4gREE4gQHAYneqwdRuzkCcct9ABXQBwq/al8EOg2hAshOLPfxxOsHKDbbB7s3NwX4yckAouWjBZonmQMxDQ8F6R6hBsJfrQVNbhcDJ+BZBDnBQwaig3UEcsMPAWdMJQT51d0Hmpd5ADIxWwYgb5ECycmXAJW7NwN+UycBpJKBBcoOkP9HcisFbrn/AtA9nQVU/7cEcqsdBOk+/QNPeZUGoldw/NN6kwYKlyEFIcbJAC7uGQW65xMBXCynC+cTMwX9GzcGN07XAWFdlwc5OpUFUQ7DBEsmvwZHj+sDeEExBEtQEwt27Lr9P5ShBs+SPQa/hAcIIirvBro2twZLlbsHea5lBLIrcwI/IUMG71yPAZkysQWMQwEHc3QnCFK5ZwLi7gMGUG6nBL1bKwfdbtEFKf/VA2w9dwbApEsJoFRHC52MvPx4Ty0FP5M7AziW2wV+BWkEFtxFBdbwnwFPLpcEN7RJBYJhAQCoKZsFo0vVBiysywi/YMELGvsvAjl/5vjhN88F+pPJBF6J5Qd28s8GvpyhBbPeAQZo2T0EX9bZAWD1kQas14sEJzMnA4GvzQIcJOEGbKQVCEcY2wTXuasGhejjBJW2oPwKE2kGqEES+ej3zQK6XNcES1KnA28eAQZsLocEQS/NBDjCqwLw4wMFP2GTAekxVQFGV60Fg8v7BuKMWwpZTyEDlGIHBc9bSwax92MHur67BWvmwwXAMhEDpjhxBTSsiwv2JMsA/w7xBOgD7wcCgh0HaGKhB8mEXQacXvUE8sIpBckHlwDa53MD8WRlBxXPAwYbcocBpvtBBEQhZwc/zNMEOZzvBCPbdwWihBEJ04hpCuDlMwJs+p8GiLpE/FuqqQeXGlUE/JMA9IZ2HQDivjL+VbE/BUaznQPIpSUEH7jlBKUkZQXHvh8EJog0/LlzbQCupr8B6UoO+ErjAwC34qEFU5YVBvWmUwbvLHcEa7RxCC1uiwaY/tEHLeCrBGEcBwf0DgkEH9xXBvkrdQU7bB8KP8erB1/lXQU7XnsGNI4LBuDT8Pxy5UcHkEfRBOzSjwQ6PCEEALIc/PI5hwL9o/sHWiFHARFoXQRq+mUEkpRPAr6aewdNrtkBmiDxBTlRWwWQtHkHr6JnBLY+rwfzsTEDBU1XBSverQc9th0GHWwHBCLq7QX7QnMHzJw9CYbPIQJvS1EEBCLRBlZ65Qf+gDMLkRL3BvTR8wC9YpkGbtJA/xR3NQY4rh8FqUODB1JBHwQlGKsEaOM/AcntawbVeFsF0yPnBOcURwXY3esGcfPPAWrocQrAe7MFL3IrBbSwTwRdiocDQw+BBLolpQay6iMEq1wvBpdyPwTm6ysBnxAHB4qnywMWSpkC2Q8BAGujRQFaFQUFZYD1BfZOwQKBGbEGc5+DBUEc3wVfA2EEyAPJBz1akwL7qMsFEkmhByqeDwd3AgMDXPyPCIGuvQbV9OUGqxZ5BuDfxP083AUIwp5hBoWN8QbPOoj/dyJu9h49cwcZBLsCu2gvCVgQgQYuwCcIvYLBBa5wIQXFzL0FxuirBlPuxQAu2MMKEaRDCqBQRwLri90GYhy/C8543wQkpHMG/DwfAu6aGQZl7t0GP7gnCmNi4vtIoQcFNcwTCmimlwdFTf0ERTwTCxJ/JQbMDpsCbV4/Bnj/gv7hVbUHpvazAhF7nwEevlUAo9oDAmfvewO9Ss8DPuUHAmCWswMT7rsCypbVBjjmhwEp2/8FyEqxBr+4rQdbzDEEVkwnCjhWcQSFHtEGgQDPCMWM4QOOfAkJ4Fi1CTF2YQefMLsF0vIXB7RtlQQ5OokCm2CG/DHv8wHk+uUHbmI7ByBWmQMr9AsJiZhFAXs+9wJEDbsEMXZFB+8GUwLlumUEQ99nBfUL3wWeGE8HmQNVB0FfBQP63JsHavQVA0Xmmv9/okb/DLTfC3y+VQQXd9UDOpRDBUUiWQfltz0ECF5dBbkMGQlL9AsJHYD/BzLp/wRR0VkC8cNLBHehpQRxit7+b35pBAB74QZi5ssGC+cRBG87iQH4DJsJl1QbCvROwwRtVxEAk8q/A3t4XQTmUQ0AQWI5B3RGvQVOnwEGY99zBre72wZCLnUFDluq/yPofwlClR8HN3JlBtlVtQcdXp0FHv5pBBjfdQWFRgUDd54XBt3oLwiLTvUAUllTAyt6FQLtcsMHmgavBIWMPwvHkBcJqj8XBMsyNwX9XnEGbqczBeK4BQGA+mEAoWEDBxFOrwXMTwz+WzBFBpjAwwmoEYcHxf57ABaKgwQqLy0F6k5A+psAywOFh4cFJXQtCUlXYv4I/CcJapr1BlaXFQJrHXsHyqaPBqcGcvqbTCkGLqgbBh/2LwRg8OEEIfwjBZN7ywce4tsDtcbDA+SwOwnUueMHxEONAVvKQQWYllEGMNQJBu+XewGTxtMHx1gnCtNhMwPqWJkEE+jFCDXnFQXAA58C97RjBAGUUQUabDMLSDKjAgQtCv8CSOkFgDA/ChMkfQVAALEF46ac/hSbqwHiRbcG4u/BARb6zQZV7LMLWGj/BMjnmwYX1GsGr6E3AY9T6wLQiZ0Fv955AU8GmweTz4MGVsxPC8stKQYY3gMHlO+5A5A6owd2YSkEdWA/BkGAyQVNjGUGdu9lBz9UEwt1pTMGCGPxBF6oSwlmnqkG0K2dBjRlawV5bU0Hi35o/ICJYwTtchsFmEcDBtkHDv5O/ssEFXzfBdFEfwkRgDsLAkAHBHHr4QUlSCEHw8IXB1/R7vzbMbMFJgJhAHFCcwSmwqkD5nfm+UT4qwlQNnEEuvBBCDAqhwYq1r79xmrPBiUNQQUKiGEEwkYRB2HQZwEH7BcCi73hALHmeQMw2FUKiYLbBTMzLQTsbqkEZYCTCIIgeQcDVFsAtaPHBfp3gwPd5ycDCWGxA+El0QYPaYkGEleG/kRXOwfzdfUEoQUtAXc/1wVYayb/8TEJBBzWAQeKJJsEWMnJA0FJaQQibWkBUFatBgGuZQXa4uUCGksDAx2MBQYoSiMHLxs/BedhbwdU4mcHAHqHBPPLuQFoLNMHqvAVCw+MEQjqqnUHb223BFiIfwgbEwsAYhM2/BuXLwQyBrcFFgIVAG3abQIKbM8JhP7HADPMMwZQoOEKblytCgibHvxk+d8B0DcLBZmeHwT39h8Ds875AP6GLPWsyAkAU1wLCNJqSwbXSN0FjZyvB6I3JwSzHA8CTMiRBC86qQWP+5UAPiQdClj+pQashI8Gb219BSYsDQUbNE8H7llVBn8Z7wUTRlcEnliXCWoOmwd3pnUDztEjBPN0XQW0sEMIcY6LBc+MewoqwhMGxkOvB3BEJwrmCD0EMo3zB2UsFwahht0FYrDpA2OsTwSP0EMIdOwfCKqlgwbWcnkCU19Q//1XMvbhcK0EUhypBFA0pQfslBUHfVQDC0EVmwe7OKML+Gfg/nRhHQdibs8HQUFPBSxIVwPKF/j89+83BHE+Ov1O6gUEEXBTCNaoEQa7gLEFS2ONA65sQwo5ukUF4cbRBVU8ewcmMTMECxIzAiAL5wSge60GWs57AMumPQdRbbEEpsMY+mW0QwoM++cA3QnxBB8W3wTrkC0GymYpAH8LgQLnFXsFJWA5Bnz1swEv0/0EvDEk/Obhnvw8VzMFrI3lBOn/twQ4bw8HG6rHBa0IMwiibp0E6hstB7AaWwSZbRUEvzRBCzi8zQg690cDVqhBCbmDGwVEoz0EDAG7BFqC4QTaEYkFtgwzCW1IDQvyvJ0HlhQxCMXe0wRdCSEGbOGBBpnEyQnIxD8GS6gdBiXiuwfXFEsKku4RBtN4PQZFMNkFsD95Bq6OAQQtz30CJWM5Bf6svwhqGk8EsCndB4nZZwWQ938HYOQHBRev7wEzKp8Cs/EZB8oIzwf5HQUH/AkPBHveFQew2/cHQ6l7BSexCwY3meMGsTbFB2fMQQXP8jcCLN5BB7uaiQfBGyUDb2NLB0o/kwQiiRkEyWOpBDPAOwULaycGCYjXBR7PywBx0icBeCpg/+oggQYMdtUGqbixB/2ctwbRJcsDARLrBcVkTPxTgsj9VApVBoa09QOHy2sHyDtZAA0UAwZbTIz9YeoM/LB7PvS8KnsFaqwLCKbTZwd26HcDZaY5BvZLpwdn/B8LEPGfBlZr5QQcArEECsGHBgtXFQaZbGUAIYlpAr1qLwP0IzkHF+v9BkEcjwkTS7cC65ac+nn44wfI5F0L55R3CA/WpwbjIAcAilI/BZntdQVC/xkGQ6FhAi+20wYMQdsFnERnCFUzjwOkr5sGx9VFB7lEbP0Vp7UHqxpTAn+qQQcaMacHOfY7B0rJSweD6tUBByRbCM8JdwUQST8E+AgJB7/MzwFgvFkBMWYnBOejvQPXYBsLcLJFBWKLsQPDBV8D9VAzCgGUWQQ12yUCvKBJBTb/tweBnR8AxduXAC8A7wZHjmUEio3DAZ+4Twqds48HTlRjComsvQfxv8MGWf0HBBENXwQBUvsHH+qFBvMCsQf5AXkFnWpLBuYJGQb/f4D//TGhB9rItwhdV3kGWRe1BMxUHwpeAwMBMn9fBww85QUNuF8I7oxDBr0vlQXVbs8G3TwBCthE+wdSgdMHODCZB+4cjwbkThcFY37rAZsVLQbuQasFGRHDBFMVmQFkslEDsRSRBezwdwUTi8UF2N8FBWHRwwZCpmUFqXbLBkGeqQX+Fj8EtdlpBmkU8wSNGcsFo1qRBzgHlwBGRz0HAgw1BhsuqQU4iHcFA6HlBWnjdwVv4IcHGL/fBkh62QZaKGcE7JhtBP3fSwNG6u0DZ1DDBTTDrwRP6uz7t/41BSCIZQovomsF7iZ/B75b5wXbtPkEumQHC8BeTwMzj4MAYjhZBRs21wencycFl5DLBL1pewX0edEAkusHB2mjZwXCNu7+c6MJA3veIQZhDB0J31d9BLVeVQJs3DEI/ULhB0Psbwu9HjUF6FxnCK0XWwfIn9EFaRY7ApQzEwMjEAcLPiOTBl8ZLwdQvHMIhE0dBU0YMwtOuW8ESKwpBBWwlQJ5FvsEIo7TAp6L6QJnMIMH8RhrBY0ekwHjiYkGYvqnBJUuhwNDYhsFCJ4M/TBkAwsTbJsK7Q9VBxWQTwqpsjMHvZrHBqKmAwPoft0H5knbBwdsyQpNI4EFKsrg/ZlZWPQlXgcFyaejB+ISLwXWEmkHSchbBpZxTwbkyDUBWyi3CLczOQIzrhMCtdBlADdSvwWSrA0DrWZ29XflxwRwOd8G7vAnCKZA5QJRskcHOWqRA/NGKQa4iw8HejynBXVAkwJxpM8Ku/uQ/c+PNQDFX00EBBMi/NiAnQRTKa0EbvO5AHlDYwW9neUAgmsrAb6OvwQ4IyD+niOXAHm/wwKYW8UEnNcPAE+h6wbmstUECdbFBTUmMQdxI1UHQmJhBUPPmQHUGm0DCu3PBp/4pwcN96EEgQRvCLtYNQoN3Z0EGkllBp3sKwmSzvsHhLsK/fzHHQSTDJL94+n5B2gQIQRiBC8DxnvTAVo5BwS8Lnz0Ha6tAWdiXQKG4J0AWhYbBnZjowKtzvEHckxu+/OUmwoit98H/RIdBvfWOQPWEhkEa/LBA4sFkwXSNucFdurFB4v4fwJ4r+EC3XPRAOsA4v3l7K7/UYVFBeX56QeSFTkH7m0BBjhWZQaov+8HAHjLCzN4rQdIv5EDrApFBbtz5wQu8EcIcYQ3CNtr3wXFWvMGswadAg02YwaUzfEH5VwZCPKtEv1CSQUH0HPrAyqY9Qb11oEGAK+s/FNMGwF5JFcAT3sXAiCsavyHCu8DtrnxBz5SfQRHBXUGQf5hBXeocwbrs6MBBQOPBuU3HQXZqNkGv3YJBba/CQS86QD99Wf9BphoqQVRBMcGmE91ACh+hwXI2dkHWIPJBAnkmQcvalb6cfIvAfIH9wLJjOMGI5wjBiGHrwEBZ7EEgNONAb2SHQCqBfUFXlbpB5MJcQdwcT8GtGebBKJKPvrjlD0CjxC1CTsewwLawqL4cp1TBDSA8QZXxL8K9+hdCTdEdwJ9WLMJGaDZBl35TQdvdcsEcq6ZBAROkQRtFCMH6v9nBq+qgQfatDcGq6yxBUhXywczrCsIJLdHBdsx+wTtaDcIYx/g/IHS0QRJOD8GSyeLBfvdkQSIX20Bl3fhBq4FMQYcOCMK9NBZBw6/TQHe1k0DBIr/B3oJsQDRLD0LKPtjBsa6swbqwx0AkgqJBJ8/KQACC5sAMnxJByK0RwnsYGcL3TU/AcUYvwnJMlUHPcGPBjthzweFdIcGZZEpBCtKtwHJNYUG66Vq/GCiPwei6tkHQJgnCv9CWQUL5HsJsRk9Bs1oBwlHFFb+QZBnBWXKxwVSkF8JxgrbBbnnJwX076UB66bXBCzUywpwVwcGutgPCJCOkwV/sj7+7+GdB+Or3wVth8L64FkLBpkHTQG4B8sEhMvzAwmYSv3v1i0HR/85ByxLZQbK7+MD7ThXBjz0GwmPH3ECQmbfB4AEewebUN0IQ8dLA94gCv9x2icHbapVBkKp7wI7oZ0HGn+zB6mUHwTsFwEBb23ZA0DqhwV3U30FZRFvAO0WxQY7/98DbsDPAKb+XQRLl1kDKropAuEcLwlvMQMEzEA7BKXN6QMO6msGQicZAusafQCh9CML+bBdAZmjsQaXm6UFp+3nBw3foQJxVkL5Q5EJB9wbIQQbBg0FcbmXAsVQKQjzFzEH3iPM+6T84wIeRiMG1jaBBdo67wRgGosHrQxPCVg8QwaAnnUBdOt5BHRKSQGWsg0EmYLVAL/8gQHjANUEFPQHAl7brwTafd8E7ukHBPkV4Qf8Eu8BxAy5C1LAsQZq1vcHhAR/AHWQGwXQrgUF9X95BSmYzQtofG8Hv2RBCH9lWQA0KDcI2vFNBNrkiwHAgFUAkDiHBOIKDQMjhwkFeQ5TB0ZSxQNlkyMH+FDDBWD3QQYI1BELZKENB1d8QwbuGj8F6SgBBku1LwjCKgsHZLU6/IL8mQe0b0kFLOMRAF4LSQXLIHkGDoZ5BdQ+qwN+ocUFbW89BvkkhwZ7r5r96omxA7uYIwbQfRL9xh8nA944+wWXrt8COzo3BIjryvkyqYj/BwqjASmkEQuKGgr8TXoDB9EbFv3FAysG0+MHAjzyNQRgJvcGfWITBL1b2wF+iU8FwZOrAMiB5QXK/30D9f19BKhN7wYri+sFL3BBBZdEjwW6mMMKM7HJBFMy7QcDrEcLPGatAC0QewSs1t8EIZyBCTgBBQPds4MEJSrfAkWCaQeU0kkEr6yDClnCDQJ3QwsHtIIVB6QigQXnO7UAZPeLBT0PdwZ+GMz+pYw7CtWUGwpSmqcGMafPBoZQGwmr4+EA8M7RAZZdxQMtUj78xKd1B0eqgwH7dZcGaJYhB/CzgwWXz5cGNspBBISSkweGHFEIDcfVB7GSkQSOmz0HEMzHCSo+nQZVsNkJOp6NBOJi9QLJhT0FTBE1BdMhBwYDBZkFjtj1CDpjsQVDDGkJXoUNB/7wmwsAtakF18KJBQsUxQry6i0FaqajAOrTRweN0L8G5SejB0pFNwFWZN0L8tabBAOjdwbHOrsAU1XVBAKv5Qdf4i0F7FP5BkXs0QaaIB0AhPAfByzmmwArjzEA+RmvBOtZCPxMY3L8higHC6f8qwvVzG0I94XC/Z3KWQbMvfUFHvdzBv1QvwLFgLcL+8W5B6AwiQT4JbsFUXU+/V6lWwRBVicFgaYvAAuL+wWRxy8He1sNB66zzQAmqaUFqsLZBhv60weASo8EDsgPC693LQSQ540DICB9B5lAOwivgLUJzXBLCPUWywb4XgMB3GWLBUoUyweu4scFeuaXBf0EOQu7ooMGzxs5AIVoCwqHnpkG3iLlB42hXQBlqUcAAminCNI+WQe/b5kHD4ZdBmt2LQVZJMcEYMQNC/YhDQcpZd0DMIdzARmGFwCapo0DPbgVCaVWcQV9Ai8AKl9NB3n9wQem8mcE9GN9BBxycP1W4GcGM7JVBQJBHwaLV3EFQdMRBsfOOQTU5BUJUcDvB4IYqwmEUm0GIpX9BDuinwcGjPcG79StBe7CFwQ9xC0LNJ/BB08dswel9SUFdXL1B0HOZQZoWgUCw0V7BZyb4wGmTNcGcBd/A7OWUwbhl7cAKMcJBM5EcwYcBRsG+CPjBM2r1vpBHTr9hlfDAmIf+Qacux0ESTqxBU671wFjmyMED8kVB+LO5QcJemcGJzPPBLYogwTCFBELetYdBeFmFwWVZ18ClFYDBnYwewhvABMKghehAR/G2wLcRE8FF09HBdtliwXIiJMB0WxnBmQ42wQB1BMJn6QHBlpYfQcwTqEHzqj1CypKKwVbUwEC37KZB9WguQnRpJcIhDyY/Nw3cQUnhkMBAd9zBQcbxwZl2EcKWswPBXwcBQANwhsEHM5/BDmEYwKPg5sE8vUxBu96lwVoC9j4r6wXC4mU8wXExSUD1kbVBOkvowA2wzcEnnb7BiuiOwSRwET5WG9G/gFuCv/4SgkFNaN9B27UCQgl42sBy03/AfPMBwtknN0Lpr0TAB63jwexEpcD1549AWzZ3wdjgYMHLVMLAYr/jP7slj8CUSOjBv/mKwG9LbEFXsPpAGgkNwohtvkAVLvs/GWb4wYMSCEG8W63BNW8Cwpfb6cGE6gHByOSZv6Sot8Gb6KfB+eT9v8GxS0C+hbrBUNQzwX7zDMJbTMNAgiN9wF4ThUHaJ9VBBZWGwVIzr0HBn6FB4DAHQdRhn0H1nMW+HUhAQA8/ikHZuHzB3J4PwnkUgEAHIavBBDSlwTmVNULsxprBeKoYwhgxq8HVZGXBbkYyQnICgT9TTBXBz750vx5qjb+k7Kw/OB8Kvx6ddsHTxcvB5qTOQO33/cFvJNFAeoFeQflapMCDCB/BR79dwIv9nkBMdM4+8Qubvg99scFOg5XBbqGLv1ZMk0AJXfPBCp8rQe/ru7+xZGJAL1hYQCDjFEHJUw7Coze6PU7TpUDhs/DA6JGvP+Tj/sF56vzA51bLwV6FEUEfyULBdAxlwZtXgMGcd7BAmaBUwVXYozzHljRCvCD9wUA5AsLbRYbBWM1bQZNZpcF0txXCEJXhwbAyW0HWB5u/lIvAwc5JBcKhBSZACcoQwJYQvEF+/ZVAhviBwDIqEEHHNIJBsfiBwUwa3sCt1szBnGX+QKtX60DIzwrAotRBwJzOWUA/uM7BI9SnwRyFCcCiFbxBHn8JQVhsL0EiKwDCh2atQFDI+ECGFF/AoH8MwlZtlcEB/yjAX00CQlhAo0EfZV+/LDplQKc0xkBBvDA+Gp8JwQMhBEKaUYpArKinQQn+0T6TIy7BFIGaQUsWw8BIaC5A2Pw+we9mCMLxy/2/UFIFwgDNyECKgIVBkMPjwTgfjMGv84ZB8mZ0wXU928BTRgk/auV/wTaTycGbVAtCfD0qQVPOjEH3HzNBSTelQPyrW8FXKTZB2BidQYnkHEAN+khAqnemQCPa4EDxnNxAkALVwD4DSkHpA35BMvYdwU0JkEEYCHLBXP8gQSRTbMH1noZA3GP1wCvULUG9/OdBJQkSwak87UGcryrBn1vUQBr8V8Dg4/jB4i2+QXRA2sEvfRTCAm0nP6jmH0FJsQVBP5APwpUsDUEVKYXBELdeQY154cA7oRRCutWRQbG7IsLHysDBNjO3wSIDrkGAHNHAH1MBQknIYkHN6b2/sDM3QcgousGSYZLBVzknwE7rKUGARyFCAAqjwRRv7sF0+Y3AzshzQchOi0Es58pBk9Mvwm98asEInAbCI5XgwZBlHsHz/MpBd7a5wR6yxUFsgdtBnc0DwmTNnEGsNRXCYImxQYoVhcG4a7E/t4OGQSFmwMHojzlCrr0qQFFDWEGmf1a+rmWwwZOQfsFWhwzCHVtIQA3wPsDz4RHAciOIwZVkXsFvIx4/ggPBQHz5hMFuQTNBkpaYwAu47EFLWLJB7LCwQUpLjsBxxPNBrumQQdqEQMEj1OvBxQkMwrWVYsG33g7CWgDjQfIHYsFpbIVBMBdpQRyihUDTYbrBhxylwf7bPEEgvqLBd8Iuwe6AHMJ9POvBZ4oEwZ/9qEEOkwnCvnkcweNaj8FgTg9CeXqiwe2aIUIKsIPBhLJMQReAB8H55NRA5knfQZwlckD6OQlBvkaOwM9mj8B4nRnBI2CZwANeE8KZQwdA/zBXQSYD7sDT1zfCbqaRwV9o5MFbqw9BSmANwa9cZkH+dMBBxbHjwKHPvEHBgdTAMDQQQiHEcsETN3bBPaZzv12Eg0FLUtlBETkwQZe6HMFYw9xBF2/jQO3RCcGoBXnB0wIhwVImKj6jBOvBju7XwW9TNUGhquFBDA/3wYJZacCZciXBuIeHwRT3m0AUl6dAQcYVQuzRCsHAplPBYxAWQOx7ScDwOZpAY2hpQCqZ9cAD7MzA1peUQTby8UHorjVBtTh5wWftFELu0gs/6gNUQTeKwcGjqqxBCOFmQZUzh0B78pXBoemNwck/EUL9tzxBtaOmQNMraMFFHiVBYZ3pwHYocEEZtrBAipjrQDsEqMC5P2lBvmqcQRR4acHsKipAiy4kwkdgRcEuiOw/209LQarz6sFk5S1CrsxCwMU9Rr/3RcZBBUOswRc8pEFDYmXBTc7NQHA8k8GPH3bBU7++wUoyfEGrDGPBFxyXwIz620FJSaZAM+/eQcNpB8JGW3jBpdDZwKBL7UGoWxrB8ZqKQQsSq0GEweXBekBcQUnO60EqxYhBQoroQfkewkHpYOC/N6SkwN1tmEGXcelAJdQXQcrQ3MEQ3pTBadR6QXseyUBQx7pBswbpQJqRO0GimCtC3Hz8wdacscEoqBRCBOwBQMrZqMGYDyDC6BuNwBJPCMGjB5FAauFtQX88c0G9BWfAnkW1QKvOSL86hYvA0CcCwauDuEGWa75A3iy5QY09wkHy41zBo0+MQT5d0UD/NKJAqYMPQPiTjMHcBrzB1puHwZmS8sCXHg3BoMcewLAtSMFBqqA/JdPyQRHZJsI/W0NA3pCrwT1ekMGnQq5B6xqowYQZRsHZIsFA4kUKQWcNmsGFv7ZB7QTCQeJUsz7/2LrBY1VPQdKMV0G9D7pAsOU2wYp8uEFIqsBBuAitwc+ZnsF6e33B0NadQSK3k8DiVKzBfN9iwTokEcJaZ8LB22EPwmXkqz9K9M9A7MTwQfRXcb1iQGzAXKefQRLoVMGlSxxB3y/KQTXjfUEC8nfBvOghwoGFBkCoGZpBcYOIwCta3kCIKhRBJjivP+hVyL9Ax8+9FamawKLE6UDLyspAXYE2QXLAjsHrtazBjL+DQfzSCsLPDf9AlT3qQE2VwsHZYChBfVTRQQ2zykGw5f7B1DVFQY8TL0Hdo7BBDdXGwedbA8HVkZBBdGSLQYYmtUFRZaDBW2kpQsuX0cAZiwlB96RdwVTXS8F7JsvBSZgYwgCROUFFzEZAxghawS5fbEEoe8ZBgO04weDrPsEf3bY/fdcMwrLw50D+W63B0PrDQfxrCsKaJF4/3Dl5P6hZz8HmBz9AIFItwGEK60HMDQfCi2+MQWEdNsDFN5XBd2UBwv2RL8E/xqtBF4zKwc0VsMF+0BlBJSs4QSqFv0FFn79An0MFwrIcdMEE9RvBb1WKQQYAgMBxBsnBHuKcP3y2B8LzCILBI/eAQdKy40HqIxTCZ2OgwWKRCMKHrKjBdcEkwFe0f0GZUB7CIoy+QRn+vMG6p0hBrD8iwEi5OsIeDL1BxV3PQbSyBEJUN4bAi1tyQdkJ6UEoSujByDUOQsP96sHVZobB/kicQUjCfkGmE5NAELK3wYDyjUFSHRdByV+XwV4K3UDylJFAFYaRv2W26z8i7x3CmKSuwY7dCMLO3SZBG7RKwWZkwECumMDBp7y/wSXEBMI//6zBH4GnQc08z8Fw+gvB/4UVwfdcSkG6E9hB2n6kQYNJ28Cd59nAohqrQY/gKEGpYJlBZVyzQfDzREBFVQtBUCIpwTuvCEGCj+lAEKI3wTTqF0IxPIxAyjPbwHBnksFoKmfBUcquwHT/8cDubo5BcEcLQmf/sMGZxufB5bURQkCYI79JsOtAp3J5wWFG2cHSVvDBFI9qQWNMIsEMkiLBAS8qQWQ6hMG9kQLBSe6GwQIrUT+TFgfCa+wKPv1SF8GlljFBLqvWQPtRisHdr9DA4XWSv2Kh7L/y2aVBxrrJQVufYUDBTNPBLpplQTLemj6/uxDBiiWlwW+iB0FHIdzBsNdWwR1xWL6gCRXCC5ynwcfxVsFAcKPBKlofPrMmf0B7xdpAHV0zwXDPg0EIoofBYMDDQC7DDEBoZQjCyGiZwdy7BMGZrYjBIsgEQY5s2MBkRQrBk9kvQcEfmMFZ+w/CmoVwQKKMvkAZu4lBaiN0Qa5/MkJDu8/A0g+jQe7gwsAb58o+1eWMQTe+m8DqoPbBCCrywWAzEMICZCjBQEO0QaxWdkDznji+9IrjweIROUA6cjPB8+67QGJKkUGiTbzAttVnwaaAg0FoJAHCQ1CWQVDTMcKjbpFB+5xDwVtqVcGAL09A6EeGwUY20cCDNjtB6v6AwTFshUAfIZTBZfyUQRRrKEFiRKpBlB7BPqIWgcFy+IBBNJkEwX1YSEGOVs/AmhEewuwD9sDkMMhAd0LDQZiGx0FCbtzBGkulQfZTi8GQXj1BTTvHwAIXDUHExqJBqUYtwhkJwECZPEBBGOaVQXzfoMFRZwpBr8m8wJ9IlUBdYsrBJKeWwbIrKMHSIiDCvirxQNkDukFajwtBfIq6wRD80UFbH4bBBlzUQav0xEBdPgXB/JOXwd71oT1sYSZAY3ILQASGV8FAUX9A7wcwPXWmJEFp5KTBOIEuQsvEHUIH4xpB8se2QGGaBMG2qMlBlSimwTv9ocG1Ei9BTauQwHApRMFJ253AZY3CQSbCnMAYP6rApFoOwVyVmkGQRppBgk/dQGmnUcEfq+ZB1dY3v9EanMHMIJtA3YKtwf25dsGygcLA1Xv4QRmg2cCI9yPAjdehQaAbQ0GgJJxB2A0HwmqTjEGNrMpBzcMCwrTs0cGfNkXBNF6lQaER5b9rX1HANFEJwk3X7kAnrIJB282nQTrkxEB/EOxASpGcQQ6rpsBInnZB9djgPtBJFUGMa31AFySzwQZI9b/aBNRB5p2Ewc6bSb90+APCO2OzQSFUCcLyAMjB6sX0wXtAIsIFIsrBZ6UVQeLQG8C0e81Ae5lyQTdpEcGmLZ1BJOEZwXwkDMKgB19BynN8QelAAcJe7Kw/yrcbwWw3PkEdrh3CF1eHwMoimL8/Zh3AOTwwQsRxJsK3gHBBvN4nPjWXfkE3urXB0GqxQbh1pUFq5JzBjU70wDOEQUGK7ixB6dVNwXvCh0Gi38lB24UBQgW2qUG+A4fBVa6NPy/xEkImj61BdkuPQSWyH0AdwDDC1kPCQE/nREFlbN5Box66QZIVqkFL8rBBkXsMQqP1DEJ60nVBseohwVcydEGNhufBntqEQtXRosEzfpTBtS5hQViW1EB9Vx7C9Nd1QWP1KcBsR4RBebKTwB0AGcIurQNBqHjGwfJV9cHB4RbC9BqSwem01UEt6NVBr5KVwWOqqEEg4y0/uE3zwEdi/kAA/9hACHkGQFtbEUDERLjBn5mZQStW+8GurCNBvKoEwoSFr0GeaanBeZMDwMdg8kDulK9BqNkHwgx8T0Fx9s5B5zf5we97mUFOOF9BmczbQbyaHsK5VIrBZ1l+wAomIkIJXrFAv8XIwKlIPkKaHsbAJsabwK+0X8GqIuJB/r3AwQ74VUC/8FjB9+Elwon6jz83xEVBrnftQBJcUcGaQytByRE2QIrRLMHrtMRBUHj3wZlR+MEtHag/kozdwKHnn8HP6/vAmBkPQbKbC8I5TgRAl8L6waG6xT8sidLBn0taQfv8d8G+AQ/C3pH8QJgdWj+XUxrCHEmXwBwqwEFv0NfB5rrxQJKRqkH0kW3ByFolQQGUy0Gx+N3Bu1O0wYFn4sE7FbM/HTz3wT3aAEKYUyVB94YlwV3bIEGCq6RB/Uf3wczO7ECmiIVBHhIywrkyKMHlHApBZ++ovsWF6MCjnC/B9cQBQrvv3D9IYoRBsmBBwUv7l8FenMFBtqNCQINRS8FLv0JBHpCMwau7q0H4jfhAVchzwE9N3sGxAKVA6JKsQQdBAcDH7ZjB/3oFwuw5ksHP1AXCMd8iQa9zoUAi5LVBDRWzQbRgBb8ojPlBb4cUQk4K80HVQKJBmzHJwfA9I78CaMbBSz5aQXG/zkF3845BroI1QqKffMEL8xxCe+AIwnwphkBlbrdBAYpowfRdisA3hwpCRQSTQQxaBcI3YPtAwGV2QZxxSMHEhN/BgsQDQlKGF0DmJCPBukP3wVLP2EHAozpAr3Gsv7OoBEJs+K1BrYfovzyeBEL8t6pABgMtwRyaBkK2cAZCnQQDQlCQTUL6+rtBZ3enQQZLxL8bh1jBi59gQTIA3D8z44xAGsmawaYYyMGSPGtBr0UPwbbKC8Fp6KLAa/r1P/NFkEGaEQXCrg7CwRkKB8EOXqC/3VJ/wJBFrMDo3epBI6MsQQ+O3ECZYCPCffL7wYAEWkHUDw7An0+cQZvlGsIV9L/B9OuiwS1EnsE0BpjBAfn7QUuJbsHopFnAH71FQU4eA8LCK67Bwo8OwdZNGUGSxAFCav++QQgvjsFdFojBImjAwYr/B0HCNe5AQEWrQaCCQ8BS9hLBjBMXQGMf3b8Eg9g/FVwWwg8fOkHnitrBcLFfQTnKosG0qWxBUc8ZQfqcK8LbBv9AnjcCwq+ROEEhUQzCyj2zQOEK7cFBlClC32wjwg+508HnAxFArxVpwTMmr0EYkDRCjIYlwYTyPkFh5KXBymsjwSDG9kHY5gFBfIL+wa2CX0ES5mJBVIaLweaRS8EJg45AFxXOQeNxEMBJoafBEnVbQRCAL8IL8mXBR958wE2/LD9kXrpB+9hGP4+9ZUHMuDVBVqoawU/+jMHVN3NAn0wOwXtxB0KvsgrCh9a5QCa7wMFK/cdA7MMbQckCDL4k881BqslPQHcOgL+K+QrCWWp0wOrss0F5lIbBsQPAweSw0sFJc9bBOOIZwgFVI8Jo2zDCY3ZjwbwugkDQiFRBMfo2whTNVUFkxKBB3cUuQWwrCcI6jqpBscSNPypm60Ed0JVBdTsEwlsr/8DAVjQ+JsvXPw6fLcHoAcFBxpW4QNWsUT87rNxByLhOQDm7yEHsN0VBF3gAQvMk0j95dMNB8xyzwZbT8b4cUWfBWEOZQfEb8UBVJmVBCmI1QUxpHsHVKR7Ca0X3QQS6xsH66/3BIPM2weqaNEIErJI/CsWewTYTusHUo8DBSprowT5KA8KVxgXBlIAFQA4BSkEEqtNBhvSAQBCSJsEYGUPA8e8NwpO2jcFFCafBOFKsQWsJlb7o20HBJRRnQZL9OMLiD35Bvm5Pwe4nqkGCSbRAmyR8QQmofb8x0aPAUy7Zv1aPj8AJ3cDBx5CGP70cLUF+UnzB7XxVwE9c48EH/CdBHu6eQRPuV8EO2wRBr3oQwkTPdcHpNW7Bj4+UwRAIzMEI4qdAVnMUQoM9C8J2hJPBSVrcwQqeZsHsieDBiWBaQSnRzUBtZw3Aw+fuwVyP7MGjPJ9AQ+L2wGoUgsE1yrPBj7n2wHJ0EMK8a6lB6zcfQTj32MHyxAzCfvmOP1l6MsG9XbLAqfO1v8h/vj8Z78vALKcDwlInEELhH4BBYxTHwCI2hMGofzZCkyMcQWeCjUE+5nbBu1U3QgbygcF8b7nBojK1wUjRDkJipDhBI2xVQfpAAEIbUHTAK3E7vwb9hkGAVFvBLfb1QZ+jAcJtP/xAg7sdQADTn0AJCILB6gONPg1+jUBku+DBS1SowZ0v90HqNJpBBRS5weB1GsKKgxVBww2SwCbtmMHW7TZBMq0YwWEK2cHa9sI9pQtKwUWDq0Gm/ZxBtvrkQfBTC8I5z6XB0SZ5wa8AnMF4aLtA3gohQZvcB8G84aLB9e9lQaAUsMFmRQ/Cm7IJQa1c7EFDQG7BL78LwnRKzsEbEwJCdLy8QWagsMGnccjB5YPyQRV7psFgK5XAcJD9wQSVVUCiYYjB5Ue8QSfg2MHzyR7BCQZCwNzoMkDadXA/wV6hwdSzRkH1bbBBYSEeQXnNGcE4A67BMMcWwZs5okFkfCe/0k+YQftppcGEe81BRO5GwZIQ+cGGWa1BNv83wg1EAsKbyqRB++GzPzaelEDdFKDA1CFQQGAMzMEvqQ1Bq7hWwYPXlsHPMRrCfsHHQWfMIcK6MgXCfGC3QOjRWD8Qth3B+2QiQfbm9UHvmsnAvvyuwAGgE8Ee8LzBAMsRwr5baUGMCznAaSIQwVTk0sBJo50/cnu8QbBM28CpSxPBl9KmQVQzGsIAjc9BbdMDQUMOu0GMaZjB9r5aQTQAbcH0w5BBTkcLwgkm3MGQqLVAGhAlQHzf0UEBvYRBQxlOQXccEUFoCwzCeXa/QYw4vUBka9vBFb8PwMP1Q8Gc0q5AgLceP0PtLcD9SsVA+W3fQYKzq0G5LOtAqBjrwX1VtMFMx7xBJXUBwiBmSsEqtf7BgLvDwZIiJUGO1gJC+kqjvlRwqD8VxgrCUS2/wRGZK8J5LrS//iJZQbAHUUEAUn1BSZ0swVMQmD8oTQfCPc+hQC2ki0CYo+hARMDAvzJ9ckHAsQxCll6ZQX+jw8B9I+lAKXWmwamDUsE0gBVCpEf2QPtF1UC3FMTBx02jvys9C0F1NIHBlHu5v9jfyMHWYRzBbD0yQYtz30B6JubAigxyQDRs2UF1f8FB71awQcRnH8JfTUNB+q9awS6JLkBg8sXB6VwuwryytkDosCfCJVIjQYsDA8IOI0VBrceoQdLaJcEGwwHCG7UYwLSfJ0KmRkPBMm7hwAUBPUE0Mo5BaOi8wRabi8GGLtJB+MsZwvv4mUAjgS5C1h/JQfKnr0Am3PHBNI9owUwp08CdVBHAO3ESwRPaE8KLHyHCVIgFwS2VpMH1oSzBCz/sQNfqI8HkcibCgNyzQZgu7EFVra5ACT+JwRLAo8H9XctBeRGhQeoNJUGGOn9BCbydwUN+xMBJItJBT5KrQUc1X8EdnshBKawIwtGclL7/Ut9A+AUOQnpEhsHrIgtBV6c7Qbtml0Cs36NBlKLGQRsXp0HHczvBzFooQmMx4cFoFAhA9Ip4Qblrm0Ge24FBQSiPQZmjHsI5CAtCnPKswTPt/ECR8IzBY+okwSUCD0D3HEVBy4b4wAChh0A6UbZB2mjqwbAp1UA3BEJAuCuXQdi5kkGneabBDtK4QTMBoEEPTcdALEgbwZBpmj9NOKPBiMKgweEiKsFvcRPCpZWsQdCkNL95j6pAz6ObQdHSY8FqZdvBgLyzQU/9osE81SBBAC/GQFhknUCHoR5Bjyy7QTKksEGdegLCz75GQQ8HDME0kvG+fLUVwaS3E0JivwXC9iC0QdBTtMFyPC3CaBaqwNw2qcB+3yXB41yzwT2uesHbNYFBRZImQVlYyUFz7bTBRg4Bwrwu1MGUXGVBjDTHwfsES0CsfORBzmtkwBGetsHLYMpAuqXxQeL4BEJ/Z3fBFyeMwaWPfMGK2RhBmaYtQlxAdsGguTlCOOQZwnvxkEHWJfQ/BeSNwbNq/cEtm6BBkH3NwTyf7T9I2u3BKqoDwYBxZ8HPN7XBPrGhwL3lRD/rz8nBq+6TwbUxE0Kk/jJCuzHfwBxdG8KiAnPBPDk1wSv5vMEZCw9BBksVwqFvqsE2uzdCi/O4wQKCHcFNUBFBCdjyQP6w0EAMiyxB1tyUwSbSAEHFJgDC0PZrwMPZ2sBEnDnAt7ziu5MN68CWyYTBrDPKwcRxIEFkdtdAfwrTwX2OfMDpqQPCc7ruwGUyK0FqqxLB+2zHwfY67UHDE/4+mC8NQArsMsHHd6bBBT/ZQdvoKMLkss3B4xUYwTI0AsIJBk1ARzYBwVb6u0GVdjPC+7+TQPGuxsDwyh7ChgLqwWAFDkJRju08/621QZ4KAcHpJonB5P2gwa2htkFOWu5BU00HwYqvBMHdlNpBLuL5wbW6CcJQqJ7Br46pPxtTkEGj+azBrwyTwW+6BsLTSD/BSGU3QeIIAsIfNXxBp+jfwR6Gm0AQow1BobuiQU7BbL8Ox71BQhrowcwOxb/XzIpBlGPewYqK78FuygFCjrUnwnM0CkHsFYjBvykCQj5By8GNNTbBhMUTQryXl8AbZgNCr6olwjg2fUFN6ppB/9EpwHoJDUGDjp9B4Dw3QGj4D7+bPl7B4nmVQa7XBEFsaHXBH+53wImn7EGqcdvB757YQNipgkBHqRTCeqE0QmzXmEC8BKVBvJYWwqczPEEZ8E7AMsSyQVKUekFiSy1C5xjlQBzwN0FN+qZAMN+7QTVX4MBvPJNB2YU5QceC98FkRYzB99alwUupjz+MjTRBzLkFQqCPDsJtGGnBSlpFwfrTKMImgabB734CwqDlmsEEx4A/UuYBQiQdhMD4/mpBk3sGQYKjfkHSBuLAJRiJwS6kh0AkiCrCppEgwdLKmcE8N6RAgUE3QXgc6cEKvbPBDgm7vh9KUsF/FQHClwr4wY4/AsJMBJfBLPPRQAkLI8I0iI5Bx4cSQgxaIEGZyQFCzyQhQhWen0EY0JrAmYcLQen+JUFdm+fBxzqsQHxZnUB2QwXBSFQ6wGD/dUAKFKK/hSO4wdPSmUHzq5ZBIaRhwZEzqsEYDQNCobVMwJsutL+hIMJBfGpZwcgeyMGISonATQ0pQMp1ukE2kHZB0WMPwUkGQcBFiwvA0ISYQSXQK0FyroNAsEOOwV5ZpcFWuj5CckuAQFEkE0G3mVdB3leXwcxsG0LCFDpBDQxZwSk4dUGKXb/ByGsJwQ8+1sDfbc7Bn4sKQilclcE3hOhAAtMDwA3FvsEUacRBaKK1QBBZhECFMYQ/g0qHwdJD/sHs4vM/5D0Jws/ctMGvdZi/TI0mwal02EEJPLdBjo8KQShPa0CMKYbBYCMmQYYQc0ExpZHAd5+6wXUjLkEt7mlB31z4QPChPEKB4RvCJ4/HwfwqAsDRkCpBLIzTQNmZUsARuKc/9OfZwVwRAsEOXw7BvlpLwRHzs8HCSZbBAEU0QUM+HsGpXh7BNPeVQdaq/kB8SD5BBQCuQW/1gkGl0blBMGdSQZshGUKkJDrBFsAKwpTPhUGkZenB3l2VwZUz5sHqPr9A+WTYQSD12kHouS7A4oMZQau4f8EFSwBCf/sCQvDp20EcrPfAGN+EQEA1AkEqPZBA4U/KwUXoBMKeAEtBxQVowPeqkcGoy9DBkfgFwmEWVMGfbSHB7yqvwXVcIEGRZrZBOoatQXwR5cAKWRLBPrAAwloopL4cvEtBT2ouQeVtBEKo/OXB81HjQXbxwsBfZcLAMT8OwQLNIME093PBK5+gv/gvOsGzfajBGTlsQUKnrkBx6KbBBj8xQtVdicA7YZPBwreRQKJZZkA2A5ZBEZHJv2JeAEICSU9AsEDgwbqkFcBKIb48y+DqwCcYL0A9/lHBbbgGwnd3X0FtNBRB11IUQvIEvMHL9AZBS5KowZEieMGe8/dBwd20QJ3BfMGJ5dDAg2EfwNZoisHWlkE/2b2HwAQzDcBCjXhB4GsGQjYmu8HZkOvB+QibQVR/pcGfgYvBn+E8QMRZR8HfX2jB7rgQQLZcOMJrNdTBKgv3wM7b8sGGmztAf2+gwDBE38HPs5LBnRYCQp3hE0IPBgZBTYX8vyzumUGPUAnCLziTQTj/ccGKF0pBLu91QeEfrcFh8u/B/FDSQUJF/0CLP63B+SnlwZA29kGkO8g/mOEtwCqSH8F/ByjC3EMSwoDLRMF2oc7AtKZ4Qd4czj5lOUHB0DozwjIizEHuwZ/BnATMQQA4l0FdSYRBlL8KQb30C8Ifk6RB57O+wD2p9L/h6eHB2GgaQddHpsDkcYVB8OEpQW68w0EdxDRCuSy/QCKVicGrIBHBlxGlQeQACEC+swJBhcGpQWoWMcJx90RBNPm2wTn5BsFXWEhB+XJ4QclSlEELnotB2zcYwo7p+sFogzxBMEreQRs5rEGHmPtBWPgiQMy1AEI8R+tAtGj6QemXHMGmr8NBqKZVwaZFN8FkCofBdLKVQV6vl0FN+8hBZKq5Qb+bpsFW74rBxMfcQa3240H9p/PBKQ8MQQ07R0FPv/xBb20Bwqvis0EWf0bBY73TQYwUpMBAIEJBSeQtwoUr98Eb4T/CsPhnwUeGBcKj7vXBhc2dQSdh6cDXSqBBM/ohwd/Mf0DQfQjCqt89QcP1DcFdSCLA2VKMwSJ4gEErtwjCdwWowXJtrkA6N6FBilUnQUKxHkE67GhB6hyKwZ8O2kB7lzHCywDSwfVlhsAM4gZCfQYxQfl860Ha3CFBUoTQwegwsUD3RbjBA3E4wYgTHUAWgbbAwRHCQQHXLMLZrv3AUDDtQJ8NZcCK7pXBecvLwVum78HIrxrCzUGMQHgbukFVREe/P4Mtwd0ivsFT4lvB54xkwaWg6ME2t6dBkmyaQOJnGkAqcgnCTnoMwdafgkEKZ31AiNBJQbnkc0GxvVXBh3pCwZeaAMFy6e7AqfrPwQENHMK//AFB083YwHvVy8HZmflBxnxAwSKqFkJCxOrBBY0wwuwp1MGXCsFBTAZqQQnxe8HF7p1BBeisQSrwl8GRarbAbPeDwcoZP8HxF1FBFsWQwSdy3MGkOGTBgRjnweVXK0FIBVhBxyFHQXn9SsHgeJ6/ol3wwZYxuEAqYCXBW560wcCipcHC/KJBCfXYwf9s30FBNyFBo+VTwfKFIMLyUlnBVFFbwSjZAELslBHB/FKQwc6n48D6Vb0+yMKiQenD7kCddwTCdCMewIVwI0FMGw1CS55wQcUwY8HZ8jZCRqecQcR2zUHBZbFAOFFHwZvedkHh5IbBczWpQZs4kL645zVCVBuxQYrwMkJb6DBCvOsCwT6i5UC3KeW/UGsUwH4OwMEDDQ/CWkaxwRcvK0F3I+zAMtLmwPfcCUGpI4dATyVVQadEp0A1NibBvk6ivzTkYMFU3p6+Xc4QwqItEMHNbNK/YIDRwWXwA0JbrnBBnPiYwIgoZ0EtS8W+ADLfQVDwhMC54K/BcacGwk4gpsFOhf1BjvfMwR1zK8LN5ZxBnEB4QM4ngkG5FwHBsGoLQeIobkDr2xpA4EAzwXjxeD96Sns+syslwOCMMsHP3qnArfokwX15t0Fkib3AzhC9QX2XmMFg1JNAa/GcwdOwjkH4GRbCvEeJQLf87sGTqmTBM7S0QJoAVUFBxTdCObzlQMo/D8GQTtZBLfdswRG+D8CtOCJCBQoKwkhXWUGDvvTBwjzrQKsDs0FZpkDBxDbVQSHvl0FA2DLBWtxuwUFCxUFURoXAC9STwMLlTEG0fwbCTZOEwauBtcAt+JlA9zkOQrdYqMGMOL7B0SsJwRR7wsFdcEFA+eRZQesOr8BQrwfBrwTOwcvgvcEbHTDBN47AQfjmHsEyfZTBXeOqwQ7VukG7lWU/dlXBQc/FsEEjReW/vayfQfurCUEuxC3CHp4JwpjqI8Lex35B7U3qwY3W5kEUMDPC6k6wwAe4CUFspPe/7qbeQDQqKEEOmU1CQ6yDQYdr18HGPrNBUwaHP/prPsIE3a5A3aBUQQz7X8FAeDTA9QdaQUF1okGsj/dB/L/TwT6w58CLO+xBhVKawekpncDVHVJBvNjVwLhaA0IIRIzBMOnzwDSzQkFJzqpATBTewaaeBsJPFwnC+4ZDwHNLykENesBBB2mTQUdW9MG00iFAnf71QAs2TUDbn97B/Lp4v8HA70BEJoxBS79bwO9tL8HXozZBszk4P+vCa0Gr8XtB8KkQQtge+UActRlB9CthwUyCu0F+c0VBjLAzwrzgY8CoNp9An32LwaSZ28HBXjBBUzsGwm0fkcCOiOI+5R8oQeBZJ8JDXYJB6h9XQc0nrD6ouQLC6o/HwPOZoEF92MXBgxDSwbcelsGhBazBNtPaQT/pQkGPMblBNkiBQApY/cDkYq9AKJ/OwT/jqMEiPzFC1MSmwVu8BMIUodDAq6aFwbASMkLcPglCiNrMwd6vhsG8h5jBDOzAQWsch8AyDNFB+VhzQAcMAECdxnM/k0cewYAyXkG9bLXBq3gGwej7OMK3WutAMySsQcKJk8HDB5nBxVvMQVUGi0FUSIVBgZAAQlVsp8EWVATA3g4jwo/zDsFI/sC/wt+CwU+FHb9ONRvBrFcaQU20jcErMz/BCNyFQc/yYcGT/pxBeVFFwRdH0cD+WTlCbieBwXcdGMKVDKJBSfm8wE7ZbEFZpgXB6nedQUqIhMGqavPAbfkUQq8wbUHoCFxBzH3dwd51aUAX2kDByslNwQCBiEHUvAdCEB0kwWyeAEJGiw/C+aN8wCly18Gvq4RA66njQNrJA8G+advBhGsFQu5eSEHyGZzAqc30Qf0ICEFEm5ZB5ZMiwS4p+8G8TQtBpa3rwS+PmEAdMZU/dQunPyWzecCT901B9PT0weQ9z0B8iYZAkSmcQBT9zj7LOyzBFOEMwlXXQkH/+aFBrRkTQDBQ2UFT4sFAlRmov7M2/EF+IQ/CrA4zwbCKrEF0uUXBZQn9wYfBjEHvZRvCzOjCQeUGCcJvPePBNNcewi43zMEK2SrC0CwBQjwNVkGk1ty/iSj8wRl07sFb/QVCOZy0wUnkwkFyRXtB56HQwP3eAUJUMCdBA9/WQYt3cEFVp0ZBQosVwA1lsUEUrChCpWMwQpZ8jkAC/JLAcz2VP4EMeED7HhfChGMaQfBtb0EnAvPAlYFdwa4HlsG7eYDBPXwAQfBm0EGSeXhBs/UbwW7NC8IoLlbBs/QFwOlrDMLscPVBbUrNQD1eB8JKNXo/HnsBwqUWwTzLiPxArwUCwid5/MGEJBHCG1m/QH7bwMHk8bFAnH6+Qbi9v0CkhwjC92EfQZ5XasGC4e1AIP2WwZnM10AqGbtBKIBswHlb6UETSkZBXYqnP4k6HsGb7hBBJJuHwRl05UFx0KBBxQKxwYfw6kGbignAXD4NQdc0AkKjfONBbwj3wKeVycFBcHZB3xHmP5LumcEL9sdB15pqQIVUb0H8d5LB9dgowc9zMcIjs83AcelUP96PKz2v9+TBDdAAwldp4UHOqs5AlrUdQlXuD8CYnQZCONMCQlxwp0EwxPnAfZ/BPRME5UF565w/weHawFTKlkGXbj5AG5iNv/bEbMDMixJBTLKRwbxGjMCrANLB0kmVQcFTRsE0YQfCwXuwwHy8HUE7HQBCxEF5wWu+6sFrVh5CuxsLwZzH2ruYdlLBbpT3wVACNsG5i8fAJNfKQLpEYMGHHhHB0YCGvg1V50HskMXB4vbMwcJXRcEFnozAfFRCQWLXI8DWIaZB4HAkQXRnMsJ755fA3rCGwSr/jkFR43tBPmNNQVS5WUHW2QXBAPxSwNwWtkGiKUTBowuXQb4LbEH7i4nBjpt/waU1+b9pQS7B02/GwfQ1IkGCKODB27q2wSJEm0E6mcfBWT7PQGbb48FmgkfB+LzSPxMLHUIA02FB4rm2wW2vosEo3Xi/qJHSQXscqMFWJS/BUb8XQH84DMJ4WwlBrotKQQFjD8J76CfC29qUQGlBQ8G2EcHBsJLJwax5G8E0BfjBrbeWQXgK6EGbFQzCKKQIwqhjMsFZouTBerv5wRF6lkEFBM/BbSD2wXhaG0HfCHRAmCCzQVbf4sE6W4rB0usDwUM908EruhLBxhjfQZE0fkH0LKfBHFi5QTutscCFiQ7C7h9ZwSrRg0GLkJfB7mXvwa3WS8FgygXAPRtrQaAzocFMKaVBODpnP2QjAMJWPsxABWMbQSuc98ELVh/Bk6cVQCsDvUFYXyBCcLPsQDGukkA8OV3B/96uQF+ZAMG4/tFBMcqMwdhq/b8PXbTAOiLywbA/8cHoXRNBUuAQwGO5wMEhhVfBuQvowfCJsUA+pYhBXZhewBIQdMHd31lBoobDQfjcEsHPqxjCJQjHQH8avj05jcJAM9l4Pw1LRsDHtK4//U/RQfqH4MBiJ0xAOUUbwSKhjsEcwtbBhe0VwLBWl8G3hTRA4EwkwaTaZUBXDTJCNfbtQd4WrMD07cFBTTFpwcINHEAAc/lBIQ/dwM/6S8IcDL1BwDlwQVstw0HKPSdBMYokQXU7qUEbdxfCBSgyQYhfb0A9n/3BZBMBwh3PDMEumjbCB8uwvxX28UA9FRvB1mMwwjBnVMHoBO/BEXOlQaup8j9IRlxBe45SQEuoCcKzkJXB/1sWQUq/s8Eu0TnBfcQNQAV0vkAsuJDA6s+SQS4FF8JTRXDAPm57QWa0McKxDLXBpInfwaNpbsHrdQHB+k2xwUdKhkHbIOTB6AoUwszcPsAR2AvC1rDPQar37kES4dhBJ0GJwUQHIcJkSu7AA54Nwm2j7MBSjrxBMu4RwKoWXUFU7SpBxlaQQOMUysFYwETBsw0OwsvqGMChJ2ZBVQw4wF98mEFOI8vA8Cs5wYS9ikFaq2jBUE7twXf10EECSH5BVuKcQarhysEZ1jZBj0cdwvo1DkINZwBA9EUOwdTZ4cDOfb7B2D2bQb5h2EFltArBJewNQtMZ3cFEQLDALeMmQSypBsKZpLDB+rMlwlp6SkAqsALCLVmmwTOquEHGfS3ADrxmwRei8MB0KezB2kIrwjGLBkJJFL3AA80HQi1MAsKKjQfCVruRwRBPm0A=\",\"dtype\":\"float32\",\"shape\":[5000]}},\"selected\":null,\"selection_policy\":null},\"id\":\"7dddb78d-d635-4585-bc96-6e6e513d48e5\",\"type\":\"ColumnDataSource\"},{\"attributes\":{\"plot\":null,\"text\":\"A map of 10000 word vectors\"},\"id\":\"33d24251-77ba-464b-b0aa-8bd0e03f8d9f\",\"type\":\"Title\"},{\"attributes\":{\"callback\":null},\"id\":\"3f887442-f8a5-4960-9650-bd473c96f0c4\",\"type\":\"DataRange1d\"},{\"attributes\":{\"active_drag\":\"auto\",\"active_inspect\":\"auto\",\"active_scroll\":\"auto\",\"active_tap\":\"auto\",\"tools\":[{\"id\":\"fcec9281-7cea-4820-8947-0185ca1c9102\",\"type\":\"PanTool\"},{\"id\":\"7877562e-e893-4779-a29d-0c554d823d09\",\"type\":\"WheelZoomTool\"},{\"id\":\"a03a6d29-40e1-4863-a591-14358ce67d73\",\"type\":\"BoxZoomTool\"},{\"id\":\"b3e4da01-62ec-4272-a123-d4820064472e\",\"type\":\"ResetTool\"},{\"id\":\"89c70e12-c109-4f9b-8ecf-d714d4657560\",\"type\":\"HoverTool\"},{\"id\":\"0f0ae59c-6315-407b-a1f1-7afb1142b492\",\"type\":\"SaveTool\"}]},\"id\":\"5d3dd2a3-c73e-40de-bdb8-5da14b062267\",\"type\":\"Toolbar\"},{\"attributes\":{\"source\":{\"id\":\"7dddb78d-d635-4585-bc96-6e6e513d48e5\",\"type\":\"ColumnDataSource\"}},\"id\":\"7b23525c-1a34-4816-b562-b9213ec64073\",\"type\":\"CDSView\"},{\"attributes\":{},\"id\":\"fcec9281-7cea-4820-8947-0185ca1c9102\",\"type\":\"PanTool\"},{\"attributes\":{},\"id\":\"b3e4da01-62ec-4272-a123-d4820064472e\",\"type\":\"ResetTool\"},{\"attributes\":{},\"id\":\"0f0ae59c-6315-407b-a1f1-7afb1142b492\",\"type\":\"SaveTool\"},{\"attributes\":{\"fill_color\":{\"value\":\"#1f77b4\"},\"line_color\":{\"value\":\"#1f77b4\"},\"x\":{\"field\":\"x\"},\"y\":{\"field\":\"y\"}},\"id\":\"a125459a-a2dc-4d8a-bd26-d1cae253fb7f\",\"type\":\"Circle\"},{\"attributes\":{\"data_source\":{\"id\":\"7dddb78d-d635-4585-bc96-6e6e513d48e5\",\"type\":\"ColumnDataSource\"},\"glyph\":{\"id\":\"a125459a-a2dc-4d8a-bd26-d1cae253fb7f\",\"type\":\"Circle\"},\"hover_glyph\":null,\"muted_glyph\":null,\"nonselection_glyph\":{\"id\":\"d33facac-1041-4651-b778-b501ac4b3d81\",\"type\":\"Circle\"},\"selection_glyph\":null,\"view\":{\"id\":\"7b23525c-1a34-4816-b562-b9213ec64073\",\"type\":\"CDSView\"}},\"id\":\"a89be3c3-52a4-42d9-9da5-408f4e42e0de\",\"type\":\"GlyphRenderer\"},{\"attributes\":{\"fill_alpha\":{\"value\":0.1},\"fill_color\":{\"value\":\"#1f77b4\"},\"line_alpha\":{\"value\":0.1},\"line_color\":{\"value\":\"#1f77b4\"},\"x\":{\"field\":\"x\"},\"y\":{\"field\":\"y\"}},\"id\":\"d33facac-1041-4651-b778-b501ac4b3d81\",\"type\":\"Circle\"}],\"root_ids\":[\"e3cd2e46-0ee2-49d0-a1ba-c323f798917c\"]},\"title\":\"Bokeh Application\",\"version\":\"0.12.15\"}};\n",
       "  var render_items = [{\"docid\":\"8ff356b6-c3e3-4e53-a846-9b5a22e82ef7\",\"elementid\":\"b0edcf24-f7ac-4d30-8872-636ac4da11a3\",\"modelid\":\"e3cd2e46-0ee2-49d0-a1ba-c323f798917c\"}];\n",
       "  root.Bokeh.embed.embed_items_notebook(docs_json, render_items);\n",
       "\n",
       "  }\n",
       "  if (root.Bokeh !== undefined) {\n",
       "    embed_document(root);\n",
       "  } else {\n",
       "    var attempts = 0;\n",
       "    var timer = setInterval(function(root) {\n",
       "      if (root.Bokeh !== undefined) {\n",
       "        embed_document(root);\n",
       "        clearInterval(timer);\n",
       "      }\n",
       "      attempts++;\n",
       "      if (attempts > 100) {\n",
       "        console.log(\"Bokeh: ERROR: Unable to run BokehJS code because BokehJS library is missing\")\n",
       "        clearInterval(timer);\n",
       "      }\n",
       "    }, 10, root)\n",
       "  }\n",
       "})(window);"
      ],
      "application/vnd.bokehjs_exec.v0+json": ""
     },
     "metadata": {
      "application/vnd.bokehjs_exec.v0+json": {
       "id": "e3cd2e46-0ee2-49d0-a1ba-c323f798917c"
      }
     },
     "output_type": "display_data"
    }
   ],
   "source": [
    "# importing bokeh library for interactive dataviz\n",
    "import bokeh.plotting as bp\n",
    "from bokeh.models import HoverTool, BoxSelectTool\n",
    "from bokeh.plotting import figure, show, output_notebook\n",
    "\n",
    "# defining the chart\n",
    "output_notebook()\n",
    "plot_tfidf = bp.figure(plot_width=700, plot_height=600, title=\"A map of 10000 word vectors\",\n",
    "    tools=\"pan,wheel_zoom,box_zoom,reset,hover,previewsave\",\n",
    "    x_axis_type=None, y_axis_type=None, min_border=1)\n",
    "\n",
    "# getting a list of word vectors. limit to 10000. each is of 200 dimensions\n",
    "word_vectors = [tweet_w2v[w] for w in tweet_w2v.wv.vocab.keys()[:5000]]\n",
    "\n",
    "# dimensionality reduction. converting the vectors to 2d vectors\n",
    "from sklearn.manifold import TSNE\n",
    "tsne_model = TSNE(n_components=2, verbose=1, random_state=0)\n",
    "tsne_w2v = tsne_model.fit_transform(word_vectors)\n",
    "\n",
    "# putting everything in a dataframe\n",
    "tsne_df = pd.DataFrame(tsne_w2v, columns=['x', 'y'])\n",
    "tsne_df['words'] = tweet_w2v.wv.vocab.keys()[:5000]\n",
    "\n",
    "# plotting. the corresponding word appears when you hover on the data point.\n",
    "plot_tfidf.scatter(x='x', y='y', source=tsne_df)\n",
    "hover = plot_tfidf.select(dict(type=HoverTool))\n",
    "hover.tooltips={\"word\": \"@words\"}\n",
    "show(plot_tfidf)"
   ]
  },
  {
   "cell_type": "code",
   "execution_count": 20,
   "metadata": {},
   "outputs": [
    {
     "name": "stdout",
     "output_type": "stream",
     "text": [
      "building tf-idf matrix ...\n",
      "vocab size : 23032\n"
     ]
    }
   ],
   "source": [
    "print 'building tf-idf matrix ...'\n",
    "vectorizer = TfidfVectorizer(analyzer=lambda x: x, min_df=10)\n",
    "matrix = vectorizer.fit_transform([x.words for x in x_train])\n",
    "tfidf = dict(zip(vectorizer.get_feature_names(), vectorizer.idf_))\n",
    "print 'vocab size :', len(tfidf)\n"
   ]
  },
  {
   "cell_type": "code",
   "execution_count": 21,
   "metadata": {},
   "outputs": [],
   "source": [
    "def buildWordVector(tokens, size):\n",
    "    vec = np.zeros(size).reshape((1, size))\n",
    "    count = 0.\n",
    "    for word in tokens:\n",
    "        try:\n",
    "            vec += tweet_w2v[word].reshape((1, size)) * tfidf[word]\n",
    "            count += 1.\n",
    "        except KeyError: # handling the case where the token is not\n",
    "                         # in the corpus. useful for testing.\n",
    "            continue\n",
    "    if count != 0:\n",
    "        vec /= count\n",
    "    return vec"
   ]
  },
  {
   "cell_type": "code",
   "execution_count": 23,
   "metadata": {},
   "outputs": [
    {
     "name": "stderr",
     "output_type": "stream",
     "text": [
      "  0%|          | 0/799677 [00:00<?, ?it/s]/Users/akanshajain/miniconda3/envs/w2v/lib/python2.7/site-packages/ipykernel_launcher.py:6: DeprecationWarning: Call to deprecated `__getitem__` (Method will be removed in 4.0.0, use self.wv.__getitem__() instead).\n",
      "  \n",
      "100%|██████████| 799677/799677 [04:54<00:00, 2716.47it/s]\n",
      "100%|██████████| 199920/199920 [01:14<00:00, 2680.92it/s]\n"
     ]
    }
   ],
   "source": [
    "from sklearn.preprocessing import scale\n",
    "train_vecs_w2v = np.concatenate([buildWordVector(z, n_dim) for z in tqdm(map(lambda x: x.words, x_train))])\n",
    "train_vecs_w2v = scale(train_vecs_w2v)\n",
    "\n",
    "test_vecs_w2v = np.concatenate([buildWordVector(z, n_dim) for z in tqdm(map(lambda x: x.words, x_test))])\n",
    "test_vecs_w2v = scale(test_vecs_w2v)"
   ]
  },
  {
   "cell_type": "code",
   "execution_count": 25,
   "metadata": {},
   "outputs": [
    {
     "name": "stderr",
     "output_type": "stream",
     "text": [
      "Using TensorFlow backend.\n"
     ]
    },
    {
     "name": "stdout",
     "output_type": "stream",
     "text": [
      "Epoch 1/9\n",
      " - 43s - loss: 0.3512 - acc: 0.8531\n",
      "Epoch 2/9\n",
      " - 43s - loss: 0.3378 - acc: 0.8591\n",
      "Epoch 3/9\n",
      " - 43s - loss: 0.3344 - acc: 0.8605\n",
      "Epoch 4/9\n",
      " - 43s - loss: 0.3325 - acc: 0.8615\n",
      "Epoch 5/9\n",
      " - 44s - loss: 0.3312 - acc: 0.8616\n",
      "Epoch 6/9\n",
      " - 43s - loss: 0.3300 - acc: 0.8625\n",
      "Epoch 7/9\n",
      " - 43s - loss: 0.3292 - acc: 0.8628\n",
      "Epoch 8/9\n",
      " - 43s - loss: 0.3285 - acc: 0.8632\n",
      "Epoch 9/9\n",
      " - 46s - loss: 0.3278 - acc: 0.8635\n"
     ]
    },
    {
     "data": {
      "text/plain": [
       "<keras.callbacks.History at 0x1492be5d0>"
      ]
     },
     "execution_count": 25,
     "metadata": {},
     "output_type": "execute_result"
    }
   ],
   "source": [
    "from keras.preprocessing.image import ImageDataGenerator\n",
    "from keras.models import Sequential\n",
    "from keras.layers import Dense\n",
    "from keras.layers import Dropout\n",
    "from keras.layers import Flatten\n",
    "from keras.constraints import maxnorm\n",
    "from keras.optimizers import SGD\n",
    "from keras.layers.convolutional import Conv2D\n",
    "from keras.layers.convolutional import MaxPooling2D\n",
    "from keras.utils import np_utils\n",
    "from keras.callbacks import Callback\n",
    "\n",
    "model = Sequential()\n",
    "model.add(Dense(32, activation='relu', input_dim=200))\n",
    "model.add(Dense(1, activation='sigmoid'))\n",
    "model.compile(optimizer='rmsprop',\n",
    "              loss='binary_crossentropy',\n",
    "              metrics=['accuracy'])\n",
    "\n",
    "model.fit(train_vecs_w2v, y_train, epochs=9, batch_size=32, verbose=2)"
   ]
  },
  {
   "cell_type": "code",
   "execution_count": 38,
   "metadata": {},
   "outputs": [
    {
     "name": "stdout",
     "output_type": "stream",
     "text": [
      "0.8589885954477158\n"
     ]
    }
   ],
   "source": [
    "score = model.evaluate(test_vecs_w2v, y_test, batch_size=128, verbose=2)\n",
    "print score[1]"
   ]
  },
  {
   "cell_type": "markdown",
   "metadata": {},
   "source": [
    "# Testing on our Query"
   ]
  },
  {
   "cell_type": "code",
   "execution_count": 66,
   "metadata": {},
   "outputs": [],
   "source": [
    "def wtokenize(tweet):\n",
    "    try:\n",
    "        tweet = unicode(tweet.decode('utf-8').lower())\n",
    "        tokens=word_tokenize(tweet)\n",
    "# #         tokens = tokenizer.tokenize(tweet)\n",
    "#         print(tokens)\n",
    "#         tokens = list(filter(lambda t: not t.startswith('@'), tokens))\n",
    "#         tokens = list(filter(lambda t: not t.startswith('#'), tokens))\n",
    "#         tokens = list(filter(lambda t: not t.startswith('http'), tokens))\n",
    "        return tokens\n",
    "    except:\n",
    "        print \"reg\""
   ]
  },
  {
   "cell_type": "code",
   "execution_count": 67,
   "metadata": {},
   "outputs": [],
   "source": [
    "def buildWordVector1(tokens, size):\n",
    "    vec = np.zeros(size).reshape((1, size))\n",
    "    count = 0\n",
    "    for word in tokens:\n",
    "        try:\n",
    "            vec += tweet_w2v[word].reshape((1, size))\n",
    "            count += 1\n",
    "        except KeyError: # handling the case where the token is not\n",
    "                         # in the corpus. useful for testing.\n",
    "            continue\n",
    "    if count != 0:\n",
    "        vec /= count\n",
    "    return vec"
   ]
  },
  {
   "cell_type": "code",
   "execution_count": 99,
   "metadata": {},
   "outputs": [],
   "source": [
    "query=['35 crore people shun open defecation in a matter of 3.5 years! Follow this page to follow real-time updates on #SwachhBharat']\n",
    "query=word_tokenize(query[0])\n"
   ]
  },
  {
   "cell_type": "code",
   "execution_count": 100,
   "metadata": {
    "scrolled": true
   },
   "outputs": [
    {
     "name": "stderr",
     "output_type": "stream",
     "text": [
      "/Users/akanshajain/miniconda3/envs/w2v/lib/python2.7/site-packages/ipykernel_launcher.py:6: DeprecationWarning: Call to deprecated `__getitem__` (Method will be removed in 4.0.0, use self.wv.__getitem__() instead).\n",
      "  \n"
     ]
    },
    {
     "data": {
      "text/plain": [
       "array([[-3.03265501e-01, -1.17426710e-01,  9.57767115e-02,\n",
       "        -1.99453651e-01, -3.56789869e-01,  1.02993995e-01,\n",
       "         4.50830157e-01,  8.55580411e-04, -6.55356174e-01,\n",
       "        -5.02624939e-02,  3.47901658e-01, -2.59610134e-03,\n",
       "         2.02734186e-01, -1.13517616e-01, -3.67891725e-01,\n",
       "        -4.81679191e-01,  4.44278722e-01,  4.55893563e-02,\n",
       "         7.37217411e-01, -8.53219789e-02, -1.23548228e-01,\n",
       "        -1.14641660e-01,  1.24547989e-01,  3.21938319e-01,\n",
       "        -3.21812696e-01,  1.97158147e-01, -5.02050223e-01,\n",
       "        -5.80615336e-01,  5.96601237e-01, -1.80007264e-01,\n",
       "        -4.57968782e-04, -7.95456339e-01,  4.02354458e-02,\n",
       "         1.24362146e-02,  2.29759424e-01,  1.55673368e-01,\n",
       "         3.41849017e-01, -2.34683940e-01, -5.61971924e-01,\n",
       "         2.11887871e-01, -1.59208750e-01, -4.07688349e-01,\n",
       "         1.91239728e-02, -1.66312356e-01, -1.18925300e-01,\n",
       "        -2.80435296e-01,  1.92287106e-01, -1.10682053e-01,\n",
       "        -4.70230873e-01, -1.73964416e-01, -1.32152184e-01,\n",
       "         5.17854249e-01, -1.91388982e-01, -6.03105479e-01,\n",
       "         9.92495748e-02,  8.79066766e-03,  1.85739067e-01,\n",
       "         1.19018130e-01,  5.47332648e-01,  2.42360101e-01,\n",
       "        -1.35314256e-01, -9.50742575e-01, -6.36073477e-01,\n",
       "        -9.95747083e-01,  8.83390267e-02, -3.16253341e-02,\n",
       "        -3.69131472e-01,  6.10970342e-02, -5.65306814e-02,\n",
       "        -5.19982782e-02, -4.87778499e-01, -3.32208867e-01,\n",
       "        -5.15645273e-02, -3.45970592e-01,  3.51229980e-01,\n",
       "         4.06193206e-01,  1.19937447e-01,  2.66968990e-01,\n",
       "        -2.25021037e-01,  4.66455500e-01, -6.17688355e-01,\n",
       "        -5.35377466e-01, -1.94875069e-01,  9.89433779e-02,\n",
       "        -2.30242945e-01,  2.64698510e-01,  1.27610279e-01,\n",
       "        -1.58700654e-01,  1.86474805e-01,  7.42937870e-02,\n",
       "         3.98229856e-01,  8.90292749e-01, -3.20818566e-01,\n",
       "        -5.25112121e-01, -2.16627596e-02,  1.87579798e-01,\n",
       "         2.21403253e-02,  5.22529811e-01, -6.36751352e-01,\n",
       "         3.46166919e-01,  1.13628102e-01,  1.52254591e-01,\n",
       "         3.77946258e-01, -4.27885992e-02,  6.09339402e-01,\n",
       "         2.31171078e-01,  5.78143401e-01,  7.93633614e-02,\n",
       "        -3.35096297e-01,  2.66644252e-02, -2.77008890e-01,\n",
       "         1.11370961e-02,  2.64262247e-02,  1.38216758e-01,\n",
       "        -5.48183173e-02, -4.09474237e-01, -2.74843541e-01,\n",
       "         2.27605524e-01, -3.11397796e-01,  2.52956863e-02,\n",
       "        -3.13137485e-01, -8.39660613e-02, -5.70499924e-01,\n",
       "        -2.98151410e-01, -2.94197311e-02, -2.08923448e-01,\n",
       "        -8.14663826e-01, -3.10321860e-01, -2.12739678e-01,\n",
       "         1.89188346e-01,  4.81346165e-02,  8.64612048e-02,\n",
       "         2.24405139e-01,  1.55668491e-02,  1.03322802e-01,\n",
       "        -8.22724212e-01, -1.86537327e-02, -2.93873066e-01,\n",
       "         3.07660847e-01, -9.99230225e-02, -4.26879406e-01,\n",
       "        -7.57726132e-01,  1.63668193e-01, -5.87226572e-01,\n",
       "         3.76234438e-01,  2.26691849e-01, -4.00932391e-01,\n",
       "         3.03324957e-01, -1.41021260e-01,  1.08228076e-01,\n",
       "         3.12399693e-02,  3.97296665e-01,  4.39340755e-02,\n",
       "         4.96110496e-01, -1.24689830e-01,  1.40987826e-01,\n",
       "        -1.66397360e-01,  1.77972838e-01, -4.01481205e-01,\n",
       "         1.01323476e-01, -6.25940682e-02,  1.30790801e-01,\n",
       "         3.54710698e-01, -3.75532668e-01, -3.11575484e-01,\n",
       "        -6.43605691e-02, -3.04542717e-01,  3.99722913e-01,\n",
       "         3.94869354e-01,  4.35540956e-01, -2.49528825e-01,\n",
       "        -2.12406174e-01,  1.07785388e-01,  3.46775505e-01,\n",
       "        -2.02448355e-01, -2.57342211e-01, -5.90059757e-01,\n",
       "         3.92446450e-01,  2.00069457e-01, -1.99495134e-01,\n",
       "        -5.59043524e-01, -9.63182643e-01,  3.10151062e-01,\n",
       "        -2.33569511e-01,  1.65522311e-01,  3.24235517e-01,\n",
       "         1.64911763e-01,  1.45082038e-01,  6.17123785e-02,\n",
       "         3.58054243e-01, -1.54086890e-01,  1.95948498e-01,\n",
       "        -1.29878629e-01, -2.49997186e-01,  5.05601482e-01,\n",
       "         7.69113750e-02, -8.79713530e-02,  9.04165666e-02,\n",
       "         2.33084218e-01,  9.91298939e-02]])"
      ]
     },
     "execution_count": 100,
     "metadata": {},
     "output_type": "execute_result"
    }
   ],
   "source": [
    "query_vecs_w2v = buildWordVector1(query, n_dim)\n",
    "query_vecs_w2v"
   ]
  },
  {
   "cell_type": "code",
   "execution_count": 101,
   "metadata": {
    "scrolled": true
   },
   "outputs": [
    {
     "data": {
      "text/plain": [
       "array([[0]], dtype=int32)"
      ]
     },
     "execution_count": 101,
     "metadata": {},
     "output_type": "execute_result"
    }
   ],
   "source": [
    "model.predict_classes(query_vecs_w2v)"
   ]
  }
 ],
 "metadata": {
  "kernelspec": {
   "display_name": "Python (w2v)",
   "language": "python",
   "name": "w2v"
  },
  "language_info": {
   "codemirror_mode": {
    "name": "ipython",
    "version": 2
   },
   "file_extension": ".py",
   "mimetype": "text/x-python",
   "name": "python",
   "nbconvert_exporter": "python",
   "pygments_lexer": "ipython2",
   "version": "2.7.14"
  }
 },
 "nbformat": 4,
 "nbformat_minor": 2
}
