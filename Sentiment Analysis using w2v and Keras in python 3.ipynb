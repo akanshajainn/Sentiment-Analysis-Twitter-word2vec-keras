{
 "cells": [
  {
   "cell_type": "markdown",
   "metadata": {},
   "source": [
    "# Imports"
   ]
  },
  {
   "cell_type": "code",
   "execution_count": 1,
   "metadata": {
    "scrolled": true
   },
   "outputs": [
    {
     "name": "stderr",
     "output_type": "stream",
     "text": [
      "/Users/akanshajain/miniconda3/lib/python3.6/site-packages/h5py/__init__.py:36: FutureWarning: Conversion of the second argument of issubdtype from `float` to `np.floating` is deprecated. In future, it will be treated as `np.float64 == np.dtype(float).type`.\n",
      "  from ._conv import register_converters as _register_converters\n",
      "Using TensorFlow backend.\n"
     ]
    }
   ],
   "source": [
    "import pandas as pd # provide sql-like data manipulation tools. very handy.\n",
    "pd.options.mode.chained_assignment = None\n",
    "import numpy as np # high dimensional vector computing library.\n",
    "from copy import deepcopy\n",
    "from string import punctuation\n",
    "from random import shuffle\n",
    "import pickle\n",
    "import h5py\n",
    "import json\n",
    "import matplotlib.pyplot as plt \n",
    "\n",
    "import gensim\n",
    "from gensim.models.word2vec import Word2Vec # the word2vec model gensim class\n",
    "\n",
    "from tqdm import tqdm\n",
    "tqdm.pandas(desc=\"progress-bar\")\n",
    "\n",
    "from nltk.tokenize import TweetTokenizer # a tweet tokenizer from nltk.\n",
    "from nltk import word_tokenize\n",
    "\n",
    "from sklearn.preprocessing import scale\n",
    "from sklearn.model_selection import train_test_split\n",
    "from sklearn.feature_extraction.text import TfidfVectorizer\n",
    "\n",
    "from keras.preprocessing.image import ImageDataGenerator\n",
    "from keras.models import Sequential\n",
    "from keras.layers import Dense\n",
    "from keras.layers import Dropout\n",
    "from keras.layers import Flatten\n",
    "from keras.constraints import maxnorm\n",
    "from keras.optimizers import SGD\n",
    "from keras.layers.convolutional import Conv2D\n",
    "from keras.layers.convolutional import MaxPooling2D\n",
    "from keras.utils import np_utils\n",
    "from keras.callbacks import Callback\n",
    "from keras.models import model_from_json\n",
    "\n",
    "\n",
    "# importing bokeh library for interactive dataviz\n",
    "import bokeh.plotting as bp\n",
    "from bokeh.models import HoverTool, BoxSelectTool\n",
    "from bokeh.plotting import figure, show, output_notebook\n",
    "\n"
   ]
  },
  {
   "cell_type": "markdown",
   "metadata": {},
   "source": [
    "# Loading Data"
   ]
  },
  {
   "cell_type": "code",
   "execution_count": 2,
   "metadata": {},
   "outputs": [
    {
     "name": "stdout",
     "output_type": "stream",
     "text": [
      "dataset loaded with shape (1599999, 4)\n"
     ]
    }
   ],
   "source": [
    "def ingest():\n",
    "    data = pd.read_csv('./trainingandtestdata/tweets.csv', encoding='latin-1') # Enter your file location\n",
    "    data.columns=[\"Sentiment\",\"ItemID\",\"Date\",\"Blank\",\"SentimentSource\",\"SentimentText\"]\n",
    "    data.drop(['ItemID', 'SentimentSource'], axis=1, inplace=True)\n",
    "    data = data[data.Sentiment.isnull() == False]\n",
    "    data['Sentiment'] = data['Sentiment'].map( {4:1, 0:0}) #Converting 4 to 1\n",
    "    data = data[data['SentimentText'].isnull() == False]\n",
    "    data.reset_index(inplace=True)\n",
    "    data.drop('index', axis=1, inplace=True)\n",
    "    print ('dataset loaded with shape', data.shape  )  \n",
    "    return data\n",
    "\n",
    "data = ingest()"
   ]
  },
  {
   "cell_type": "markdown",
   "metadata": {},
   "source": [
    "# Processing Data"
   ]
  },
  {
   "cell_type": "code",
   "execution_count": 3,
   "metadata": {},
   "outputs": [],
   "source": [
    "tokenizer = TweetTokenizer()\n",
    "def tokenize(tweet):\n",
    "    try:\n",
    "        tweet = tweet.lower()\n",
    "        tokens = tokenizer.tokenize(tweet)\n",
    "        tokens = list(filter(lambda t: not t.startswith('@'), tokens))\n",
    "        tokens = list(filter(lambda t: not t.startswith('#'), tokens))\n",
    "        tokens = list(filter(lambda t: not t.startswith('http'), tokens))\n",
    "        return tokens\n",
    "    except:\n",
    "        return 'NC'"
   ]
  },
  {
   "cell_type": "code",
   "execution_count": 4,
   "metadata": {
    "scrolled": true
   },
   "outputs": [
    {
     "name": "stderr",
     "output_type": "stream",
     "text": [
      "progress-bar: 100%|██████████| 1599999/1599999 [02:13<00:00, 11983.18it/s]\n"
     ]
    }
   ],
   "source": [
    "def postprocess(data):\n",
    "#     , n=1000000\n",
    "#     data = data.head(n)\n",
    "    data['tokens'] = data['SentimentText'].progress_map(tokenize)  ## progress_map is a variant of the map function plus a progress bar. Handy to monitor DataFrame creations.\n",
    "    data = data[data.tokens != 'NC']\n",
    "    data.reset_index(inplace=True)\n",
    "    data.drop('index', inplace=True, axis=1)\n",
    "    return data\n",
    "\n",
    "data = postprocess(data)"
   ]
  },
  {
   "cell_type": "markdown",
   "metadata": {},
   "source": [
    "# Labelise Data"
   ]
  },
  {
   "cell_type": "code",
   "execution_count": 5,
   "metadata": {},
   "outputs": [],
   "source": [
    "LabeledSentence = gensim.models.doc2vec.LabeledSentence # we'll talk about this down below\n",
    "\n",
    "def labelizeTweets(tweets, label_type):\n",
    "    labelized = []\n",
    "    for i,v in tqdm(enumerate(tweets)):\n",
    "        label = '%s_%s'%(label_type,i)\n",
    "        labelized.append(LabeledSentence(v, [label]))\n",
    "    return labelized"
   ]
  },
  {
   "cell_type": "code",
   "execution_count": 6,
   "metadata": {
    "scrolled": true
   },
   "outputs": [],
   "source": [
    "#Splitting for training and testing\n",
    "x_train, x_test, y_train, y_test = train_test_split(np.array(data.head(1000000).tokens),\n",
    "                                                    np.array(data.head(1000000).Sentiment), test_size=0.2)\n"
   ]
  },
  {
   "cell_type": "code",
   "execution_count": 7,
   "metadata": {},
   "outputs": [
    {
     "name": "stderr",
     "output_type": "stream",
     "text": [
      "800000it [00:05, 145977.28it/s]\n",
      "200000it [00:00, 255565.58it/s]\n"
     ]
    }
   ],
   "source": [
    "x_train = labelizeTweets(x_train, 'TRAIN')\n",
    "x_test = labelizeTweets(x_test, 'TEST') "
   ]
  },
  {
   "cell_type": "code",
   "execution_count": 8,
   "metadata": {
    "scrolled": true
   },
   "outputs": [
    {
     "name": "stderr",
     "output_type": "stream",
     "text": [
      "1599999it [00:09, 173723.07it/s]\n"
     ]
    }
   ],
   "source": [
    "data_labellised= labelizeTweets(np.array(data.tokens), 'data')"
   ]
  },
  {
   "cell_type": "markdown",
   "metadata": {},
   "source": [
    "# Builidng word2vec vocabulary and training"
   ]
  },
  {
   "cell_type": "code",
   "execution_count": 9,
   "metadata": {
    "scrolled": true
   },
   "outputs": [
    {
     "name": "stderr",
     "output_type": "stream",
     "text": [
      "100%|██████████| 1599999/1599999 [00:00<00:00, 2213272.08it/s]\n"
     ]
    }
   ],
   "source": [
    "n=1000000\n",
    "n_dim = 200\n",
    "tweet_w2v = Word2Vec(size=n_dim, min_count=10)\n",
    "tweet_w2v.build_vocab([x.words for x in tqdm(data_labellised)])"
   ]
  },
  {
   "cell_type": "code",
   "execution_count": 10,
   "metadata": {
    "scrolled": false
   },
   "outputs": [
    {
     "name": "stderr",
     "output_type": "stream",
     "text": [
      "100%|██████████| 1599999/1599999 [00:00<00:00, 2257754.66it/s]\n"
     ]
    },
    {
     "data": {
      "text/plain": [
       "85543180"
      ]
     },
     "execution_count": 10,
     "metadata": {},
     "output_type": "execute_result"
    }
   ],
   "source": [
    "tweet_w2v.train([x.words for x in tqdm(data_labellised)],total_examples=tweet_w2v.corpus_count, epochs=tweet_w2v.iter) "
   ]
  },
  {
   "cell_type": "code",
   "execution_count": 11,
   "metadata": {},
   "outputs": [],
   "source": [
    "#Save the w2v model\n",
    "#tweet_w2v.save('w2vmodel')\n",
    "#Load the w2v model\n",
    "#new_w2vmodel = gensim.models.Word2Vec.load('w2vmodel')"
   ]
  },
  {
   "cell_type": "code",
   "execution_count": 12,
   "metadata": {
    "scrolled": true
   },
   "outputs": [
    {
     "data": {
      "text/plain": [
       "array([ 1.0461875 ,  1.6774974 , -1.8338505 ,  0.08876215, -0.04538746,\n",
       "       -1.3220088 , -0.62573403,  1.0442392 , -0.89215475, -0.56388116,\n",
       "        1.1287812 ,  0.13112532, -0.14974174,  0.5519972 , -1.2949997 ,\n",
       "        0.6965251 ,  0.55251515,  2.0572195 ,  0.00463471, -0.22994787,\n",
       "        1.0968423 ,  1.0037959 , -0.25918227, -0.37408197, -0.68009204,\n",
       "        0.08221306,  1.6578364 , -0.7666577 , -0.07904757,  1.5882611 ,\n",
       "        1.134124  ,  0.4711224 ,  0.23346518, -1.9784242 ,  1.7873375 ,\n",
       "       -1.1386204 ,  2.0458167 ,  1.0463535 ,  2.6934621 , -0.39332026,\n",
       "       -2.0287223 ,  0.17158955,  1.4613515 , -1.1901448 , -0.6021148 ,\n",
       "       -0.753978  ,  0.2812043 , -0.06503192,  0.27719417, -1.8744005 ,\n",
       "        0.9359973 , -0.02564686, -0.55944467, -1.7382059 ,  0.2532459 ,\n",
       "       -0.26935634, -1.5110639 , -0.93959284, -0.02453436, -1.1163819 ,\n",
       "        1.9956712 , -0.4468748 ,  0.47275513, -1.2064052 ,  0.8054817 ,\n",
       "       -0.50726974,  1.9403414 ,  1.2510912 ,  0.95988303,  0.31948304,\n",
       "        1.4943613 ,  0.43501893, -2.1968603 , -1.058809  , -1.0876765 ,\n",
       "       -0.10110496, -1.0707946 ,  1.1412424 ,  0.51291686, -0.20577352,\n",
       "        0.81636727, -1.4629351 ,  1.0087316 ,  1.4792229 , -1.7469    ,\n",
       "       -0.90012854,  0.5296143 ,  1.2164607 ,  1.4168262 , -1.1470622 ,\n",
       "        0.35016185, -1.1080215 , -0.85449296,  2.1946142 ,  1.0492836 ,\n",
       "        0.06312153,  1.6965449 ,  0.5183045 ,  1.0783274 , -0.0602771 ,\n",
       "       -0.3865633 , -0.7801216 , -0.9256354 ,  0.3634166 , -0.5652297 ,\n",
       "        0.8031026 , -1.7829959 , -1.4044467 , -0.8484394 , -0.7772165 ,\n",
       "        0.00666815, -1.1244333 ,  0.70136285,  2.096247  ,  0.04441792,\n",
       "        0.5998229 , -0.52543914,  0.39858866,  1.2368822 , -1.5923793 ,\n",
       "       -0.22630057,  0.32704577, -0.93273276,  0.9924151 , -0.783123  ,\n",
       "        0.1989625 ,  1.2977622 , -0.7299588 , -0.5466563 , -0.29701775,\n",
       "        1.3302393 ,  0.24824136,  1.263978  , -0.97203386,  1.1712636 ,\n",
       "        2.0353723 , -0.23362857, -0.7292495 ,  1.0943475 , -0.38042098,\n",
       "        0.9606403 ,  1.8002523 ,  0.21569076, -1.7761819 ,  1.2020208 ,\n",
       "       -0.28349435, -3.1056128 , -1.4774857 ,  0.37108502,  2.8502433 ,\n",
       "       -1.2292112 ,  0.52902526,  0.14187214,  0.14187707,  1.0387377 ,\n",
       "       -0.7329595 , -0.71503145,  0.2382136 ,  0.24369383, -1.4274124 ,\n",
       "        1.2821751 , -0.97515184, -0.33739468,  0.09229479, -0.7447984 ,\n",
       "        1.4243816 ,  1.131322  , -0.01346087,  0.67859215,  0.94134706,\n",
       "       -0.8153962 , -0.15916058, -0.65545523, -0.8724349 ,  1.8590685 ,\n",
       "       -1.6526891 ,  0.09079269, -1.2468256 , -1.4043791 , -1.6184478 ,\n",
       "        1.8249142 ,  1.1880418 , -0.02760721, -1.0054243 ,  0.9603304 ,\n",
       "       -0.0970441 ,  0.91819525,  0.27016836, -0.24860294,  0.31511432,\n",
       "        1.360968  , -0.4979008 , -0.56827354,  1.2739886 ,  0.7954362 ,\n",
       "        1.5275519 , -0.61555916,  1.1998707 , -0.27262077, -0.01595856],\n",
       "      dtype=float32)"
      ]
     },
     "execution_count": 12,
     "metadata": {},
     "output_type": "execute_result"
    }
   ],
   "source": [
    "#convert any word(present in vocabulary) to vector.\n",
    "tweet_w2v['bye']"
   ]
  },
  {
   "cell_type": "code",
   "execution_count": 13,
   "metadata": {
    "scrolled": true
   },
   "outputs": [
    {
     "data": {
      "text/plain": [
       "[('cough', 0.7215234637260437),\n",
       " ('migraine', 0.7033078670501709),\n",
       " ('headache', 0.6893624067306519),\n",
       " ('toothache', 0.6594542264938354),\n",
       " ('bronchitis', 0.6463197469711304),\n",
       " ('virus', 0.6354368925094604),\n",
       " ('flu', 0.6306766867637634),\n",
       " ('migrane', 0.6067726612091064),\n",
       " ('sinus', 0.597709059715271),\n",
       " ('throat', 0.5975997447967529)]"
      ]
     },
     "execution_count": 13,
     "metadata": {},
     "output_type": "execute_result"
    }
   ],
   "source": [
    "#Find similar words\n",
    "tweet_w2v.most_similar('fever')"
   ]
  },
  {
   "cell_type": "markdown",
   "metadata": {},
   "source": [
    "# Plotting the vectors"
   ]
  },
  {
   "cell_type": "code",
   "execution_count": 14,
   "metadata": {
    "scrolled": false
   },
   "outputs": [
    {
     "data": {
      "text/html": [
       "\n",
       "    <div class=\"bk-root\">\n",
       "        <a href=\"https://bokeh.pydata.org\" target=\"_blank\" class=\"bk-logo bk-logo-small bk-logo-notebook\"></a>\n",
       "        <span id=\"98d740fa-5945-4542-b9af-b64b45c543fa\">Loading BokehJS ...</span>\n",
       "    </div>"
      ]
     },
     "metadata": {},
     "output_type": "display_data"
    },
    {
     "data": {
      "application/javascript": [
       "\n",
       "(function(root) {\n",
       "  function now() {\n",
       "    return new Date();\n",
       "  }\n",
       "\n",
       "  var force = true;\n",
       "\n",
       "  if (typeof (root._bokeh_onload_callbacks) === \"undefined\" || force === true) {\n",
       "    root._bokeh_onload_callbacks = [];\n",
       "    root._bokeh_is_loading = undefined;\n",
       "  }\n",
       "\n",
       "  var JS_MIME_TYPE = 'application/javascript';\n",
       "  var HTML_MIME_TYPE = 'text/html';\n",
       "  var EXEC_MIME_TYPE = 'application/vnd.bokehjs_exec.v0+json';\n",
       "  var CLASS_NAME = 'output_bokeh rendered_html';\n",
       "\n",
       "  /**\n",
       "   * Render data to the DOM node\n",
       "   */\n",
       "  function render(props, node) {\n",
       "    var script = document.createElement(\"script\");\n",
       "    node.appendChild(script);\n",
       "  }\n",
       "\n",
       "  /**\n",
       "   * Handle when an output is cleared or removed\n",
       "   */\n",
       "  function handleClearOutput(event, handle) {\n",
       "    var cell = handle.cell;\n",
       "\n",
       "    var id = cell.output_area._bokeh_element_id;\n",
       "    var server_id = cell.output_area._bokeh_server_id;\n",
       "    // Clean up Bokeh references\n",
       "    if (id !== undefined) {\n",
       "      Bokeh.index[id].model.document.clear();\n",
       "      delete Bokeh.index[id];\n",
       "    }\n",
       "\n",
       "    if (server_id !== undefined) {\n",
       "      // Clean up Bokeh references\n",
       "      var cmd = \"from bokeh.io.state import curstate; print(curstate().uuid_to_server['\" + server_id + \"'].get_sessions()[0].document.roots[0]._id)\";\n",
       "      cell.notebook.kernel.execute(cmd, {\n",
       "        iopub: {\n",
       "          output: function(msg) {\n",
       "            var element_id = msg.content.text.trim();\n",
       "            Bokeh.index[element_id].model.document.clear();\n",
       "            delete Bokeh.index[element_id];\n",
       "          }\n",
       "        }\n",
       "      });\n",
       "      // Destroy server and session\n",
       "      var cmd = \"import bokeh.io.notebook as ion; ion.destroy_server('\" + server_id + \"')\";\n",
       "      cell.notebook.kernel.execute(cmd);\n",
       "    }\n",
       "  }\n",
       "\n",
       "  /**\n",
       "   * Handle when a new output is added\n",
       "   */\n",
       "  function handleAddOutput(event, handle) {\n",
       "    var output_area = handle.output_area;\n",
       "    var output = handle.output;\n",
       "\n",
       "    // limit handleAddOutput to display_data with EXEC_MIME_TYPE content only\n",
       "    if ((output.output_type != \"display_data\") || (!output.data.hasOwnProperty(EXEC_MIME_TYPE))) {\n",
       "      return\n",
       "    }\n",
       "\n",
       "    var toinsert = output_area.element.find(\".\" + CLASS_NAME.split(' ')[0]);\n",
       "\n",
       "    if (output.metadata[EXEC_MIME_TYPE][\"id\"] !== undefined) {\n",
       "      toinsert[toinsert.length - 1].firstChild.textContent = output.data[JS_MIME_TYPE];\n",
       "      // store reference to embed id on output_area\n",
       "      output_area._bokeh_element_id = output.metadata[EXEC_MIME_TYPE][\"id\"];\n",
       "    }\n",
       "    if (output.metadata[EXEC_MIME_TYPE][\"server_id\"] !== undefined) {\n",
       "      var bk_div = document.createElement(\"div\");\n",
       "      bk_div.innerHTML = output.data[HTML_MIME_TYPE];\n",
       "      var script_attrs = bk_div.children[0].attributes;\n",
       "      for (var i = 0; i < script_attrs.length; i++) {\n",
       "        toinsert[toinsert.length - 1].firstChild.setAttribute(script_attrs[i].name, script_attrs[i].value);\n",
       "      }\n",
       "      // store reference to server id on output_area\n",
       "      output_area._bokeh_server_id = output.metadata[EXEC_MIME_TYPE][\"server_id\"];\n",
       "    }\n",
       "  }\n",
       "\n",
       "  function register_renderer(events, OutputArea) {\n",
       "\n",
       "    function append_mime(data, metadata, element) {\n",
       "      // create a DOM node to render to\n",
       "      var toinsert = this.create_output_subarea(\n",
       "        metadata,\n",
       "        CLASS_NAME,\n",
       "        EXEC_MIME_TYPE\n",
       "      );\n",
       "      this.keyboard_manager.register_events(toinsert);\n",
       "      // Render to node\n",
       "      var props = {data: data, metadata: metadata[EXEC_MIME_TYPE]};\n",
       "      render(props, toinsert[toinsert.length - 1]);\n",
       "      element.append(toinsert);\n",
       "      return toinsert\n",
       "    }\n",
       "\n",
       "    /* Handle when an output is cleared or removed */\n",
       "    events.on('clear_output.CodeCell', handleClearOutput);\n",
       "    events.on('delete.Cell', handleClearOutput);\n",
       "\n",
       "    /* Handle when a new output is added */\n",
       "    events.on('output_added.OutputArea', handleAddOutput);\n",
       "\n",
       "    /**\n",
       "     * Register the mime type and append_mime function with output_area\n",
       "     */\n",
       "    OutputArea.prototype.register_mime_type(EXEC_MIME_TYPE, append_mime, {\n",
       "      /* Is output safe? */\n",
       "      safe: true,\n",
       "      /* Index of renderer in `output_area.display_order` */\n",
       "      index: 0\n",
       "    });\n",
       "  }\n",
       "\n",
       "  // register the mime type if in Jupyter Notebook environment and previously unregistered\n",
       "  if (root.Jupyter !== undefined) {\n",
       "    var events = require('base/js/events');\n",
       "    var OutputArea = require('notebook/js/outputarea').OutputArea;\n",
       "\n",
       "    if (OutputArea.prototype.mime_types().indexOf(EXEC_MIME_TYPE) == -1) {\n",
       "      register_renderer(events, OutputArea);\n",
       "    }\n",
       "  }\n",
       "\n",
       "  \n",
       "  if (typeof (root._bokeh_timeout) === \"undefined\" || force === true) {\n",
       "    root._bokeh_timeout = Date.now() + 5000;\n",
       "    root._bokeh_failed_load = false;\n",
       "  }\n",
       "\n",
       "  var NB_LOAD_WARNING = {'data': {'text/html':\n",
       "     \"<div style='background-color: #fdd'>\\n\"+\n",
       "     \"<p>\\n\"+\n",
       "     \"BokehJS does not appear to have successfully loaded. If loading BokehJS from CDN, this \\n\"+\n",
       "     \"may be due to a slow or bad network connection. Possible fixes:\\n\"+\n",
       "     \"</p>\\n\"+\n",
       "     \"<ul>\\n\"+\n",
       "     \"<li>re-rerun `output_notebook()` to attempt to load from CDN again, or</li>\\n\"+\n",
       "     \"<li>use INLINE resources instead, as so:</li>\\n\"+\n",
       "     \"</ul>\\n\"+\n",
       "     \"<code>\\n\"+\n",
       "     \"from bokeh.resources import INLINE\\n\"+\n",
       "     \"output_notebook(resources=INLINE)\\n\"+\n",
       "     \"</code>\\n\"+\n",
       "     \"</div>\"}};\n",
       "\n",
       "  function display_loaded() {\n",
       "    var el = document.getElementById(\"98d740fa-5945-4542-b9af-b64b45c543fa\");\n",
       "    if (el != null) {\n",
       "      el.textContent = \"BokehJS is loading...\";\n",
       "    }\n",
       "    if (root.Bokeh !== undefined) {\n",
       "      if (el != null) {\n",
       "        el.textContent = \"BokehJS \" + root.Bokeh.version + \" successfully loaded.\";\n",
       "      }\n",
       "    } else if (Date.now() < root._bokeh_timeout) {\n",
       "      setTimeout(display_loaded, 100)\n",
       "    }\n",
       "  }\n",
       "\n",
       "\n",
       "  function run_callbacks() {\n",
       "    try {\n",
       "      root._bokeh_onload_callbacks.forEach(function(callback) { callback() });\n",
       "    }\n",
       "    finally {\n",
       "      delete root._bokeh_onload_callbacks\n",
       "    }\n",
       "    console.info(\"Bokeh: all callbacks have finished\");\n",
       "  }\n",
       "\n",
       "  function load_libs(js_urls, callback) {\n",
       "    root._bokeh_onload_callbacks.push(callback);\n",
       "    if (root._bokeh_is_loading > 0) {\n",
       "      console.log(\"Bokeh: BokehJS is being loaded, scheduling callback at\", now());\n",
       "      return null;\n",
       "    }\n",
       "    if (js_urls == null || js_urls.length === 0) {\n",
       "      run_callbacks();\n",
       "      return null;\n",
       "    }\n",
       "    console.log(\"Bokeh: BokehJS not loaded, scheduling load and callback at\", now());\n",
       "    root._bokeh_is_loading = js_urls.length;\n",
       "    for (var i = 0; i < js_urls.length; i++) {\n",
       "      var url = js_urls[i];\n",
       "      var s = document.createElement('script');\n",
       "      s.src = url;\n",
       "      s.async = false;\n",
       "      s.onreadystatechange = s.onload = function() {\n",
       "        root._bokeh_is_loading--;\n",
       "        if (root._bokeh_is_loading === 0) {\n",
       "          console.log(\"Bokeh: all BokehJS libraries loaded\");\n",
       "          run_callbacks()\n",
       "        }\n",
       "      };\n",
       "      s.onerror = function() {\n",
       "        console.warn(\"failed to load library \" + url);\n",
       "      };\n",
       "      console.log(\"Bokeh: injecting script tag for BokehJS library: \", url);\n",
       "      document.getElementsByTagName(\"head\")[0].appendChild(s);\n",
       "    }\n",
       "  };var element = document.getElementById(\"98d740fa-5945-4542-b9af-b64b45c543fa\");\n",
       "  if (element == null) {\n",
       "    console.log(\"Bokeh: ERROR: autoload.js configured with elementid '98d740fa-5945-4542-b9af-b64b45c543fa' but no matching script tag was found. \")\n",
       "    return false;\n",
       "  }\n",
       "\n",
       "  var js_urls = [\"https://cdn.pydata.org/bokeh/release/bokeh-0.12.15.min.js\", \"https://cdn.pydata.org/bokeh/release/bokeh-widgets-0.12.15.min.js\", \"https://cdn.pydata.org/bokeh/release/bokeh-tables-0.12.15.min.js\", \"https://cdn.pydata.org/bokeh/release/bokeh-gl-0.12.15.min.js\"];\n",
       "\n",
       "  var inline_js = [\n",
       "    function(Bokeh) {\n",
       "      Bokeh.set_log_level(\"info\");\n",
       "    },\n",
       "    \n",
       "    function(Bokeh) {\n",
       "      \n",
       "    },\n",
       "    function(Bokeh) {\n",
       "      console.log(\"Bokeh: injecting CSS: https://cdn.pydata.org/bokeh/release/bokeh-0.12.15.min.css\");\n",
       "      Bokeh.embed.inject_css(\"https://cdn.pydata.org/bokeh/release/bokeh-0.12.15.min.css\");\n",
       "      console.log(\"Bokeh: injecting CSS: https://cdn.pydata.org/bokeh/release/bokeh-widgets-0.12.15.min.css\");\n",
       "      Bokeh.embed.inject_css(\"https://cdn.pydata.org/bokeh/release/bokeh-widgets-0.12.15.min.css\");\n",
       "      console.log(\"Bokeh: injecting CSS: https://cdn.pydata.org/bokeh/release/bokeh-tables-0.12.15.min.css\");\n",
       "      Bokeh.embed.inject_css(\"https://cdn.pydata.org/bokeh/release/bokeh-tables-0.12.15.min.css\");\n",
       "    }\n",
       "  ];\n",
       "\n",
       "  function run_inline_js() {\n",
       "    \n",
       "    if ((root.Bokeh !== undefined) || (force === true)) {\n",
       "      for (var i = 0; i < inline_js.length; i++) {\n",
       "        inline_js[i].call(root, root.Bokeh);\n",
       "      }if (force === true) {\n",
       "        display_loaded();\n",
       "      }} else if (Date.now() < root._bokeh_timeout) {\n",
       "      setTimeout(run_inline_js, 100);\n",
       "    } else if (!root._bokeh_failed_load) {\n",
       "      console.log(\"Bokeh: BokehJS failed to load within specified timeout.\");\n",
       "      root._bokeh_failed_load = true;\n",
       "    } else if (force !== true) {\n",
       "      var cell = $(document.getElementById(\"98d740fa-5945-4542-b9af-b64b45c543fa\")).parents('.cell').data().cell;\n",
       "      cell.output_area.append_execute_result(NB_LOAD_WARNING)\n",
       "    }\n",
       "\n",
       "  }\n",
       "\n",
       "  if (root._bokeh_is_loading === 0) {\n",
       "    console.log(\"Bokeh: BokehJS loaded, going straight to plotting\");\n",
       "    run_inline_js();\n",
       "  } else {\n",
       "    load_libs(js_urls, function() {\n",
       "      console.log(\"Bokeh: BokehJS plotting callback run at\", now());\n",
       "      run_inline_js();\n",
       "    });\n",
       "  }\n",
       "}(window));"
      ],
      "application/vnd.bokehjs_load.v0+json": "\n(function(root) {\n  function now() {\n    return new Date();\n  }\n\n  var force = true;\n\n  if (typeof (root._bokeh_onload_callbacks) === \"undefined\" || force === true) {\n    root._bokeh_onload_callbacks = [];\n    root._bokeh_is_loading = undefined;\n  }\n\n  \n\n  \n  if (typeof (root._bokeh_timeout) === \"undefined\" || force === true) {\n    root._bokeh_timeout = Date.now() + 5000;\n    root._bokeh_failed_load = false;\n  }\n\n  var NB_LOAD_WARNING = {'data': {'text/html':\n     \"<div style='background-color: #fdd'>\\n\"+\n     \"<p>\\n\"+\n     \"BokehJS does not appear to have successfully loaded. If loading BokehJS from CDN, this \\n\"+\n     \"may be due to a slow or bad network connection. Possible fixes:\\n\"+\n     \"</p>\\n\"+\n     \"<ul>\\n\"+\n     \"<li>re-rerun `output_notebook()` to attempt to load from CDN again, or</li>\\n\"+\n     \"<li>use INLINE resources instead, as so:</li>\\n\"+\n     \"</ul>\\n\"+\n     \"<code>\\n\"+\n     \"from bokeh.resources import INLINE\\n\"+\n     \"output_notebook(resources=INLINE)\\n\"+\n     \"</code>\\n\"+\n     \"</div>\"}};\n\n  function display_loaded() {\n    var el = document.getElementById(\"98d740fa-5945-4542-b9af-b64b45c543fa\");\n    if (el != null) {\n      el.textContent = \"BokehJS is loading...\";\n    }\n    if (root.Bokeh !== undefined) {\n      if (el != null) {\n        el.textContent = \"BokehJS \" + root.Bokeh.version + \" successfully loaded.\";\n      }\n    } else if (Date.now() < root._bokeh_timeout) {\n      setTimeout(display_loaded, 100)\n    }\n  }\n\n\n  function run_callbacks() {\n    try {\n      root._bokeh_onload_callbacks.forEach(function(callback) { callback() });\n    }\n    finally {\n      delete root._bokeh_onload_callbacks\n    }\n    console.info(\"Bokeh: all callbacks have finished\");\n  }\n\n  function load_libs(js_urls, callback) {\n    root._bokeh_onload_callbacks.push(callback);\n    if (root._bokeh_is_loading > 0) {\n      console.log(\"Bokeh: BokehJS is being loaded, scheduling callback at\", now());\n      return null;\n    }\n    if (js_urls == null || js_urls.length === 0) {\n      run_callbacks();\n      return null;\n    }\n    console.log(\"Bokeh: BokehJS not loaded, scheduling load and callback at\", now());\n    root._bokeh_is_loading = js_urls.length;\n    for (var i = 0; i < js_urls.length; i++) {\n      var url = js_urls[i];\n      var s = document.createElement('script');\n      s.src = url;\n      s.async = false;\n      s.onreadystatechange = s.onload = function() {\n        root._bokeh_is_loading--;\n        if (root._bokeh_is_loading === 0) {\n          console.log(\"Bokeh: all BokehJS libraries loaded\");\n          run_callbacks()\n        }\n      };\n      s.onerror = function() {\n        console.warn(\"failed to load library \" + url);\n      };\n      console.log(\"Bokeh: injecting script tag for BokehJS library: \", url);\n      document.getElementsByTagName(\"head\")[0].appendChild(s);\n    }\n  };var element = document.getElementById(\"98d740fa-5945-4542-b9af-b64b45c543fa\");\n  if (element == null) {\n    console.log(\"Bokeh: ERROR: autoload.js configured with elementid '98d740fa-5945-4542-b9af-b64b45c543fa' but no matching script tag was found. \")\n    return false;\n  }\n\n  var js_urls = [\"https://cdn.pydata.org/bokeh/release/bokeh-0.12.15.min.js\", \"https://cdn.pydata.org/bokeh/release/bokeh-widgets-0.12.15.min.js\", \"https://cdn.pydata.org/bokeh/release/bokeh-tables-0.12.15.min.js\", \"https://cdn.pydata.org/bokeh/release/bokeh-gl-0.12.15.min.js\"];\n\n  var inline_js = [\n    function(Bokeh) {\n      Bokeh.set_log_level(\"info\");\n    },\n    \n    function(Bokeh) {\n      \n    },\n    function(Bokeh) {\n      console.log(\"Bokeh: injecting CSS: https://cdn.pydata.org/bokeh/release/bokeh-0.12.15.min.css\");\n      Bokeh.embed.inject_css(\"https://cdn.pydata.org/bokeh/release/bokeh-0.12.15.min.css\");\n      console.log(\"Bokeh: injecting CSS: https://cdn.pydata.org/bokeh/release/bokeh-widgets-0.12.15.min.css\");\n      Bokeh.embed.inject_css(\"https://cdn.pydata.org/bokeh/release/bokeh-widgets-0.12.15.min.css\");\n      console.log(\"Bokeh: injecting CSS: https://cdn.pydata.org/bokeh/release/bokeh-tables-0.12.15.min.css\");\n      Bokeh.embed.inject_css(\"https://cdn.pydata.org/bokeh/release/bokeh-tables-0.12.15.min.css\");\n    }\n  ];\n\n  function run_inline_js() {\n    \n    if ((root.Bokeh !== undefined) || (force === true)) {\n      for (var i = 0; i < inline_js.length; i++) {\n        inline_js[i].call(root, root.Bokeh);\n      }if (force === true) {\n        display_loaded();\n      }} else if (Date.now() < root._bokeh_timeout) {\n      setTimeout(run_inline_js, 100);\n    } else if (!root._bokeh_failed_load) {\n      console.log(\"Bokeh: BokehJS failed to load within specified timeout.\");\n      root._bokeh_failed_load = true;\n    } else if (force !== true) {\n      var cell = $(document.getElementById(\"98d740fa-5945-4542-b9af-b64b45c543fa\")).parents('.cell').data().cell;\n      cell.output_area.append_execute_result(NB_LOAD_WARNING)\n    }\n\n  }\n\n  if (root._bokeh_is_loading === 0) {\n    console.log(\"Bokeh: BokehJS loaded, going straight to plotting\");\n    run_inline_js();\n  } else {\n    load_libs(js_urls, function() {\n      console.log(\"Bokeh: BokehJS plotting callback run at\", now());\n      run_inline_js();\n    });\n  }\n}(window));"
     },
     "metadata": {},
     "output_type": "display_data"
    },
    {
     "name": "stdout",
     "output_type": "stream",
     "text": [
      "[t-SNE] Computing 91 nearest neighbors...\n",
      "[t-SNE] Indexed 5000 samples in 0.049s...\n",
      "[t-SNE] Computed neighbors for 5000 samples in 10.733s...\n",
      "[t-SNE] Computed conditional probabilities for sample 1000 / 5000\n",
      "[t-SNE] Computed conditional probabilities for sample 2000 / 5000\n",
      "[t-SNE] Computed conditional probabilities for sample 3000 / 5000\n",
      "[t-SNE] Computed conditional probabilities for sample 4000 / 5000\n",
      "[t-SNE] Computed conditional probabilities for sample 5000 / 5000\n",
      "[t-SNE] Mean sigma: 0.692618\n",
      "[t-SNE] KL divergence after 250 iterations with early exaggeration: 85.415138\n",
      "[t-SNE] Error after 1000 iterations: 2.315913\n"
     ]
    },
    {
     "data": {
      "text/html": [
       "\n",
       "<div class=\"bk-root\">\n",
       "    <div class=\"bk-plotdiv\" id=\"00a4a978-3c47-48f2-a63e-9ac148942e94\"></div>\n",
       "</div>"
      ]
     },
     "metadata": {},
     "output_type": "display_data"
    },
    {
     "data": {
      "application/javascript": [
       "(function(root) {\n",
       "  function embed_document(root) {\n",
       "    \n",
       "  var docs_json = {\"33042de4-54a6-4419-9e3f-dd8ea1a6c9fb\":{\"roots\":{\"references\":[{\"attributes\":{\"callback\":null},\"id\":\"6855198f-ac12-4d5f-9d22-bbd9de8f604a\",\"type\":\"DataRange1d\"},{\"attributes\":{\"data_source\":{\"id\":\"b0ad2c5a-a504-49c0-ad0f-72f25ee2255b\",\"type\":\"ColumnDataSource\"},\"glyph\":{\"id\":\"29cf6e2a-8e67-4edc-aea7-08c3a3095446\",\"type\":\"Circle\"},\"hover_glyph\":null,\"muted_glyph\":null,\"nonselection_glyph\":{\"id\":\"da5f11c6-981b-45a4-901c-85a62d79c689\",\"type\":\"Circle\"},\"selection_glyph\":null,\"view\":{\"id\":\"73faa1c4-39a5-4132-b20f-e1a1a15c6b73\",\"type\":\"CDSView\"}},\"id\":\"f2a4a3cd-52d8-48e8-8b93-65fd0f7de3ff\",\"type\":\"GlyphRenderer\"},{\"attributes\":{\"active_drag\":\"auto\",\"active_inspect\":\"auto\",\"active_scroll\":\"auto\",\"active_tap\":\"auto\",\"tools\":[{\"id\":\"97dd80e1-ac7d-4330-bdba-94bea98b89ed\",\"type\":\"PanTool\"},{\"id\":\"cdb68597-0b06-44c8-8a1b-b88bdb3d930d\",\"type\":\"WheelZoomTool\"},{\"id\":\"ed15fcc4-cd82-43e3-9635-0d23a9f73db6\",\"type\":\"BoxZoomTool\"},{\"id\":\"c16d8e90-a5e0-4d1c-9093-adc7df6e0d14\",\"type\":\"ResetTool\"},{\"id\":\"520765f0-95be-447c-b78e-eff855479e18\",\"type\":\"HoverTool\"},{\"id\":\"280bc5c2-693c-4e5a-b4e6-b3de8acb9373\",\"type\":\"SaveTool\"}]},\"id\":\"383c1e6b-6436-4fd6-b9e2-59f1782c2a86\",\"type\":\"Toolbar\"},{\"attributes\":{\"callback\":null},\"id\":\"2a5f85ba-e248-4152-bf11-26a680069c66\",\"type\":\"DataRange1d\"},{\"attributes\":{\"source\":{\"id\":\"b0ad2c5a-a504-49c0-ad0f-72f25ee2255b\",\"type\":\"ColumnDataSource\"}},\"id\":\"73faa1c4-39a5-4132-b20f-e1a1a15c6b73\",\"type\":\"CDSView\"},{\"attributes\":{},\"id\":\"f7641b5b-a361-4b66-aa37-8040d8e667a7\",\"type\":\"LinearScale\"},{\"attributes\":{},\"id\":\"8b58c74b-7784-46ab-a5c2-27901b0786d6\",\"type\":\"LinearScale\"},{\"attributes\":{},\"id\":\"97dd80e1-ac7d-4330-bdba-94bea98b89ed\",\"type\":\"PanTool\"},{\"attributes\":{\"fill_color\":{\"value\":\"#1f77b4\"},\"line_color\":{\"value\":\"#1f77b4\"},\"x\":{\"field\":\"x\"},\"y\":{\"field\":\"y\"}},\"id\":\"29cf6e2a-8e67-4edc-aea7-08c3a3095446\",\"type\":\"Circle\"},{\"attributes\":{\"callback\":null,\"column_names\":[\"x\",\"y\",\"words\",\"index\"],\"data\":{\"index\":[0,1,2,3,4,5,6,7,8,9,10,11,12,13,14,15,16,17,18,19,20,21,22,23,24,25,26,27,28,29,30,31,32,33,34,35,36,37,38,39,40,41,42,43,44,45,46,47,48,49,50,51,52,53,54,55,56,57,58,59,60,61,62,63,64,65,66,67,68,69,70,71,72,73,74,75,76,77,78,79,80,81,82,83,84,85,86,87,88,89,90,91,92,93,94,95,96,97,98,99,100,101,102,103,104,105,106,107,108,109,110,111,112,113,114,115,116,117,118,119,120,121,122,123,124,125,126,127,128,129,130,131,132,133,134,135,136,137,138,139,140,141,142,143,144,145,146,147,148,149,150,151,152,153,154,155,156,157,158,159,160,161,162,163,164,165,166,167,168,169,170,171,172,173,174,175,176,177,178,179,180,181,182,183,184,185,186,187,188,189,190,191,192,193,194,195,196,197,198,199,200,201,202,203,204,205,206,207,208,209,210,211,212,213,214,215,216,217,218,219,220,221,222,223,224,225,226,227,228,229,230,231,232,233,234,235,236,237,238,239,240,241,242,243,244,245,246,247,248,249,250,251,252,253,254,255,256,257,258,259,260,261,262,263,264,265,266,267,268,269,270,271,272,273,274,275,276,277,278,279,280,281,282,283,284,285,286,287,288,289,290,291,292,293,294,295,296,297,298,299,300,301,302,303,304,305,306,307,308,309,310,311,312,313,314,315,316,317,318,319,320,321,322,323,324,325,326,327,328,329,330,331,332,333,334,335,336,337,338,339,340,341,342,343,344,345,346,347,348,349,350,351,352,353,354,355,356,357,358,359,360,361,362,363,364,365,366,367,368,369,370,371,372,373,374,375,376,377,378,379,380,381,382,383,384,385,386,387,388,389,390,391,392,393,394,395,396,397,398,399,400,401,402,403,404,405,406,407,408,409,410,411,412,413,414,415,416,417,418,419,420,421,422,423,424,425,426,427,428,429,430,431,432,433,434,435,436,437,438,439,440,441,442,443,444,445,446,447,448,449,450,451,452,453,454,455,456,457,458,459,460,461,462,463,464,465,466,467,468,469,470,471,472,473,474,475,476,477,478,479,480,481,482,483,484,485,486,487,488,489,490,491,492,493,494,495,496,497,498,499,500,501,502,503,504,505,506,507,508,509,510,511,512,513,514,515,516,517,518,519,520,521,522,523,524,525,526,527,528,529,530,531,532,533,534,535,536,537,538,539,540,541,542,543,544,545,546,547,548,549,550,551,552,553,554,555,556,557,558,559,560,561,562,563,564,565,566,567,568,569,570,571,572,573,574,575,576,577,578,579,580,581,582,583,584,585,586,587,588,589,590,591,592,593,594,595,596,597,598,599,600,601,602,603,604,605,606,607,608,609,610,611,612,613,614,615,616,617,618,619,620,621,622,623,624,625,626,627,628,629,630,631,632,633,634,635,636,637,638,639,640,641,642,643,644,645,646,647,648,649,650,651,652,653,654,655,656,657,658,659,660,661,662,663,664,665,666,667,668,669,670,671,672,673,674,675,676,677,678,679,680,681,682,683,684,685,686,687,688,689,690,691,692,693,694,695,696,697,698,699,700,701,702,703,704,705,706,707,708,709,710,711,712,713,714,715,716,717,718,719,720,721,722,723,724,725,726,727,728,729,730,731,732,733,734,735,736,737,738,739,740,741,742,743,744,745,746,747,748,749,750,751,752,753,754,755,756,757,758,759,760,761,762,763,764,765,766,767,768,769,770,771,772,773,774,775,776,777,778,779,780,781,782,783,784,785,786,787,788,789,790,791,792,793,794,795,796,797,798,799,800,801,802,803,804,805,806,807,808,809,810,811,812,813,814,815,816,817,818,819,820,821,822,823,824,825,826,827,828,829,830,831,832,833,834,835,836,837,838,839,840,841,842,843,844,845,846,847,848,849,850,851,852,853,854,855,856,857,858,859,860,861,862,863,864,865,866,867,868,869,870,871,872,873,874,875,876,877,878,879,880,881,882,883,884,885,886,887,888,889,890,891,892,893,894,895,896,897,898,899,900,901,902,903,904,905,906,907,908,909,910,911,912,913,914,915,916,917,918,919,920,921,922,923,924,925,926,927,928,929,930,931,932,933,934,935,936,937,938,939,940,941,942,943,944,945,946,947,948,949,950,951,952,953,954,955,956,957,958,959,960,961,962,963,964,965,966,967,968,969,970,971,972,973,974,975,976,977,978,979,980,981,982,983,984,985,986,987,988,989,990,991,992,993,994,995,996,997,998,999,1000,1001,1002,1003,1004,1005,1006,1007,1008,1009,1010,1011,1012,1013,1014,1015,1016,1017,1018,1019,1020,1021,1022,1023,1024,1025,1026,1027,1028,1029,1030,1031,1032,1033,1034,1035,1036,1037,1038,1039,1040,1041,1042,1043,1044,1045,1046,1047,1048,1049,1050,1051,1052,1053,1054,1055,1056,1057,1058,1059,1060,1061,1062,1063,1064,1065,1066,1067,1068,1069,1070,1071,1072,1073,1074,1075,1076,1077,1078,1079,1080,1081,1082,1083,1084,1085,1086,1087,1088,1089,1090,1091,1092,1093,1094,1095,1096,1097,1098,1099,1100,1101,1102,1103,1104,1105,1106,1107,1108,1109,1110,1111,1112,1113,1114,1115,1116,1117,1118,1119,1120,1121,1122,1123,1124,1125,1126,1127,1128,1129,1130,1131,1132,1133,1134,1135,1136,1137,1138,1139,1140,1141,1142,1143,1144,1145,1146,1147,1148,1149,1150,1151,1152,1153,1154,1155,1156,1157,1158,1159,1160,1161,1162,1163,1164,1165,1166,1167,1168,1169,1170,1171,1172,1173,1174,1175,1176,1177,1178,1179,1180,1181,1182,1183,1184,1185,1186,1187,1188,1189,1190,1191,1192,1193,1194,1195,1196,1197,1198,1199,1200,1201,1202,1203,1204,1205,1206,1207,1208,1209,1210,1211,1212,1213,1214,1215,1216,1217,1218,1219,1220,1221,1222,1223,1224,1225,1226,1227,1228,1229,1230,1231,1232,1233,1234,1235,1236,1237,1238,1239,1240,1241,1242,1243,1244,1245,1246,1247,1248,1249,1250,1251,1252,1253,1254,1255,1256,1257,1258,1259,1260,1261,1262,1263,1264,1265,1266,1267,1268,1269,1270,1271,1272,1273,1274,1275,1276,1277,1278,1279,1280,1281,1282,1283,1284,1285,1286,1287,1288,1289,1290,1291,1292,1293,1294,1295,1296,1297,1298,1299,1300,1301,1302,1303,1304,1305,1306,1307,1308,1309,1310,1311,1312,1313,1314,1315,1316,1317,1318,1319,1320,1321,1322,1323,1324,1325,1326,1327,1328,1329,1330,1331,1332,1333,1334,1335,1336,1337,1338,1339,1340,1341,1342,1343,1344,1345,1346,1347,1348,1349,1350,1351,1352,1353,1354,1355,1356,1357,1358,1359,1360,1361,1362,1363,1364,1365,1366,1367,1368,1369,1370,1371,1372,1373,1374,1375,1376,1377,1378,1379,1380,1381,1382,1383,1384,1385,1386,1387,1388,1389,1390,1391,1392,1393,1394,1395,1396,1397,1398,1399,1400,1401,1402,1403,1404,1405,1406,1407,1408,1409,1410,1411,1412,1413,1414,1415,1416,1417,1418,1419,1420,1421,1422,1423,1424,1425,1426,1427,1428,1429,1430,1431,1432,1433,1434,1435,1436,1437,1438,1439,1440,1441,1442,1443,1444,1445,1446,1447,1448,1449,1450,1451,1452,1453,1454,1455,1456,1457,1458,1459,1460,1461,1462,1463,1464,1465,1466,1467,1468,1469,1470,1471,1472,1473,1474,1475,1476,1477,1478,1479,1480,1481,1482,1483,1484,1485,1486,1487,1488,1489,1490,1491,1492,1493,1494,1495,1496,1497,1498,1499,1500,1501,1502,1503,1504,1505,1506,1507,1508,1509,1510,1511,1512,1513,1514,1515,1516,1517,1518,1519,1520,1521,1522,1523,1524,1525,1526,1527,1528,1529,1530,1531,1532,1533,1534,1535,1536,1537,1538,1539,1540,1541,1542,1543,1544,1545,1546,1547,1548,1549,1550,1551,1552,1553,1554,1555,1556,1557,1558,1559,1560,1561,1562,1563,1564,1565,1566,1567,1568,1569,1570,1571,1572,1573,1574,1575,1576,1577,1578,1579,1580,1581,1582,1583,1584,1585,1586,1587,1588,1589,1590,1591,1592,1593,1594,1595,1596,1597,1598,1599,1600,1601,1602,1603,1604,1605,1606,1607,1608,1609,1610,1611,1612,1613,1614,1615,1616,1617,1618,1619,1620,1621,1622,1623,1624,1625,1626,1627,1628,1629,1630,1631,1632,1633,1634,1635,1636,1637,1638,1639,1640,1641,1642,1643,1644,1645,1646,1647,1648,1649,1650,1651,1652,1653,1654,1655,1656,1657,1658,1659,1660,1661,1662,1663,1664,1665,1666,1667,1668,1669,1670,1671,1672,1673,1674,1675,1676,1677,1678,1679,1680,1681,1682,1683,1684,1685,1686,1687,1688,1689,1690,1691,1692,1693,1694,1695,1696,1697,1698,1699,1700,1701,1702,1703,1704,1705,1706,1707,1708,1709,1710,1711,1712,1713,1714,1715,1716,1717,1718,1719,1720,1721,1722,1723,1724,1725,1726,1727,1728,1729,1730,1731,1732,1733,1734,1735,1736,1737,1738,1739,1740,1741,1742,1743,1744,1745,1746,1747,1748,1749,1750,1751,1752,1753,1754,1755,1756,1757,1758,1759,1760,1761,1762,1763,1764,1765,1766,1767,1768,1769,1770,1771,1772,1773,1774,1775,1776,1777,1778,1779,1780,1781,1782,1783,1784,1785,1786,1787,1788,1789,1790,1791,1792,1793,1794,1795,1796,1797,1798,1799,1800,1801,1802,1803,1804,1805,1806,1807,1808,1809,1810,1811,1812,1813,1814,1815,1816,1817,1818,1819,1820,1821,1822,1823,1824,1825,1826,1827,1828,1829,1830,1831,1832,1833,1834,1835,1836,1837,1838,1839,1840,1841,1842,1843,1844,1845,1846,1847,1848,1849,1850,1851,1852,1853,1854,1855,1856,1857,1858,1859,1860,1861,1862,1863,1864,1865,1866,1867,1868,1869,1870,1871,1872,1873,1874,1875,1876,1877,1878,1879,1880,1881,1882,1883,1884,1885,1886,1887,1888,1889,1890,1891,1892,1893,1894,1895,1896,1897,1898,1899,1900,1901,1902,1903,1904,1905,1906,1907,1908,1909,1910,1911,1912,1913,1914,1915,1916,1917,1918,1919,1920,1921,1922,1923,1924,1925,1926,1927,1928,1929,1930,1931,1932,1933,1934,1935,1936,1937,1938,1939,1940,1941,1942,1943,1944,1945,1946,1947,1948,1949,1950,1951,1952,1953,1954,1955,1956,1957,1958,1959,1960,1961,1962,1963,1964,1965,1966,1967,1968,1969,1970,1971,1972,1973,1974,1975,1976,1977,1978,1979,1980,1981,1982,1983,1984,1985,1986,1987,1988,1989,1990,1991,1992,1993,1994,1995,1996,1997,1998,1999,2000,2001,2002,2003,2004,2005,2006,2007,2008,2009,2010,2011,2012,2013,2014,2015,2016,2017,2018,2019,2020,2021,2022,2023,2024,2025,2026,2027,2028,2029,2030,2031,2032,2033,2034,2035,2036,2037,2038,2039,2040,2041,2042,2043,2044,2045,2046,2047,2048,2049,2050,2051,2052,2053,2054,2055,2056,2057,2058,2059,2060,2061,2062,2063,2064,2065,2066,2067,2068,2069,2070,2071,2072,2073,2074,2075,2076,2077,2078,2079,2080,2081,2082,2083,2084,2085,2086,2087,2088,2089,2090,2091,2092,2093,2094,2095,2096,2097,2098,2099,2100,2101,2102,2103,2104,2105,2106,2107,2108,2109,2110,2111,2112,2113,2114,2115,2116,2117,2118,2119,2120,2121,2122,2123,2124,2125,2126,2127,2128,2129,2130,2131,2132,2133,2134,2135,2136,2137,2138,2139,2140,2141,2142,2143,2144,2145,2146,2147,2148,2149,2150,2151,2152,2153,2154,2155,2156,2157,2158,2159,2160,2161,2162,2163,2164,2165,2166,2167,2168,2169,2170,2171,2172,2173,2174,2175,2176,2177,2178,2179,2180,2181,2182,2183,2184,2185,2186,2187,2188,2189,2190,2191,2192,2193,2194,2195,2196,2197,2198,2199,2200,2201,2202,2203,2204,2205,2206,2207,2208,2209,2210,2211,2212,2213,2214,2215,2216,2217,2218,2219,2220,2221,2222,2223,2224,2225,2226,2227,2228,2229,2230,2231,2232,2233,2234,2235,2236,2237,2238,2239,2240,2241,2242,2243,2244,2245,2246,2247,2248,2249,2250,2251,2252,2253,2254,2255,2256,2257,2258,2259,2260,2261,2262,2263,2264,2265,2266,2267,2268,2269,2270,2271,2272,2273,2274,2275,2276,2277,2278,2279,2280,2281,2282,2283,2284,2285,2286,2287,2288,2289,2290,2291,2292,2293,2294,2295,2296,2297,2298,2299,2300,2301,2302,2303,2304,2305,2306,2307,2308,2309,2310,2311,2312,2313,2314,2315,2316,2317,2318,2319,2320,2321,2322,2323,2324,2325,2326,2327,2328,2329,2330,2331,2332,2333,2334,2335,2336,2337,2338,2339,2340,2341,2342,2343,2344,2345,2346,2347,2348,2349,2350,2351,2352,2353,2354,2355,2356,2357,2358,2359,2360,2361,2362,2363,2364,2365,2366,2367,2368,2369,2370,2371,2372,2373,2374,2375,2376,2377,2378,2379,2380,2381,2382,2383,2384,2385,2386,2387,2388,2389,2390,2391,2392,2393,2394,2395,2396,2397,2398,2399,2400,2401,2402,2403,2404,2405,2406,2407,2408,2409,2410,2411,2412,2413,2414,2415,2416,2417,2418,2419,2420,2421,2422,2423,2424,2425,2426,2427,2428,2429,2430,2431,2432,2433,2434,2435,2436,2437,2438,2439,2440,2441,2442,2443,2444,2445,2446,2447,2448,2449,2450,2451,2452,2453,2454,2455,2456,2457,2458,2459,2460,2461,2462,2463,2464,2465,2466,2467,2468,2469,2470,2471,2472,2473,2474,2475,2476,2477,2478,2479,2480,2481,2482,2483,2484,2485,2486,2487,2488,2489,2490,2491,2492,2493,2494,2495,2496,2497,2498,2499,2500,2501,2502,2503,2504,2505,2506,2507,2508,2509,2510,2511,2512,2513,2514,2515,2516,2517,2518,2519,2520,2521,2522,2523,2524,2525,2526,2527,2528,2529,2530,2531,2532,2533,2534,2535,2536,2537,2538,2539,2540,2541,2542,2543,2544,2545,2546,2547,2548,2549,2550,2551,2552,2553,2554,2555,2556,2557,2558,2559,2560,2561,2562,2563,2564,2565,2566,2567,2568,2569,2570,2571,2572,2573,2574,2575,2576,2577,2578,2579,2580,2581,2582,2583,2584,2585,2586,2587,2588,2589,2590,2591,2592,2593,2594,2595,2596,2597,2598,2599,2600,2601,2602,2603,2604,2605,2606,2607,2608,2609,2610,2611,2612,2613,2614,2615,2616,2617,2618,2619,2620,2621,2622,2623,2624,2625,2626,2627,2628,2629,2630,2631,2632,2633,2634,2635,2636,2637,2638,2639,2640,2641,2642,2643,2644,2645,2646,2647,2648,2649,2650,2651,2652,2653,2654,2655,2656,2657,2658,2659,2660,2661,2662,2663,2664,2665,2666,2667,2668,2669,2670,2671,2672,2673,2674,2675,2676,2677,2678,2679,2680,2681,2682,2683,2684,2685,2686,2687,2688,2689,2690,2691,2692,2693,2694,2695,2696,2697,2698,2699,2700,2701,2702,2703,2704,2705,2706,2707,2708,2709,2710,2711,2712,2713,2714,2715,2716,2717,2718,2719,2720,2721,2722,2723,2724,2725,2726,2727,2728,2729,2730,2731,2732,2733,2734,2735,2736,2737,2738,2739,2740,2741,2742,2743,2744,2745,2746,2747,2748,2749,2750,2751,2752,2753,2754,2755,2756,2757,2758,2759,2760,2761,2762,2763,2764,2765,2766,2767,2768,2769,2770,2771,2772,2773,2774,2775,2776,2777,2778,2779,2780,2781,2782,2783,2784,2785,2786,2787,2788,2789,2790,2791,2792,2793,2794,2795,2796,2797,2798,2799,2800,2801,2802,2803,2804,2805,2806,2807,2808,2809,2810,2811,2812,2813,2814,2815,2816,2817,2818,2819,2820,2821,2822,2823,2824,2825,2826,2827,2828,2829,2830,2831,2832,2833,2834,2835,2836,2837,2838,2839,2840,2841,2842,2843,2844,2845,2846,2847,2848,2849,2850,2851,2852,2853,2854,2855,2856,2857,2858,2859,2860,2861,2862,2863,2864,2865,2866,2867,2868,2869,2870,2871,2872,2873,2874,2875,2876,2877,2878,2879,2880,2881,2882,2883,2884,2885,2886,2887,2888,2889,2890,2891,2892,2893,2894,2895,2896,2897,2898,2899,2900,2901,2902,2903,2904,2905,2906,2907,2908,2909,2910,2911,2912,2913,2914,2915,2916,2917,2918,2919,2920,2921,2922,2923,2924,2925,2926,2927,2928,2929,2930,2931,2932,2933,2934,2935,2936,2937,2938,2939,2940,2941,2942,2943,2944,2945,2946,2947,2948,2949,2950,2951,2952,2953,2954,2955,2956,2957,2958,2959,2960,2961,2962,2963,2964,2965,2966,2967,2968,2969,2970,2971,2972,2973,2974,2975,2976,2977,2978,2979,2980,2981,2982,2983,2984,2985,2986,2987,2988,2989,2990,2991,2992,2993,2994,2995,2996,2997,2998,2999,3000,3001,3002,3003,3004,3005,3006,3007,3008,3009,3010,3011,3012,3013,3014,3015,3016,3017,3018,3019,3020,3021,3022,3023,3024,3025,3026,3027,3028,3029,3030,3031,3032,3033,3034,3035,3036,3037,3038,3039,3040,3041,3042,3043,3044,3045,3046,3047,3048,3049,3050,3051,3052,3053,3054,3055,3056,3057,3058,3059,3060,3061,3062,3063,3064,3065,3066,3067,3068,3069,3070,3071,3072,3073,3074,3075,3076,3077,3078,3079,3080,3081,3082,3083,3084,3085,3086,3087,3088,3089,3090,3091,3092,3093,3094,3095,3096,3097,3098,3099,3100,3101,3102,3103,3104,3105,3106,3107,3108,3109,3110,3111,3112,3113,3114,3115,3116,3117,3118,3119,3120,3121,3122,3123,3124,3125,3126,3127,3128,3129,3130,3131,3132,3133,3134,3135,3136,3137,3138,3139,3140,3141,3142,3143,3144,3145,3146,3147,3148,3149,3150,3151,3152,3153,3154,3155,3156,3157,3158,3159,3160,3161,3162,3163,3164,3165,3166,3167,3168,3169,3170,3171,3172,3173,3174,3175,3176,3177,3178,3179,3180,3181,3182,3183,3184,3185,3186,3187,3188,3189,3190,3191,3192,3193,3194,3195,3196,3197,3198,3199,3200,3201,3202,3203,3204,3205,3206,3207,3208,3209,3210,3211,3212,3213,3214,3215,3216,3217,3218,3219,3220,3221,3222,3223,3224,3225,3226,3227,3228,3229,3230,3231,3232,3233,3234,3235,3236,3237,3238,3239,3240,3241,3242,3243,3244,3245,3246,3247,3248,3249,3250,3251,3252,3253,3254,3255,3256,3257,3258,3259,3260,3261,3262,3263,3264,3265,3266,3267,3268,3269,3270,3271,3272,3273,3274,3275,3276,3277,3278,3279,3280,3281,3282,3283,3284,3285,3286,3287,3288,3289,3290,3291,3292,3293,3294,3295,3296,3297,3298,3299,3300,3301,3302,3303,3304,3305,3306,3307,3308,3309,3310,3311,3312,3313,3314,3315,3316,3317,3318,3319,3320,3321,3322,3323,3324,3325,3326,3327,3328,3329,3330,3331,3332,3333,3334,3335,3336,3337,3338,3339,3340,3341,3342,3343,3344,3345,3346,3347,3348,3349,3350,3351,3352,3353,3354,3355,3356,3357,3358,3359,3360,3361,3362,3363,3364,3365,3366,3367,3368,3369,3370,3371,3372,3373,3374,3375,3376,3377,3378,3379,3380,3381,3382,3383,3384,3385,3386,3387,3388,3389,3390,3391,3392,3393,3394,3395,3396,3397,3398,3399,3400,3401,3402,3403,3404,3405,3406,3407,3408,3409,3410,3411,3412,3413,3414,3415,3416,3417,3418,3419,3420,3421,3422,3423,3424,3425,3426,3427,3428,3429,3430,3431,3432,3433,3434,3435,3436,3437,3438,3439,3440,3441,3442,3443,3444,3445,3446,3447,3448,3449,3450,3451,3452,3453,3454,3455,3456,3457,3458,3459,3460,3461,3462,3463,3464,3465,3466,3467,3468,3469,3470,3471,3472,3473,3474,3475,3476,3477,3478,3479,3480,3481,3482,3483,3484,3485,3486,3487,3488,3489,3490,3491,3492,3493,3494,3495,3496,3497,3498,3499,3500,3501,3502,3503,3504,3505,3506,3507,3508,3509,3510,3511,3512,3513,3514,3515,3516,3517,3518,3519,3520,3521,3522,3523,3524,3525,3526,3527,3528,3529,3530,3531,3532,3533,3534,3535,3536,3537,3538,3539,3540,3541,3542,3543,3544,3545,3546,3547,3548,3549,3550,3551,3552,3553,3554,3555,3556,3557,3558,3559,3560,3561,3562,3563,3564,3565,3566,3567,3568,3569,3570,3571,3572,3573,3574,3575,3576,3577,3578,3579,3580,3581,3582,3583,3584,3585,3586,3587,3588,3589,3590,3591,3592,3593,3594,3595,3596,3597,3598,3599,3600,3601,3602,3603,3604,3605,3606,3607,3608,3609,3610,3611,3612,3613,3614,3615,3616,3617,3618,3619,3620,3621,3622,3623,3624,3625,3626,3627,3628,3629,3630,3631,3632,3633,3634,3635,3636,3637,3638,3639,3640,3641,3642,3643,3644,3645,3646,3647,3648,3649,3650,3651,3652,3653,3654,3655,3656,3657,3658,3659,3660,3661,3662,3663,3664,3665,3666,3667,3668,3669,3670,3671,3672,3673,3674,3675,3676,3677,3678,3679,3680,3681,3682,3683,3684,3685,3686,3687,3688,3689,3690,3691,3692,3693,3694,3695,3696,3697,3698,3699,3700,3701,3702,3703,3704,3705,3706,3707,3708,3709,3710,3711,3712,3713,3714,3715,3716,3717,3718,3719,3720,3721,3722,3723,3724,3725,3726,3727,3728,3729,3730,3731,3732,3733,3734,3735,3736,3737,3738,3739,3740,3741,3742,3743,3744,3745,3746,3747,3748,3749,3750,3751,3752,3753,3754,3755,3756,3757,3758,3759,3760,3761,3762,3763,3764,3765,3766,3767,3768,3769,3770,3771,3772,3773,3774,3775,3776,3777,3778,3779,3780,3781,3782,3783,3784,3785,3786,3787,3788,3789,3790,3791,3792,3793,3794,3795,3796,3797,3798,3799,3800,3801,3802,3803,3804,3805,3806,3807,3808,3809,3810,3811,3812,3813,3814,3815,3816,3817,3818,3819,3820,3821,3822,3823,3824,3825,3826,3827,3828,3829,3830,3831,3832,3833,3834,3835,3836,3837,3838,3839,3840,3841,3842,3843,3844,3845,3846,3847,3848,3849,3850,3851,3852,3853,3854,3855,3856,3857,3858,3859,3860,3861,3862,3863,3864,3865,3866,3867,3868,3869,3870,3871,3872,3873,3874,3875,3876,3877,3878,3879,3880,3881,3882,3883,3884,3885,3886,3887,3888,3889,3890,3891,3892,3893,3894,3895,3896,3897,3898,3899,3900,3901,3902,3903,3904,3905,3906,3907,3908,3909,3910,3911,3912,3913,3914,3915,3916,3917,3918,3919,3920,3921,3922,3923,3924,3925,3926,3927,3928,3929,3930,3931,3932,3933,3934,3935,3936,3937,3938,3939,3940,3941,3942,3943,3944,3945,3946,3947,3948,3949,3950,3951,3952,3953,3954,3955,3956,3957,3958,3959,3960,3961,3962,3963,3964,3965,3966,3967,3968,3969,3970,3971,3972,3973,3974,3975,3976,3977,3978,3979,3980,3981,3982,3983,3984,3985,3986,3987,3988,3989,3990,3991,3992,3993,3994,3995,3996,3997,3998,3999,4000,4001,4002,4003,4004,4005,4006,4007,4008,4009,4010,4011,4012,4013,4014,4015,4016,4017,4018,4019,4020,4021,4022,4023,4024,4025,4026,4027,4028,4029,4030,4031,4032,4033,4034,4035,4036,4037,4038,4039,4040,4041,4042,4043,4044,4045,4046,4047,4048,4049,4050,4051,4052,4053,4054,4055,4056,4057,4058,4059,4060,4061,4062,4063,4064,4065,4066,4067,4068,4069,4070,4071,4072,4073,4074,4075,4076,4077,4078,4079,4080,4081,4082,4083,4084,4085,4086,4087,4088,4089,4090,4091,4092,4093,4094,4095,4096,4097,4098,4099,4100,4101,4102,4103,4104,4105,4106,4107,4108,4109,4110,4111,4112,4113,4114,4115,4116,4117,4118,4119,4120,4121,4122,4123,4124,4125,4126,4127,4128,4129,4130,4131,4132,4133,4134,4135,4136,4137,4138,4139,4140,4141,4142,4143,4144,4145,4146,4147,4148,4149,4150,4151,4152,4153,4154,4155,4156,4157,4158,4159,4160,4161,4162,4163,4164,4165,4166,4167,4168,4169,4170,4171,4172,4173,4174,4175,4176,4177,4178,4179,4180,4181,4182,4183,4184,4185,4186,4187,4188,4189,4190,4191,4192,4193,4194,4195,4196,4197,4198,4199,4200,4201,4202,4203,4204,4205,4206,4207,4208,4209,4210,4211,4212,4213,4214,4215,4216,4217,4218,4219,4220,4221,4222,4223,4224,4225,4226,4227,4228,4229,4230,4231,4232,4233,4234,4235,4236,4237,4238,4239,4240,4241,4242,4243,4244,4245,4246,4247,4248,4249,4250,4251,4252,4253,4254,4255,4256,4257,4258,4259,4260,4261,4262,4263,4264,4265,4266,4267,4268,4269,4270,4271,4272,4273,4274,4275,4276,4277,4278,4279,4280,4281,4282,4283,4284,4285,4286,4287,4288,4289,4290,4291,4292,4293,4294,4295,4296,4297,4298,4299,4300,4301,4302,4303,4304,4305,4306,4307,4308,4309,4310,4311,4312,4313,4314,4315,4316,4317,4318,4319,4320,4321,4322,4323,4324,4325,4326,4327,4328,4329,4330,4331,4332,4333,4334,4335,4336,4337,4338,4339,4340,4341,4342,4343,4344,4345,4346,4347,4348,4349,4350,4351,4352,4353,4354,4355,4356,4357,4358,4359,4360,4361,4362,4363,4364,4365,4366,4367,4368,4369,4370,4371,4372,4373,4374,4375,4376,4377,4378,4379,4380,4381,4382,4383,4384,4385,4386,4387,4388,4389,4390,4391,4392,4393,4394,4395,4396,4397,4398,4399,4400,4401,4402,4403,4404,4405,4406,4407,4408,4409,4410,4411,4412,4413,4414,4415,4416,4417,4418,4419,4420,4421,4422,4423,4424,4425,4426,4427,4428,4429,4430,4431,4432,4433,4434,4435,4436,4437,4438,4439,4440,4441,4442,4443,4444,4445,4446,4447,4448,4449,4450,4451,4452,4453,4454,4455,4456,4457,4458,4459,4460,4461,4462,4463,4464,4465,4466,4467,4468,4469,4470,4471,4472,4473,4474,4475,4476,4477,4478,4479,4480,4481,4482,4483,4484,4485,4486,4487,4488,4489,4490,4491,4492,4493,4494,4495,4496,4497,4498,4499,4500,4501,4502,4503,4504,4505,4506,4507,4508,4509,4510,4511,4512,4513,4514,4515,4516,4517,4518,4519,4520,4521,4522,4523,4524,4525,4526,4527,4528,4529,4530,4531,4532,4533,4534,4535,4536,4537,4538,4539,4540,4541,4542,4543,4544,4545,4546,4547,4548,4549,4550,4551,4552,4553,4554,4555,4556,4557,4558,4559,4560,4561,4562,4563,4564,4565,4566,4567,4568,4569,4570,4571,4572,4573,4574,4575,4576,4577,4578,4579,4580,4581,4582,4583,4584,4585,4586,4587,4588,4589,4590,4591,4592,4593,4594,4595,4596,4597,4598,4599,4600,4601,4602,4603,4604,4605,4606,4607,4608,4609,4610,4611,4612,4613,4614,4615,4616,4617,4618,4619,4620,4621,4622,4623,4624,4625,4626,4627,4628,4629,4630,4631,4632,4633,4634,4635,4636,4637,4638,4639,4640,4641,4642,4643,4644,4645,4646,4647,4648,4649,4650,4651,4652,4653,4654,4655,4656,4657,4658,4659,4660,4661,4662,4663,4664,4665,4666,4667,4668,4669,4670,4671,4672,4673,4674,4675,4676,4677,4678,4679,4680,4681,4682,4683,4684,4685,4686,4687,4688,4689,4690,4691,4692,4693,4694,4695,4696,4697,4698,4699,4700,4701,4702,4703,4704,4705,4706,4707,4708,4709,4710,4711,4712,4713,4714,4715,4716,4717,4718,4719,4720,4721,4722,4723,4724,4725,4726,4727,4728,4729,4730,4731,4732,4733,4734,4735,4736,4737,4738,4739,4740,4741,4742,4743,4744,4745,4746,4747,4748,4749,4750,4751,4752,4753,4754,4755,4756,4757,4758,4759,4760,4761,4762,4763,4764,4765,4766,4767,4768,4769,4770,4771,4772,4773,4774,4775,4776,4777,4778,4779,4780,4781,4782,4783,4784,4785,4786,4787,4788,4789,4790,4791,4792,4793,4794,4795,4796,4797,4798,4799,4800,4801,4802,4803,4804,4805,4806,4807,4808,4809,4810,4811,4812,4813,4814,4815,4816,4817,4818,4819,4820,4821,4822,4823,4824,4825,4826,4827,4828,4829,4830,4831,4832,4833,4834,4835,4836,4837,4838,4839,4840,4841,4842,4843,4844,4845,4846,4847,4848,4849,4850,4851,4852,4853,4854,4855,4856,4857,4858,4859,4860,4861,4862,4863,4864,4865,4866,4867,4868,4869,4870,4871,4872,4873,4874,4875,4876,4877,4878,4879,4880,4881,4882,4883,4884,4885,4886,4887,4888,4889,4890,4891,4892,4893,4894,4895,4896,4897,4898,4899,4900,4901,4902,4903,4904,4905,4906,4907,4908,4909,4910,4911,4912,4913,4914,4915,4916,4917,4918,4919,4920,4921,4922,4923,4924,4925,4926,4927,4928,4929,4930,4931,4932,4933,4934,4935,4936,4937,4938,4939,4940,4941,4942,4943,4944,4945,4946,4947,4948,4949,4950,4951,4952,4953,4954,4955,4956,4957,4958,4959,4960,4961,4962,4963,4964,4965,4966,4967,4968,4969,4970,4971,4972,4973,4974,4975,4976,4977,4978,4979,4980,4981,4982,4983,4984,4985,4986,4987,4988,4989,4990,4991,4992,4993,4994,4995,4996,4997,4998,4999],\"words\":[\"is\",\"upset\",\"that\",\"he\",\"can't\",\"update\",\"his\",\"facebook\",\"by\",\"texting\",\"it\",\"...\",\"and\",\"might\",\"cry\",\"as\",\"a\",\"result\",\"school\",\"today\",\"also\",\".\",\"blah\",\"!\",\"i\",\"many\",\"times\",\"for\",\"the\",\"ball\",\"managed\",\"to\",\"save\",\"50\",\"%\",\"rest\",\"go\",\"out\",\"of\",\"bounds\",\"my\",\"whole\",\"body\",\"feels\",\"itchy\",\"like\",\"its\",\"on\",\"fire\",\"no\",\",\",\"it's\",\"not\",\"behaving\",\"at\",\"all\",\"i'm\",\"mad\",\"why\",\"am\",\"here\",\"?\",\"because\",\"see\",\"you\",\"over\",\"there\",\"crew\",\"need\",\"hug\",\"hey\",\"long\",\"time\",\"yes\",\"..\",\"rains\",\"bit\",\"only\",\"lol\",\"fine\",\"thanks\",\"how's\",\"nope\",\"they\",\"didn't\",\"have\",\"que\",\"me\",\"spring\",\"break\",\"in\",\"plain\",\"city\",\"snowing\",\"just\",\"ears\",\"couldn't\",\"bear\",\"watch\",\"thought\",\"ua\",\"loss\",\"was\",\"embarrassing\",\". . . . .\",\"counts\",\"idk\",\"did\",\"either\",\"never\",\"talk\",\"anymore\",\"would've\",\"been\",\"first\",\"but\",\"gun\",\"really\",\"though\",\"zac\",\"wish\",\"got\",\"with\",\"miss\",\"how\",\"premiere\",\"'\",\"death\",\"scene\",\"will\",\"hurt\",\"severely\",\"film\",\"wry\",\"directors\",\"cut\",\"now\",\"about\",\"file\",\"taxes\",\"ahh\",\"ive\",\"always\",\"wanted\",\"rent\",\"love\",\"soundtrack\",\"oh\",\"dear\",\"were\",\"drinking\",\"forgotten\",\"table\",\"drinks\",\"most\",\"day\",\"so\",\"get\",\"much\",\"done\",\"one\",\"friend\",\"called\",\"asked\",\"meet\",\"her\",\"mid\",\"valley\",\"i've\",\"*\",\"sigh\",\"baked\",\"cake\",\"this\",\"week\",\"going\",\"had\",\"hoped\",\"class\",\"8\",\"tomorrow\",\"hate\",\"when\",\"call\",\"wake\",\"people\",\"up\",\"myself\",\"sleep\",\"after\",\"watching\",\"marley\",\"im\",\"sad\",\"ooooh\",\"leslie\",\"ok\",\"won't\",\"do\",\"again\",\"meh\",\"almost\",\"lover\",\"exception\",\"track\",\"gets\",\"depressed\",\"every\",\"some\",\"1\",\"hacked\",\"account\",\"aim\",\"make\",\"new\",\"want\",\"promote\",\"gear\",\"groove\",\"ride\",\"may\",\"b\",\"anaheim\",\"sleeping\",\"an\",\"option\",\"realizing\",\"evaluations\",\"morning\",\"work\",\"afternoon\",\"awe\",\"too\",\"asian\",\"eyes\",\"night\",\"sick\",\"spent\",\"hour\",\"sitting\",\"shower\",\"cause\",\"stand\",\"held\",\"back\",\"puke\",\"champ\",\"bed\",\"ill\",\"tell\",\"ya\",\"story\",\"later\",\"good\",\"be\",\"workin\",\"three\",\"more\",\"hours\",\"sorry\",\"came\",\"(\",\"gmt\",\"+\",\")\",\"don't\",\"depressing\",\"think\",\"even\",\"know\",\"kids\",\"suitcases\",\"8-12\",\"12-3\",\"gym\",\"3-5\",\"or\",\"6\",\"then\",\"6-10\",\"another\",\"that's\",\"gonna\",\"fly\",\"girlfriend\",\"feel\",\"getting\",\"study\",\"tomorrows\",\"practical\",\"exam\",\"he's\",\"reason\",\"teardrops\",\"guitar\",\"who\",\"has\",\"enough\",\"heart\",\"feeling\",\"wanna\",\"still\",\"awww\",\"soo\",\"finally\",\"comfortable\",\"missed\",\"falling\",\"asleep\",\"heard\",\"tracy\",\"girl's\",\"being\",\"found\",\"breaks\",\"family\",\"yay\",\"happy\",\"your\",\"job\",\"means\",\"less\",\"checked\",\"user\",\"timeline\",\"blackberry\",\"looks\",\"happening\",\"are\",\"ppl\",\"having\",\"probs\",\"w\",\"/\",\"bgs\",\"man\",\"ironing\",\"s\",\"fave\",\"top\",\"wear\",\"meeting\",\"burnt\",\"strangely\",\"lilo\",\"breaking\",\"before\",\"retweeting\",\"broadband\",\"plan\",\"massive\",\"broken\",\"promise\",\"via\",\"waiting\",\"we\",\"wow\",\"tons\",\"replies\",\"from\",\"unfollow\",\"can\",\"friends\",\"tweets\",\"you're\",\"scrolling\",\"feed\",\"lot\",\"our\",\"duck\",\"chicken\",\"taking\",\"wayyy\",\"hatch\",\"put\",\"vacation\",\"photos\",\"online\",\"few\",\"yrs\",\"ago\",\"pc\",\"crashed\",\"forget\",\"name\",\"site\",\"sure\",\"what\",\"pos\",\"dont\",\"trade\",\"away\",\"company\",\"assets\",\"andy\",\"happens\",\"dallas\",\"show\",\"gotta\",\"say\",\"you'd\",\"shows\",\"would\",\"use\",\"music\",\"game\",\"mmm\",\"ugh\",\"92\",\"degrees\",\"where\",\"u\",\"move\",\"already\",\"sd\",\"hmmm\",\"random\",\"glad\",\"hear\",\"yer\",\"doing\",\"well\",\"ps3\",\"commission\",\"playing\",\"copped\",\"blood\",\"sand\",\"leaving\",\"parking\",\"life\",\"cool\",\"sadly\",\"gotten\",\"experience\",\"post\",\"cigarette\",\"such\",\"nice\",\"bad\",\"rain\",\"comes\",\"5am\",\"around\",\"lost\",\"pay\",\"phone\",\"bill\",\"lmao\",\"aw\",\"shucks\",\"damm\",\"mo\",\"jobs\",\"money\",\"hell\",\"min\",\"wage\",\"4\",\"f'n\",\"clams\",\"forever\",\"soon\",\"agreed\",\"saw\",\"failwhale\",\"allllll\",\"haha\",\"dude\",\"look\",\"em\",\"unless\",\"someone\",\"says\",\"added\",\"terrible\",\"pop\",\"right\",\"start\",\"working\",\"jared\",\"least\",\"diss\",\"bands\",\"trace\",\"clearly\",\"ugly\",\"attire\",\":\",\"puma\",\"singlet\",\"adidas\",\"shorts\",\"black\",\"business\",\"socks\",\"leather\",\"shoes\",\"lucky\",\"run\",\"into\",\"any\",\"cute\",\"girls\",\"location\",\"picnic\",\"smells\",\"citrus\",\"donkey\",\"sensitive\",\"comments\",\"nevertheless\",\"he'd\",\"mug\",\"asap\",\"charger\",\"awol\",\"csi\",\"tonight\",\"fml\",\"arms\",\"sore\",\"tennis\",\"wonders\",\"unhappy\",\"split\",\"saying\",\"bye\",\"ur\",\"newsletter\",\"those\",\"fares\",\"unbelievable\",\"shame\",\"booked\",\"paid\",\"mine\",\"missin\",\"boo\",\"damn\",\"chalk\",\"useless\",\"blast\",\"getty\",\"villa\",\"hates\",\"she's\",\"throat\",\"worse\",\"sup\",\"mama\",\"tummy\",\"hurts\",\"wonder\",\"if\",\"hypnosis\",\"anything\",\"stop\",\"smoking\",\"fat\",\"ones\",\"babe\",\"fam\",\"annoys\",\"thankfully\",\"they're\",\"muahaha\",\"evil\",\"laugh\",\"should\",\"attention\",\"covered\",\"photoshop\",\"webpage\",\"design\",\"undergrad\",\"wednesday\",\"b-day\",\"2\",\"poor\",\"cameron\",\"hills\",\"pray\",\"please\",\"ex\",\"threatening\",\"sh\",\"babies\",\"1st\",\"birthday\",\"party\",\"jerk\",\"headache\",\"hmm\",\"enjoy\",\"him\",\"problems\",\"things\",\"find\",\"little\",\"puppy\",\"grace\",\"wana\",\"steve's\",\"since\",\"easter\",\"wnt\",\"able\",\"ohh\",\"actually\",\"won\",\"bracket\",\"pools\",\"wasn't\",\"follow\",\"nite\",\"favorite\",\"teams\",\"astros\",\"spartans\",\"lose\",\"t\",\"missing\",\"northern\",\"calif\",\"girl\",\"police\",\"remains\",\"california\",\"hope\",\"increase\",\"capacity\",\"fast\",\"yesterday\",\"pain\",\"fail\",\"whale\",\"15\",\"behind\",\"classes\",\"\\\"\",\"house\",\"remember\",\"bum\",\"leg\",\"strikes\",\"serious\",\"their\",\"kinds\",\"complaints\",\"laptop\",\"overheating\",\"emily\",\"mommy\",\"training\",\"she\",\"misses\",\"rather\",\"send\",\"messages\",\"than\",\"3rd\",\"mixed\",\"sophmore\",\"year\",\"overrated\",\"wondered\",\"same\",\"thing\",\"moscow\",\"laying\",\"voice\",\"sooo\",\"killed\",\"off\",\"kutner\",\"whyyyyyyyy\",\"them\",\"mea\",\"sense\",\"suicide\",\"refuse\",\"believe\",\"happened\",\"grind\",\"inspirational\",\"saddening\",\"cuz\",\"yeah\",\"wudnt\",\"chance\",\"cant\",\"1:30\",\"hanging\",\"sing\",\"sucks\",\"aaw\",\"bh\",\"aww\",\"beach\",\"pissed\",\"there's\",\"radio\",\"station\",\"n\",\"flipped\",\"upside\",\"down\",\"head\",\"ramen\",\"sounds\",\"sides\",\"mention\",\"crying\",\"made\",\"late\",\"snack\",\"glass\",\"oj\",\"c\",\"sickness\",\"big\",\"fan\",\"camilla\",\"belle\",\"wah\",\"clip\",\"must\",\"filters\",\"wait\",\"till\",\"puter\",\"something\",\"else\",\"blame\",\"broke\",\"seems\",\"longer\",\"terms\",\"cold\",\"ehhh\",\"weather's\",\"take\",\"turn\",\"cooooold\",\"d\",\"incredible\",\"stuff\",\"hoping\",\"rumbles\",\"notice\",\"told\",\"i'd\",\"agency\",\"said\",\"bedtime\",\"alive\",\"tired\",\"imma\",\"try\",\"hopefully\",\"agh\",\"snow\",\"kenny\",\"powers\",\"thank\",\"letting\",\"direct\",\"message\",\"bridget\",\"india\",\"100th\",\"test\",\"victory\",\"10th\",\"consecutive\",\"win\",\"without\",\"guess\",\"stephan\",\"leavin\",\"intending\",\"finish\",\"editing\",\"-\",\"page\",\"novel\",\"manuscript\",\"probably\",\"happen\",\"12\",\"pages\",\"left\",\"laid\",\"haven't\",\"read\",\"9th\",\"&\",\"princess\",\"diaries\",\"saving\",\"francesca\",\"end\",\"easy\",\"books\",\"nokia\",\"died\",\"mom\",\"breast\",\"cancer\",\"worried\",\"better\",\"understood\",\"daylight\",\"savings\",\"ended\",\"breakfast\",\"keep\",\"waking\",\"lame\",\"understand\",\"heroes\",\"isn't\",\"season\",\"living\",\"downtown\",\"fun\",\"calorie\",\"wise\",\"junk\",\"food\",\"free\",\"ate\",\"sour\",\"skittles\",\"ass\",\"cherry\",\"coke\",\"hard\",\"hot\",\"tea\",\"studying\",\"sleeeep\",\"eyebrows\",\"waxed\",\"star\",\"macheist\",\"3.0\",\"apps\",\"sweet\",\"espresso\",\"serial\",\"although\",\"sent\",\"picked\",\"mich\",\"st\",\"pretty\",\"pick\",\"way\",\"until\",\"a's\",\"alone\",\"downstairs\",\"anoop\",\"mean\",\"seriously\",\"kinda\",\"sprint\",\"4g\",\"baltimore\",\"chicago\",\"far\",\"stuck\",\"awake\",\"middle\",\"second\",\"row\",\"felt\",\"bursting\",\"bubble\",\"gosh\",\"sooooo\",\"deleted\",\"history\",\"crazy\",\"wind\",\"=\",\"currently\",\"grrr\",\"ipods\",\"acting\",\"weird\",\"jai\",\"ho\",\"thinking\",\"aren't\",\"full\",\"songs\",\"ughh\",\"dvd\",\"cos\",\"heaps\",\"deal\",\"website\",\"through\",\"rail\",\"other\",\"tips\",\"swear\",\"losing\",\"gaining\",\"tweeps\",\"wrenching\",\"realized\",\"hiding\",\"staying\",\"neighbors\",\"danny\",\"wasnt\",\"live\",\"chat\",\"car\",\"3\",\"trip\",\"soooo\",\"check\",\"borders\",\"closed\",\"10\",\"downloading\",\"nin's\",\"album\",\"slip\",\"come\",\"these\",\"days\",\"woke\",\"written\",\"e-mail\",\"early\",\"university\",\"teach\",\"8:\",\"30\",\"hill\",\". . .\",\"making\",\"channels\",\"yet\",\"boring\",\"lazy\",\"hobby\",\"buddy\",\"ny\",\"25th\",\"french\",\"south\",\"qtr\",\"beautiful\",\"opps\",\"remain\",\"problem\",\"activated\",\"block\",\"meaning\",\"qc\",\"internal\",\"clock\",\"difficult\",\"spencer\",\"guy\",\"reese\",\"dying\",\"finale\",\"next\",\"madame\",\"president\",\"woman\",\"limited\",\"letters\",\"guys\",\"dog\",\"she\\u00ef\",\"\\u00bf\",\"\\u00bds\",\"shit\",\"~\",\"screwed\",\"tonite\",\"interview\",\"cardiff\",\"luck\",\"whack\",\":*(\",\"choose\",\"chose\",\"accept\",\"family's\",\"help\",\"dead\",\"kill\",\"seen\",\"ds9\",\"solid\",\"hahaha\",\"4.5\",\"hrs\",\"mind\",\"protesting\",\"nightmares\",\"boot\",\"goin\",\"angels\",\"library\",\"doesn't\",\"nap\",\"interrupted\",\"japanese\",\"rents\",\"kind\",\"longs\",\"bus\",\"ghost\",\"world\",\"canada\",\"we're\",\"supposed\",\"awwh\",\"babs\",\"shop\",\"entrance\",\"yesterday's\",\"musik\",\"o\",\"transformer\",\"movie\",\"feet\",\"macbook\",\"fell\",\"tipsy\",\"lonesome\",\"sweating\",\"forthcoming\",\"e3\",\"crash\",\"while\",\"somebody\",\"couldnt\",\"handle\",\"cat\",\"heat\",\"d:\",\"auburn\",\"looking\",\"thats\",\"mag\",\"fit\",\"pictures\",\"ever\",\"magazine\",\"tho\",\"congrats\",\"totally\",\"forgot\",\"submit\",\"paula\",\"amazing\",\"xxx\",\"twitter\",\"using\",\"stupid\",\"ughhh\",\"advance\",\"shooting\",\"outside\",\"kidding\",\"scared\",\"\\u00bdll\",\"reflection\",\"\\u00ef\",\"\\u00bdn\",\"lecture\",\"stress\",\"reducing\",\"techniques\",\"become\",\"very\",\"useful\",\"us\",\"tragedy\",\"disaster\",\"news\",\"trying\",\"picture\",\"upload\",\"red\",\"sox\",\"rained\",\"forward\",\"opening\",\"keys\",\"dunno\",\"home\",\"town\",\"mammy\",\"pls\",\"explain\",\"y\",\"parent\",\"let\",\"8yr\",\"old\",\"child\",\"walk\",\"hello\",\"2009\",\"combo\",\"restaurant\",\"competitive\",\"eating\",\"tourney\",\"round\",\"place\",\"2nd\",\"bathroom\",\"tacos\",\"telll\",\"gay\",\"<3\",\"lonely\",\"22\",\"female\",\"betfair\",\"office\",\"celebrate\",\"tar\",\"heel\",\"weekend\",\"nothing\",\"officially\",\"monkeys\",\"twin\",\"wont\",\"write\",\"heartbroken\",\"defined\",\"brent\",\"praise\",\"band\",\"lead\",\"guitarist\",\"john\",\"play\",\"fruit\",\"microwave\",\"doctor\",\"bff\",\"reminds\",\"shout\",\"courts\",\"video\",\"card\",\"doa\",\"naked\",\"confused\",\"jk\",\"sort\",\"iphone\",\"filling\",\"appraisal\",\"form\",\"occupied\",\"past\",\"change\",\"deserved\",\"wat\",\". ..\",\"gah\",\"ring\",\"ooooooh\",\"download\",\"zip\",\"folders\",\"4chan\",\"internet\",\"moneys\",\"fuck\",\"alicia\",\"mikey\",\"nursing\",\"nile\",\"baby\",\"fucked\",\"ic\",\"rude\",\"reconnected\",\"uni\",\"netball\",\"8th\",\"april\",\"13th\",\"july\",\"dierks\",\"bentley\",\"comin\",\"columbus\",\"sidekick\",\"jealous\",\"xm\",\"gr8t\",\"face\",\"golden\",\"retriever\",\"sighhhh\",\"piece\",\"luggage\",\"fucking\",\"aaaaand\",\"nausea\",\"ooh\",\"i\\u00ef\",\"\\u00bdm\",\"excited\",\"youtube\",\"reach\",\"axis\",\"bank\",\"holiday\",\"contd\",\"agree\",\"jobros\",\"theres\",\"often\",\"hilarious\",\"linked\",\"lj\",\"went\",\"link\",\"oooooooo\",\"neither\",\"tweeted\",\"nearly\",\"posted\",\"goes\",\"needs\",\"applications\",\"son\",\"stay\",\"tense\",\"whinging\",\"client\",\"boss\",\"english\",\"text\",\"v\",\"writer\",\"reviewed\",\"correctly\",\"punch\",\"apologize\",\"repeated\",\"games\",\"related\",\"stern\",\"discussion\",\"figure\",\"hotel\",\"etc\",\"bc\",\"technological\",\"register\",\"slept\",\"bouts\",\"gallbladder\",\"pills\",\"bass\",\"callin\",\"nighty\",\"twittas\",\"afraid\",\"code\",\"gone\",\"needed\",\"pee\",\"margarita\",\"yup\",\"workouts\",\"r\",\"worst\",\"unfortunetly\",\"schedule\",\"allows\",\"tough\",\"hillsong\",\"list\",\"milky\",\"bar\",\"stillllll\",\"hasn't\",\"arrived\",\"dancing\",\"art\",\"wants\",\"rape\",\"ah\",\"bet\",\"does\",\"craving\",\"softball\",\"basketball\",\"noo\",\"terrified\",\"accidentally\",\"reference\",\"management\",\"assignment\",\"hopes\",\"doesnt\",\"trouble\",\"amazon\",\"s3\",\"plugin\",\"worked\",\"php\",\"5\",\"hosting\",\"provider\",\"argh\",\"suuuper\",\"sleepy\",\"wide\",\":-/\",\"sold\",\"watched\",\"tropic\",\"thunder\",\"dreading\",\"according\",\"bro\",\"poo\",\"fight\",\"poop\",\"stolen\",\"su\",\"yin\",\"unbearable\",\"guilt\",\"staff\",\"joshy\",\"thoughts\",\"sandra\",\"everybody\",\"michigan\",\"shameful\",\"fill\",\"two\",\"cuuute\",\"na\",\"seeing\",\"everyday\",\"gooooood\",\"germany\",\"cage\",\"closing\",\"string\",\"cheese\",\"idea\",\"cantu\",\"suitcase\",\"children\",\"stories\",\"seem\",\"wishing\",\"underneath\",\"covers\",\"walking\",\"drains\",\"energy\",\"ep\",\"noah\",\"awesome\",\"dang\",\"knew\",\"earlier\",\"outings\",\"planned\",\"writing\",\"paper\",\"course\",\"access\",\"halo\",\"map\",\"pack\",\"legendary\",\"unfortunately\",\"weeks\",\"busy\",\"latest\",\"project\",\"ha\",\"sun's\",\"harder\",\"let's\",\"crush\",\"jake\",\"during\",\"tom\",\"weds\",\"tried\",\"warn\",\"tech\",\"state\",\"omg\",\"mouth\",\"untill\",\"braces\",\"annoyed\",\"easily\",\">\",\"proposal\",\"videos\",\"spending\",\"grandma\",\"leave\",\"herself\",\"years\",\"worth\",\"alot\",\"organize\",\"_\",\"<\",\"finishing\",\"possible\",\"bones\",\"ache\",\"exchanging\",\"last\",\"miserable\",\"rachel\",\"hang\",\"outage\",\"neccessary\",\"wekend\",\"dumb\",\"folk\",\"f\",\"sat\",\"furious\",\"mantra\",\"bay\",\"breakers\",\";\",\"hubby\",\"thinks\",\"important\",\"spot\",\"carpet\",\"trek\",\"sod\",\"matter\",\"easier\",\"jeffree\",\"hair\",\"color\",\"permanent\",\"dye\",\"fades\",\"within\",\"reaction\",\"whoa\",\"coming\",\"medicine\",\"suppose\",\"wtf\",\"maybe\",\"couple\",\"hon\",\"productive\",\"worry\",\"learned\",\"words\",\"downloads\",\"gamertag\",\"nonsense\",\"testament\",\"9:30\",\"hay\",\"troll\",\"ahhhh\",\"movies\",\"mirrors\",\"ugggggh\",\"rip\",\"buck\",\"homework\",\"taken\",\"unfair\",\"scratch\",\"du\",\"half\",\"cookies\",\"tum\",\"listening\",\"sweets\",\"chi\",\"visits\",\"plz\",\"geez\",\"meetings\",\"emails\",\"email\",\"6pm\",\"dark\",\"ttyl\",\"everbody\",\"reply\",\"ages\",\"emotional\",\"men\",\"both\",\"nick\",\"jon\",\"net\",\"you've\",\"created\",\"seconds\",\"stock\",\"loud\",\"running\",\"drool\",\"swimming\",\"nathan\",\"sucked\",\"die\",\"chris\",\"callum\",\"wahhh\",\"info\",\"open\",\"mail\",\"notices\",\"doc\",\"um\",\"yucky\",\"quick\",\"song\",\"myspace\",\"messing\",\"dad\",\"started\",\"coach\",\"practising\",\"weight\",\"intervention\",\"boyfriend\",\"rut\",\"complete\",\"idiot\",\"works\",\"ad\",\"craigslist\",\"casting\",\"host\",\"g4\",\"psyched\",\"hoax\",\"pepperoni\",\"rolls\",\"l\",\"sausage\",\"monday\",\"gg\",\"episode\",\"modern\",\"keeping\",\"fingers\",\"crossed\",\"eat\",\"skinny\",\"vegas\",\"hungry\",\"tweetdeck\",\"once\",\"hated\",\"passion\",\"btw\",\"funny\",\"quickly\",\"freezing\",\"bs\",\"admitting\",\"sayin\",\"wondering\",\"ed\",\"strong\",\"hold\",\"drive\",\"ox\",\"builders\",\"weather\",\"range\",\"anyone\",\"reads\",\"accident\",\"pushing\",\"pants\",\"franklin\",\"street\",\"jumped\",\"kicked\",\"could\",\"jenny\",\"shoe\",\"changed\",\"default\",\"gave\",\"bored\",\"140\",\"status\",\"eh\",\"awh\",\"definitely\",\"copy\",\"visual\",\"studio\",\"2008\",\"silly\",\"anyway\",\"bright\",\"side\",\"economics\",\"upon\",\"hundred\",\"islands\",\"pride\",\"philippine\",\"tourism\",\"coral\",\"clam\",\"rare\",\"fish\",\"apparently\",\"taste\",\"surprised\",\"everyone\",\"recommends\",\"airport\",\"harassed\",\"sell\",\"hats\",\"ids\",\"bars\",\"comment\",\"announcement\",\"stayed\",\"strange\",\"illegal\",\"torrents\",\"everywhere\",\"legal\",\"imiss\",\"trolley\",\"packed\",\"sardines\",\"padre\",\"remove\",\"mts\",\"jeez\",\"saturday\",\"along\",\"glittery\",\"green\",\"lighter\",\"reduce\",\"number\",\"cigarettes\",\"each\",\"yea\",\"quiet\",\"nobody\",\"cooking\",\"okay\",\"talked\",\"they've\",\"owl\",\"nature\",\"zone\",\"fair\",\"pookie\",\"uti\",\"nurse\",\"100\",\"sodas\",\"tweet\",\"everything\",\"tempted\",\"chocolate\",\"velvet\",\"mocha\",\"stressing\",\"keeps\",\"flashing\",\"alert\",\"faking\",\"martens\",\"worn\",\"december\",\"repair\",\"vivid\",\"sketchy\",\"dreams\",\"stare\",\"wall\",\"lights\",\"it'll\",\"sister\",\"passport\",\"uh\",\"god\",\"ruined\",\"belly\",\"button\",\"framed\",\"roger\",\"rabbit\",\"makes\",\"toon\",\"renting\",\"cheap\",\"buying\",\"attempts\",\"fall\",\"nose\",\"spinning\",\"combination\",\"negative\",\"vote\",\"confidence\",\"nasty\",\"budget\",\"due\",\"apple\",\"that\\u00ef\",\"dammit\",\"kings\",\"stopped\",\"quiz\",\"ceased\",\"disbelief\",\"others\",\"raw\",\"persons\",\"ish\",\"prayers\",\"real\",\"therapist\",\"twilight\",\"jst\",\"ummmmm\",\"giant\",\"sexist\",\"bathtub\",\"drain\",\"fired\",\"haz\",\"iz\",\"draining\",\"dangit\",\"duckling\",\"famous\",\"children's\",\"book\",\"boston's\",\"public\",\"garden\",\"boston\",\"globe\",\"however\",\"includes\",\"heading\",\"install\",\"bloody\",\"knackered\",\"helppp\",\"garage\",\"park\",\"driveway\",\"popular\",\"reading\",\"prescribed\",\"struggling\",\"continue\",\"flowers\",\"camera\",\"cellphone\",\"we've\",\"liking\",\"used\",\"pity\",\"blocked\",\"china\",\"vids\",\"best\",\"sofa\",\"which\",\"sneak\",\"zoo\",\"kitties\",\"cousins\",\"daddy\",\"brother\",\"angel\",\"athlete\",\"trust\",\"considering\",\"bestfriend\",\"grr\",\"date\",\"pears\",\"brie\",\"bottle\",\"cabernet\",\"tad\",\"hamilton\",\"flashed\",\"40\",\"75\",\"cats\",\"crap\",\"dresses\",\"horrible\",\"punk\",\"rock\",\"angst\",\"tuesday\",\"britney\",\"ap\",\"cook\",\"county\",\"huuuge\",\"rooting\",\"took\",\"listing\",\"items\",\"ebay\",\"takes\",\"meanwhile\",\"coleman\",\"premier\",\"presentation\",\"23\",\"slides\",\"hardest\",\"$\",\"160\",\"previously\",\"skins\",\"starts\",\"straight\",\"intro\",\"scaring\",\"sound\",\"vain\",\"fav\",\"lip\",\"gloss\",\"click\",\"screams\",\"spider\",\"known\",\"imac\",\"320\",\"indonesia\",\"states\",\"furniture\",\"turned\",\"peaceful\",\"bites\",\"footage\",\"hd\",\"support\",\"versions\",\"unlike\",\"fraking\",\"app\",\"store\",\"pissing\",\"logging\",\"accessing\",\"strongly\",\"dislike\",\"emma\",\"goldfish\",\"swollen\",\"allergic\",\"that'll\",\"thursday\",\"doubtful\",\"tree\",\"she'll\",\"floor\",\"chases\",\"runs\",\"banning\",\"comp\",\"small\",\"print\",\"wasted\",\"could've\",\"happily\",\"boba\",\"scary\",\"mines\",\"finding\",\"ready\",\"mails\",\"wheat\",\"bread\",\"dollar\",\"toast\",\"nicely\",\"calling\",\"cinema\",\"christina\",\";)\",\"vomit\",\"balls\",\"computer\",\"i'll\",\"listen\",\"xbox\",\"360\",\"trumpet\",\"meant\",\"camp\",\"friday\",\"exactly\",\"sighs\",\"mornings\",\"jesus\",\"dress\",\"shopping\",\"opera\",\"turtles\",\"mac\",\"lasts\",\"moves\",\"faster\",\"soaked\",\"pleasant\",\"maggie\",\"mum\",\"yu\",\"gettin\",\"wen\",\"somewhere\",\"close\",\"arranged\",\"marriages\",\"convert\",\"marry\",\"looser\",\"implies\",\"cried\",\"matthew\",\"absolutely\",\"filled\",\"curry\",\"true\",\"indian\",\"kant\",\"cam\",\"beat\",\"upp\",\"knight\",\"hun\",\"difference\",\"tumblr\",\"wearing\",\"\\u00bd\",\"hahaa\",\"isnt\",\"word\",\"dance\",\"team\",\"wahh\",\"anywhere\",\"goodnight\",\"tweeters\",\"inventory\",\"ballin\",\"bills\",\"episodes\",\"statistics\",\"bunch\",\"jumbo\",\"uk\",\"moment\",\"evicted\",\"learning\",\"css\",\"brian\",\"replied\",\"dvr'd\",\"dish\",\"network\",\"catch\",\"rerun\",\"thru\",\"nd\",\"dry\",\"set\",\"ground\",\"eyelid\",\"professor\",\"ashamed\",\"[\",\"]\",\"frogs\",\"weren't\",\"becoming\",\"extinct\",\"cross\",\"lauren\",\"stubborn\",\"loves\",\"grouchy\",\"dropping\",\"foo\",\"pre\",\"moms\",\"mood\",\"miniature\",\"reeses\",\"cups\",\"oven\",\"minutes\",\"boredd\",\"stuffing\",\"nightmare\",\"affected\",\"york\",\"remark\",\"lots\",\"acronyms\",\"nz\",\"matt\",\"disappointed\",\"mostly\",\"ending\",\"names\",\"folks\",\"7.00\",\"yawn\",\"horses\",\"behaved\",\"travesty\",\"gossip\",\"repeat\",\"reckon\",\"tax\",\"return\",\"dream\",\"cream\",\"eye\",\"herpes\",\"different\",\"strain\",\"folio\",\"wet\",\"umm\",\"insomniac\",\"plus\",\"flu\",\"i'lll\",\"sleepin\",\"outta\",\"water\",\"minute\",\"finland\",\"prolly\",\"earliest\",\"shiner\",\"blankets\",\"earthquake\",\"italy\",\"naples\",\"stressed\",\"tp\",\"hack\",\"server\",\"ankle\",\"dr\",\"noes\",\"manage\",\"trash\",\"empty\",\"noticing\",\"radioactive\",\"ipod\",\"buy\",\"nother\",\"coz\",\"vacations\",\"shouldn't\",\"chillen\",\"sex\",\"careful\",\"gift\",\"whitney\",\"cell\",\"hollywood\",\"finished\",\"bobby\",\"ran\",\"dnf\",\"risk\",\"disgruntled\",\"wrote\",\"1000\",\"hits\",\"pulls\",\"250\",\"tops\",\"lower\",\"stomach\",\"exercising\",\"fallon\",\"56\",\"counting\",\"visit\",\"care\",\"greed\",\"motivates\",\"individual\",\"brat\",\"rub\",\"13\",\"kal\",\"penn\",\"homeworks\",\"blues\",\"item\",\"leftovers\",\"room\",\"suffered\",\"fatal\",\"itunes\",\"docs\",\"pics\",\"manu\",\"spunky\",\"path\",\"step\",\"knows\",\"loved\",\"stinks\",\"hugs\",\"crummy\",\"usb\",\"disco\",\"mouse\",\"buu\",\"white\",\"vs\",\"outnumbered\",\"bah\",\"anti\",\"memorial\",\"tattoos\",\"official\",\"ban\",\"member\",\"month\",\"we'll\",\"venture\",\"knowing\",\"deserves\",\"maxi\",\"coachella\",\"lacking\",\"funding\",\"screaming\",\"crib\",\"boooo\",\"ahead\",\"fri\",\"chill\",\"egg\",\"hunt\",\"spiral\",\"dmb\",\"everytime\",\"dude's\",\"exist\",\"jus\",\"dun\",\"followin\",\"wht\",\"augh\",\"eff\",\"stole\",\"mil's\",\"nail\",\"polish\",\"wishes\",\"fling\",\"tour\",\"dawn\",\"distribution\",\"great\",\"murphy\",\"cartoons\",\"ie\",\"captain\",\"planet\",\"where's\",\"wally\",\"daria\",\"sadness\",\"abt\",\"sarah\",\"centre\",\"point\",\"guessing\",\"train\",\"rammed\",\"commuters\",\"four\",\"warfare\",\"odst\",\"brutal\",\"legend\",\"bioshock\",\"cash\",\"russians\",\"arent\",\"delicious\",\"paris\",\"milk\",\"europe\",\"drink\",\"finals\",\"outttt\",\"shouldve\",\"bern\",\"none\",\"re-pinging\",\"custom\",\"icons\",\"=]\",\"edges\",\"square\",\"diff\",\"background\",\"la\",\"forum\",\"frustrated\",\"talking\",\"moments\",\"squid\",\"monster\",\"branch\",\"plans\",\"ordered\",\"macs\",\"instead\",\"hit\",\"donnie's\",\"stats\",\"700\",\"nah\",\"received\",\"stimulus\",\"bak\",\"havnt\",\"awwwww\",\"feelin\",\"sympathies\",\"decision\",\"border\",\"collie\",\"14\",\"part\",\"spoil\",\"warp\",\"slap\",\"warm\",\"march\",\"converting\",\"itouch\",\"gross\",\"pimple\",\"accent\",\"follower\",\"brb\",\"whether\",\"burned\",\"twitterer\",\"karate\",\"tournament\",\"1am\",\"north\",\"carolina\",\"aint\",\"nothin\",\"stopping\",\"nba\",\"draft\",\"mayer's\",\"twitters\",\"unexpected\",\"should've\",\"homesick\",\"criminals\",\"n2\",\"ci\",\"misty\",\"vid\",\"single\",\"gives\",\"twenty\",\"compress\",\"pulled\",\"muscle\",\"gng\",\"invite\",\"healthy\",\"dining\",\"session\",\"exec\",\"chef\",\"workload\",\"skip\",\"happier\",\"razr\",\"hella\",\"procrastinating\",\"organizing\",\"clothes\",\"v0\",\"4.0\",\"adds\",\"features\",\"e71\",\"3.5\",\"bestie\",\"double\",\"dates\",\"12:10\",\"emailed\",\"responded\",\"fans\",\"saddest\",\"suck\",\"horrified\",\"wrong\",\"decided\",\"rules\",\"oats\",\"market\",\"boy\",\"usc\",\"icecream\",\"shockwave\",\"sydney\",\"joke\",\"except\",\"lc\",\"spell\",\"vaccinated\",\"against\",\"yr\",\"who's\",\"calves\",\"sam\",\"disease\",\"spend\",\"dispatch\",\"starburst\",\"fab\",\"strawberry\",\"gee\",\"insomnia\",\"melatonin\",\"netbeans\",\"cairo\",\"900\",\"screen\",\"corner\",\"lines\",\"dialogue\",\"complaint\",\"confusing\",\"sliced\",\"finger\",\"traffic\",\"bypass\",\"stink\",\"cuddle\",\"software\",\"updates\",\"telling\",\"what's\",\"ihop\",\"diet\",\"kung\",\"pancakes\",\"hating\",\"s'pose\",\"cruel\",\"reviews\",\"debating\",\"physical\",\"pinky\",\"google\",\"android\",\"languages\",\"speak\",\"clean\",\"bottom\",\"moving\",\"share\",\"peoples\",\"caught\",\"bcoz\",\"visiting\",\"lecturer\",\"procrastination\",\"quarter\",\"52\",\"degress\",\"11pm\",\"washington\",\"winter\",\"homee\",\"massage\",\"spilled\",\"desk\",\"simpsons\",\"dvds\",\"fanclub\",\"mild\",\"inner\",\"ear\",\"infection\",\"irritating\",\"sunday\",\"cuteness\",\"awhile\",\"yo\",\"someones\",\"alarm\",\"3am\",\"buffalo\",\"wings\",\"sittin\",\"kayla\",\"reallly\",\"fed\",\"bummed\",\"ladies\",\"create\",\"goodness\",\"stucked\",\"travel\",\"france\",\"closest\",\"70\",\"miles\",\"literature\",\"review\",\"friendly\",\"cup\",\"coffee\",\"phoneless\",\"alcohol\",\"dentist\",\"drunk\",\"tshirt\",\"realised\",\"huge\",\"stain\",\"looked\",\"disgusted\",\"nights\",\"certain\",\"adopted\",\"auntie\",\"64\",\"tania\",\"38\",\"cannot\",\"crappy\",\"law\",\"24\",\"18\",\"driving\",\"twist\",\"packing\",\"painting\",\"cleaning\",\"appreciated\",\"partially\",\"frozen\",\"beer\",\"toaster\",\"under\",\"counter\",\"kitchen\",\"tests\",\"failed\",\"victoria\",\"followed\",\"unpleasant\",\"tube\",\"anybody\",\"afford\",\"extraction\",\"pet\",\"suspicious\",\"e-mails\",\"fishing\",\"mia\",\"=p\",\"expert\",\"roomie\",\"door\",\"comforter\",\"goto\",\"large\",\"laundromat\",\"machines\",\"usually\",\"character\",\"austin\",\"q\",\"drivin\",\"lesson\",\"ten\",\"mins\",\"sleeep\",\"shut\",\"britain\",\"dennys\",\"pas\",\"beau\",\"bon\",\"essay\",\"tmrw\",\"per\",\"usual\",\"interferes\",\"noooooo\",\"loyal\",\"played\",\"hand\",\"stack\",\"pm\",\"looooooong\",\"calls\",\"crack\",\"brew\",\"trees\",\"doubling\",\"stiff\",\"muscles\",\"ouch\",\"unfollowing\",\"term\",\"birthday's\",\"eve\",\"311\",\"sites\",\"together\",\"checking\",\"ideas\",\"nowhere\",\"hiring\",\"sodding\",\"m25\",\"pirate\",\"trial\",\"verdict\",\"hall\",\"log\",\"immediately\",\"options\",\"viable\",\"becky\",\"c'mon\",\"sean\",\"league\",\"own\",\"mint\",\"ice\",\"cones\",\"grand\",\"ma\",\"grass\",\"referring\",\"stalker\",\"bike\",\". .\",\"masters\",\"loads\",\"unloved\",\"dropped\",\"london\",\"raining\",\"robbie\",\"bless\",\"completely\",\"wiped\",\"reloaded\",\"8900\",\"bbm\",\"contacts\",\"whaaaa\",\"invited\",\"workshop\",\"starting\",\"beginnings\",\"manually\",\"twitterfeed\",\"lately\",\"lukewarm\",\"showers\",\"contact\",\"freelance\",\"throughout\",\"connor\",\"pro\",\"inlove\",\"powerbook\",\"america\",\"msgs\",\"flash\",\"lovely\",\"order\",\"vitamin\",\"posts\",\"properly\",\"italian\",\"weeeeee\",\"ip\",\"fact\",\"genuinely\",\"between\",\"quite\",\"sucky\",\"promo\",\"codes\",\"rum\",\"barrel\",\"shakes\",\"horror\",\"sleepless\",\"admitted\",\"fake\",\"chutney\",\"highly\",\"scanning\",\"cooked\",\"risotto\",\"baseball\",\"yankees\",\"exams\",\"circle\",\"hemisphere\",\"suddenly\",\"twitterfam\",\"goodnights\",\"greaaat\",\"lappy\",\"journey\",\"lookin\",\"all-nighter\",\"stranger\",\"percent\",\"darn\",\"allergies\",\"santa\",\"rosa\",\"ca\",\"damnit\",\"digging\",\"reaper\",\"comcast\",\"doubled\",\"cable\",\"quitting\",\"suggest\",\"affordable\",\"area\",\"morn\",\"duchess\",\"hadn't\",\"legs\",\"hi\",\"fixed\",\"microsoft\",\"hq\",\"king\",\"sized\",\"kitty\",\"toooo\",\"muchh\",\"bahaha\",\"butt\",\"nosey\",\"conversation\",\"interesting\",\"offend\",\"sisters\",\"brilliant\",\"bring\",\"you'll\",\"swap\",\"brolly\",\"autograph\",\"record\",\"rt\",\"khloe\",\"apprentice\",\"biology\",\"tivo\",\"59\",\"ruddy\",\"surprise\",\"suckssss\",\"seating\",\"helping\",\"papers\",\"forcing\",\"seat\",\"mobile\",\"import\",\"concentrate\",\"enter\",\"waste\",\"nw\",\"migraine\",\"aches\",\"shoot\",\"premise\",\"turning\",\"wasting\",\"line\",\"plurk\",\"didnt\",\"zero\",\"reader\",\"d'oh\",\"decent\",\"exchange\",\"rate\",\"sterling\",\"inch\",\"camper\",\"grateful\",\"lastnight\",\"sooooooo\",\"ohhh\",\"ps\",\"somehow\",\"fugly\",\"poker\",\"cruise\",\"jonathan\",\"group\",\"campus\",\"outline\",\"h\",\"7am\",\"airfare\",\"texas\",\"iowa\",\"frustrating\",\"wit\",\"murder\",\"gotcha\",\"maternity\",\"size\",\"ulcer\",\"painful\",\"urgh\",\"robots\",\"praying\",\"tht's\",\"annoying\",\"bitchy\",\"def\",\"kno\",\"oct\",\"learn\",\"noon\",\"innocent\",\"selling\",\"workshops\",\"web\",\"directions\",\"ben\",\"jap\",\"baaaad\",\"rash\",\"vhs\",\"aloud\",\"freshly\",\"squeezed\",\"total\",\"cost\",\"resources\",\"slide\",\"kelly's\",\"mhm\",\"wif\",\"spark\",\"lay\",\"emotionally\",\"arggg\",\"ily\",\"yours\",\"shouldnt\",\"flip\",\"pleeeease\",\"application\",\"add-ons\",\"conflict\",\"coaching\",\"exceptional\",\"talent\",\"msu\",\"tuesdays\",\"schools\",\"killing\",\"glasses\",\"arm\",\"meat\",\"808\",\"sed\",\"puerto\",\"rican\",\"slow\",\"\\u00bd\\u00ef\",\"20\",\"snippet\",\"wts\",\"ask\",\"united\",\"tara\",\"waits\",\"seasons\",\"lamb\",\"hn\",\"disappeared\",\"sis\",\"africa\",\"skype\",\"ticks\",\"|\",\":[\",\"snuggles\",\"bawled\",\"jessy\",\"laughing\",\"wanting\",\"pitch\",\"corp\",\"org\",\"billy\",\"spoiled\",\"coughing\",\"barnes\",\"johns\",\"wood\",\"hahahahahah\",\"milo\",\"shitty\",\"simultaneously\",\"turns\",\"hurting\",\"feelings\",\"jerks\",\"jade\",\"damnnn\",\"11:11\",\"yeh\",\"holidays\",\"woot\",\"hearing\",\"7\",\"2:00\",\"400\",\"attend\",\"g\",\"notes\",\"themselves\",\"decide\",\"porn\",\"spammers\",\"followers\",\"japan\",\"release\",\"e\",\"25\",\"classic\",\"conversations\",\"platforms\",\"advertising\",\"louis\",\"bags\",\"authentic\",\"dam\",\"naps\",\"smelt\",\"searching\",\"fyi\",\"yahoo\",\"electricity\",\"zack\",\"edit\",\"bio\",\"profile\",\"login\",\"answer\",\"bt\",\"starving\",\"cuppa\",\"fasting\",\"launch\",\"inform\",\"revisions\",\"amazingly\",\"pointless\",\"foot\",\"smart\",\"synth\",\"experiments\",\"maker\",\"1000000\",\"minimum\",\"williams\",\"sonoma\",\"given\",\"malaysian\",\"nasi\",\"lemak\",\"teh\",\"tak\",\"bm\",\"waitin\",\"theory\",\"woken\",\"lorry\",\"van\",\"main\",\"road\",\"causing\",\"alarms\",\"revolution\",\"rofl\",\"sudden\",\"hows\",\"hannah\",\"disappointing\",\"alright\",\"sports\",\"moe\",\"planning\",\"evening\",\"joined\",\"pms\",\"patio\",\"named\",\"rex\",\"gardner\",\"ooops\",\"panini\",\"thoroughly\",\"nao\",\"poisoning\",\"rainy\",\"gardening\",\"cleo\",\"vets\",\"b4\",\"til\",\"wk\",\"focused\",\"extremely\",\"ohhhh\",\"summer\",\"password\",\"give\",\"prevent\",\"spam\",\"extra\",\"paycheck\",\"mum's\",\"hospital\",\"vomiting\",\"rushing\",\"congested\",\"por\",\"favor\",\"ke\",\"estas\",\"en\",\"esa\",\"cops\",\"lifee\",\"shaking\",\"sorting\",\"brekkie\",\"boohoo\",\"condolences\",\"natasha\",\"nawwww\",\"derrick\",\"causes\",\"2:45\",\"today's\",\"ellen\",\"tablets\",\"gooood\",\"legitimately\",\"twitter's\",\"tooo\",\"anonymous\",\"sha\",\"catering\",\"oakland\",\"18th\",\"da\",\"elementary\",\"ans\",\"fix\",\"brakes\",\"external\",\"avatar\",\"searches\",\"employ\",\"devastating\",\"box\",\"embed\",\"tiny\",\"prunes\",\"i'am\",\"appointment\",\"ironically\",\"singles\",\"addicted\",\"everyonee\",\"kyte\",\"puff\",\"dressed\",\"workday\",\"self\",\"licking\",\"pudding\",\"seafood\",\"fork\",\"enjoyable\",\"slowly\",\"spoon\",\"wan't\",\"focus\",\"mph\",\"nevada\",\"gas\",\"pumps\",\"note\",\"slot\",\"machine\",\"gamble\",\"baby's\",\"5th\",\"closer\",\"1001\",\"don\\u00ef\",\"\\u00bdt\",\"seattle\",\"tents\",\"peepz\",\"f1\",\"slightly\",\"regretting\",\"ripped\",\"colors\",\"mel\",\"exciting\",\"parliament\",\"shockingly\",\"vip\",\"guests\",\"___\",\"fisheye\",\"2night\",\"shocked\",\"characters\",\"pass\",\"effing\",\"points\",\"2g\",\"cases\",\"scratches\",\"void\",\"dents\",\"chapped\",\"lips\",\"ye\",\"weirdly\",\"shes\",\"lettin\",\"parents\",\"it'd\",\"amsterdam\",\"toooooo\",\"verge\",\"anxiety\",\"attack\",\"lakewood\",\"lily\",\"johnathon\",\"batman\",\"growing\",\"p\",\"sync\",\"subtitles\",\"goofy\",\"hint\",\"houses\",\"clearing\",\"person\",\"pic\",\"signed\",\"shirt\",\"describe\",\"skipped\",\"inside\",\"overnight\",\"bag\",\"spelt\",\"ahem\",\"guten\",\"morgen\",\"cologne\",\"booooo\",\"reminded\",\"landed\",\"msia\",\"goats\",\"develop\",\"fe\",\"tv\",\"allergy\",\"pill\",\"announcements\",\"mother\",\"cough\",\"rise\",\"thesis\",\"goodd\",\"nightt\",\"timewarp\",\"fantastic\",\"gutted\",\"245\",\"scrub\",\"apt\",\"steven\",\"windy\",\"topic\",\"concert\",\"expensive\",\"mt\",\"texts\",\"arrive\",\"aerobics\",\"exercise\",\"paying\",\"kisses\",\"500\",\"errors\",\"documentation\",\"excellent\",\"navy\",\"seal\",\"marcus\",\"doggy\",\"rage\",\"eaton\",\"zurich\",\"smelly\",\"classroom\",\"burn\",\"chances\",\"capoeira\",\"zoom\",\"educational\",\"owh\",\"motivation\",\"nooo\",\"west\",\"coast\",\"4.45\",\"dozing\",\"badly\",\"slim\",\"battery\",\"trailer\",\"adventureland\",\"australia\",\"toll\",\"layin\",\"ditch\",\"parish\",\"glitching\",\"cya\",\"rental\",\"discount\",\"pita\",\"nevr\",\"fax\",\"driver\",\"travelling\",\"tricky\",\"atleast\",\"ac\",\"dc\",\"rocked\",\"reality\",\"homes\",\"150\",\"christian\",\"slater\",\"shittt\",\"xoxo\",\"diana\",\"spots\",\"doubt\",\"beauty\",\"hehehe\",\"separated\",\"heh\",\"conquered\",\"ladder\",\"receive\",\"digital\",\"signal\",\"antenna\",\"fellow\",\"vile\",\"special\",\"reserved\",\"appeared\",\"claim\",\"rack\",\"shock\",\"bday\",\"yeaah\",\"aids\",\"id\",\"inflict\",\"whats\",\"meds\",\"blip.fm\",\"normal\",\"tweeting\",\"shave\",\"remedy\",\"tunes\",\";-)\",\"chick\",\"sobs\",\"process\",\"assessment\",\"2moro\",\"canceled\",\"plane\",\"tickets\",\"whee\",\"suuuucks\",\"delete\",\"jerry\",\"turd\",\"awful\",\"imagine\",\"cousin\",\"following\",\"randomly\",\"bleh\",\"spew\",\"burps\",\"deadline\",\"bought\",\"topshop\",\"6am\",\"tooooooooo\",\"thankful\",\"michael\",\"curse\",\"letter\",\"alway\",\"koreans\",\"x\",\"holy\",\"original\",\"revision\",\"final\",\"assessments\",\"90\",\"mark\",\"harsh\",\"chipped\",\"nails\",\"passed\",\"ocd\",\"hip\",\"hips\",\"bf's\",\"nephew\",\"meningitis\",\"nay\",\"chu\",\"ch\",\"m\",\"ki\",\"tr\",\"ng\",\"bao\",\"\\u00bdu\",\"vi\",\"coldd\",\"moved\",\"daisy\",\"oops\",\"cd\",\"requires\",\"assembly\",\"2day\",\"oooh\",\"heads\",\"high\",\"killin\",\"tucker\",\"dinner\",\"connected\",\"dm\",\"compassion\",\"relatives\",\"polite\",\"ranger\",\"smile\",\"brings\",\"memories\",\"issue\",\"deep\",\"max\",\"8am\",\"speeding\",\"ticket\",\"hm\",\"freakin\",\"current\",\"challenge\",\"international\",\"font\",\"who'd\",\"studies\",\"david\",\"question\",\"lmfao\",\"frikkin\",\"effin\",\"xxxx\",\"hehe\",\"danish\",\"flaked\",\"wha\",\"4gb\",\"laggy\",\"computers\",\"mba\",\"upgrade\",\"iv\",\"humor\",\"super\",\"piercing\",\"tore\",\"truck\",\"fault\",\"healing\",\"mtv\",\"hasnt\",\"apples\",\"gig\",\"ace\",\"begins\",\"simple\",\"explanation\",\"heartbreaking\",\"frankly\",\"offended\",\"blogger\",\"fu\",\"penguin\",\"wooo\",\"origin\",\"mooorning\",\"knee\",\"kick\",\"bournemouth\",\"7s\",\"blue\",\"rot\",\"re\",\"mexico\",\"websites\",\"havent\",\"cleaned\",\"recommendations\",\"mrtweet\",\"mary\",\"ignoring\",\"hoo\",\"light\",\"headed\",\"thousand\",\"apologies\",\"sinned\",\"chels\",\"major\",\"joking\",\"crushed\",\"field\",\"wave\",\"th\",\"service\",\"somethin\",\"fallen\",\"twat\",\"committed\",\"installing\",\"windows\",\"issues\",\"yest\",\"months\",\"pregnant\",\"non\",\"megan\",\"equals\",\"peace\",\"groggy\",\"understanding\",\"luke\",\"flirting\",\"satisfied\",\"teeny\",\"terribly\",\"basically\",\"goo\",\"lmaooo\",\"mornin\",\"lie\",\"hooded\",\"teef\",\"sight\",\"likes\",\"fellas\",\"rang\",\"arvo\",\"amy\",\"beats\",\"keynote\",\"scc\",\"derek\",\"liked\",\"safari\",\"tks\",\"costumes\",\"destroyed\",\"situation\",\"00am\",\"typical\",\"british\",\"angry\",\"drivers\",\"dreaming\",\"sociology\",\"gummi\",\"worms\",\"peach\",\"o's\",\"cheeto\",\"puffs\",\"44\",\"ounce\",\"soda\",\"tweetheart\",\"search\",\"continues\",\":-\\\\\",\"scroll\",\"lotta\",\"tomor\",\"housewives\",\"priorities\",\"23rd\",\"tennessee\",\"hubby's\",\"disks\",\"key\",\"someday\",\"shall\",\"stairs\",\"enjoying\",\"cigs\",\"paperwork\",\"`\",\"5km\",\"built\",\"freeway\",\"9am\",\"aswell\",\"piglet\",\"winnie\",\"pooh\",\"tongue\",\"miso\",\"soup\",\"longing\",\"sewing\",\"wink\",\"severe\",\"arghhhh\",\"byeee\",\"sarcasm\",\"130\",\"microwaved\",\"kashi\",\"spinach\",\"slumdog\",\"lil\",\"bro's\",\"teachers\",\"rotten\",\"parts\",\"hahahaha\",\"lifestyle\",\"goodbye\",\"smoothly\",\"stage\",\"breakup\",\"rach\",\"waited\",\"showed\",\"hallucinating\",\"add\",\"madden\",\"08\",\"09\",\"favourite\",\"takin\",\"clubs\",\"advise\",\"judge\",\"arse\",\"packs\",\"moroccan\",\"kenyan\",\"bigger\",\"attn\",\"hbo\",\"remembered\",\"creeps\",\"attacks\",\"fridge\",\"glue\",\"owwwwww\",\"doozy\",\"slight\",\"edge\",\"disneyland\",\"finds\",\"rly\",\"detox\",\"h2o\",\"skin\",\"shitting\",\"likely\",\"sac\",\"540\",\"pixie\",\"afro\",\"spread\",\"flashes\",\"moth\",\"frank\",\"morgan\",\"race\",\"wales\",\"blahhh\",\"unable\",\"motivated\",\"icky\",\"pups\",\"perhaps\",\"rejected\",\"harrowing\",\"especially\",\"admit\",\"pg\",\"studied\",\"joy\",\"beginning\",\"brain\",\"tempt\",\"shoulda\",\"fatboy\",\"twitt\",\"insane\",\"lady\",\"appreciate\",\"ermmm\",\"dreaded\",\"bowling\",\"mate\",\"rubbish\",\"obviously\",\"pr\",\"paramount\",\"pond\",\"near\",\"auto\",\"feature\",\"ironed\",\"advertisements\",\"industrial\",\"strength\",\"ow\",\"bitch\",\"showered\",\"shift\",\"msg\",\"dunkin\",\"donuts\",\"holland\",\"orders\",\"blogged\",\"31st\",\"stinking\",\"bunny\",\"beware\",\"a2\",\"lanes\",\"2010\",\"11\",\"5.30\",\"tomoro\",\"onwards\",\"moon\",\"zzzz\",\"froze\",\"luckily\",\"shot\",\"submitted\",\"faffing\",\"believed\",\"rebuilding\",\"tip\",\"divorce\",\"drizzling\",\"pour\",\"ugghhh\",\"eaten\",\"steak\",\"sarnies\",\"lunch\",\"doh\",\"restoring\",\"backup\",\"gigs\",\"annex\",\"mee\",\"politicians\",\"oprah\",\"limits\",\"tony\",\"circulation\",\"ce\",\"mat\",\"belive\",\"tx\",\"ahaha\",\"pineapple\",\"dollars\",\"aching\",\"whip\",\"melting\",\"husband\",\"46\",\"whom\",\"acknowledge\",\"ms\",\"wonderful\",\"cop\",\"noises\",\"creepy\",\"dis\",\"brother's\",\"cock\",\"ewww\",\"forex\",\"truth\",\"peep\",\"lab\",\"report\",\"jacked\",\"unfort\",\"msn\",\"douche\",\"pollen\",\"sinuses\",\"cali\",\"woo\",\"seven\",\"heck\",\"procrastinate\",\"goal\",\"grad\",\"charge\",\"untimely\",\"boarding\",\"2am\",\"sniffling\",\"sneezing\",\"associates\",\"convention\",\"demanding\",\"greek\",\"june\",\"ew\",\"sux\",\"drama\",\"filming\",\"jun\",\"healthier\",\"discovery\",\"places\",\"cycle\",\"2work\",\"scheme\",\"disc\",\"employee\",\"river\",\"jammed\",\"subscription\",\"lapse\",\"prelude\",\"optimistic\",\"delayed\",\"365\",\"phoenix\",\"san\",\"diego\",\"obsessed\",\"fresh\",\"xtra\",\"sun\",\"shining\",\"birds\",\"singing\",\"ta\",\"recipe\",\"developed\",\"addiction\",\"aus\",\"feckin\",\"sign\",\"age\",\"nonetheless\",\"nerdy\",\"metropolitan\",\"facing\",\"relax\",\"air\",\"conditioning\",\"trend\",\"language\",\"mason\",\"blog\",\"stingray\",\"low\",\"tide\",\"badminton\",\"flakes\",\"commercial\",\"soree\",\"t___t\",\"draw\",\"thank's\",\"inhaler\",\"goodmorning\",\"cb\",\"cord\",\"angus\",\"check-up\",\"quietly\",\"dread\",\"poorly\",\"lung\",\"function\",\"melbourne\",\"department\",\"cabs\",\"eww\",\"cereal\",\"granola\",\"raspberries\",\"mondays\",\"reruns\",\"grown\",\"horrid\",\"minority\",\"stake\",\"fool\",\"brand\",\"snowed\",\"hawaii\",\"updating\",\"blogspot\",\"bulletin\",\"thelma\",\"shiz\",\"blank\",\"::\",\"silent\",\"psp\",\"='(\",\"johnny\",\"oc\",\"solution\",\"spanish\",\"sims\",\"gaah\",\"dnt\",\"limewire\",\"prefer\",\"correction\",\"cert\",\"tj\",\"freezer\",\"melted\",\"ouchies\",\"youre\",\"buzz\",\"secret\",\"jaime\",\"loveyou\",\".   ...\",\"midterm\",\"projects\",\"300\",\"revising\",\"figured\",\"became\",\"east\",\"perfectly\",\"ripe\",\"banana\",\"freight\",\"mc\",\"tadi\",\"lagi\",\"rufus\",\"crab\",\"commerce\",\"fever\",\"buds\",\"cries\",\"arghh\",\"hands\",\"beef\",\"fairly\",\"misery\",\"math\",\"co\",\"4:15\",\"position\",\"tightened\",\"magic\",\"sophia\",\"terrific\",\"power\",\"rid\",\"casino\",\"loser\",\"enjoyed\",\"lined\",\"future\",\"horizon\",\"julian\",\"bball\",\"phoebe\",\"denied\",\"bazaar\",\"bizarre\",\"vendor\",\"preferred\",\"angela\",\"bd\",\"calories\",\"nt\",\"gd\",\"abs\",\"len\",\"safe\",\"designs\",\"lent\",\"danm\",\"disney\",\"channel\",\"broked\",\"promised\",\"wouldn't\",\"contract\",\"otalia\",\"nowww\",\"surprising\",\"2morow\",\"unc\",\"dominated\",\"hallelujah\",\"third\",\"econ\",\"physically\",\"pa\",\"croissant\",\"tuna\",\"dat\",\"back-to-back\",\"starbuck\",\"frap\",\"preaching\",\"guilty\",\"config\",\"shared\",\"control\",\"charley\",\"cheer\",\"nicest\",\"indoors\",\"contemplated\",\"piles\",\"lusting\",\"mir\",\"thirsty\",\"dotn\",\"suggestions\",\"bout\",\"sana\",\"shellfish\",\"shrimp\",\"root\",\"canal\",\"8.30\",\"noise\",\"short\",\"chronic\",\"oyster\",\"valid\",\"si\",\"se\",\"awwww\",\"yourself\",\"entertained\",\"knowwwwww\",\"gurls\",\"night's\",\"setup\",\"subversion\",\"hes\",\"hurty\",\"squishy\",\"mess\",\"ai\",\"pixar\",\"freeview\",\"entire\",\"undo\",\"choco\",\"=d\",\"specs\",\"clears\",\"feeding\",\"spag\",\"bol\",\"bummer\",\"response\",\"blatantly\",\"untrue\",\"accounts\",\"kath\",\"annual\",\"cape\",\"twitterberry\",\"shifts\",\"coupled\",\"window\",\"jimmy\",\"specific\",\"chillin\",\"danced\",\"lodge\",\"rn\",\"sugar\",\"salt\",\"fried\",\"rice\",\"sometimes\",\"sales\",\"potential\",\"customer\",\"development\",\"torrent\",\"bj\",\"tragically\",\"eliminated\",\"laundry\",\"becomes\",\"weapons\",\"9\",\"proud\",\"huhu\",\"28\",\"puttin\",\"coolness\",\"gentlemen\",\"wednesdays\",\"choclate\",\"passengers\",\"hunn\",\"journalists\",\"ambulance\",\"chasing\",\"lawyers\",\"copenhagen\",\"flo\",\"rider\",\"messed\",\"rudd\",\"dutch\",\"incomplete\",\"ll\",\"slogging\",\"meanie\",\"whine\",\"housing\",\"stfu\",\"playin\",\"planting\",\"funeral\",\"undergoing\",\"maintenance\",\"clubbing\",\"cc\",\"sip\",\"vodka\",\"ominous\",\"doctor's\",\"whore\",\"ahhhhhhh\",\"everyones\",\"boxee\",\"pandora\",\"oz\",\"uuu\",\"pissy\",\"mormon\",\"jokes\",\"realize\",\"sounded\",\"hittin\",\"kernel\",\"panicking\",\"forced\",\"sooner\",\"pose\",\"az\",\"gorgeous\",\"roll\",\"booo\",\"agreee\",\"smoke\",\"framework\",\"module\",\"impossible\",\"files\",\"accidently\",\"shaved\",\"brows\",\"bullshit\",\"lions\",\"tigers\",\"bears\",\"shyt\",\"consequently\",\"neck\",\"le\",\"gusta\",\"five\",\"fm\",\"tuner\",\"stops\",\"audio\",\"hurry\",\"willing\",\"tune\",\"piano\",\"ends\",\"baking\",\"oatmeal\",\"chip\",\"3000\",\"wedding\",\"shots\",\"stretched\",\"browser\",\"twit\",\"ads\",\"adsense\",\"delay\",\"48\",\"regular\",\"9-5\",\"snoring\",\"tommorow\",\"spitting\",\"stitches\",\"bone\",\"graft\",\"hooray\",\"reliable\",\"bridge\",\"watchin\",\"heath\",\"ledger\",\"bits\",\"homeward\",\"bound\",\"salsa\",\"blip\",\"neighbor\",\"beaten\",\"journalist\",\"throws\",\"resent\",\"struck\",\"creativity\",\"midnight\",\"pizza\",\"intentions\",\"tidying\",\"momentum\",\"):\",\"writers\",\"it\\u00ef\",\"sprained\",\":'(\",\"appealing\",\"audience\",\"yikes\",\"clues\",\"engaged\",\"muppet\",\"orlando\",\"justin\",\"timberlake\",\"sans\",\"guardian\",\"17\",\"fl\",\"jetlag\",\"thurs\",\"helluva\",\"todo\",\"blows\",\"specialty\",\"level\",\"178\",\"yawns\",\"sonny\",\"updated\",\"oohh\",\"{\",\"woop\",\"2x\",\"apr\",\"}\",\"familiar\",\"himself\",\"hole\",\"sale\",\"christmas\",\"fixing\",\"swallow\",\"glands\",\"restrictions\",\"speedo\",\"supporting\",\"role\",\"cocks\",\"banned\",\"forums\",\"sticking\",\"chanel\",\"treated\",\"latte\",\"wisdom\",\"teeth\",\"removed\",\"ceramic\",\"abit\",\"visible\",\"price\",\"duration\",\"thankyou\",\"entry\",\"tones\",\"fightin\",\"threw\",\"throw\",\"bin\",\"mandy\",\"creed\",\"anyones\",\"obama\",\"istanbul\",\"therefore\",\"roads\",\"effect\",\"blazing\",\"sunshine\",\"re-runs\",\"yep\",\"finito\",\"contractors\",\"quotes\",\"incoming\",\"bite\",\"bullet\",\"sf\",\"rescheduling\",\"circumstances\",\"blasted\",\"cnt\",\"needles\",\"twitterati\",\"bath\",\"todays\",\"appt\",\"10am\",\"hitting\",\"afterwards\",\"responding\",\"rochester\",\"mn\",\"rocks\",\"bohol\",\"taffy\",\"oddly\",\"wired\",\"sunny\",\"batteries\",\"shell\",\"hhh\",\"wrecks\",\"1234\",\"57\",\"58\",\"132\",\"133\",\"z's\",\"wikipedia\",\"goverment\",\"lets\",\"donations\",\"dissapointment\",\"haveing\",\"absolutly\",\"wash\",\"flight\",\"conchords\",\"government\",\"aimed\",\"downhill\",\"owww\",\"elbow\",\"carter\",\"skewl\",\"suks\",\"blech\",\"8/\",\"entries\",\"widely\",\"exhaust\",\"replaced\",\"grrrr\",\"assignments\",\"pause\",\"teacher\",\"miscarriage\",\"knw\",\"tamara\",\"anxiously\",\"awaiting\",\"28th\",\"graduation\",\"ceremony\",\"common\",\"george\",\"bush\",\"registration\",\"standard\",\"wherever\",\"canberra\",\"ahhh\",\"txt\",\"audrey\",\"hepburn\",\"nooooo\",\"allowed\",\"forehead\",\"slice\",\"choices\",\"hulu\",\"departure\",\"lounge\",\"nightclub\",\"students\",\"struggle\",\"uninstalled\",\"2.3\",\"2.2\",\"dice\",\"resolve\",\"shortage\",\"omgosh\",\"biscuits\",\"yum\",\"xd\",\"lived\",\"missy\",\":p\",\"koh\",\"tao\",\"bangkok\",\"hat\",\"irl\",\"connect\",\"ritz\",\"xx\",\"awkward\",\"amazes\",\"value\",\"dt\",\"yaaaay\",\"sheep\",\"sensor\",\"slr\",\"removal\",\"several\",\"hammering\",\"hangover\",\"complicated\",\":')\",\"tonsillitis\",\"heaven\",\"resulted\",\"soft\",\"couldn\",\"wight\",\"warcraft\",\"prize\",\"custody\",\"eddie\",\"izzard\",\"consult\",\"begun\",\"february\",\"imy\",\"reinstall\",\"simply\",\"refuses\",\"3.1\",\"0\",\"okie\",\"dokie\",\"tweoples\",\"lovelies\",\"national\",\"treasure\",\"domain\",\"anytime\",\"grey\",\"stressfull\",\"bruce\",\"springsteen\",\"2do\",\"grumpy\",\"abu\",\"dhabi\",\"photograph\",\"mortgage\",\"skint\",\"delivers\",\"pink\",\"crammed\",\"bedroom\",\"rooms\",\"opened\",\"crisps\",\"tantrums\",\"standing\",\"platform\",\"dating\",\"wass\",\"anit\",\"pfff\",\"p\\u00ef\",\"biking\",\"ya'll\",\"postman\",\"ilu\",\"drs\",\"atm\",\"gray\",\"sky\",\"shoulder\",\"a-hole\",\"answers\",\"questions\",\"abused\",\"hurtful\",\"lies\",\"truths\",\"sappy\",\"jumping\",\"twisted\",\"taxi\",\"remaking\",\"haley\",\"urge\",\"illustrations\",\"prodigy\",\"bleeding\",\"browse\",\"twitter.com\",\"firewall\",\"automatically\",\"hangs\",\"bump\",\"curses\",\"yoghurt\",\"exploded\",\"toffee\",\"gold\",\"k\",\"genting\",\"com\",\"choice\",\"eco\",\"treating\",\"nahi\",\"kiya\",\"baad\",\"ab\",\"tu\",\"raha\",\"gloomy\",\"cutest\",\"miley\",\"qr\",\"buses\",\"trains\",\"align\",\"tonsilitis\",\"greeeeat\",\"communicate\",\"observe\",\"premiering\",\"chinese\",\"theater\",\"reporters\",\"stars\",\"huh\",\"fear\",\"eminem's\",\"coupla\",\"chibi\",\"parcel\",\"insist\",\"roo\",\"arghhh\",\"error\",\"youuu\",\"penalty\",\"scored\",\"bbs\",\"yall\",\"combined\",\"toothache\",\"stamps\",\"alas\",\"pimms\",\"thorpe\",\"database\",\"dj\",\"battle\",\"supreme\",\"ruler\",\"winning\",\"spotify\",\"naar\",\"racket\",\"wahey\",\"peter\",\"spoke\",\"cloud\",\"charging\",\"towards\",\"cellphones\",\"input\",\"avatars\",\"rp\",\"thread\",\"mtp\",\"torn\",\"personality\",\"gud\",\"enabled\",\"calendars\",\"loveeee\",\"app's\",\"alpha\",\"0.0\",\"complex\",\"version\",\"9.5\",\"dev\",\"roommates\",\"nyc\",\"tht\",\"thnx\",\"rod\",\"orange\",\"graphic\",\"hawk\",\"bucket\",\"cables\",\"connections\",\"controlling\",\"napping\",\"gma\",\"comfort\",\"sipping\",\"starbucks\",\"tricia\",\"annnd\",\"woe\",\"racists\",\"gerry\",\"dublin\",\"college\",\"limbo\",\"horny\",\"hungryyyy\",\"sushi\",\"photographing\",\"dslr\",\"bulky\",\"rsi\",\"guides\",\"shortcuts\",\"photo\",\"oooooh\",\"heather\",\"sewage\",\"xp\",\"owen\",\"island\",\"virus\",\"bunged\",\"squinty\",\"precious\",\"bean\",\"chocolates\",\"gawd\",\"system\",\"lied\",\"admin\",\"wp\",\"layout\",\"mari\",\"devastated\",\"edinburgh\",\"festival\",\"forgive\",\"unintentionally\",\"diy\",\"gnite\",\"10pm\",\"haves\",\"midwife\",\"whoop\",\"de\",\"unwell\",\"phoned\",\"bothered\",\"explains\",\"itself\",\"habit\",\"pool\",\"mix\",\"fucken\",\"tiring\",\"shutting\",\"friendfeed\",\"beta\",\"appear\",\"mistake\",\"quote\",\"monday's\",\"spills\",\"boycotting\",\"facebook's\",\"fashion\",\"war\",\"faces\",\"mammoth\",\"task\",\"sy\",\"pn\",\"mau\",\"sm\",\"kau\",\"jg\",\"4pm\",\"mm\",\"appears\",\"naughty\",\"hw\",\"masha\",\"blinded\",\"freaking\",\"fb\",\"regarding\",\"ummm\",\"candy\",\"progress\",\"offered\",\"ff\",\"germs\",\"completing\",\"reports\",\"interviewing\",\"bee\",\"adventurous\",\"hero\",\"depress\",\"tools\",\"achilles\",\"dvd's\",\"\\u00bd20\",\"hmv\",\"diagnosis\",\"negotiating\",\"wth\",\"spilling\",\"avail\",\"bkk\",\"protest\",\"ffs\",\"urgently\",\"available\",\"tonight's\",\"postponed\",\"loose\",\"mp3\",\"cheers\",\"nocturnal\",\"constantly\",\"downunder\",\"queue\",\"ftl\",\"silver\",\"ot\",\"country\",\"tryin\",\"nappy\",\"nappies\",\"anger\",\"kills\",\"aaliyah\",\"wife\",\"mags\",\"gunna\",\"blessed\",\"nor\",\"contribute\",\"airwaves\",\"blink\",\"182\",\"ellie\",\"article\",\"enduring\",\"epic\",\"glasgow\",\"alton\",\"towers\",\"maya\",\"spayed\",\"nervous\",\"folding\",\"tweetie\",\"grouping\",\"143\",\"jac\",\"members\",\"mike\",\"andrews\",\"bugger\",\"aware\",\"bob\",\"terrorists\",\"claims\",\"acceptable\",\"senior\",\"gf\",\"bk\",\"learnin\",\"damp\",\"pulling\",\"pair\",\"knicks\",\"todayyy\",\"emo\",\"oneself\",\"haaaaa\",\"oo\",\"ups\",\"pump\",\"commuting\",\"hideous\",\"uploaded\",\"onto\",\"plug\",\"var\",\"cisco\",\"load\",\"jonas\",\"brothers\",\"can\\u00ef\",\"stoped\",\"irritated\",\"patch\",\"released\",\"camps\",\"gahh\",\"rural\",\"electronic\",\"modeling\",\"smooth\",\"tempting\",\"scheduled\",\"insomia\",\"stephen\",\"count\",\"breaths\",\"chemistry\",\"leah\",\"messy\",\"vibe\",\"drummer\",\"illness\",\"operated\",\"a330\",\"hyper\",\"76\",\"eric\",\"injections\",\"begin\",\"commit\",\"elses\",\"immensely\",\"paranoid\",\"moi\",\"scratchy\",\"canadian\",\"security\",\"spirits\",\"stream\",\"uses\",\"port\",\"fw\",\"proxy\",\"nawww\",\"habbit\",\"misspelling\",\"picking\",\"rough\",\"denial\",\"warnings\",\"ignored\",\"creepin\",\"cancel\",\"podcast\",\"listed\",\"heap\",\"kentucky\",\"thier\",\"director\",\"doctors\",\"results\",\"deleting\",\"vet\",\"science\",\"cept\",\"adelaide\",\"alex\",\"space\",\"firefox\",\"polaroid\",\"jaw\",\"wayyyy\",\"cp\",\"dirty\",\"screening\",\"method\",\"loving\",\"3:30\",\"daughter\",\"scraping\",\"alike\",\"montage\",\"flashback\",\"breathe\",\"across\",\"sneeze\",\"sets\",\"sofie\",\"joe\",\"type\",\"suffering\",\"overload\",\"friday's\",\"80\",\"fest\",\"cuddy\",\"hook\",\"apo\",\"buns\",\"scotland\",\"how'd\",\"rising\",\"increased\",\"multiple\",\"6.45\",\"carrot\",\"slices\",\"10ish\",\"pad\",\"pero\",\"di\",\"compatible\",\"sa\",\"yung\",\"winding\",\"resident\",\"dull\",\"shuts\",\"tossing\",\"moan\",\"flat\",\"everythin\",\"endured\",\"shed\",\"wine\",\"photoshoot\",\"eyy\",\"brighton\",\"hellooo\",\"boys\",\"xxxxxx\",\"jersey\",\"zombie\",\"mode\",\"kept\",\"2.30\",\"vicious\",\"errands\",\"apply\",\"licence\",\"competition\",\"debate\",\"brilliantly\",\"devil\",\"crispy\",\"bacon\",\"sandwich\",\"volunteered\",\"hull\",\"fc\",\"vanished\",\"breakie\",\"cameras\",\"shite\",\"johnsons\",\"animals\",\"bunnies\",\"products\",\"drank\",\"9pm\",\"5:30\",\"lime\",\"flops\",\"opinion\",\"arriving\",\"cuban\",\"buffet\",\"powder\",\"jeans\",\"fitted\",\"inspiration\",\"listened\",\"sugababes\",\"purge\",\"memory\",\"dogs\",\"doll\",\"doggie\",\"church\",\"flying\",\"spaghetti\",\"films\",\"comming\",\"t-minus\",\"wifi\",\"depart\",\"hermes\",\"fry\",\"squirrels\",\".. .\",\"impending\",\"fatherhood\",\"affecting\",\"judgement\",\"rav\",\"aust\",\"gov\",\"43\",\"100mb\",\"worlds\",\"speeds\",\"dan\",\"grabbed\",\"yardhouse\",\"cutting\",\"10.00\",\"3yrs\",\"rpm\",\"vespa\",\"oil\",\"ain't\",\"un\",\"cities\",\"worries\",\"outing\",\"malarky\",\"medium\",\"ireland\",\"poets\",\"research\",\"panic\",\"distracting\",\"bugs\",\"dealt\",\"blow\",\"subscriptions\",\"delivered\",\"ol\",\"frend\",\"rite\",\"quit\",\"breath\",\"tourny\",\"fo\"],\"x\":{\"__ndarray__\":\"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\",\"dtype\":\"float32\",\"shape\":[5000]},\"y\":{\"__ndarray__\":\"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\",\"dtype\":\"float32\",\"shape\":[5000]}},\"selected\":null,\"selection_policy\":null},\"id\":\"b0ad2c5a-a504-49c0-ad0f-72f25ee2255b\",\"type\":\"ColumnDataSource\"},{\"attributes\":{\"bottom_units\":\"screen\",\"fill_alpha\":{\"value\":0.5},\"fill_color\":{\"value\":\"lightgrey\"},\"left_units\":\"screen\",\"level\":\"overlay\",\"line_alpha\":{\"value\":1.0},\"line_color\":{\"value\":\"black\"},\"line_dash\":[4,4],\"line_width\":{\"value\":2},\"plot\":null,\"render_mode\":\"css\",\"right_units\":\"screen\",\"top_units\":\"screen\"},\"id\":\"cdd35d63-c255-422c-8c0d-fdad0685ddcb\",\"type\":\"BoxAnnotation\"},{\"attributes\":{},\"id\":\"cdb68597-0b06-44c8-8a1b-b88bdb3d930d\",\"type\":\"WheelZoomTool\"},{\"attributes\":{\"overlay\":{\"id\":\"cdd35d63-c255-422c-8c0d-fdad0685ddcb\",\"type\":\"BoxAnnotation\"}},\"id\":\"ed15fcc4-cd82-43e3-9635-0d23a9f73db6\",\"type\":\"BoxZoomTool\"},{\"attributes\":{\"fill_alpha\":{\"value\":0.1},\"fill_color\":{\"value\":\"#1f77b4\"},\"line_alpha\":{\"value\":0.1},\"line_color\":{\"value\":\"#1f77b4\"},\"x\":{\"field\":\"x\"},\"y\":{\"field\":\"y\"}},\"id\":\"da5f11c6-981b-45a4-901c-85a62d79c689\",\"type\":\"Circle\"},{\"attributes\":{},\"id\":\"c16d8e90-a5e0-4d1c-9093-adc7df6e0d14\",\"type\":\"ResetTool\"},{\"attributes\":{\"plot\":null,\"text\":\"A map of 10000 word vectors\"},\"id\":\"01790962-b475-41f8-beb2-6489b909e6a6\",\"type\":\"Title\"},{\"attributes\":{\"callback\":null,\"tooltips\":[[\"word\",\"@words\"]]},\"id\":\"520765f0-95be-447c-b78e-eff855479e18\",\"type\":\"HoverTool\"},{\"attributes\":{\"min_border\":1,\"plot_width\":700,\"renderers\":[{\"id\":\"cdd35d63-c255-422c-8c0d-fdad0685ddcb\",\"type\":\"BoxAnnotation\"},{\"id\":\"f2a4a3cd-52d8-48e8-8b93-65fd0f7de3ff\",\"type\":\"GlyphRenderer\"}],\"title\":{\"id\":\"01790962-b475-41f8-beb2-6489b909e6a6\",\"type\":\"Title\"},\"toolbar\":{\"id\":\"383c1e6b-6436-4fd6-b9e2-59f1782c2a86\",\"type\":\"Toolbar\"},\"x_range\":{\"id\":\"2a5f85ba-e248-4152-bf11-26a680069c66\",\"type\":\"DataRange1d\"},\"x_scale\":{\"id\":\"f7641b5b-a361-4b66-aa37-8040d8e667a7\",\"type\":\"LinearScale\"},\"y_range\":{\"id\":\"6855198f-ac12-4d5f-9d22-bbd9de8f604a\",\"type\":\"DataRange1d\"},\"y_scale\":{\"id\":\"8b58c74b-7784-46ab-a5c2-27901b0786d6\",\"type\":\"LinearScale\"}},\"id\":\"98499e6e-4731-431b-8372-7eb0e7948335\",\"subtype\":\"Figure\",\"type\":\"Plot\"},{\"attributes\":{},\"id\":\"280bc5c2-693c-4e5a-b4e6-b3de8acb9373\",\"type\":\"SaveTool\"}],\"root_ids\":[\"98499e6e-4731-431b-8372-7eb0e7948335\"]},\"title\":\"Bokeh Application\",\"version\":\"0.12.15\"}};\n",
       "  var render_items = [{\"docid\":\"33042de4-54a6-4419-9e3f-dd8ea1a6c9fb\",\"elementid\":\"00a4a978-3c47-48f2-a63e-9ac148942e94\",\"modelid\":\"98499e6e-4731-431b-8372-7eb0e7948335\"}];\n",
       "  root.Bokeh.embed.embed_items_notebook(docs_json, render_items);\n",
       "\n",
       "  }\n",
       "  if (root.Bokeh !== undefined) {\n",
       "    embed_document(root);\n",
       "  } else {\n",
       "    var attempts = 0;\n",
       "    var timer = setInterval(function(root) {\n",
       "      if (root.Bokeh !== undefined) {\n",
       "        embed_document(root);\n",
       "        clearInterval(timer);\n",
       "      }\n",
       "      attempts++;\n",
       "      if (attempts > 100) {\n",
       "        console.log(\"Bokeh: ERROR: Unable to run BokehJS code because BokehJS library is missing\")\n",
       "        clearInterval(timer);\n",
       "      }\n",
       "    }, 10, root)\n",
       "  }\n",
       "})(window);"
      ],
      "application/vnd.bokehjs_exec.v0+json": ""
     },
     "metadata": {
      "application/vnd.bokehjs_exec.v0+json": {
       "id": "98499e6e-4731-431b-8372-7eb0e7948335"
      }
     },
     "output_type": "display_data"
    }
   ],
   "source": [
    "# defining the chart\n",
    "output_notebook()\n",
    "plot_tfidf = bp.figure(plot_width=700, plot_height=600, title=\"A map of 10000 word vectors\",\n",
    "                        tools=\"pan,wheel_zoom,box_zoom,reset,hover,previewsave\",\n",
    "                        x_axis_type=None, y_axis_type=None, min_border=1)\n",
    "\n",
    "# getting a list of word vectors. limit to 10000. each is of 200 dimensions\n",
    "word_vectors = [tweet_w2v[w] for w in list(tweet_w2v.wv.vocab.keys())[:5000]]\n",
    "\n",
    "# dimensionality reduction. converting the vectors to 2d vectors\n",
    "from sklearn.manifold import TSNE\n",
    "tsne_model = TSNE(n_components=2, verbose=1, random_state=0)\n",
    "tsne_w2v = tsne_model.fit_transform(word_vectors)\n",
    "\n",
    "# putting everything in a dataframe\n",
    "tsne_df = pd.DataFrame(tsne_w2v, columns=['x', 'y'])\n",
    "tsne_df['words'] = list(tweet_w2v.wv.vocab.keys())[:5000]\n",
    "\n",
    "# plotting. the corresponding word appears when you hover on the data point.\n",
    "plot_tfidf.scatter(x='x', y='y', source=tsne_df)\n",
    "hover = plot_tfidf.select(dict(type=HoverTool))\n",
    "hover.tooltips={\"word\": \"@words\"}\n",
    "show(plot_tfidf)"
   ]
  },
  {
   "cell_type": "markdown",
   "metadata": {},
   "source": [
    "# TF-IDF matrix of data"
   ]
  },
  {
   "cell_type": "code",
   "execution_count": 15,
   "metadata": {
    "scrolled": true
   },
   "outputs": [
    {
     "name": "stdout",
     "output_type": "stream",
     "text": [
      "building tf-idf matrix ...\n",
      "vocab size : 35104\n"
     ]
    }
   ],
   "source": [
    "print ('building tf-idf matrix ...')\n",
    "vectorizer = TfidfVectorizer(analyzer=lambda x: x, min_df=10)\n",
    "matrix = vectorizer.fit_transform([x.words for x in data_labellised])\n",
    "tfidf = dict(zip(vectorizer.get_feature_names(), vectorizer.idf_))\n",
    "print ('vocab size :', len(tfidf))"
   ]
  },
  {
   "cell_type": "code",
   "execution_count": 16,
   "metadata": {},
   "outputs": [],
   "source": [
    "#Save the tfidf \n",
    "# with open(\"tfidfdict.txt\", \"wb\") as myFile:\n",
    "#     pickle.dump(tfidf, myFile)\n",
    "# with open(\"tfidfdict.txt\", \"rb\") as myFile:\n",
    "#     tfidf = pickle.load(myFile)\n"
   ]
  },
  {
   "cell_type": "markdown",
   "metadata": {},
   "source": [
    "# Build tweet vector to give input to FFNN"
   ]
  },
  {
   "cell_type": "code",
   "execution_count": 17,
   "metadata": {},
   "outputs": [],
   "source": [
    "def buildWordVector(tokens, size):\n",
    "    vec = np.zeros(size).reshape((1, size))\n",
    "    count = 0.\n",
    "    for word in tokens:\n",
    "        try:\n",
    "            vec += tweet_w2v[word].reshape((1, size)) * tfidf[word] #combining w2v vectors with tfidf value of words in the tweet.\n",
    "            count += 1.\n",
    "        except KeyError: # handling the case where the token is not\n",
    "                         # in the corpus. useful for testing.\n",
    "            continue\n",
    "    if count != 0:\n",
    "        vec /= count\n",
    "    return vec"
   ]
  },
  {
   "cell_type": "code",
   "execution_count": 18,
   "metadata": {
    "scrolled": true
   },
   "outputs": [
    {
     "name": "stderr",
     "output_type": "stream",
     "text": [
      "800000it [02:56, 4534.14it/s]\n",
      "200000it [00:44, 4503.55it/s]\n"
     ]
    }
   ],
   "source": [
    "train_vecs_w2v = np.concatenate([buildWordVector(z, n_dim) for z in tqdm(map(lambda x: x.words, x_train))])\n",
    "train_vecs_w2v = scale(train_vecs_w2v)\n",
    "\n",
    "test_vecs_w2v = np.concatenate([buildWordVector(z, n_dim) for z in tqdm(map(lambda x: x.words, x_test))])\n",
    "test_vecs_w2v = scale(test_vecs_w2v)"
   ]
  },
  {
   "cell_type": "markdown",
   "metadata": {},
   "source": [
    "# Training 3 layered FFNN"
   ]
  },
  {
   "cell_type": "code",
   "execution_count": 19,
   "metadata": {
    "scrolled": true
   },
   "outputs": [
    {
     "name": "stdout",
     "output_type": "stream",
     "text": [
      "Epoch 1/100\n",
      " - 3s - loss: 0.4687 - acc: 0.7978\n",
      "Epoch 2/100\n",
      " - 2s - loss: 0.3731 - acc: 0.8463\n",
      "Epoch 3/100\n",
      " - 2s - loss: 0.3565 - acc: 0.8529\n",
      "Epoch 4/100\n",
      " - 2s - loss: 0.3490 - acc: 0.8554\n",
      "Epoch 5/100\n",
      " - 2s - loss: 0.3444 - acc: 0.8569\n",
      "Epoch 6/100\n",
      " - 2s - loss: 0.3412 - acc: 0.8581\n",
      "Epoch 7/100\n",
      " - 2s - loss: 0.3387 - acc: 0.8590\n",
      "Epoch 8/100\n",
      " - 2s - loss: 0.3367 - acc: 0.8598\n",
      "Epoch 9/100\n",
      " - 2s - loss: 0.3350 - acc: 0.8605\n",
      "Epoch 10/100\n",
      " - 2s - loss: 0.3336 - acc: 0.8608\n",
      "Epoch 11/100\n",
      " - 2s - loss: 0.3324 - acc: 0.8614\n",
      "Epoch 12/100\n",
      " - 2s - loss: 0.3313 - acc: 0.8619\n",
      "Epoch 13/100\n",
      " - 2s - loss: 0.3303 - acc: 0.8624\n",
      "Epoch 14/100\n",
      " - 2s - loss: 0.3294 - acc: 0.8627\n",
      "Epoch 15/100\n",
      " - 3s - loss: 0.3286 - acc: 0.8631\n",
      "Epoch 16/100\n",
      " - 3s - loss: 0.3278 - acc: 0.8634\n",
      "Epoch 17/100\n",
      " - 2s - loss: 0.3272 - acc: 0.8639\n",
      "Epoch 18/100\n",
      " - 2s - loss: 0.3267 - acc: 0.8641\n",
      "Epoch 19/100\n",
      " - 3s - loss: 0.3260 - acc: 0.8644\n",
      "Epoch 20/100\n",
      " - 2s - loss: 0.3255 - acc: 0.8645\n",
      "Epoch 21/100\n",
      " - 2s - loss: 0.3250 - acc: 0.8648\n",
      "Epoch 22/100\n",
      " - 2s - loss: 0.3246 - acc: 0.8651\n",
      "Epoch 23/100\n",
      " - 2s - loss: 0.3242 - acc: 0.8652\n",
      "Epoch 24/100\n",
      " - 2s - loss: 0.3238 - acc: 0.8654\n",
      "Epoch 25/100\n",
      " - 2s - loss: 0.3234 - acc: 0.8654\n",
      "Epoch 26/100\n",
      " - 2s - loss: 0.3229 - acc: 0.8658\n",
      "Epoch 27/100\n",
      " - 2s - loss: 0.3227 - acc: 0.8659\n",
      "Epoch 28/100\n",
      " - 2s - loss: 0.3224 - acc: 0.8659\n",
      "Epoch 29/100\n",
      " - 2s - loss: 0.3220 - acc: 0.8661\n",
      "Epoch 30/100\n",
      " - 2s - loss: 0.3217 - acc: 0.8661\n",
      "Epoch 31/100\n",
      " - 2s - loss: 0.3215 - acc: 0.8664\n",
      "Epoch 32/100\n",
      " - 2s - loss: 0.3212 - acc: 0.8665\n",
      "Epoch 33/100\n",
      " - 2s - loss: 0.3209 - acc: 0.8666\n",
      "Epoch 34/100\n",
      " - 2s - loss: 0.3208 - acc: 0.8667\n",
      "Epoch 35/100\n",
      " - 2s - loss: 0.3205 - acc: 0.8669\n",
      "Epoch 36/100\n",
      " - 2s - loss: 0.3203 - acc: 0.8668\n",
      "Epoch 37/100\n",
      " - 2s - loss: 0.3201 - acc: 0.8671\n",
      "Epoch 38/100\n",
      " - 2s - loss: 0.3198 - acc: 0.8672\n",
      "Epoch 39/100\n",
      " - 2s - loss: 0.3197 - acc: 0.8671\n",
      "Epoch 40/100\n",
      " - 3s - loss: 0.3195 - acc: 0.8673\n",
      "Epoch 41/100\n",
      " - 3s - loss: 0.3194 - acc: 0.8673\n",
      "Epoch 42/100\n",
      " - 2s - loss: 0.3192 - acc: 0.8673\n",
      "Epoch 43/100\n",
      " - 2s - loss: 0.3190 - acc: 0.8674\n",
      "Epoch 44/100\n",
      " - 3s - loss: 0.3188 - acc: 0.8677\n",
      "Epoch 45/100\n",
      " - 2s - loss: 0.3188 - acc: 0.8675\n",
      "Epoch 46/100\n",
      " - 2s - loss: 0.3186 - acc: 0.8676\n",
      "Epoch 47/100\n",
      " - 2s - loss: 0.3185 - acc: 0.8675\n",
      "Epoch 48/100\n",
      " - 2s - loss: 0.3183 - acc: 0.8677\n",
      "Epoch 49/100\n",
      " - 2s - loss: 0.3182 - acc: 0.8679\n",
      "Epoch 50/100\n",
      " - 2s - loss: 0.3181 - acc: 0.8677\n",
      "Epoch 51/100\n",
      " - 2s - loss: 0.3179 - acc: 0.8681\n",
      "Epoch 52/100\n",
      " - 2s - loss: 0.3179 - acc: 0.8678\n",
      "Epoch 53/100\n",
      " - 2s - loss: 0.3177 - acc: 0.8680\n",
      "Epoch 54/100\n",
      " - 3s - loss: 0.3176 - acc: 0.8682\n",
      "Epoch 55/100\n",
      " - 3s - loss: 0.3175 - acc: 0.8680\n",
      "Epoch 56/100\n",
      " - 2s - loss: 0.3174 - acc: 0.8680\n",
      "Epoch 57/100\n",
      " - 2s - loss: 0.3173 - acc: 0.8680\n",
      "Epoch 58/100\n",
      " - 3s - loss: 0.3171 - acc: 0.8682\n",
      "Epoch 59/100\n",
      " - 3s - loss: 0.3171 - acc: 0.8684\n",
      "Epoch 60/100\n",
      " - 3s - loss: 0.3170 - acc: 0.8682\n",
      "Epoch 61/100\n",
      " - 2s - loss: 0.3169 - acc: 0.8685\n",
      "Epoch 62/100\n",
      " - 2s - loss: 0.3167 - acc: 0.8684\n",
      "Epoch 63/100\n",
      " - 2s - loss: 0.3168 - acc: 0.8684\n",
      "Epoch 64/100\n",
      " - 2s - loss: 0.3165 - acc: 0.8687\n",
      "Epoch 65/100\n",
      " - 2s - loss: 0.3166 - acc: 0.8684\n",
      "Epoch 66/100\n",
      " - 2s - loss: 0.3165 - acc: 0.8686\n",
      "Epoch 67/100\n",
      " - 2s - loss: 0.3164 - acc: 0.8687\n",
      "Epoch 68/100\n",
      " - 2s - loss: 0.3163 - acc: 0.8687\n",
      "Epoch 69/100\n",
      " - 2s - loss: 0.3163 - acc: 0.8686\n",
      "Epoch 70/100\n",
      " - 2s - loss: 0.3162 - acc: 0.8688\n",
      "Epoch 71/100\n",
      " - 2s - loss: 0.3161 - acc: 0.8686\n",
      "Epoch 72/100\n",
      " - 2s - loss: 0.3160 - acc: 0.8687\n",
      "Epoch 73/100\n",
      " - 2s - loss: 0.3159 - acc: 0.8687\n",
      "Epoch 74/100\n",
      " - 2s - loss: 0.3159 - acc: 0.8687\n",
      "Epoch 75/100\n",
      " - 2s - loss: 0.3158 - acc: 0.8688\n",
      "Epoch 76/100\n",
      " - 2s - loss: 0.3158 - acc: 0.8686\n",
      "Epoch 77/100\n",
      " - 2s - loss: 0.3156 - acc: 0.8690\n",
      "Epoch 78/100\n",
      " - 2s - loss: 0.3156 - acc: 0.8688\n",
      "Epoch 79/100\n",
      " - 2s - loss: 0.3156 - acc: 0.8689\n",
      "Epoch 80/100\n",
      " - 2s - loss: 0.3155 - acc: 0.8691\n",
      "Epoch 81/100\n",
      " - 2s - loss: 0.3155 - acc: 0.8689\n",
      "Epoch 82/100\n",
      " - 2s - loss: 0.3154 - acc: 0.8690\n",
      "Epoch 83/100\n",
      " - 2s - loss: 0.3153 - acc: 0.8691\n",
      "Epoch 84/100\n",
      " - 2s - loss: 0.3152 - acc: 0.8689\n",
      "Epoch 85/100\n",
      " - 2s - loss: 0.3152 - acc: 0.8691\n",
      "Epoch 86/100\n",
      " - 2s - loss: 0.3152 - acc: 0.8692\n",
      "Epoch 87/100\n",
      " - 2s - loss: 0.3151 - acc: 0.8691\n",
      "Epoch 88/100\n",
      " - 2s - loss: 0.3150 - acc: 0.8690\n",
      "Epoch 89/100\n",
      " - 2s - loss: 0.3150 - acc: 0.8691\n",
      "Epoch 90/100\n",
      " - 2s - loss: 0.3151 - acc: 0.8693\n",
      "Epoch 91/100\n",
      " - 2s - loss: 0.3149 - acc: 0.8692\n",
      "Epoch 92/100\n",
      " - 3s - loss: 0.3149 - acc: 0.8694\n",
      "Epoch 93/100\n",
      " - 3s - loss: 0.3147 - acc: 0.8693\n",
      "Epoch 94/100\n",
      " - 2s - loss: 0.3148 - acc: 0.8693\n",
      "Epoch 95/100\n",
      " - 2s - loss: 0.3146 - acc: 0.8692\n",
      "Epoch 96/100\n",
      " - 2s - loss: 0.3147 - acc: 0.8692\n",
      "Epoch 97/100\n",
      " - 2s - loss: 0.3146 - acc: 0.8694\n",
      "Epoch 98/100\n",
      " - 2s - loss: 0.3145 - acc: 0.8693\n",
      "Epoch 99/100\n",
      " - 2s - loss: 0.3145 - acc: 0.8694\n",
      "Epoch 100/100\n",
      " - 2s - loss: 0.3145 - acc: 0.8694\n"
     ]
    },
    {
     "data": {
      "text/plain": [
       "<keras.callbacks.History at 0x1a31cf4be0>"
      ]
     },
     "execution_count": 19,
     "metadata": {},
     "output_type": "execute_result"
    }
   ],
   "source": [
    "model = Sequential()\n",
    "model.add(Dense(32, activation='relu', input_dim=200))\n",
    "model.add(Dense(16, activation='relu'))\n",
    "model.add(Dense(8, activation='relu'))\n",
    "model.add(Dense(1, activation='sigmoid'))\n",
    "model.compile(optimizer='rmsprop',\n",
    "              loss='binary_crossentropy',\n",
    "              metrics=['accuracy'])\n",
    "\n",
    "model.fit(train_vecs_w2v, y_train, epochs=100, batch_size=10000, verbose=2)"
   ]
  },
  {
   "cell_type": "code",
   "execution_count": 20,
   "metadata": {
    "scrolled": true
   },
   "outputs": [
    {
     "name": "stdout",
     "output_type": "stream",
     "text": [
      "loss :  0.3284684219646454 \n",
      " acc :  0.864015\n"
     ]
    }
   ],
   "source": [
    "# Evaluating accuracy score\n",
    "\n",
    "score = model.evaluate(test_vecs_w2v, y_test, batch_size=128, verbose=2)\n",
    "print(model.metrics_names[0],\": \",score[0],\"\\n\",model.metrics_names[1],\": \",score[1])"
   ]
  },
  {
   "cell_type": "markdown",
   "metadata": {},
   "source": [
    "# Saving model"
   ]
  },
  {
   "cell_type": "code",
   "execution_count": 21,
   "metadata": {
    "scrolled": false
   },
   "outputs": [
    {
     "name": "stdout",
     "output_type": "stream",
     "text": [
      "Saved model to disk\n"
     ]
    }
   ],
   "source": [
    "#Saving the model\n",
    "model_json = model.to_json() # serialize model to JSON\n",
    "with open(\"model.json\", \"w\") as json_file:\n",
    "    json_file.write(model_json)\n",
    "\n",
    "model.save_weights(\"smodel.h5\") # serialize weights to HDF5\n",
    "print(\"Saved model to disk\")\n",
    "\n",
    "#Loading the model\n",
    "# newmodel = model_from_json(open('model.json').read())\n",
    "# newmodel.load_weights('smodel.h5')"
   ]
  },
  {
   "cell_type": "markdown",
   "metadata": {},
   "source": [
    "# Predicting for test file (Validation)"
   ]
  },
  {
   "cell_type": "code",
   "execution_count": 22,
   "metadata": {},
   "outputs": [
    {
     "name": "stdout",
     "output_type": "stream",
     "text": [
      "dataset loaded with shape (497, 4)\n"
     ]
    }
   ],
   "source": [
    "def ingesttest():\n",
    "    testdata = pd.read_csv('./trainingandtestdata/tweetstest.csv', encoding='latin-1')\n",
    "    testdata.columns=[\"Sentiment\",\"ItemID\",\"Date\",\"Blank\",\"SentimentSource\",\"SentimentText\"]\n",
    "    testdata.drop(['ItemID', 'SentimentSource'], axis=1, inplace=True)\n",
    "    testdata = testdata[testdata.Sentiment.isnull() == False]\n",
    "    testdata['Sentiment'] = testdata['Sentiment'].map( {4:1, 0:0, 2:1})\n",
    "    testdata = testdata[testdata['SentimentText'].isnull() == False]\n",
    "    testdata.reset_index(inplace=True)\n",
    "    testdata.drop('index', axis=1, inplace=True)\n",
    "    print ('dataset loaded with shape', testdata.shape  )  \n",
    "    return testdata\n",
    "\n",
    "testdata = ingesttest()"
   ]
  },
  {
   "cell_type": "code",
   "execution_count": 23,
   "metadata": {},
   "outputs": [
    {
     "name": "stderr",
     "output_type": "stream",
     "text": [
      "progress-bar: 100%|██████████| 497/497 [00:00<00:00, 11201.28it/s]\n"
     ]
    },
    {
     "data": {
      "text/html": [
       "<div>\n",
       "<style scoped>\n",
       "    .dataframe tbody tr th:only-of-type {\n",
       "        vertical-align: middle;\n",
       "    }\n",
       "\n",
       "    .dataframe tbody tr th {\n",
       "        vertical-align: top;\n",
       "    }\n",
       "\n",
       "    .dataframe thead th {\n",
       "        text-align: right;\n",
       "    }\n",
       "</style>\n",
       "<table border=\"1\" class=\"dataframe\">\n",
       "  <thead>\n",
       "    <tr style=\"text-align: right;\">\n",
       "      <th></th>\n",
       "      <th>Sentiment</th>\n",
       "      <th>Date</th>\n",
       "      <th>Blank</th>\n",
       "      <th>SentimentText</th>\n",
       "      <th>tokens</th>\n",
       "    </tr>\n",
       "  </thead>\n",
       "  <tbody>\n",
       "    <tr>\n",
       "      <th>0</th>\n",
       "      <td>1</td>\n",
       "      <td>Mon May 11 03:18:03 UTC 2009</td>\n",
       "      <td>kindle2</td>\n",
       "      <td>Reading my kindle2...  Love it... Lee childs i...</td>\n",
       "      <td>[reading, my, kindle, 2, ..., love, it, ..., l...</td>\n",
       "    </tr>\n",
       "    <tr>\n",
       "      <th>1</th>\n",
       "      <td>1</td>\n",
       "      <td>Mon May 11 03:18:54 UTC 2009</td>\n",
       "      <td>kindle2</td>\n",
       "      <td>Ok, first assesment of the #kindle2 ...it fuck...</td>\n",
       "      <td>[ok, ,, first, assesment, of, the, ..., it, fu...</td>\n",
       "    </tr>\n",
       "    <tr>\n",
       "      <th>2</th>\n",
       "      <td>1</td>\n",
       "      <td>Mon May 11 03:19:04 UTC 2009</td>\n",
       "      <td>kindle2</td>\n",
       "      <td>@kenburbary You'll love your Kindle2. I've had...</td>\n",
       "      <td>[you'll, love, your, kindle, 2, ., i've, had, ...</td>\n",
       "    </tr>\n",
       "    <tr>\n",
       "      <th>3</th>\n",
       "      <td>1</td>\n",
       "      <td>Mon May 11 03:21:41 UTC 2009</td>\n",
       "      <td>kindle2</td>\n",
       "      <td>@mikefish  Fair enough. But i have the Kindle2...</td>\n",
       "      <td>[fair, enough, ., but, i, have, the, kindle, 2...</td>\n",
       "    </tr>\n",
       "    <tr>\n",
       "      <th>4</th>\n",
       "      <td>1</td>\n",
       "      <td>Mon May 11 03:22:00 UTC 2009</td>\n",
       "      <td>kindle2</td>\n",
       "      <td>@richardebaker no. it is too big. I'm quite ha...</td>\n",
       "      <td>[no, ., it, is, too, big, ., i'm, quite, happy...</td>\n",
       "    </tr>\n",
       "  </tbody>\n",
       "</table>\n",
       "</div>"
      ],
      "text/plain": [
       "   Sentiment                          Date    Blank  \\\n",
       "0          1  Mon May 11 03:18:03 UTC 2009  kindle2   \n",
       "1          1  Mon May 11 03:18:54 UTC 2009  kindle2   \n",
       "2          1  Mon May 11 03:19:04 UTC 2009  kindle2   \n",
       "3          1  Mon May 11 03:21:41 UTC 2009  kindle2   \n",
       "4          1  Mon May 11 03:22:00 UTC 2009  kindle2   \n",
       "\n",
       "                                       SentimentText  \\\n",
       "0  Reading my kindle2...  Love it... Lee childs i...   \n",
       "1  Ok, first assesment of the #kindle2 ...it fuck...   \n",
       "2  @kenburbary You'll love your Kindle2. I've had...   \n",
       "3  @mikefish  Fair enough. But i have the Kindle2...   \n",
       "4  @richardebaker no. it is too big. I'm quite ha...   \n",
       "\n",
       "                                              tokens  \n",
       "0  [reading, my, kindle, 2, ..., love, it, ..., l...  \n",
       "1  [ok, ,, first, assesment, of, the, ..., it, fu...  \n",
       "2  [you'll, love, your, kindle, 2, ., i've, had, ...  \n",
       "3  [fair, enough, ., but, i, have, the, kindle, 2...  \n",
       "4  [no, ., it, is, too, big, ., i'm, quite, happy...  "
      ]
     },
     "execution_count": 23,
     "metadata": {},
     "output_type": "execute_result"
    }
   ],
   "source": [
    "testdata = postprocess(testdata)\n",
    "testdata.head(5)"
   ]
  },
  {
   "cell_type": "code",
   "execution_count": 24,
   "metadata": {},
   "outputs": [],
   "source": [
    "test_X=np.array(testdata.tokens)\n",
    "test_y=np.array(testdata.Sentiment)"
   ]
  },
  {
   "cell_type": "code",
   "execution_count": 25,
   "metadata": {
    "scrolled": true
   },
   "outputs": [
    {
     "name": "stderr",
     "output_type": "stream",
     "text": [
      "497it [00:00, 4713.14it/s]\n"
     ]
    }
   ],
   "source": [
    "test_w2v_vecs = np.concatenate([buildWordVector(z, n_dim) for z in tqdm(map(lambda x:x, test_X))])"
   ]
  },
  {
   "cell_type": "code",
   "execution_count": 26,
   "metadata": {},
   "outputs": [
    {
     "data": {
      "text/plain": [
       "(497, 200)"
      ]
     },
     "execution_count": 26,
     "metadata": {},
     "output_type": "execute_result"
    }
   ],
   "source": [
    "test_w2v_vecs.shape"
   ]
  },
  {
   "cell_type": "code",
   "execution_count": 27,
   "metadata": {
    "scrolled": true
   },
   "outputs": [
    {
     "name": "stdout",
     "output_type": "stream",
     "text": [
      "loss :  0.5743939469997552 \n",
      " acc :  0.7384305879383739\n"
     ]
    }
   ],
   "source": [
    "# model.predict_classes(test_w2v_vecs)\n",
    "score = model.evaluate(test_w2v_vecs,test_y, batch_size=128, verbose=2)\n",
    "print(model.metrics_names[0],\": \",score[0],\"\\n\",model.metrics_names[1],\": \",score[1])"
   ]
  },
  {
   "cell_type": "markdown",
   "metadata": {},
   "source": [
    "# Testing the model on an user's input"
   ]
  },
  {
   "cell_type": "code",
   "execution_count": 28,
   "metadata": {
    "scrolled": true
   },
   "outputs": [
    {
     "name": "stdout",
     "output_type": "stream",
     "text": [
      "I took amoxicillin and I feel better now. It works.\n"
     ]
    }
   ],
   "source": [
    "query=input()"
   ]
  },
  {
   "cell_type": "code",
   "execution_count": 29,
   "metadata": {},
   "outputs": [
    {
     "data": {
      "text/plain": [
       "1"
      ]
     },
     "execution_count": 29,
     "metadata": {},
     "output_type": "execute_result"
    }
   ],
   "source": [
    "n_dim = 200\n",
    "querytokens=tokenize(query)\n",
    "query_vecs_w2v = buildWordVector(querytokens, n_dim)\n",
    "model.predict_classes(query_vecs_w2v).item()"
   ]
  },
  {
   "cell_type": "markdown",
   "metadata": {},
   "source": [
    "# Predicting for tweets that I downloaded"
   ]
  },
  {
   "cell_type": "code",
   "execution_count": 30,
   "metadata": {
    "scrolled": true
   },
   "outputs": [],
   "source": [
    "import json\n",
    "tweets = []\n",
    "import pandas as pd\n",
    "\n",
    "with open('amoxicillin_search.json', 'r') as f: #Enter name of tweets json file\n",
    "    for line in f.readlines():\n",
    "        tweets.append(json.loads(line))\n",
    "\n",
    "n_dim = 200\n",
    "\n",
    "tweet=pd.DataFrame()\n",
    "tweet['text']=list(map(lambda tweet: tweet['full_text'],tweets))"
   ]
  },
  {
   "cell_type": "code",
   "execution_count": 31,
   "metadata": {},
   "outputs": [
    {
     "data": {
      "text/html": [
       "<div>\n",
       "<style scoped>\n",
       "    .dataframe tbody tr th:only-of-type {\n",
       "        vertical-align: middle;\n",
       "    }\n",
       "\n",
       "    .dataframe tbody tr th {\n",
       "        vertical-align: top;\n",
       "    }\n",
       "\n",
       "    .dataframe thead th {\n",
       "        text-align: right;\n",
       "    }\n",
       "</style>\n",
       "<table border=\"1\" class=\"dataframe\">\n",
       "  <thead>\n",
       "    <tr style=\"text-align: right;\">\n",
       "      <th></th>\n",
       "      <th>text</th>\n",
       "    </tr>\n",
       "  </thead>\n",
       "  <tbody>\n",
       "    <tr>\n",
       "      <th>0</th>\n",
       "      <td>can amoxicillin treat uti https://t.co/1wEXroE...</td>\n",
       "    </tr>\n",
       "    <tr>\n",
       "      <th>1</th>\n",
       "      <td>doxycycline vs amoxicillin https://t.co/DH81uR...</td>\n",
       "    </tr>\n",
       "    <tr>\n",
       "      <th>2</th>\n",
       "      <td>Lincomycin, Clindamycin, ampicillin, amoxicill...</td>\n",
       "    </tr>\n",
       "    <tr>\n",
       "      <th>3</th>\n",
       "      <td>#amoxicillin vs ciprofloxacin https://t.co/PUy...</td>\n",
       "    </tr>\n",
       "    <tr>\n",
       "      <th>4</th>\n",
       "      <td>Out here getting sautéed on amoxicillin</td>\n",
       "    </tr>\n",
       "  </tbody>\n",
       "</table>\n",
       "</div>"
      ],
      "text/plain": [
       "                                                text\n",
       "0  can amoxicillin treat uti https://t.co/1wEXroE...\n",
       "1  doxycycline vs amoxicillin https://t.co/DH81uR...\n",
       "2  Lincomycin, Clindamycin, ampicillin, amoxicill...\n",
       "3  #amoxicillin vs ciprofloxacin https://t.co/PUy...\n",
       "4            Out here getting sautéed on amoxicillin"
      ]
     },
     "execution_count": 31,
     "metadata": {},
     "output_type": "execute_result"
    }
   ],
   "source": [
    "tweet.head()"
   ]
  },
  {
   "cell_type": "code",
   "execution_count": 32,
   "metadata": {},
   "outputs": [],
   "source": [
    "def postprocessjson(data, n=1000000):\n",
    "    data = data.head(n)\n",
    "    data['tokens'] = data['text'].progress_map(tokenize)  ## progress_map is a variant of the map function plus a progress bar. Handy to monitor DataFrame creations.\n",
    "    data = data[data.tokens != 'NC']\n",
    "    data.reset_index(inplace=True)\n",
    "    data.drop('index', inplace=True, axis=1)\n",
    "    return data\n",
    "\n"
   ]
  },
  {
   "cell_type": "code",
   "execution_count": 33,
   "metadata": {
    "scrolled": false
   },
   "outputs": [
    {
     "name": "stderr",
     "output_type": "stream",
     "text": [
      "progress-bar: 100%|██████████| 577/577 [00:00<00:00, 9245.30it/s]\n"
     ]
    },
    {
     "data": {
      "text/html": [
       "<div>\n",
       "<style scoped>\n",
       "    .dataframe tbody tr th:only-of-type {\n",
       "        vertical-align: middle;\n",
       "    }\n",
       "\n",
       "    .dataframe tbody tr th {\n",
       "        vertical-align: top;\n",
       "    }\n",
       "\n",
       "    .dataframe thead th {\n",
       "        text-align: right;\n",
       "    }\n",
       "</style>\n",
       "<table border=\"1\" class=\"dataframe\">\n",
       "  <thead>\n",
       "    <tr style=\"text-align: right;\">\n",
       "      <th></th>\n",
       "      <th>text</th>\n",
       "      <th>tokens</th>\n",
       "    </tr>\n",
       "  </thead>\n",
       "  <tbody>\n",
       "    <tr>\n",
       "      <th>0</th>\n",
       "      <td>can amoxicillin treat uti https://t.co/1wEXroE...</td>\n",
       "      <td>[can, amoxicillin, treat, uti, amoxicillin]</td>\n",
       "    </tr>\n",
       "    <tr>\n",
       "      <th>1</th>\n",
       "      <td>doxycycline vs amoxicillin https://t.co/DH81uR...</td>\n",
       "      <td>[doxycycline, vs, amoxicillin, can, i, buy, do...</td>\n",
       "    </tr>\n",
       "    <tr>\n",
       "      <th>2</th>\n",
       "      <td>Lincomycin, Clindamycin, ampicillin, amoxicill...</td>\n",
       "      <td>[lincomycin, ,, clindamycin, ,, ampicillin, ,,...</td>\n",
       "    </tr>\n",
       "    <tr>\n",
       "      <th>3</th>\n",
       "      <td>#amoxicillin vs ciprofloxacin https://t.co/PUy...</td>\n",
       "      <td>[vs, ciprofloxacin, reaction, to, cipro, drug]</td>\n",
       "    </tr>\n",
       "    <tr>\n",
       "      <th>4</th>\n",
       "      <td>Out here getting sautéed on amoxicillin</td>\n",
       "      <td>[out, here, getting, sautéed, on, amoxicillin]</td>\n",
       "    </tr>\n",
       "  </tbody>\n",
       "</table>\n",
       "</div>"
      ],
      "text/plain": [
       "                                                text  \\\n",
       "0  can amoxicillin treat uti https://t.co/1wEXroE...   \n",
       "1  doxycycline vs amoxicillin https://t.co/DH81uR...   \n",
       "2  Lincomycin, Clindamycin, ampicillin, amoxicill...   \n",
       "3  #amoxicillin vs ciprofloxacin https://t.co/PUy...   \n",
       "4            Out here getting sautéed on amoxicillin   \n",
       "\n",
       "                                              tokens  \n",
       "0        [can, amoxicillin, treat, uti, amoxicillin]  \n",
       "1  [doxycycline, vs, amoxicillin, can, i, buy, do...  \n",
       "2  [lincomycin, ,, clindamycin, ,, ampicillin, ,,...  \n",
       "3     [vs, ciprofloxacin, reaction, to, cipro, drug]  \n",
       "4     [out, here, getting, sautéed, on, amoxicillin]  "
      ]
     },
     "execution_count": 33,
     "metadata": {},
     "output_type": "execute_result"
    }
   ],
   "source": [
    "querydata = postprocessjson(tweet)\n",
    "querydata.head()"
   ]
  },
  {
   "cell_type": "code",
   "execution_count": 36,
   "metadata": {
    "scrolled": false
   },
   "outputs": [
    {
     "name": "stderr",
     "output_type": "stream",
     "text": [
      "577it [00:00, 4630.60it/s]\n"
     ]
    }
   ],
   "source": [
    "query=np.array(querydata.tokens)\n",
    "query_w2v_vecs = np.concatenate([buildWordVector(z, n_dim) for z in tqdm(map(lambda x:x, query))])"
   ]
  },
  {
   "cell_type": "code",
   "execution_count": 37,
   "metadata": {},
   "outputs": [],
   "source": [
    "result=model.predict_classes(query_w2v_vecs)"
   ]
  },
  {
   "cell_type": "code",
   "execution_count": 38,
   "metadata": {},
   "outputs": [
    {
     "name": "stdout",
     "output_type": "stream",
     "text": [
      "Positive Tweets %:  51.47313691507799\n",
      "Negative Tweets %:  48.52686308492201\n"
     ]
    }
   ],
   "source": [
    "countone=0\n",
    "countzero=0\n",
    "for i,j in enumerate(result):\n",
    "    if result[i].item()==0:\n",
    "        countzero += 1\n",
    "    if result[i].item()==1:\n",
    "        countone +=1\n",
    "        \n",
    "Positive_Tweets =(countone/len(result))*100\n",
    "Negative_Tweets =(countzero/len(result))*100\n",
    "print('Positive Tweets %: ',Positive_Tweets)\n",
    "print('Negative Tweets %: ',Negative_Tweets)"
   ]
  },
  {
   "cell_type": "markdown",
   "metadata": {},
   "source": [
    "# Plot the sentiments"
   ]
  },
  {
   "cell_type": "code",
   "execution_count": 39,
   "metadata": {},
   "outputs": [
    {
     "data": {
      "image/png": "[encoded data removed]",
      "text/plain": [
       "<matplotlib.figure.Figure at 0x1a51380e80>"
      ]
     },
     "metadata": {},
     "output_type": "display_data"
    }
   ],
   "source": [
    "plt.pie([Positive_Tweets,Negative_Tweets ],\n",
    "        labels=['Positive Tweets','Negative Tweets'],\n",
    "        colors=['g','r'],\n",
    "        startangle=90,\n",
    "        shadow= True,\n",
    "        autopct='%1.1f %%')\n",
    "plt.title('Sentiment Pie Chart')\n",
    "plt.savefig(' sentiment')"
   ]
  },
  {
   "cell_type": "code",
   "execution_count": null,
   "metadata": {},
   "outputs": [],
   "source": []
  },
  {
   "cell_type": "code",
   "execution_count": null,
   "metadata": {},
   "outputs": [],
   "source": []
  }
 ],
 "metadata": {
  "kernelspec": {
   "display_name": "Python 3",
   "language": "python",
   "name": "python3"
  },
  "language_info": {
   "codemirror_mode": {
    "name": "ipython",
    "version": 3
   },
   "file_extension": ".py",
   "mimetype": "text/x-python",
   "name": "python",
   "nbconvert_exporter": "python",
   "pygments_lexer": "ipython3",
   "version": "3.6.3"
  }
 },
 "nbformat": 4,
 "nbformat_minor": 2
}
